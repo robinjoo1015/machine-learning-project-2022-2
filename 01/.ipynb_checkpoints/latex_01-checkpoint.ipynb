{
 "cells": [
  {
   "cell_type": "markdown",
   "id": "ae883c8d",
   "metadata": {},
   "source": [
    "(1) $ \\ f(x) = a x^2 + b x + c $"
   ]
  },
  {
   "cell_type": "markdown",
   "id": "fb16becf",
   "metadata": {},
   "source": [
    "(2) $ \\ f(x) = \\exp (x) $ "
   ]
  },
  {
   "cell_type": "markdown",
   "id": "c3985fd8",
   "metadata": {},
   "source": [
    "(3) $ \\ f(x) = \\frac{a}{b}, \\quad a \\in \\mathbb{R}, b \\in \\mathbb{R} $"
   ]
  },
  {
   "cell_type": "markdown",
   "id": "89f1c3a5",
   "metadata": {},
   "source": [
    "(4) $ \\ f(x) = \\sum_{i = 1}^{n} x_i, \\quad x = (x_1, x_2, \\cdots, x_n) $"
   ]
  },
  {
   "cell_type": "markdown",
   "id": "e3f33f32",
   "metadata": {},
   "source": [
    "(5) $ \\ f(x) = \\int_{\\Omega} \\sigma (x, t) dt $"
   ]
  },
  {
   "cell_type": "markdown",
   "id": "9c5808e7",
   "metadata": {},
   "source": [
    "(6) $ \\ \\frac{\\partial \\mathbb{E}}{\\partial w} $"
   ]
  },
  {
   "cell_type": "markdown",
   "id": "60b938ce",
   "metadata": {},
   "source": [
    "(7) $ \\ w^{t + 1} = w^t - \\eta \\nabla \\mathcal{L} (w^t) $"
   ]
  },
  {
   "cell_type": "markdown",
   "id": "05de08a5",
   "metadata": {},
   "source": []
  }
 ],
 "metadata": {
  "kernelspec": {
   "display_name": "Python 3 (ipykernel)",
   "language": "python",
   "name": "python3"
  },
  "language_info": {
   "codemirror_mode": {
    "name": "ipython",
    "version": 3
   },
   "file_extension": ".py",
   "mimetype": "text/x-python",
   "name": "python",
   "nbconvert_exporter": "python",
   "pygments_lexer": "ipython3",
   "version": "3.10.6"
  }
 },
 "nbformat": 4,
 "nbformat_minor": 5
}
