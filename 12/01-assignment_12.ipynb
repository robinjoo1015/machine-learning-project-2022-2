{
 "cells": [
  {
   "cell_type": "markdown",
   "metadata": {
    "colab": {
     "base_uri": "https://localhost:8080/"
    },
    "executionInfo": {
     "elapsed": 5,
     "status": "ok",
     "timestamp": 1630597918894,
     "user": {
      "displayName": "Byung-Woo Hong",
      "photoUrl": "",
      "userId": "17273657108187629509"
     },
     "user_tz": -540
    },
    "id": "K29I-OwCEYzW",
    "outputId": "db8b297c-a4b8-457a-b43f-7570135306c7"
   },
   "source": [
    "# Image Generation via Generative Adversarial Networks"
   ]
  },
  {
   "cell_type": "markdown",
   "metadata": {},
   "source": [
    "## import libraries"
   ]
  },
  {
   "cell_type": "code",
   "execution_count": 1,
   "metadata": {},
   "outputs": [],
   "source": [
    "import torch\n",
    "import torchvision\n",
    "from torch.utils.data import Dataset\n",
    "from os import listdir\n",
    "from os.path import join\n",
    "from torchvision import datasets, transforms\n",
    "from torch.utils.data import DataLoader\n",
    "from PIL import Image\n",
    "import matplotlib.pyplot as plt\n",
    "import numpy as np\n",
    "import torch.nn as nn\n",
    "import torch.nn.functional as F\n",
    "import torch.optim as optim\n",
    "from math import log10\n",
    "from tqdm import tqdm\n",
    "import os"
   ]
  },
  {
   "cell_type": "markdown",
   "metadata": {},
   "source": [
    "## load data"
   ]
  },
  {
   "cell_type": "code",
   "execution_count": 2,
   "metadata": {},
   "outputs": [],
   "source": [
    "directory_data  = './'\n",
    "filename_data   = 'assignment_12_data.npz'\n",
    "data            = np.load(os.path.join(directory_data, filename_data))\n",
    "real            = data['real_images']"
   ]
  },
  {
   "cell_type": "code",
   "execution_count": 3,
   "metadata": {},
   "outputs": [
    {
     "name": "stdout",
     "output_type": "stream",
     "text": [
      "size of real data: (4324, 32, 32)\n"
     ]
    }
   ],
   "source": [
    "print('size of real data:', real.shape)"
   ]
  },
  {
   "cell_type": "markdown",
   "metadata": {},
   "source": [
    "## plot data"
   ]
  },
  {
   "cell_type": "code",
   "execution_count": 4,
   "metadata": {},
   "outputs": [],
   "source": [
    "def plot_image(title, image):\n",
    "    \n",
    "    nRow = 3\n",
    "    nCol = 4\n",
    "    size = 3\n",
    "    \n",
    "    fig, axes = plt.subplots(nRow, nCol, figsize=(size * nCol, size * nRow))\n",
    "    fig.suptitle(title, fontsize=16)\n",
    "   \n",
    "    for r in range(nRow): \n",
    "        for c in range(nCol):\n",
    "            k = c * 300 + r * nCol * 300\n",
    "            axes[r, c].imshow(image[k], cmap='gray')\n",
    "\n",
    "    plt.tight_layout()\n",
    "    plt.show()"
   ]
  },
  {
   "cell_type": "code",
   "execution_count": 5,
   "metadata": {},
   "outputs": [
    {
     "data": {
      "image/png": "[encoded data removed]",
      "text/plain": [
       "<Figure size 864x648 with 12 Axes>"
      ]
     },
     "metadata": {
      "needs_background": "light"
     },
     "output_type": "display_data"
    }
   ],
   "source": [
    "plot_image('training data', real)"
   ]
  },
  {
   "cell_type": "markdown",
   "metadata": {},
   "source": [
    "## custom data loader for the PyTorch framework"
   ]
  },
  {
   "cell_type": "code",
   "execution_count": 6,
   "metadata": {},
   "outputs": [],
   "source": [
    "class dataset(Dataset):\n",
    "    \n",
    "    def __init__(self, image):\n",
    "        \n",
    "        self.image = image\n",
    "    \n",
    "    def __getitem__(self, index):\n",
    "        \n",
    "        sample  = self.image[index]\n",
    "        sample  = torch.FloatTensor(sample).unsqueeze(dim=0)\n",
    "\n",
    "        return (sample)\n",
    "    \n",
    "    def __len__(self):\n",
    "\n",
    "        number_image = len(self.image)\n",
    "\n",
    "        return (number_image)"
   ]
  },
  {
   "cell_type": "markdown",
   "metadata": {},
   "source": [
    "## setting device"
   ]
  },
  {
   "cell_type": "code",
   "execution_count": 7,
   "metadata": {},
   "outputs": [],
   "source": [
    "device = torch.device('cuda' if torch.cuda.is_available() else 'mps')"
   ]
  },
  {
   "cell_type": "code",
   "execution_count": 8,
   "metadata": {},
   "outputs": [
    {
     "name": "stdout",
     "output_type": "stream",
     "text": [
      "cuda\n"
     ]
    }
   ],
   "source": [
    "print(device)"
   ]
  },
  {
   "cell_type": "code",
   "execution_count": 9,
   "metadata": {},
   "outputs": [],
   "source": [
    "# random seed\n",
    "import random\n",
    "random.seed(20184757)\n",
    "np.random.seed(20184757)\n",
    "torch.manual_seed(20184757)\n",
    "torch.cuda.manual_seed(20184757)\n",
    "torch.cuda.manual_seed_all(20184757)\n",
    "torch.backends.cudnn.deterministic = True\n",
    "torch.backends.cudnn.benchmark = False"
   ]
  },
  {
   "cell_type": "markdown",
   "metadata": {},
   "source": [
    "## construct datasets and dataloaders "
   ]
  },
  {
   "cell_type": "code",
   "execution_count": 10,
   "metadata": {},
   "outputs": [],
   "source": [
    "size_minibatch  = 32\n",
    "dim_latent      = 64 # input latent vector fixed dimension \n",
    "\n",
    "dataset_real    = dataset(real)\n",
    "dataloader_real = torch.utils.data.DataLoader(dataset_real, batch_size=size_minibatch, shuffle=True, drop_last=True)"
   ]
  },
  {
   "cell_type": "markdown",
   "metadata": {},
   "source": [
    "## neural networks "
   ]
  },
  {
   "cell_type": "code",
   "execution_count": 11,
   "metadata": {},
   "outputs": [],
   "source": [
    "class Discriminator(nn.Module): \n",
    "    \n",
    "    def __init__(self):\n",
    "        \n",
    "        super(Discriminator, self).__init__()\n",
    "        \n",
    "        self.conv = nn.Sequential(\n",
    "            nn.Conv2d(in_channels=1, out_channels=16, kernel_size=4, stride=2, padding=1, bias=True),\n",
    "            nn.BatchNorm2d(16),\n",
    "            nn.LeakyReLU(0.2),\n",
    "#             nn.MaxPool2d((2,2)),\n",
    "            \n",
    "            nn.Conv2d(in_channels=16, out_channels=32, kernel_size=4, stride=2, padding=1, bias=True),\n",
    "            nn.BatchNorm2d(32),\n",
    "            nn.LeakyReLU(0.2),\n",
    "#             nn.MaxPool2d((2,2)),\n",
    "            \n",
    "            nn.Conv2d(in_channels=32, out_channels=64, kernel_size=4, stride=2, padding=1, bias=True),\n",
    "            nn.BatchNorm2d(64),\n",
    "            nn.LeakyReLU(0.2),\n",
    "#             nn.MaxPool2d((2,2)),\n",
    "            \n",
    "            nn.Conv2d(in_channels=64, out_channels=128, kernel_size=4, stride=2, padding=1, bias=True),\n",
    "            nn.BatchNorm2d(128),\n",
    "            nn.LeakyReLU(0.2),\n",
    "#             nn.MaxPool2d((2,2)),\n",
    "            \n",
    "            nn.Conv2d(in_channels=128, out_channels=1, kernel_size=4, stride=2, padding=1, bias=True),\n",
    "#             nn.BatchNorm2d(256),\n",
    "#             nn.LeakyReLU(0.2),\n",
    "#             nn.MaxPool2d((2,2)),\n",
    "        )\n",
    "        \n",
    "#         self.fc = nn.Sequential(\n",
    "# #             nn.Linear(in_features=256, out_features=256, bias=True),\n",
    "# #             nn.LeakyReLU(0.2),\n",
    "            \n",
    "# #             nn.Linear(in_features=128, out_features=64, bias=True),\n",
    "# #             nn.LeakyReLU(0.2),\n",
    "            \n",
    "# #             nn.Linear(in_features=64, out_features=32, bias=True),\n",
    "# #             nn.LeakyReLU(0.2),\n",
    "            \n",
    "# #             nn.Linear(in_features=32, out_features=16, bias=True),\n",
    "# #             nn.LeakyReLU(0.2),\n",
    "            \n",
    "#             nn.Linear(in_features=256, out_features=1, bias=True),\n",
    "#         )\n",
    "        \n",
    "#         self.network = nn.Sequential(\n",
    "#             self.conv,\n",
    "#             nn.Flatten(),\n",
    "            \n",
    "#             self.classifier,\n",
    "#         )\n",
    "        \n",
    "    def forward(self, x):\n",
    "        out = self.conv(x)\n",
    "#         out = nn.Flatten()(out)\n",
    "#         out = self.fc(out)\n",
    "        \n",
    "        return out\n"
   ]
  },
  {
   "cell_type": "code",
   "execution_count": 12,
   "metadata": {},
   "outputs": [],
   "source": [
    "class Generator(nn.Module):\n",
    "    \n",
    "    def __init__(self):\n",
    "        \n",
    "        super(Generator, self).__init__()\n",
    "        \n",
    "        self.conv = nn.Sequential(\n",
    "            nn.Upsample(scale_factor=2, mode='bilinear', align_corners=False),\n",
    "#             nn.ConvTranspose2d(in_channels=dim_latent, out_channels=64, kernel_size=4, stride=1, padding=0, bias=True),\n",
    "            nn.Conv2d(in_channels=dim_latent, out_channels=32, kernel_size=3, stride=1, padding=1, bias=True),\n",
    "            nn.BatchNorm2d(32),\n",
    "            nn.LeakyReLU(0.2),\n",
    "            \n",
    "            nn.Upsample(scale_factor=2, mode='bilinear', align_corners=False),\n",
    "#             nn.ConvTranspose2d(in_channels=64, out_channels=32, kernel_size=4, stride=2, padding=1, bias=True),\n",
    "            nn.Conv2d(in_channels=32, out_channels=16, kernel_size=3, stride=1, padding=1, bias=True),\n",
    "            nn.BatchNorm2d(16),\n",
    "            nn.LeakyReLU(0.2),\n",
    "            \n",
    "            nn.Upsample(scale_factor=2, mode='bilinear', align_corners=False),\n",
    "#             nn.ConvTranspose2d(in_channels=32, out_channels=16, kernel_size=4, stride=2, padding=1, bias=True),\n",
    "            nn.Conv2d(in_channels=16, out_channels=8, kernel_size=3, stride=1, padding=1, bias=True),\n",
    "            nn.BatchNorm2d(8),\n",
    "            nn.LeakyReLU(0.2),\n",
    "            \n",
    "            nn.Upsample(scale_factor=2, mode='bilinear', align_corners=False),\n",
    "#             nn.ConvTranspose2d(in_channels=16, out_channels=1, kernel_size=4, stride=2, padding=1, bias=True),\n",
    "            nn.Conv2d(in_channels=8, out_channels=4, kernel_size=3, stride=1, padding=1, bias=True),\n",
    "            nn.BatchNorm2d(4),\n",
    "            nn.LeakyReLU(0.2),\n",
    "            \n",
    "            nn.Upsample(scale_factor=2, mode='bilinear', align_corners=False),\n",
    "#             nn.ConvTranspose2d(in_channels=64, out_channels=1, kernel_size=4, stride=2, padding=1, bias=True),\n",
    "            nn.Conv2d(in_channels=4, out_channels=1, kernel_size=3, stride=1, padding=1, bias=True),\n",
    "#             nn.LeakyReLU(0.2),\n",
    "            \n",
    "            nn.Sigmoid()\n",
    "        )\n",
    "    \n",
    "    def forward(self, x):\n",
    "        \n",
    "#         self.batch_size = x.size(0)\n",
    "\n",
    "#         x = self.fc(x),\n",
    "# #         print(x, len(x))\n",
    "#         x = torch.reshape(x[0], [self.batch_size, 1, 32, 32])\n",
    "        out = self.conv(x)\n",
    "        \n",
    "#         out = self.network(x)\n",
    "        return out"
   ]
  },
  {
   "cell_type": "markdown",
   "metadata": {},
   "source": [
    "## build network"
   ]
  },
  {
   "cell_type": "code",
   "execution_count": 13,
   "metadata": {},
   "outputs": [],
   "source": [
    "generator       = Generator().to(device)\n",
    "discriminator   = Discriminator().to(device)\n",
    "\n",
    "optimizer_generator = torch.optim.Adam(generator.parameters(), lr=0.0001, betas=(0.5, 0.999))\n",
    "optimizer_discriminator = torch.optim.Adam(discriminator.parameters(), lr=0.0001, betas=(0.5, 0.999))"
   ]
  },
  {
   "cell_type": "markdown",
   "metadata": {},
   "source": [
    "## compute the prediction"
   ]
  },
  {
   "cell_type": "code",
   "execution_count": 14,
   "metadata": {},
   "outputs": [],
   "source": [
    "def compute_prediction(model, input):\n",
    "\n",
    "    prediction = model(input)\n",
    "\n",
    "    return prediction"
   ]
  },
  {
   "cell_type": "markdown",
   "metadata": {},
   "source": [
    "## compute the accuracy"
   ]
  },
  {
   "cell_type": "code",
   "execution_count": 15,
   "metadata": {},
   "outputs": [],
   "source": [
    "def compute_bounding_mask(prediction_binary):\n",
    "    \n",
    "    bounding_mask = torch.zeros_like(prediction_binary)\n",
    "    \n",
    "    for i in range(prediction_binary.shape[0]):\n",
    "        prediction = prediction_binary[i]\n",
    "        (idx_row, idx_col) = torch.nonzero(prediction, as_tuple=True)\n",
    "        \n",
    "        if len(idx_row) > 0: \n",
    "            idx_row_min = idx_row.min()\n",
    "            idx_row_max = idx_row.max()\n",
    "        \n",
    "            idx_col_min = idx_col.min()\n",
    "            idx_col_max = idx_col.max()\n",
    "    \n",
    "            bounding_mask[i, idx_row_min:idx_row_max+1, idx_col_min:idx_col_max+1] = 1 \n",
    "    \n",
    "    return bounding_mask"
   ]
  },
  {
   "cell_type": "code",
   "execution_count": 16,
   "metadata": {},
   "outputs": [],
   "source": [
    "def compute_accuracy(prediction):\n",
    "\n",
    "    binary      = (prediction >= 0.5)\n",
    "    mask        = compute_bounding_mask(binary)\n",
    "    \n",
    "    intersection = (binary & mask).float().sum((1, 2))\n",
    "    union        = (binary | mask).float().sum((1, 2))\n",
    "\n",
    "    eps         = 1e-8\n",
    "    correct     = (intersection + eps) / (union + eps)\n",
    "    accuracy    = correct.mean() * 100.0\n",
    "    accuracy    = accuracy.cpu() \n",
    "    \n",
    "    return accuracy"
   ]
  },
  {
   "cell_type": "markdown",
   "metadata": {},
   "source": [
    "## train"
   ]
  },
  {
   "cell_type": "code",
   "execution_count": 17,
   "metadata": {},
   "outputs": [],
   "source": [
    "def train(generator, discriminator, dataloader):\n",
    "    \n",
    "    loss_generator_epoch = []\n",
    "    loss_discriminator_epoch = []\n",
    "    \n",
    "    for index_batch, (real) in enumerate(dataloader):\n",
    "        real        = real.to(device)\n",
    "        size_batch  = len(real)\n",
    "        latent      = torch.randn(size_batch, dim_latent, device=device)\n",
    "        latent      = torch.reshape(latent, [size_batch, dim_latent, 1, 1])\n",
    "\n",
    "        # ---------------------------------------------------------------------------\n",
    "        #  \n",
    "        # update the generator\n",
    "        #  \n",
    "        # ---------------------------------------------------------------------------\n",
    "        generator.train()\n",
    "        discriminator.eval()\n",
    "        \n",
    "        optimizer_generator.zero_grad()\n",
    "        fake = compute_prediction(generator, latent)\n",
    "        prediction_fake = compute_prediction(discriminator, fake)\n",
    "        label_fake = torch.ones_like(prediction_fake)\n",
    "        loss_label = nn.BCEWithLogitsLoss()(prediction_fake, label_fake)\n",
    "#         if index_batch == 0:\n",
    "#             loss_image = nn.BCELoss()(fake, real)\n",
    "#             loss_generator = loss_image / size_batch + loss_label\n",
    "#         else:\n",
    "#             loss_generator = loss_label\n",
    "        loss_generator = loss_label\n",
    "        loss_generator.backward()\n",
    "        optimizer_generator.step()\n",
    "\n",
    "        # ---------------------------------------------------------------------------\n",
    "        #  \n",
    "        # update the discriminator\n",
    "        #  \n",
    "        # ---------------------------------------------------------------------------\n",
    "        generator.eval()\n",
    "        discriminator.train()\n",
    "        \n",
    "        optimizer_discriminator.zero_grad()\n",
    "        fake = compute_prediction(generator, latent)\n",
    "        prediction_real = compute_prediction(discriminator, real)\n",
    "        prediction_fake = compute_prediction(discriminator, fake)\n",
    "        loss_real = nn.BCEWithLogitsLoss()(prediction_real, torch.ones_like(prediction_real, device=device))\n",
    "        loss_fake = nn.BCEWithLogitsLoss()(prediction_fake, torch.zeros_like(prediction_fake, device=device))\n",
    "        loss_discriminator = loss_real + loss_fake\n",
    "        loss_discriminator.backward()\n",
    "        optimizer_discriminator.step()\n",
    "        \n",
    "        loss_generator_epoch.append(loss_generator.item())\n",
    "        loss_discriminator_epoch.append(loss_discriminator.item())\n",
    "    \n",
    "    return np.mean(loss_generator_epoch), np.mean(loss_discriminator_epoch)\n",
    "        "
   ]
  },
  {
   "cell_type": "markdown",
   "metadata": {},
   "source": [
    "## test"
   ]
  },
  {
   "cell_type": "code",
   "execution_count": 18,
   "metadata": {},
   "outputs": [],
   "source": [
    "def test(generator, latent):\n",
    "    \n",
    "    generator.eval()\n",
    "    \n",
    "    prediction  = generator(latent)\n",
    "    prediction  = prediction.squeeze(axis=1)\n",
    "    accuracy    = compute_accuracy(prediction)\n",
    "    \n",
    "    return accuracy"
   ]
  },
  {
   "cell_type": "markdown",
   "metadata": {},
   "source": [
    "## training epoch"
   ]
  },
  {
   "cell_type": "code",
   "execution_count": 19,
   "metadata": {
    "scrolled": false
   },
   "outputs": [
    {
     "name": "stdout",
     "output_type": "stream",
     "text": [
      "epoch 0, loss_generator = 1.0451936885162636, loss_discriminator=0.19570105669123156, accuracy=58.93461227416992\n",
      "epoch 1, loss_generator = 0.9647553766215289, loss_discriminator=0.020038156666689448, accuracy=77.67179870605469\n",
      "epoch 2, loss_generator = 0.5883756271115056, loss_discriminator=0.008697396816892756, accuracy=81.73221588134766\n",
      "epoch 3, loss_generator = 0.3863517644228759, loss_discriminator=0.005112748800052537, accuracy=81.6203842163086\n",
      "epoch 4, loss_generator = 0.2714681934427332, loss_discriminator=0.0034958215620092773, accuracy=72.56639099121094\n",
      "epoch 5, loss_generator = 0.20976924907278133, loss_discriminator=0.002506953091533096, accuracy=70.69883728027344\n",
      "epoch 6, loss_generator = 0.2323216156827079, loss_discriminator=0.0020077377704351587, accuracy=69.99858856201172\n",
      "epoch 7, loss_generator = 0.127979288774508, loss_discriminator=0.0014376841183682835, accuracy=68.44330596923828\n",
      "epoch 8, loss_generator = 0.08485578469656131, loss_discriminator=0.0011419458595035529, accuracy=68.04456329345703\n",
      "epoch 9, loss_generator = 0.06691574316333841, loss_discriminator=0.0009322815242706349, accuracy=67.93215942382812\n",
      "epoch 10, loss_generator = 0.048062432060639065, loss_discriminator=0.000792830086019994, accuracy=68.38542938232422\n",
      "epoch 11, loss_generator = 0.044439771978391544, loss_discriminator=0.000677201750739995, accuracy=68.76522827148438\n",
      "epoch 12, loss_generator = 0.02908666517447542, loss_discriminator=0.0005880978273193317, accuracy=68.90424346923828\n",
      "epoch 13, loss_generator = 0.028626310038897727, loss_discriminator=0.00048268837272189555, accuracy=69.01191711425781\n",
      "epoch 14, loss_generator = 0.023774443318446477, loss_discriminator=0.0004251544725977712, accuracy=69.37564849853516\n",
      "epoch 15, loss_generator = 0.020509470171398588, loss_discriminator=0.00036943427769950144, accuracy=69.39588165283203\n",
      "epoch 16, loss_generator = 0.01845646298455971, loss_discriminator=0.0003232149734955143, accuracy=69.59855651855469\n",
      "epoch 17, loss_generator = 0.016461455973762053, loss_discriminator=0.0002906796783295081, accuracy=69.69174194335938\n",
      "epoch 18, loss_generator = 0.013238841419418652, loss_discriminator=0.0002551585476828256, accuracy=69.65386962890625\n",
      "epoch 19, loss_generator = 0.012272642138931486, loss_discriminator=0.00022801965630302827, accuracy=69.69844818115234\n"
     ]
    },
    {
     "ename": "KeyboardInterrupt",
     "evalue": "",
     "output_type": "error",
     "traceback": [
      "\u001b[0;31m---------------------------------------------------------------------------\u001b[0m",
      "\u001b[0;31mKeyboardInterrupt\u001b[0m                         Traceback (most recent call last)",
      "Input \u001b[0;32mIn [19]\u001b[0m, in \u001b[0;36m<cell line: 10>\u001b[0;34m()\u001b[0m\n\u001b[1;32m      8\u001b[0m latent_test \u001b[38;5;241m=\u001b[39m torch\u001b[38;5;241m.\u001b[39mreshape(latent_test, [num_latent_test, dim_latent, \u001b[38;5;241m1\u001b[39m, \u001b[38;5;241m1\u001b[39m])\n\u001b[1;32m     10\u001b[0m \u001b[38;5;28;01mfor\u001b[39;00m i \u001b[38;5;129;01min\u001b[39;00m \u001b[38;5;28mrange\u001b[39m(number_epoch):\n\u001b[0;32m---> 11\u001b[0m     loss_generator_epoch, loss_discriminator_epoch \u001b[38;5;241m=\u001b[39m \u001b[43mtrain\u001b[49m\u001b[43m(\u001b[49m\u001b[43mgenerator\u001b[49m\u001b[43m,\u001b[49m\u001b[43m \u001b[49m\u001b[43mdiscriminator\u001b[49m\u001b[43m,\u001b[49m\u001b[43m \u001b[49m\u001b[43mdataloader_real\u001b[49m\u001b[43m)\u001b[49m\n\u001b[1;32m     12\u001b[0m     accuracy \u001b[38;5;241m=\u001b[39m test(generator, latent_test)\n\u001b[1;32m     13\u001b[0m     accuracy_epoch[i] \u001b[38;5;241m=\u001b[39m accuracy\n",
      "Input \u001b[0;32mIn [17]\u001b[0m, in \u001b[0;36mtrain\u001b[0;34m(generator, discriminator, dataloader)\u001b[0m\n\u001b[1;32m     25\u001b[0m \u001b[38;5;66;03m#         if index_batch == 0:\u001b[39;00m\n\u001b[1;32m     26\u001b[0m \u001b[38;5;66;03m#             loss_image = nn.BCELoss()(fake, real)\u001b[39;00m\n\u001b[1;32m     27\u001b[0m \u001b[38;5;66;03m#             loss_generator = loss_image / size_batch + loss_label\u001b[39;00m\n\u001b[1;32m     28\u001b[0m \u001b[38;5;66;03m#         else:\u001b[39;00m\n\u001b[1;32m     29\u001b[0m \u001b[38;5;66;03m#             loss_generator = loss_label\u001b[39;00m\n\u001b[1;32m     30\u001b[0m         loss_generator \u001b[38;5;241m=\u001b[39m loss_label\n\u001b[0;32m---> 31\u001b[0m         \u001b[43mloss_generator\u001b[49m\u001b[38;5;241;43m.\u001b[39;49m\u001b[43mbackward\u001b[49m\u001b[43m(\u001b[49m\u001b[43m)\u001b[49m\n\u001b[1;32m     32\u001b[0m         optimizer_generator\u001b[38;5;241m.\u001b[39mstep()\n\u001b[1;32m     34\u001b[0m         \u001b[38;5;66;03m# ---------------------------------------------------------------------------\u001b[39;00m\n\u001b[1;32m     35\u001b[0m         \u001b[38;5;66;03m#  \u001b[39;00m\n\u001b[1;32m     36\u001b[0m         \u001b[38;5;66;03m# update the discriminator\u001b[39;00m\n\u001b[1;32m     37\u001b[0m         \u001b[38;5;66;03m#  \u001b[39;00m\n\u001b[1;32m     38\u001b[0m         \u001b[38;5;66;03m# ---------------------------------------------------------------------------\u001b[39;00m\n",
      "File \u001b[0;32m~/.local/lib/python3.8/site-packages/torch/_tensor.py:396\u001b[0m, in \u001b[0;36mTensor.backward\u001b[0;34m(self, gradient, retain_graph, create_graph, inputs)\u001b[0m\n\u001b[1;32m    387\u001b[0m \u001b[38;5;28;01mif\u001b[39;00m has_torch_function_unary(\u001b[38;5;28mself\u001b[39m):\n\u001b[1;32m    388\u001b[0m     \u001b[38;5;28;01mreturn\u001b[39;00m handle_torch_function(\n\u001b[1;32m    389\u001b[0m         Tensor\u001b[38;5;241m.\u001b[39mbackward,\n\u001b[1;32m    390\u001b[0m         (\u001b[38;5;28mself\u001b[39m,),\n\u001b[0;32m   (...)\u001b[0m\n\u001b[1;32m    394\u001b[0m         create_graph\u001b[38;5;241m=\u001b[39mcreate_graph,\n\u001b[1;32m    395\u001b[0m         inputs\u001b[38;5;241m=\u001b[39minputs)\n\u001b[0;32m--> 396\u001b[0m \u001b[43mtorch\u001b[49m\u001b[38;5;241;43m.\u001b[39;49m\u001b[43mautograd\u001b[49m\u001b[38;5;241;43m.\u001b[39;49m\u001b[43mbackward\u001b[49m\u001b[43m(\u001b[49m\u001b[38;5;28;43mself\u001b[39;49m\u001b[43m,\u001b[49m\u001b[43m \u001b[49m\u001b[43mgradient\u001b[49m\u001b[43m,\u001b[49m\u001b[43m \u001b[49m\u001b[43mretain_graph\u001b[49m\u001b[43m,\u001b[49m\u001b[43m \u001b[49m\u001b[43mcreate_graph\u001b[49m\u001b[43m,\u001b[49m\u001b[43m \u001b[49m\u001b[43minputs\u001b[49m\u001b[38;5;241;43m=\u001b[39;49m\u001b[43minputs\u001b[49m\u001b[43m)\u001b[49m\n",
      "File \u001b[0;32m~/.local/lib/python3.8/site-packages/torch/autograd/__init__.py:173\u001b[0m, in \u001b[0;36mbackward\u001b[0;34m(tensors, grad_tensors, retain_graph, create_graph, grad_variables, inputs)\u001b[0m\n\u001b[1;32m    168\u001b[0m     retain_graph \u001b[38;5;241m=\u001b[39m create_graph\n\u001b[1;32m    170\u001b[0m \u001b[38;5;66;03m# The reason we repeat same the comment below is that\u001b[39;00m\n\u001b[1;32m    171\u001b[0m \u001b[38;5;66;03m# some Python versions print out the first line of a multi-line function\u001b[39;00m\n\u001b[1;32m    172\u001b[0m \u001b[38;5;66;03m# calls in the traceback and some print out the last line\u001b[39;00m\n\u001b[0;32m--> 173\u001b[0m \u001b[43mVariable\u001b[49m\u001b[38;5;241;43m.\u001b[39;49m\u001b[43m_execution_engine\u001b[49m\u001b[38;5;241;43m.\u001b[39;49m\u001b[43mrun_backward\u001b[49m\u001b[43m(\u001b[49m\u001b[43m  \u001b[49m\u001b[38;5;66;43;03m# Calls into the C++ engine to run the backward pass\u001b[39;49;00m\n\u001b[1;32m    174\u001b[0m \u001b[43m    \u001b[49m\u001b[43mtensors\u001b[49m\u001b[43m,\u001b[49m\u001b[43m \u001b[49m\u001b[43mgrad_tensors_\u001b[49m\u001b[43m,\u001b[49m\u001b[43m \u001b[49m\u001b[43mretain_graph\u001b[49m\u001b[43m,\u001b[49m\u001b[43m \u001b[49m\u001b[43mcreate_graph\u001b[49m\u001b[43m,\u001b[49m\u001b[43m \u001b[49m\u001b[43minputs\u001b[49m\u001b[43m,\u001b[49m\n\u001b[1;32m    175\u001b[0m \u001b[43m    \u001b[49m\u001b[43mallow_unreachable\u001b[49m\u001b[38;5;241;43m=\u001b[39;49m\u001b[38;5;28;43;01mTrue\u001b[39;49;00m\u001b[43m,\u001b[49m\u001b[43m \u001b[49m\u001b[43maccumulate_grad\u001b[49m\u001b[38;5;241;43m=\u001b[39;49m\u001b[38;5;28;43;01mTrue\u001b[39;49;00m\u001b[43m)\u001b[49m\n",
      "\u001b[0;31mKeyboardInterrupt\u001b[0m: "
     ]
    }
   ],
   "source": [
    "number_epoch    = 100\n",
    "accuracy_epoch  = np.zeros(number_epoch)\n",
    "loss_generator = np.zeros(number_epoch)\n",
    "loss_discriminator = np.zeros(number_epoch)\n",
    "\n",
    "num_latent_test = 100\n",
    "latent_test = torch.randn(num_latent_test, dim_latent, device=device)\n",
    "latent_test = torch.reshape(latent_test, [num_latent_test, dim_latent, 1, 1])\n",
    "\n",
    "for i in range(number_epoch):\n",
    "    loss_generator_epoch, loss_discriminator_epoch = train(generator, discriminator, dataloader_real)\n",
    "    accuracy = test(generator, latent_test)\n",
    "    accuracy_epoch[i] = accuracy\n",
    "    \n",
    "    loss_generator[i] = loss_generator_epoch\n",
    "    loss_discriminator[i] = loss_discriminator_epoch\n",
    "    print(f'epoch {i}, loss_generator = {loss_generator_epoch}, loss_discriminator={loss_discriminator_epoch}, accuracy={accuracy}')"
   ]
  },
  {
   "cell_type": "code",
   "execution_count": null,
   "metadata": {},
   "outputs": [],
   "source": [
    "plt.figure(figsize=(8, 6))\n",
    "plt.plot(loss_generator, label='loss_generator')\n",
    "plt.plot(loss_discriminator, label='loss_discriminator')\n",
    "plt.ylim(0,1)\n",
    "plt.legend()\n",
    "plt.title('loss')\n",
    "plt.show()"
   ]
  },
  {
   "cell_type": "markdown",
   "metadata": {},
   "source": [
    "---"
   ]
  },
  {
   "cell_type": "markdown",
   "metadata": {},
   "source": [
    "# functions for presenting the results"
   ]
  },
  {
   "cell_type": "markdown",
   "metadata": {},
   "source": [
    "---"
   ]
  },
  {
   "cell_type": "code",
   "execution_count": 20,
   "metadata": {},
   "outputs": [],
   "source": [
    "def function_result_01():\n",
    "\n",
    "    num_latent_visualize = 16\n",
    "\n",
    "    latent_visualize = torch.randn(num_latent_visualize, dim_latent, device=device)\n",
    "    latent_visualize = torch.reshape(latent_visualize, [num_latent_visualize, dim_latent, 1, 1]) \n",
    "\n",
    "    prediction = compute_prediction(generator, latent_visualize)\n",
    "    prediction = prediction.squeeze(axis=1)\n",
    "    prediction_binary = (prediction >= 0.5)\n",
    "    bounding_mask = compute_bounding_mask(prediction_binary)\n",
    "        \n",
    "    fake = prediction.detach().cpu()\n",
    "    mask = bounding_mask.detach().cpu()\n",
    "\n",
    "    nRow = 4\n",
    "    nCol = 4 \n",
    "    size = 3 \n",
    "    \n",
    "    title = 'fake image'\n",
    "    fig, axes = plt.subplots(nRow, nCol, figsize=(size * nCol, size * nRow))\n",
    "    fig.suptitle(title, fontsize=16)\n",
    "\n",
    "    for r in range(nRow): \n",
    "        for c in range(nCol):\n",
    "            k = c + r * nCol\n",
    "            axes[r, c].imshow(fake[k], cmap='gray', vmin=0, vmax=1)\n",
    "            axes[r, c].xaxis.set_visible(False)\n",
    "            axes[r, c].yaxis.set_visible(False)\n",
    "\n",
    "    plt.tight_layout()\n",
    "    plt.show()\n",
    "    \n",
    "    title = 'bounding mask'\n",
    "    fig, axes = plt.subplots(nRow, nCol, figsize=(size * nCol, size * nRow))\n",
    "    fig.suptitle(title, fontsize=16)\n",
    "\n",
    "    for r in range(nRow): \n",
    "        for c in range(nCol):\n",
    "            k = c + r * nCol\n",
    "            axes[r, c].imshow(mask[k], cmap='gray', vmin=0, vmax=1)\n",
    "            axes[r, c].xaxis.set_visible(False)\n",
    "            axes[r, c].yaxis.set_visible(False)\n",
    "                        \n",
    "    plt.tight_layout()\n",
    "    plt.show()"
   ]
  },
  {
   "cell_type": "code",
   "execution_count": 21,
   "metadata": {},
   "outputs": [],
   "source": [
    "def function_result_02():\n",
    "\n",
    "    title           = 'accuracy'\n",
    "    label_axis_x    = 'epoch' \n",
    "    label_axis_y    = 'accuracy'\n",
    "    \n",
    "    plt.figure(figsize=(8, 6))\n",
    "    plt.title(title)\n",
    "    \n",
    "    plt.plot(accuracy_epoch)\n",
    "    \n",
    "    plt.xlabel(label_axis_x)\n",
    "    plt.ylabel(label_axis_y)\n",
    "\n",
    "    plt.tight_layout()\n",
    "    plt.show()"
   ]
  },
  {
   "cell_type": "code",
   "execution_count": 22,
   "metadata": {},
   "outputs": [],
   "source": [
    "def function_result_03():\n",
    "\n",
    "    print('final accuracy = %9.8f' % (accuracy_epoch[-1]))"
   ]
  },
  {
   "cell_type": "markdown",
   "metadata": {},
   "source": [
    "---"
   ]
  },
  {
   "cell_type": "markdown",
   "metadata": {},
   "source": [
    "## results"
   ]
  },
  {
   "cell_type": "markdown",
   "metadata": {},
   "source": [
    "---"
   ]
  },
  {
   "cell_type": "code",
   "execution_count": 23,
   "metadata": {},
   "outputs": [
    {
     "name": "stdout",
     "output_type": "stream",
     "text": [
      "\n",
      "################################################################################\n",
      "#\n",
      "# RESULT # 01\n",
      "#\n",
      "################################################################################\n",
      "\n"
     ]
    },
    {
     "data": {
      "image/png": "[encoded data removed]",
      "text/plain": [
       "<Figure size 864x864 with 16 Axes>"
      ]
     },
     "metadata": {
      "needs_background": "light"
     },
     "output_type": "display_data"
    },
    {
     "data": {
      "image/png": "[encoded data removed]",
      "text/plain": [
       "<Figure size 864x864 with 16 Axes>"
      ]
     },
     "metadata": {
      "needs_background": "light"
     },
     "output_type": "display_data"
    },
    {
     "name": "stdout",
     "output_type": "stream",
     "text": [
      "\n",
      "################################################################################\n",
      "#\n",
      "# RESULT # 02\n",
      "#\n",
      "################################################################################\n",
      "\n"
     ]
    },
    {
     "data": {
      "image/png": "[encoded data removed]",
      "text/plain": [
       "<Figure size 576x432 with 1 Axes>"
      ]
     },
     "metadata": {
      "needs_background": "light"
     },
     "output_type": "display_data"
    },
    {
     "name": "stdout",
     "output_type": "stream",
     "text": [
      "\n",
      "################################################################################\n",
      "#\n",
      "# RESULT # 03\n",
      "#\n",
      "################################################################################\n",
      "\n",
      "final accuracy = 0.00000000\n"
     ]
    }
   ],
   "source": [
    "number_result = 3\n",
    "\n",
    "for i in range(number_result):\n",
    "\n",
    "    title           = '# RESULT # {:02d}'.format(i+1) \n",
    "    name_function   = 'function_result_{:02d}()'.format(i+1)\n",
    "\n",
    "    print('') \n",
    "    print('################################################################################')\n",
    "    print('#') \n",
    "    print(title)\n",
    "    print('#') \n",
    "    print('################################################################################')\n",
    "    print('') \n",
    "\n",
    "    eval(name_function)"
   ]
  },
  {
   "cell_type": "code",
   "execution_count": 24,
   "metadata": {},
   "outputs": [],
   "source": [
    "# https://github.com/Lornatang/WassersteinGAN_GP-PyTorch/tree/master"
   ]
  }
 ],
 "metadata": {
  "colab": {
   "authorship_tag": "ABX9TyM0gXqiryv5831mXd12OejK",
   "collapsed_sections": [],
   "name": "assignment_02.ipynb",
   "provenance": []
  },
  "kernelspec": {
   "display_name": "Python 3 (ipykernel)",
   "language": "python",
   "name": "python3"
  },
  "language_info": {
   "codemirror_mode": {
    "name": "ipython",
    "version": 3
   },
   "file_extension": ".py",
   "mimetype": "text/x-python",
   "name": "python",
   "nbconvert_exporter": "python",
   "pygments_lexer": "ipython3",
   "version": "3.8.10"
  },
  "vscode": {
   "interpreter": {
    "hash": "31f2aee4e71d21fbe5cf8b01ff0e069b9275f58929596ceb00d14d90e3e16cd6"
   }
  }
 },
 "nbformat": 4,
 "nbformat_minor": 2
}
