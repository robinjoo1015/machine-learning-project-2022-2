{
 "cells": [
  {
   "cell_type": "markdown",
   "metadata": {
    "colab": {
     "base_uri": "https://localhost:8080/"
    },
    "executionInfo": {
     "elapsed": 5,
     "status": "ok",
     "timestamp": 1630597918894,
     "user": {
      "displayName": "Byung-Woo Hong",
      "photoUrl": "",
      "userId": "17273657108187629509"
     },
     "user_tz": -540
    },
    "id": "K29I-OwCEYzW",
    "outputId": "db8b297c-a4b8-457a-b43f-7570135306c7"
   },
   "source": [
    "# Image Generation via Generative Adversarial Networks"
   ]
  },
  {
   "cell_type": "markdown",
   "metadata": {},
   "source": [
    "## import libraries"
   ]
  },
  {
   "cell_type": "code",
   "execution_count": 1,
   "metadata": {},
   "outputs": [],
   "source": [
    "import torch\n",
    "import torchvision\n",
    "from torch.utils.data import Dataset\n",
    "from os import listdir\n",
    "from os.path import join\n",
    "from torchvision import datasets, transforms\n",
    "from torch.utils.data import DataLoader\n",
    "from PIL import Image\n",
    "import matplotlib.pyplot as plt\n",
    "import numpy as np\n",
    "import torch.nn as nn\n",
    "import torch.nn.functional as F\n",
    "import torch.optim as optim\n",
    "from math import log10\n",
    "from tqdm import tqdm\n",
    "import os"
   ]
  },
  {
   "cell_type": "markdown",
   "metadata": {},
   "source": [
    "## load data"
   ]
  },
  {
   "cell_type": "code",
   "execution_count": 2,
   "metadata": {},
   "outputs": [],
   "source": [
    "directory_data  = './'\n",
    "filename_data   = 'assignment_12_data.npz'\n",
    "data            = np.load(os.path.join(directory_data, filename_data))\n",
    "real            = data['real_images']"
   ]
  },
  {
   "cell_type": "code",
   "execution_count": 3,
   "metadata": {},
   "outputs": [
    {
     "name": "stdout",
     "output_type": "stream",
     "text": [
      "size of real data: (4324, 32, 32)\n"
     ]
    }
   ],
   "source": [
    "print('size of real data:', real.shape)"
   ]
  },
  {
   "cell_type": "markdown",
   "metadata": {},
   "source": [
    "## plot data"
   ]
  },
  {
   "cell_type": "code",
   "execution_count": 4,
   "metadata": {},
   "outputs": [],
   "source": [
    "def plot_image(title, image):\n",
    "    \n",
    "    nRow = 3\n",
    "    nCol = 4\n",
    "    size = 3\n",
    "    \n",
    "    fig, axes = plt.subplots(nRow, nCol, figsize=(size * nCol, size * nRow))\n",
    "    fig.suptitle(title, fontsize=16)\n",
    "   \n",
    "    for r in range(nRow): \n",
    "        for c in range(nCol):\n",
    "            k = c * 300 + r * nCol * 300\n",
    "            axes[r, c].imshow(image[k], cmap='gray')\n",
    "\n",
    "    plt.tight_layout()\n",
    "    plt.show()"
   ]
  },
  {
   "cell_type": "code",
   "execution_count": 5,
   "metadata": {},
   "outputs": [
    {
     "data": {
      "image/png": "[encoded data removed]",
      "text/plain": [
       "<Figure size 864x648 with 12 Axes>"
      ]
     },
     "metadata": {
      "needs_background": "light"
     },
     "output_type": "display_data"
    }
   ],
   "source": [
    "plot_image('training data', real)"
   ]
  },
  {
   "cell_type": "markdown",
   "metadata": {},
   "source": [
    "## custom data loader for the PyTorch framework"
   ]
  },
  {
   "cell_type": "code",
   "execution_count": 6,
   "metadata": {},
   "outputs": [],
   "source": [
    "class dataset(Dataset):\n",
    "    \n",
    "    def __init__(self, image):\n",
    "        \n",
    "        self.image = image\n",
    "    \n",
    "    def __getitem__(self, index):\n",
    "        \n",
    "        sample  = self.image[index]\n",
    "        sample  = torch.FloatTensor(sample).unsqueeze(dim=0)\n",
    "\n",
    "        return (sample)\n",
    "    \n",
    "    def __len__(self):\n",
    "\n",
    "        number_image = len(self.image)\n",
    "\n",
    "        return (number_image)"
   ]
  },
  {
   "cell_type": "markdown",
   "metadata": {},
   "source": [
    "## setting device"
   ]
  },
  {
   "cell_type": "code",
   "execution_count": 7,
   "metadata": {},
   "outputs": [],
   "source": [
    "device = torch.device('cuda' if torch.cuda.is_available() else 'mps')"
   ]
  },
  {
   "cell_type": "code",
   "execution_count": 8,
   "metadata": {},
   "outputs": [
    {
     "name": "stdout",
     "output_type": "stream",
     "text": [
      "cuda\n"
     ]
    }
   ],
   "source": [
    "print(device)"
   ]
  },
  {
   "cell_type": "code",
   "execution_count": 9,
   "metadata": {},
   "outputs": [],
   "source": [
    "# random seed\n",
    "import random\n",
    "random.seed(20184757)\n",
    "np.random.seed(20184757)\n",
    "torch.manual_seed(20184757)\n",
    "torch.cuda.manual_seed(20184757)\n",
    "torch.cuda.manual_seed_all(20184757)\n",
    "torch.backends.cudnn.deterministic = True\n",
    "torch.backends.cudnn.benchmark = False"
   ]
  },
  {
   "cell_type": "markdown",
   "metadata": {},
   "source": [
    "## construct datasets and dataloaders "
   ]
  },
  {
   "cell_type": "code",
   "execution_count": 10,
   "metadata": {},
   "outputs": [],
   "source": [
    "size_minibatch  = 32\n",
    "dim_latent      = 64 # input latent vector fixed dimension \n",
    "\n",
    "dataset_real    = dataset(real)\n",
    "dataloader_real = torch.utils.data.DataLoader(dataset_real, batch_size=size_minibatch, shuffle=True, drop_last=True)"
   ]
  },
  {
   "cell_type": "markdown",
   "metadata": {},
   "source": [
    "## neural networks "
   ]
  },
  {
   "cell_type": "code",
   "execution_count": 11,
   "metadata": {},
   "outputs": [],
   "source": [
    "class Discriminator(nn.Module): \n",
    "    \n",
    "    def __init__(self):\n",
    "        \n",
    "        super(Discriminator, self).__init__()\n",
    "        \n",
    "        self.conv = nn.Sequential(\n",
    "            nn.Conv2d(in_channels=1, out_channels=16, kernel_size=3, stride=2, padding=1, bias=True),\n",
    "            nn.LeakyReLU(0.2),\n",
    "            \n",
    "            nn.Conv2d(in_channels=16, out_channels=32, kernel_size=3, stride=2, padding=1, bias=True),\n",
    "            nn.LeakyReLU(0.2),\n",
    "            \n",
    "            nn.Conv2d(in_channels=32, out_channels=64, kernel_size=3, stride=2, padding=1, bias=True),\n",
    "            nn.LeakyReLU(0.2),\n",
    "            \n",
    "            nn.Conv2d(in_channels=64, out_channels=128, kernel_size=3, stride=2, padding=1, bias=True),\n",
    "            nn.LeakyReLU(0.2),\n",
    "            \n",
    "            nn.Conv2d(in_channels=128, out_channels=256, kernel_size=3, stride=2, padding=1, bias=True),\n",
    "            nn.LeakyReLU(0.2),\n",
    "        )\n",
    "        \n",
    "        self.fc = nn.Sequential(\n",
    "            nn.Linear(256, 32),\n",
    "            nn.LeakyReLU(0.2),\n",
    "#             nn.Linear(64, 32),\n",
    "#             nn.LeakyReLU(0.2),\n",
    "#             nn.Linear(32, 16),\n",
    "#             nn.LeakyReLU(0.2),\n",
    "#             nn.Linear(16, 8),\n",
    "#             nn.LeakyReLU(0.2),\n",
    "            nn.Linear(32, 1)\n",
    "        )\n",
    "        \n",
    "    def forward(self, x):\n",
    "        out = self.conv(x)\n",
    "        out = nn.Flatten()(out)\n",
    "        out = self.fc(out)\n",
    "        \n",
    "        return out\n"
   ]
  },
  {
   "cell_type": "code",
   "execution_count": 12,
   "metadata": {},
   "outputs": [],
   "source": [
    "class Generator(nn.Module):\n",
    "    \n",
    "    def __init__(self):\n",
    "        \n",
    "        super(Generator, self).__init__()\n",
    "        \n",
    "        self.conv = nn.Sequential(\n",
    "            nn.Upsample(scale_factor=2, mode='bilinear', align_corners=False),\n",
    "            nn.Conv2d(in_channels=dim_latent, out_channels=128, kernel_size=3, stride=1, padding=1, bias=True),\n",
    "            nn.BatchNorm2d(128),\n",
    "            nn.LeakyReLU(0.2),\n",
    "            \n",
    "            nn.Upsample(scale_factor=2, mode='bilinear', align_corners=False),\n",
    "            nn.Conv2d(in_channels=128, out_channels=64, kernel_size=3, stride=1, padding=1, bias=True),\n",
    "            nn.BatchNorm2d(64),\n",
    "            nn.LeakyReLU(0.2),\n",
    "            \n",
    "            nn.Upsample(scale_factor=2, mode='bilinear', align_corners=False),\n",
    "            nn.Conv2d(in_channels=64, out_channels=32, kernel_size=3, stride=1, padding=1, bias=True),\n",
    "            nn.BatchNorm2d(32),\n",
    "            nn.LeakyReLU(0.2),\n",
    "            \n",
    "            nn.Upsample(scale_factor=2, mode='bilinear', align_corners=False),\n",
    "            nn.Conv2d(in_channels=32, out_channels=16, kernel_size=3, stride=1, padding=1, bias=True),\n",
    "            nn.BatchNorm2d(16),\n",
    "            nn.LeakyReLU(0.2),\n",
    "            \n",
    "            nn.Upsample(scale_factor=2, mode='bilinear', align_corners=False),\n",
    "            nn.Conv2d(in_channels=16, out_channels=1, kernel_size=3, stride=1, padding=1, bias=True),\n",
    "            \n",
    "            nn.Sigmoid()\n",
    "        )\n",
    "    \n",
    "    def forward(self, x):\n",
    "\n",
    "        out = self.conv(x)\n",
    "        \n",
    "        return out"
   ]
  },
  {
   "cell_type": "markdown",
   "metadata": {},
   "source": [
    "## build network"
   ]
  },
  {
   "cell_type": "code",
   "execution_count": 13,
   "metadata": {},
   "outputs": [],
   "source": [
    "def weights_init(m):\n",
    "    classname = m.__class__.__name__\n",
    "    if classname.find(\"Conv\") != -1:\n",
    "        nn.init.xavier_uniform_(m.weight)\n",
    "        nn.init.constant_(m.bias, 1.)\n",
    "    elif classname.find(\"BatchNorm\") != -1:\n",
    "        nn.init.constant_(m.weight, 1.)\n",
    "        nn.init.constant_(m.bias, 1.)\n",
    "    elif classname.find(\"Linear\") != -1:\n",
    "        nn.init.xavier_uniform_(m.weight)\n",
    "        nn.init.constant_(m.bias, 1.)"
   ]
  },
  {
   "cell_type": "code",
   "execution_count": 14,
   "metadata": {},
   "outputs": [],
   "source": [
    "generator       = Generator().to(device)\n",
    "discriminator   = Discriminator().to(device)\n",
    "\n",
    "generator = generator.apply(weights_init)\n",
    "discriminator = discriminator.apply(weights_init)\n",
    "\n",
    "optimizer_generator = torch.optim.Adam(generator.parameters(), lr=0.001, betas=(0.5, 0.999))\n",
    "optimizer_discriminator = torch.optim.Adam(discriminator.parameters(), lr=0.001, betas=(0.5, 0.999))"
   ]
  },
  {
   "cell_type": "markdown",
   "metadata": {},
   "source": [
    "## compute the prediction"
   ]
  },
  {
   "cell_type": "code",
   "execution_count": 15,
   "metadata": {},
   "outputs": [],
   "source": [
    "def compute_prediction(model, input):\n",
    "\n",
    "    prediction = model(input)\n",
    "\n",
    "    return prediction"
   ]
  },
  {
   "cell_type": "markdown",
   "metadata": {},
   "source": [
    "## compute the accuracy"
   ]
  },
  {
   "cell_type": "code",
   "execution_count": 16,
   "metadata": {},
   "outputs": [],
   "source": [
    "def compute_bounding_mask(prediction_binary):\n",
    "    \n",
    "    bounding_mask = torch.zeros_like(prediction_binary)\n",
    "    \n",
    "    for i in range(prediction_binary.shape[0]):\n",
    "        prediction = prediction_binary[i]\n",
    "        (idx_row, idx_col) = torch.nonzero(prediction, as_tuple=True)\n",
    "        \n",
    "        if len(idx_row) > 0: \n",
    "            idx_row_min = idx_row.min()\n",
    "            idx_row_max = idx_row.max()\n",
    "        \n",
    "            idx_col_min = idx_col.min()\n",
    "            idx_col_max = idx_col.max()\n",
    "    \n",
    "            bounding_mask[i, idx_row_min:idx_row_max+1, idx_col_min:idx_col_max+1] = 1 \n",
    "    \n",
    "    return bounding_mask"
   ]
  },
  {
   "cell_type": "code",
   "execution_count": 17,
   "metadata": {},
   "outputs": [],
   "source": [
    "def compute_accuracy(prediction):\n",
    "\n",
    "    binary      = (prediction >= 0.5)\n",
    "    mask        = compute_bounding_mask(binary)\n",
    "    \n",
    "    intersection = (binary & mask).float().sum((1, 2))\n",
    "    union        = (binary | mask).float().sum((1, 2))\n",
    "\n",
    "    eps         = 1e-8\n",
    "    correct     = (intersection + eps) / (union + eps)\n",
    "    accuracy    = correct.mean() * 100.0\n",
    "    accuracy    = accuracy.cpu() \n",
    "    \n",
    "    return accuracy"
   ]
  },
  {
   "cell_type": "markdown",
   "metadata": {},
   "source": [
    "## train"
   ]
  },
  {
   "cell_type": "code",
   "execution_count": 18,
   "metadata": {},
   "outputs": [],
   "source": [
    "def train(generator, discriminator, dataloader):\n",
    "    \n",
    "    loss_generator_epoch = []\n",
    "    loss_discriminator_epoch = []\n",
    "    \n",
    "    for index_batch, (real) in enumerate(dataloader):\n",
    "        real        = real.to(device)\n",
    "        size_batch  = len(real)\n",
    "        latent      = torch.randn(size_batch, dim_latent, device=device)\n",
    "        latent      = torch.reshape(latent, [size_batch, dim_latent, 1, 1])\n",
    "\n",
    "        # ---------------------------------------------------------------------------\n",
    "        #  \n",
    "        # update the generator\n",
    "        #  \n",
    "        # ---------------------------------------------------------------------------\n",
    "        generator.train()\n",
    "        discriminator.eval()\n",
    "        \n",
    "        optimizer_generator.zero_grad()\n",
    "        fake = compute_prediction(generator, latent)\n",
    "        prediction_fake = compute_prediction(discriminator, fake)\n",
    "        label_fake = torch.ones_like(prediction_fake)\n",
    "        loss_label = nn.BCEWithLogitsLoss()(prediction_fake, label_fake)\n",
    "        loss_generator = loss_label\n",
    "        loss_generator.backward()\n",
    "        optimizer_generator.step()\n",
    "\n",
    "        # ---------------------------------------------------------------------------\n",
    "        #  \n",
    "        # update the discriminator\n",
    "        #  \n",
    "        # ---------------------------------------------------------------------------\n",
    "        generator.eval()\n",
    "        discriminator.train()\n",
    "        \n",
    "        optimizer_discriminator.zero_grad()\n",
    "        fake = compute_prediction(generator, latent)\n",
    "        prediction_real = compute_prediction(discriminator, real)\n",
    "        prediction_fake = compute_prediction(discriminator, fake)\n",
    "        loss_real = nn.BCEWithLogitsLoss()(prediction_real, torch.ones_like(prediction_real, device=device))\n",
    "        loss_fake = nn.BCEWithLogitsLoss()(prediction_fake, torch.zeros_like(prediction_fake, device=device))\n",
    "        loss_discriminator = (loss_real + loss_fake) / 2.\n",
    "        loss_discriminator.backward()\n",
    "        optimizer_discriminator.step()\n",
    "        \n",
    "        loss_generator_epoch.append(loss_generator.item())\n",
    "        loss_discriminator_epoch.append(loss_discriminator.item())\n",
    "    \n",
    "    return np.mean(loss_generator_epoch), np.mean(loss_discriminator_epoch)"
   ]
  },
  {
   "cell_type": "markdown",
   "metadata": {},
   "source": [
    "## test"
   ]
  },
  {
   "cell_type": "code",
   "execution_count": 19,
   "metadata": {},
   "outputs": [],
   "source": [
    "def test(generator, latent):\n",
    "    \n",
    "    generator.eval()\n",
    "    \n",
    "    prediction  = generator(latent)\n",
    "    prediction  = prediction.squeeze(axis=1)\n",
    "    accuracy    = compute_accuracy(prediction)\n",
    "    \n",
    "    return accuracy"
   ]
  },
  {
   "cell_type": "markdown",
   "metadata": {},
   "source": [
    "## training epoch"
   ]
  },
  {
   "cell_type": "code",
   "execution_count": 20,
   "metadata": {
    "scrolled": true
   },
   "outputs": [
    {
     "name": "stdout",
     "output_type": "stream",
     "text": [
      "epoch 0, loss_generator = 0.8082629900839594, loss_discriminator=0.7643318666352166, accuracy=84.20942687988281\n",
      "epoch 1, loss_generator = 0.7027878527288084, loss_discriminator=0.6972652969536958, accuracy=87.51338958740234\n",
      "epoch 2, loss_generator = 0.7522311550599557, loss_discriminator=0.7334282446790624, accuracy=91.7977294921875\n",
      "epoch 3, loss_generator = 0.6983382472285518, loss_discriminator=0.6929080552524991, accuracy=90.97225189208984\n",
      "epoch 4, loss_generator = 0.6983237134085761, loss_discriminator=0.6935412967646564, accuracy=92.1667251586914\n",
      "epoch 5, loss_generator = 0.7589374214962676, loss_discriminator=0.7358458081881205, accuracy=100.0\n",
      "epoch 6, loss_generator = 0.6913192913488105, loss_discriminator=0.6869762160159923, accuracy=89.08001708984375\n",
      "epoch 7, loss_generator = 0.9522485311660501, loss_discriminator=0.6915906588236491, accuracy=93.10673522949219\n",
      "epoch 8, loss_generator = 1.1243618664918122, loss_discriminator=0.5409262560032032, accuracy=80.57636260986328\n",
      "epoch 9, loss_generator = 1.3604767507976956, loss_discriminator=0.4761901090542475, accuracy=76.34229278564453\n",
      "epoch 10, loss_generator = 1.3620896498362223, loss_discriminator=0.474625191644386, accuracy=77.29827117919922\n",
      "epoch 11, loss_generator = 1.5573338956744582, loss_discriminator=0.4249078617051796, accuracy=81.41233825683594\n",
      "epoch 12, loss_generator = 1.7527882244851853, loss_discriminator=0.3811194009251065, accuracy=76.98038482666016\n",
      "epoch 13, loss_generator = 1.960030887303529, loss_discriminator=0.35012611548105876, accuracy=78.46669006347656\n",
      "epoch 14, loss_generator = 2.273727814356486, loss_discriminator=0.2787886160943243, accuracy=80.28314971923828\n",
      "epoch 15, loss_generator = 2.4653858259872155, loss_discriminator=0.29219485813820806, accuracy=81.42350006103516\n",
      "epoch 16, loss_generator = 3.0391117316705207, loss_discriminator=0.20908179531494778, accuracy=82.75890350341797\n",
      "epoch 17, loss_generator = 3.580859975461607, loss_discriminator=0.17330280393362046, accuracy=84.18598937988281\n",
      "epoch 18, loss_generator = 3.7706255082730893, loss_discriminator=0.15167678067529644, accuracy=83.10103607177734\n",
      "epoch 19, loss_generator = 4.622254577389469, loss_discriminator=0.12233960833400488, accuracy=85.0777359008789\n",
      "epoch 20, loss_generator = 4.426264007003219, loss_discriminator=0.12268856842484739, accuracy=84.14549255371094\n",
      "epoch 21, loss_generator = 5.024055301922339, loss_discriminator=0.13281221559478176, accuracy=87.44444274902344\n",
      "epoch 22, loss_generator = 4.31471023912783, loss_discriminator=0.18808373814379728, accuracy=87.71733093261719\n",
      "epoch 23, loss_generator = 4.307887722386254, loss_discriminator=0.19419753308649415, accuracy=87.39325714111328\n",
      "epoch 24, loss_generator = 4.003738592289112, loss_discriminator=0.23217686889348207, accuracy=82.76016998291016\n",
      "epoch 25, loss_generator = 3.4664252936840056, loss_discriminator=0.24246207078297932, accuracy=88.41580200195312\n",
      "epoch 26, loss_generator = 3.649142809708913, loss_discriminator=0.24145819340591076, accuracy=89.46354675292969\n",
      "epoch 27, loss_generator = 3.585045764181349, loss_discriminator=0.2379020240019869, accuracy=89.93412017822266\n",
      "epoch 28, loss_generator = 3.9421526149467185, loss_discriminator=0.19966096276486361, accuracy=89.08478546142578\n",
      "epoch 29, loss_generator = 3.8899481417956174, loss_discriminator=0.24355100558863746, accuracy=91.60093688964844\n",
      "epoch 30, loss_generator = 3.9328899423281354, loss_discriminator=0.2145877868488983, accuracy=86.38325500488281\n",
      "epoch 31, loss_generator = 4.266624908756326, loss_discriminator=0.23212754037921077, accuracy=85.96870422363281\n",
      "epoch 32, loss_generator = 3.3968014997464637, loss_discriminator=0.3183640140074271, accuracy=87.832763671875\n",
      "epoch 33, loss_generator = 4.094814695252312, loss_discriminator=0.2476238193611304, accuracy=91.5387954711914\n",
      "epoch 34, loss_generator = 4.4703655852211845, loss_discriminator=0.21463038879964086, accuracy=92.55770111083984\n",
      "epoch 35, loss_generator = 4.263258313028901, loss_discriminator=0.23003059148236557, accuracy=90.92512512207031\n",
      "epoch 36, loss_generator = 5.015959831520363, loss_discriminator=0.18908967309527927, accuracy=91.64525604248047\n",
      "epoch 37, loss_generator = 5.68901817533705, loss_discriminator=0.16798959203340388, accuracy=90.32850646972656\n",
      "epoch 38, loss_generator = 6.077758192133021, loss_discriminator=0.16120823980481536, accuracy=91.03966522216797\n",
      "epoch 39, loss_generator = 5.553621039567171, loss_discriminator=0.17233437316285238, accuracy=90.04877471923828\n",
      "epoch 40, loss_generator = 4.9196132456814805, loss_discriminator=0.1660916232124523, accuracy=88.65951538085938\n",
      "epoch 41, loss_generator = 4.924588997275741, loss_discriminator=0.19302286279422265, accuracy=89.90026092529297\n",
      "epoch 42, loss_generator = 4.635873254140218, loss_discriminator=0.18597089537867792, accuracy=91.55152130126953\n",
      "epoch 43, loss_generator = 4.7808431263875075, loss_discriminator=0.2811540625161595, accuracy=90.78208923339844\n",
      "epoch 44, loss_generator = 3.728647326540064, loss_discriminator=0.2914534136101052, accuracy=90.42366790771484\n",
      "epoch 45, loss_generator = 4.289696999170162, loss_discriminator=0.2782743180239642, accuracy=91.83181762695312\n",
      "epoch 46, loss_generator = 4.804126509472176, loss_discriminator=0.22151669672241917, accuracy=91.35775756835938\n",
      "epoch 47, loss_generator = 4.353231819470723, loss_discriminator=0.2963639687332842, accuracy=92.21605682373047\n",
      "epoch 48, loss_generator = 5.590406799316407, loss_discriminator=0.1981130360453217, accuracy=89.69986724853516\n",
      "epoch 49, loss_generator = 5.27590650540811, loss_discriminator=0.21120277803253246, accuracy=92.37712097167969\n",
      "epoch 50, loss_generator = 5.833990669250488, loss_discriminator=0.179158312689375, accuracy=93.57933044433594\n",
      "epoch 51, loss_generator = 3.155111863160575, loss_discriminator=0.3649993650891163, accuracy=92.63752746582031\n",
      "epoch 52, loss_generator = 3.0244055911346717, loss_discriminator=0.31205638729863694, accuracy=92.34168243408203\n",
      "epoch 53, loss_generator = 5.279647572614529, loss_discriminator=0.2300964398516549, accuracy=91.22415161132812\n",
      "epoch 54, loss_generator = 5.565741634810412, loss_discriminator=0.22188065703268403, accuracy=92.83433532714844\n",
      "epoch 55, loss_generator = 5.2192006691738415, loss_discriminator=0.2503238366709815, accuracy=91.41524505615234\n",
      "epoch 56, loss_generator = 5.930626337616532, loss_discriminator=0.2011133623343927, accuracy=91.63658142089844\n",
      "epoch 57, loss_generator = 6.2713178407262875, loss_discriminator=0.2225825733884617, accuracy=92.82865905761719\n",
      "epoch 58, loss_generator = 5.032997703552246, loss_discriminator=0.26264107718511864, accuracy=91.29759979248047\n",
      "epoch 59, loss_generator = 6.137228870391846, loss_discriminator=0.2047358697211301, accuracy=90.33395385742188\n",
      "epoch 60, loss_generator = 6.218489473837393, loss_discriminator=0.19614289689947056, accuracy=90.59857177734375\n",
      "epoch 61, loss_generator = 5.963494848321985, loss_discriminator=0.20990066448295558, accuracy=90.28412628173828\n",
      "epoch 62, loss_generator = 6.02463938748395, loss_discriminator=0.16730702530454705, accuracy=92.13375091552734\n",
      "epoch 63, loss_generator = 5.801383698428118, loss_discriminator=0.17522610006509004, accuracy=93.39067077636719\n",
      "epoch 64, loss_generator = 5.856387018274378, loss_discriminator=0.14415361299007026, accuracy=91.99081420898438\n",
      "epoch 65, loss_generator = 5.34918668711627, loss_discriminator=0.1564818392197291, accuracy=93.04478454589844\n",
      "epoch 66, loss_generator = 5.329869121975369, loss_discriminator=0.1614993942556558, accuracy=91.05958557128906\n",
      "epoch 67, loss_generator = 5.037941749007613, loss_discriminator=0.17389597372600327, accuracy=92.12467193603516\n",
      "epoch 68, loss_generator = 5.211588804810136, loss_discriminator=0.16734876577500943, accuracy=94.98899841308594\n",
      "epoch 69, loss_generator = 3.6006228937043083, loss_discriminator=0.3027732202300319, accuracy=92.1993637084961\n",
      "epoch 70, loss_generator = 4.557053037926003, loss_discriminator=0.2173115169008573, accuracy=91.87950134277344\n",
      "epoch 71, loss_generator = 4.818367957185816, loss_discriminator=0.2548279994063907, accuracy=91.03377532958984\n",
      "epoch 72, loss_generator = 5.621056161103425, loss_discriminator=0.2550302648985827, accuracy=93.7872085571289\n"
     ]
    },
    {
     "name": "stdout",
     "output_type": "stream",
     "text": [
      "epoch 73, loss_generator = 5.623464893411707, loss_discriminator=0.24457846929629642, accuracy=90.66010284423828\n",
      "epoch 74, loss_generator = 5.483881175959552, loss_discriminator=0.24715743285638314, accuracy=89.63140869140625\n",
      "epoch 75, loss_generator = 9.533017230916906, loss_discriminator=0.09703522027056251, accuracy=81.46532440185547\n",
      "epoch 76, loss_generator = 7.446395310649166, loss_discriminator=0.16692125524083773, accuracy=92.42424011230469\n",
      "epoch 77, loss_generator = 6.684698507520888, loss_discriminator=0.19940119280859275, accuracy=90.4032974243164\n",
      "epoch 78, loss_generator = 5.672221038959645, loss_discriminator=0.22358151420398995, accuracy=90.1744384765625\n",
      "epoch 79, loss_generator = 5.9573861863878035, loss_discriminator=0.19885778973499935, accuracy=92.44161224365234\n",
      "epoch 80, loss_generator = 5.484625477261013, loss_discriminator=0.23409820270759088, accuracy=91.92988586425781\n",
      "epoch 81, loss_generator = 6.105573742477982, loss_discriminator=0.19224909612977947, accuracy=91.90402221679688\n",
      "epoch 82, loss_generator = 7.325678240811383, loss_discriminator=0.1552903743253814, accuracy=92.7491455078125\n",
      "epoch 83, loss_generator = 5.024997290417, loss_discriminator=0.21881565617190468, accuracy=92.99227142333984\n",
      "epoch 84, loss_generator = 5.635455205705431, loss_discriminator=0.1818334893495948, accuracy=91.79354858398438\n",
      "epoch 85, loss_generator = 5.889366103984692, loss_discriminator=0.17044834858841365, accuracy=93.52947998046875\n",
      "epoch 86, loss_generator = 5.585920856617115, loss_discriminator=0.18281907226752353, accuracy=92.6313247680664\n",
      "epoch 87, loss_generator = 5.721853271237126, loss_discriminator=0.20001092503468196, accuracy=91.81695556640625\n",
      "epoch 88, loss_generator = 5.315864877789108, loss_discriminator=0.23878052565786573, accuracy=91.72125244140625\n",
      "epoch 89, loss_generator = 6.284599477273447, loss_discriminator=0.21627099215984344, accuracy=93.88388061523438\n",
      "epoch 90, loss_generator = 6.62302657145041, loss_discriminator=0.19913109593369344, accuracy=93.50154113769531\n",
      "epoch 91, loss_generator = 6.25126999175107, loss_discriminator=0.21687889479928546, accuracy=94.61326599121094\n",
      "epoch 92, loss_generator = 6.694562228520711, loss_discriminator=0.18581741744721378, accuracy=92.25569152832031\n",
      "epoch 93, loss_generator = 4.810653353178942, loss_discriminator=0.3114408669234426, accuracy=92.96257781982422\n",
      "epoch 94, loss_generator = 5.9433038446638315, loss_discriminator=0.23577634670116282, accuracy=92.69552612304688\n",
      "epoch 95, loss_generator = 6.514171702331967, loss_discriminator=0.24001952227618958, accuracy=92.31243896484375\n",
      "epoch 96, loss_generator = 6.042556881463086, loss_discriminator=0.23588223137237407, accuracy=94.51895141601562\n",
      "epoch 97, loss_generator = 6.617071040471395, loss_discriminator=0.199194867439844, accuracy=92.70243072509766\n",
      "epoch 98, loss_generator = 6.011558528299685, loss_discriminator=0.19210915424757533, accuracy=91.1521987915039\n",
      "epoch 99, loss_generator = 6.222189050250583, loss_discriminator=0.18822810981008742, accuracy=92.8996353149414\n",
      "epoch 100, loss_generator = 6.57770035178573, loss_discriminator=0.1854261209015493, accuracy=92.46334075927734\n",
      "epoch 101, loss_generator = 5.719110386459915, loss_discriminator=0.23581910028501793, accuracy=91.81687927246094\n",
      "epoch 102, loss_generator = 6.509247504340278, loss_discriminator=0.2147956114124369, accuracy=93.2374267578125\n",
      "epoch 103, loss_generator = 6.765774820469044, loss_discriminator=0.22374398487585562, accuracy=92.2833023071289\n",
      "epoch 104, loss_generator = 6.748437603314717, loss_discriminator=0.20042217826401745, accuracy=92.89672088623047\n",
      "epoch 105, loss_generator = 6.124208698449311, loss_discriminator=0.2155773204785806, accuracy=94.24592590332031\n",
      "epoch 106, loss_generator = 6.066076802324366, loss_discriminator=0.2170555957213596, accuracy=93.64710998535156\n",
      "epoch 107, loss_generator = 6.607389692023949, loss_discriminator=0.1765629635364921, accuracy=92.88159942626953\n",
      "epoch 108, loss_generator = 5.977296310000949, loss_discriminator=0.17398495663095404, accuracy=92.96715545654297\n",
      "epoch 109, loss_generator = 5.939778297035782, loss_discriminator=0.21979112696868403, accuracy=94.22785949707031\n",
      "epoch 110, loss_generator = 6.1812806517989545, loss_discriminator=0.17628690920494222, accuracy=93.33151245117188\n",
      "epoch 111, loss_generator = 6.106034347746108, loss_discriminator=0.17016228680257445, accuracy=93.71892547607422\n",
      "epoch 112, loss_generator = 6.1909865414654766, loss_discriminator=0.20174700137641693, accuracy=93.20494079589844\n",
      "epoch 113, loss_generator = 6.4449045755245065, loss_discriminator=0.19299996390386864, accuracy=92.9970703125\n",
      "epoch 114, loss_generator = 5.583935435612997, loss_discriminator=0.24230044103331036, accuracy=95.89714050292969\n",
      "epoch 115, loss_generator = 5.059377762123391, loss_discriminator=0.27081406199269825, accuracy=94.44514465332031\n",
      "epoch 116, loss_generator = 7.014142765822234, loss_discriminator=0.19376620611658804, accuracy=93.94755554199219\n",
      "epoch 117, loss_generator = 7.051583630067331, loss_discriminator=0.2041565263160953, accuracy=93.80332946777344\n",
      "epoch 118, loss_generator = 3.852392030534921, loss_discriminator=0.3765064323114024, accuracy=93.44384765625\n",
      "epoch 119, loss_generator = 5.667541685810796, loss_discriminator=0.26092660393979816, accuracy=94.95746612548828\n",
      "epoch 120, loss_generator = 7.518219017099451, loss_discriminator=0.2054276787572437, accuracy=93.00605773925781\n",
      "epoch 121, loss_generator = 8.912984266987554, loss_discriminator=0.1587032818959819, accuracy=95.38345336914062\n",
      "epoch 122, loss_generator = 9.377042424237287, loss_discriminator=0.1281689749409755, accuracy=94.49919128417969\n",
      "epoch 123, loss_generator = 9.275845220353869, loss_discriminator=0.1527226550159631, accuracy=95.81586456298828\n",
      "epoch 124, loss_generator = 8.746895240854334, loss_discriminator=0.18172224028794853, accuracy=91.62103271484375\n",
      "epoch 125, loss_generator = 8.575798227168896, loss_discriminator=0.1800344024543409, accuracy=93.142822265625\n",
      "epoch 126, loss_generator = 9.07088419949567, loss_discriminator=0.18259193229454534, accuracy=94.55106353759766\n",
      "epoch 127, loss_generator = 8.910144767054804, loss_discriminator=0.16851978197141929, accuracy=95.3253173828125\n",
      "epoch 128, loss_generator = 9.404379392553258, loss_discriminator=0.16260871001415783, accuracy=94.4534912109375\n",
      "epoch 129, loss_generator = 1.9594016318519911, loss_discriminator=0.5821674628390207, accuracy=95.32583618164062\n",
      "epoch 130, loss_generator = 3.425077486038208, loss_discriminator=0.33208969423064477, accuracy=94.50910949707031\n",
      "epoch 131, loss_generator = 7.0299701037230315, loss_discriminator=0.21362561246863118, accuracy=94.5329818725586\n",
      "epoch 132, loss_generator = 8.651223447587755, loss_discriminator=0.17460098898521176, accuracy=93.3893051147461\n",
      "epoch 133, loss_generator = 8.790368489865903, loss_discriminator=0.1558868803359844, accuracy=92.50952911376953\n",
      "epoch 134, loss_generator = 8.832887834972805, loss_discriminator=0.1620336054927773, accuracy=92.75262451171875\n",
      "epoch 135, loss_generator = 7.4822748290167915, loss_discriminator=0.1943516568729171, accuracy=96.26185607910156\n",
      "epoch 136, loss_generator = 7.399269992333871, loss_discriminator=0.19444454317843474, accuracy=94.04525756835938\n",
      "epoch 137, loss_generator = 7.78814134950991, loss_discriminator=0.19736416254330563, accuracy=93.83851623535156\n",
      "epoch 138, loss_generator = 7.0984691143035885, loss_discriminator=0.18916818681690428, accuracy=94.77123260498047\n",
      "epoch 139, loss_generator = 6.7489882266079935, loss_discriminator=0.2079416341803692, accuracy=94.56573486328125\n",
      "epoch 140, loss_generator = 7.771922056763261, loss_discriminator=0.1844697517377359, accuracy=94.7576675415039\n",
      "epoch 141, loss_generator = 6.732505976712262, loss_discriminator=0.2147793429317298, accuracy=94.77766418457031\n",
      "epoch 142, loss_generator = 7.521306050265276, loss_discriminator=0.19258917227939323, accuracy=95.33509826660156\n",
      "epoch 143, loss_generator = 7.752137777540419, loss_discriminator=0.19403133971823586, accuracy=95.482177734375\n",
      "epoch 144, loss_generator = 7.221636846330431, loss_discriminator=0.19996236590323624, accuracy=95.37068939208984\n",
      "epoch 145, loss_generator = 8.45226122185036, loss_discriminator=0.1558765928502436, accuracy=94.79684448242188\n"
     ]
    },
    {
     "name": "stdout",
     "output_type": "stream",
     "text": [
      "epoch 146, loss_generator = 7.851804099259553, loss_discriminator=0.17953876668104418, accuracy=95.08613586425781\n",
      "epoch 147, loss_generator = 8.037119439796164, loss_discriminator=0.17710521579892546, accuracy=95.38240051269531\n",
      "epoch 148, loss_generator = 7.81248246828715, loss_discriminator=0.1693222697686266, accuracy=94.69292449951172\n",
      "epoch 149, loss_generator = 7.565987904866536, loss_discriminator=0.18877969649102952, accuracy=94.68534851074219\n",
      "epoch 150, loss_generator = 7.395334569613139, loss_discriminator=0.21325461869990384, accuracy=92.91785430908203\n",
      "epoch 151, loss_generator = 7.183264375616003, loss_discriminator=0.23139099953351197, accuracy=93.40728759765625\n",
      "epoch 152, loss_generator = 8.022812838024564, loss_discriminator=0.2196064107671932, accuracy=91.98424530029297\n",
      "epoch 153, loss_generator = 8.678346153541847, loss_discriminator=0.18483889356807426, accuracy=94.42632293701172\n",
      "epoch 154, loss_generator = 8.742971664004855, loss_discriminator=0.18824310104052225, accuracy=94.17863464355469\n",
      "epoch 155, loss_generator = 8.858673005633884, loss_discriminator=0.183495988006945, accuracy=95.1379623413086\n",
      "epoch 156, loss_generator = 8.292609442604913, loss_discriminator=0.20269555261841526, accuracy=93.86466979980469\n",
      "epoch 157, loss_generator = 9.388577206929524, loss_discriminator=0.1682773053922035, accuracy=94.56517028808594\n",
      "epoch 158, loss_generator = 9.786390281606604, loss_discriminator=0.16800223128111275, accuracy=95.01677703857422\n",
      "epoch 159, loss_generator = 9.880070704000968, loss_discriminator=0.17948853853676056, accuracy=95.61044311523438\n",
      "epoch 160, loss_generator = 12.217380806251809, loss_discriminator=0.11833498047457801, accuracy=95.45967864990234\n",
      "epoch 161, loss_generator = 11.080012565188937, loss_discriminator=0.12845471940106815, accuracy=96.31614685058594\n",
      "epoch 162, loss_generator = 11.606231187891078, loss_discriminator=0.11767596555528817, accuracy=96.6020736694336\n",
      "epoch 163, loss_generator = 10.806318556820905, loss_discriminator=0.1303609103102375, accuracy=96.69873046875\n",
      "epoch 164, loss_generator = 9.739218153776946, loss_discriminator=0.13406183551307077, accuracy=96.04048919677734\n",
      "epoch 165, loss_generator = 9.653484987329554, loss_discriminator=0.15151473863257303, accuracy=96.62440490722656\n",
      "epoch 166, loss_generator = 10.14999649612992, loss_discriminator=0.14772850032205934, accuracy=95.08773040771484\n",
      "epoch 167, loss_generator = 7.9546194513638815, loss_discriminator=0.2125905352610129, accuracy=95.48377990722656\n",
      "epoch 168, loss_generator = 8.902381699173539, loss_discriminator=0.15801199089597773, accuracy=96.81188201904297\n",
      "epoch 169, loss_generator = 8.912076233934473, loss_discriminator=0.17322014498489874, accuracy=96.18482208251953\n",
      "epoch 170, loss_generator = 9.123672273423937, loss_discriminator=0.16384738507094207, accuracy=95.73646545410156\n",
      "epoch 171, loss_generator = 10.534232104266131, loss_discriminator=0.14971834906825313, accuracy=97.00982666015625\n",
      "epoch 172, loss_generator = 9.778373220231797, loss_discriminator=0.16595441450675327, accuracy=95.99713134765625\n",
      "epoch 173, loss_generator = 9.5978793002941, loss_discriminator=0.172819461259577, accuracy=94.47150421142578\n",
      "epoch 174, loss_generator = 9.76197444068061, loss_discriminator=0.145306432771462, accuracy=96.33004760742188\n",
      "epoch 175, loss_generator = 10.632017428786666, loss_discriminator=0.12787307419434743, accuracy=95.16378784179688\n",
      "epoch 176, loss_generator = 10.118738234484637, loss_discriminator=0.13423526495419166, accuracy=95.15855407714844\n",
      "epoch 177, loss_generator = 10.73890951651114, loss_discriminator=0.1276175208941654, accuracy=94.8311538696289\n",
      "epoch 178, loss_generator = 10.127605886812564, loss_discriminator=0.1396524971557988, accuracy=95.38151550292969\n",
      "epoch 179, loss_generator = 9.405857068521005, loss_discriminator=0.15174863742733444, accuracy=96.09980773925781\n",
      "epoch 180, loss_generator = 9.686497661802504, loss_discriminator=0.15382189638912677, accuracy=95.63529205322266\n",
      "epoch 181, loss_generator = 8.7529348232128, loss_discriminator=0.16538289445969795, accuracy=96.30149841308594\n",
      "epoch 182, loss_generator = 9.11480391467059, loss_discriminator=0.1492414529952738, accuracy=96.41854858398438\n",
      "epoch 183, loss_generator = 9.56841787762112, loss_discriminator=0.13351517817764372, accuracy=97.05024719238281\n",
      "epoch 184, loss_generator = 9.902403697261104, loss_discriminator=0.12642422508862283, accuracy=97.16439819335938\n",
      "epoch 185, loss_generator = 9.069149282243517, loss_discriminator=0.14271366411337147, accuracy=95.69357299804688\n",
      "epoch 186, loss_generator = 8.866522142622205, loss_discriminator=0.15048661455512047, accuracy=96.6216049194336\n",
      "epoch 187, loss_generator = 6.441893884208468, loss_discriminator=0.4506823698679606, accuracy=96.76243591308594\n",
      "epoch 188, loss_generator = 1.640602629714542, loss_discriminator=0.4063601983918084, accuracy=95.69613647460938\n",
      "epoch 189, loss_generator = 2.0617981486850314, loss_discriminator=0.33525161974959905, accuracy=95.9388427734375\n",
      "epoch 190, loss_generator = 2.5305077535134775, loss_discriminator=0.3225674426114118, accuracy=96.50416564941406\n",
      "epoch 191, loss_generator = 2.6035976498215287, loss_discriminator=0.31166249612967173, accuracy=96.23956298828125\n",
      "epoch 192, loss_generator = 2.769890820538556, loss_discriminator=0.3079370286729601, accuracy=95.48038482666016\n",
      "epoch 193, loss_generator = 3.0800892459021676, loss_discriminator=0.28823607276987145, accuracy=95.81881713867188\n",
      "epoch 194, loss_generator = 3.7538886026099876, loss_discriminator=0.25693719000728044, accuracy=95.91796112060547\n",
      "epoch 195, loss_generator = 4.261702689418087, loss_discriminator=0.22867593246477622, accuracy=95.95948028564453\n",
      "epoch 196, loss_generator = 5.01208656805533, loss_discriminator=0.2013219008843104, accuracy=95.37464904785156\n",
      "epoch 197, loss_generator = 5.4473388433456424, loss_discriminator=0.17160045162395196, accuracy=92.61831665039062\n",
      "epoch 198, loss_generator = 5.945692203663014, loss_discriminator=0.15741754546761513, accuracy=94.80143737792969\n",
      "epoch 199, loss_generator = 5.859970131626835, loss_discriminator=0.14707418412522033, accuracy=94.44889068603516\n",
      "epoch 200, loss_generator = 6.107716791718095, loss_discriminator=0.1441969428901319, accuracy=94.89533996582031\n",
      "epoch 201, loss_generator = 6.76674256324768, loss_discriminator=0.13494969911321444, accuracy=93.9211196899414\n",
      "epoch 202, loss_generator = 6.9611156163392245, loss_discriminator=0.12682536255430293, accuracy=91.76317596435547\n",
      "epoch 203, loss_generator = 7.408694676999692, loss_discriminator=0.1281700144763346, accuracy=93.64502716064453\n",
      "epoch 204, loss_generator = 7.163218879699707, loss_discriminator=0.1152007858372397, accuracy=92.14073181152344\n",
      "epoch 205, loss_generator = 7.246433650122748, loss_discriminator=0.12635931883145263, accuracy=94.3111801147461\n",
      "epoch 206, loss_generator = 7.244169664382935, loss_discriminator=0.129446172327907, accuracy=93.96095275878906\n",
      "epoch 207, loss_generator = 7.402919970618354, loss_discriminator=0.12325161949351982, accuracy=94.92922973632812\n",
      "epoch 208, loss_generator = 6.572482684806541, loss_discriminator=0.12265302805850903, accuracy=92.90409088134766\n",
      "epoch 209, loss_generator = 6.552495924631755, loss_discriminator=0.14278846523827976, accuracy=93.94261932373047\n",
      "epoch 210, loss_generator = 7.260474056667752, loss_discriminator=0.1401897938715087, accuracy=90.46141815185547\n",
      "epoch 211, loss_generator = 6.248335580472593, loss_discriminator=0.1634793829034876, accuracy=72.97659301757812\n",
      "epoch 212, loss_generator = 6.64170074639497, loss_discriminator=0.1384330578148365, accuracy=94.81202697753906\n",
      "epoch 213, loss_generator = 5.402578855443884, loss_discriminator=0.1710270672760628, accuracy=94.70405578613281\n",
      "epoch 214, loss_generator = 6.038160009737368, loss_discriminator=0.16856505103685238, accuracy=93.29956817626953\n",
      "epoch 215, loss_generator = 6.178348898004603, loss_discriminator=0.16584192542014298, accuracy=94.16829681396484\n",
      "epoch 216, loss_generator = 6.140215414541739, loss_discriminator=0.17269136778734348, accuracy=75.15359497070312\n",
      "epoch 217, loss_generator = 6.302412252955967, loss_discriminator=0.172942271552704, accuracy=88.49223327636719\n",
      "epoch 218, loss_generator = 6.559830695611459, loss_discriminator=0.18714572450628988, accuracy=95.12065887451172\n"
     ]
    },
    {
     "name": "stdout",
     "output_type": "stream",
     "text": [
      "epoch 219, loss_generator = 7.530733823776245, loss_discriminator=0.15804001909715157, accuracy=92.86756896972656\n",
      "epoch 220, loss_generator = 7.414812480078803, loss_discriminator=0.14987978090842566, accuracy=93.14581298828125\n",
      "epoch 221, loss_generator = 6.3957648577513515, loss_discriminator=0.1645632272793187, accuracy=94.60643005371094\n",
      "epoch 222, loss_generator = 6.678474405076769, loss_discriminator=0.17970789753728442, accuracy=93.87796020507812\n",
      "epoch 223, loss_generator = 6.380609973271688, loss_discriminator=0.18072793274014085, accuracy=94.02961730957031\n",
      "epoch 224, loss_generator = 8.035922184696904, loss_discriminator=0.1486643754221775, accuracy=93.59909057617188\n",
      "epoch 225, loss_generator = 7.316086505960535, loss_discriminator=0.1384681878818406, accuracy=93.67743682861328\n",
      "epoch 226, loss_generator = 7.418386945018062, loss_discriminator=0.15381486846341028, accuracy=95.01079559326172\n",
      "epoch 227, loss_generator = 6.574147922021371, loss_discriminator=0.16811006985328816, accuracy=93.02208709716797\n",
      "epoch 228, loss_generator = 7.565094338523017, loss_discriminator=0.1542929025987784, accuracy=94.56273651123047\n",
      "epoch 229, loss_generator = 7.30264177498994, loss_discriminator=0.13934359627741355, accuracy=94.7682876586914\n",
      "epoch 230, loss_generator = 6.984014636498911, loss_discriminator=0.13692293149177676, accuracy=95.44284057617188\n",
      "epoch 231, loss_generator = 7.550827241826941, loss_discriminator=0.1232506474962941, accuracy=90.88433074951172\n",
      "epoch 232, loss_generator = 7.733388282634594, loss_discriminator=0.13224765628024385, accuracy=94.7757797241211\n",
      "epoch 233, loss_generator = 7.876010862986247, loss_discriminator=0.13959491691655582, accuracy=96.28819274902344\n",
      "epoch 234, loss_generator = 7.974814068829572, loss_discriminator=0.15848927259169243, accuracy=96.95246887207031\n",
      "epoch 235, loss_generator = 8.845225909904197, loss_discriminator=0.14419209079609976, accuracy=95.24101257324219\n",
      "epoch 236, loss_generator = 8.416052779444941, loss_discriminator=0.15028824201888508, accuracy=94.89137268066406\n",
      "epoch 237, loss_generator = 7.70056029425727, loss_discriminator=0.15161363093389404, accuracy=94.58937072753906\n",
      "epoch 238, loss_generator = 7.907444413503011, loss_discriminator=0.1570729764799277, accuracy=95.8653564453125\n",
      "epoch 239, loss_generator = 8.026519037176062, loss_discriminator=0.17206508302026324, accuracy=94.6485824584961\n",
      "epoch 240, loss_generator = 7.577686943831267, loss_discriminator=0.14207354582570217, accuracy=94.04206848144531\n",
      "epoch 241, loss_generator = 8.213068683059127, loss_discriminator=0.13962933076200662, accuracy=96.30632019042969\n",
      "epoch 242, loss_generator = 7.385434016474971, loss_discriminator=0.13644667143623035, accuracy=94.95159912109375\n",
      "epoch 243, loss_generator = 7.0104111547823305, loss_discriminator=0.15821850894501915, accuracy=95.14065551757812\n",
      "epoch 244, loss_generator = 8.156081250861838, loss_discriminator=0.15805250966438542, accuracy=95.94567108154297\n",
      "epoch 245, loss_generator = 8.495701991187202, loss_discriminator=0.1519568125406901, accuracy=94.39279174804688\n",
      "epoch 246, loss_generator = 8.378914449833058, loss_discriminator=0.1533487390036936, accuracy=93.00301361083984\n",
      "epoch 247, loss_generator = 7.747449394508644, loss_discriminator=0.15269550206484617, accuracy=94.94013977050781\n",
      "epoch 248, loss_generator = 7.189367815300271, loss_discriminator=0.16670154517999403, accuracy=95.30343627929688\n",
      "epoch 249, loss_generator = 7.185850729765716, loss_discriminator=0.18134072456094955, accuracy=95.87613677978516\n",
      "epoch 250, loss_generator = 6.794893744256761, loss_discriminator=0.21251230965609905, accuracy=94.55464172363281\n",
      "epoch 251, loss_generator = 8.211070083688806, loss_discriminator=0.1856781503116643, accuracy=94.54585266113281\n",
      "epoch 252, loss_generator = 8.061344752488314, loss_discriminator=0.17385014201755877, accuracy=94.40387725830078\n",
      "epoch 253, loss_generator = 8.430830812454223, loss_discriminator=0.16558496642995763, accuracy=94.83741760253906\n",
      "epoch 254, loss_generator = 8.541216165048105, loss_discriminator=0.15148454700355177, accuracy=95.16605377197266\n",
      "epoch 255, loss_generator = 7.712757788764106, loss_discriminator=0.16967458173080727, accuracy=94.27984619140625\n",
      "epoch 256, loss_generator = 7.420983601499487, loss_discriminator=0.1844439247140178, accuracy=93.18507385253906\n",
      "epoch 257, loss_generator = 5.870413410222089, loss_discriminator=0.2524483581935918, accuracy=95.96749877929688\n",
      "epoch 258, loss_generator = 6.280264442938345, loss_discriminator=0.2170386987151923, accuracy=95.34211730957031\n",
      "epoch 259, loss_generator = 7.483068478548968, loss_discriminator=0.20748542817654433, accuracy=95.67887878417969\n",
      "epoch 260, loss_generator = 7.314384371263009, loss_discriminator=0.21371421604244797, accuracy=95.00749969482422\n",
      "epoch 261, loss_generator = 8.550655202512388, loss_discriminator=0.17601876142952178, accuracy=93.3150863647461\n",
      "epoch 262, loss_generator = 9.200256305270726, loss_discriminator=0.140323574302925, accuracy=93.52265930175781\n",
      "epoch 263, loss_generator = 7.96709513840852, loss_discriminator=0.16447041092647446, accuracy=94.61275482177734\n",
      "epoch 264, loss_generator = 9.627749089841489, loss_discriminator=0.16639094203710555, accuracy=95.36398315429688\n",
      "epoch 265, loss_generator = 7.315072804910165, loss_discriminator=0.19916199467800283, accuracy=94.67967987060547\n",
      "epoch 266, loss_generator = 7.94048747309932, loss_discriminator=0.18615828818745084, accuracy=91.9061279296875\n",
      "epoch 267, loss_generator = 9.264468383789062, loss_discriminator=0.15755140039104001, accuracy=94.17051696777344\n",
      "epoch 268, loss_generator = 8.491867333871348, loss_discriminator=0.15036398205492232, accuracy=94.68241882324219\n",
      "epoch 269, loss_generator = 10.109561722366898, loss_discriminator=0.12697105358044306, accuracy=93.3221664428711\n",
      "epoch 270, loss_generator = 8.870527800807247, loss_discriminator=0.14012370395163695, accuracy=95.30378723144531\n",
      "epoch 271, loss_generator = 9.055855295393203, loss_discriminator=0.1416550030586896, accuracy=95.089599609375\n",
      "epoch 272, loss_generator = 5.837326515162433, loss_discriminator=0.19813768137936238, accuracy=93.19956970214844\n",
      "epoch 273, loss_generator = 4.930735240159211, loss_discriminator=0.18130912874583846, accuracy=95.08287048339844\n",
      "epoch 274, loss_generator = 7.121557362874349, loss_discriminator=0.15979295348127684, accuracy=94.81610107421875\n",
      "epoch 275, loss_generator = 7.610139777925279, loss_discriminator=0.1535155570341481, accuracy=94.38270568847656\n",
      "epoch 276, loss_generator = 8.965223937564426, loss_discriminator=0.14336644460757572, accuracy=95.10447692871094\n",
      "epoch 277, loss_generator = 8.220747555626764, loss_discriminator=0.14290488751398192, accuracy=95.09390258789062\n",
      "epoch 278, loss_generator = 7.798934955950137, loss_discriminator=0.1460864306875953, accuracy=94.6407470703125\n",
      "epoch 279, loss_generator = 8.376920940257884, loss_discriminator=0.14222217284970814, accuracy=95.33536529541016\n",
      "epoch 280, loss_generator = 7.43974578998707, loss_discriminator=0.1537956001030074, accuracy=94.3436508178711\n",
      "epoch 281, loss_generator = 7.947985272937351, loss_discriminator=0.14983862632954562, accuracy=94.14142608642578\n",
      "epoch 282, loss_generator = 8.30206796504833, loss_discriminator=0.13996608497367966, accuracy=94.07029724121094\n",
      "epoch 283, loss_generator = 9.70022931628757, loss_discriminator=0.12191363021179481, accuracy=93.55979919433594\n",
      "epoch 284, loss_generator = 7.809215556250678, loss_discriminator=0.13468456834002776, accuracy=93.5487060546875\n",
      "epoch 285, loss_generator = 7.957136971862228, loss_discriminator=0.1318398827203998, accuracy=94.17381286621094\n",
      "epoch 286, loss_generator = 8.27456794668127, loss_discriminator=0.11775791773365604, accuracy=96.33971405029297\n",
      "epoch 287, loss_generator = 8.541919872495864, loss_discriminator=0.12375469631342977, accuracy=94.99503326416016\n",
      "epoch 288, loss_generator = 8.137138476195158, loss_discriminator=0.1520198709434933, accuracy=95.18876647949219\n",
      "epoch 289, loss_generator = 9.113234244452583, loss_discriminator=0.13746187731071755, accuracy=91.8056640625\n",
      "epoch 290, loss_generator = 8.008554861280654, loss_discriminator=0.1543749283309336, accuracy=94.7567367553711\n",
      "epoch 291, loss_generator = 9.179205721395988, loss_discriminator=0.1326271844337936, accuracy=92.39909362792969\n"
     ]
    },
    {
     "name": "stdout",
     "output_type": "stream",
     "text": [
      "epoch 292, loss_generator = 8.385399119059246, loss_discriminator=0.15488885745958045, accuracy=95.26023864746094\n",
      "epoch 293, loss_generator = 7.334863016340468, loss_discriminator=0.17586235351584575, accuracy=94.37297058105469\n",
      "epoch 294, loss_generator = 8.100342427359687, loss_discriminator=0.15121987721434346, accuracy=93.18524932861328\n",
      "epoch 295, loss_generator = 8.103295658252858, loss_discriminator=0.14841014317892215, accuracy=94.19408416748047\n",
      "epoch 296, loss_generator = 8.395694916336625, loss_discriminator=0.1453210491825033, accuracy=93.83897399902344\n",
      "epoch 297, loss_generator = 7.930551560719808, loss_discriminator=0.1650936772150022, accuracy=92.11573791503906\n",
      "epoch 298, loss_generator = 7.828068664338853, loss_discriminator=0.14656370505690575, accuracy=95.19392395019531\n",
      "epoch 299, loss_generator = 7.308435155727246, loss_discriminator=0.13965974138290793, accuracy=94.56048583984375\n",
      "epoch 300, loss_generator = 7.846795571291888, loss_discriminator=0.13990045963890022, accuracy=94.8030014038086\n",
      "epoch 301, loss_generator = 8.640759598767316, loss_discriminator=0.14127174119154612, accuracy=93.71426391601562\n",
      "epoch 302, loss_generator = 7.156493111009951, loss_discriminator=0.17356025135075603, accuracy=93.98819732666016\n",
      "epoch 303, loss_generator = 8.731712853467023, loss_discriminator=0.14744847433434594, accuracy=94.14582824707031\n",
      "epoch 304, loss_generator = 8.559449005126954, loss_discriminator=0.1416383438088276, accuracy=93.49476623535156\n",
      "epoch 305, loss_generator = 8.46686017424972, loss_discriminator=0.1353608271865933, accuracy=93.35478210449219\n",
      "epoch 306, loss_generator = 8.515611231768572, loss_discriminator=0.1398292720593788, accuracy=92.71146392822266\n",
      "epoch 307, loss_generator = 9.163768139591923, loss_discriminator=0.1368448464958756, accuracy=94.4743881225586\n",
      "epoch 308, loss_generator = 8.490840014704952, loss_discriminator=0.14499402614655318, accuracy=94.74455261230469\n",
      "epoch 309, loss_generator = 8.387503998367874, loss_discriminator=0.16541107865395369, accuracy=92.71070098876953\n",
      "epoch 310, loss_generator = 9.841860239594071, loss_discriminator=0.13316348057102273, accuracy=95.1899642944336\n",
      "epoch 311, loss_generator = 8.537548176447551, loss_discriminator=0.13612634249859387, accuracy=94.76036071777344\n",
      "epoch 312, loss_generator = 8.850041944009286, loss_discriminator=0.14882816404656127, accuracy=94.87937927246094\n",
      "epoch 313, loss_generator = 9.479527593542029, loss_discriminator=0.1500572588432718, accuracy=94.12123107910156\n",
      "epoch 314, loss_generator = 8.856322002410888, loss_discriminator=0.16590485639042324, accuracy=93.09292602539062\n",
      "epoch 315, loss_generator = 6.488409485640349, loss_discriminator=0.20320149312416713, accuracy=94.01870727539062\n",
      "epoch 316, loss_generator = 9.048408271648265, loss_discriminator=0.17415891847124806, accuracy=92.67857360839844\n",
      "epoch 317, loss_generator = 9.269619035720826, loss_discriminator=0.171278734781124, accuracy=94.23348999023438\n",
      "epoch 318, loss_generator = 9.798330257557057, loss_discriminator=0.14372673823877616, accuracy=93.97959899902344\n",
      "epoch 319, loss_generator = 10.282094824755633, loss_discriminator=0.13662031433648533, accuracy=92.2322006225586\n",
      "epoch 320, loss_generator = 9.513963060025816, loss_discriminator=0.15532988969374587, accuracy=93.45040893554688\n",
      "epoch 321, loss_generator = 9.71691648695204, loss_discriminator=0.1490065018887873, accuracy=94.890869140625\n",
      "epoch 322, loss_generator = 9.457060457158972, loss_discriminator=0.16020992630057865, accuracy=94.14981842041016\n",
      "epoch 323, loss_generator = 9.658486134917649, loss_discriminator=0.16329322898829424, accuracy=94.76106262207031\n",
      "epoch 324, loss_generator = 10.322992342489737, loss_discriminator=0.14896910190582274, accuracy=93.40076446533203\n",
      "epoch 325, loss_generator = 10.03797154603181, loss_discriminator=0.16211991983431356, accuracy=94.02953338623047\n",
      "epoch 326, loss_generator = 9.87174761030409, loss_discriminator=0.1634770241048601, accuracy=95.09955596923828\n",
      "epoch 327, loss_generator = 8.613829388441863, loss_discriminator=0.18577809595951328, accuracy=94.90570068359375\n",
      "epoch 328, loss_generator = 11.154740058051216, loss_discriminator=0.15651596919805916, accuracy=94.29156494140625\n",
      "epoch 329, loss_generator = 11.674043641267, loss_discriminator=0.16283111158344482, accuracy=95.33063507080078\n",
      "epoch 330, loss_generator = 9.786482295283564, loss_discriminator=0.16604314198096592, accuracy=95.97528076171875\n",
      "epoch 331, loss_generator = 9.677852780730635, loss_discriminator=0.15667104726588285, accuracy=93.9278564453125\n",
      "epoch 332, loss_generator = 11.223784577405011, loss_discriminator=0.16729893758893014, accuracy=94.77655029296875\n",
      "epoch 333, loss_generator = 10.639880074395073, loss_discriminator=0.18354256401459376, accuracy=95.52792358398438\n",
      "epoch 334, loss_generator = 10.416722859276666, loss_discriminator=0.19180296378003225, accuracy=96.0709228515625\n",
      "epoch 335, loss_generator = 11.166425629015322, loss_discriminator=0.18419663373518874, accuracy=95.64876556396484\n",
      "epoch 336, loss_generator = 11.31743849604218, loss_discriminator=0.1927270256810718, accuracy=94.51599884033203\n",
      "epoch 337, loss_generator = 6.017562178329185, loss_discriminator=0.27209792926355647, accuracy=95.13839721679688\n",
      "epoch 338, loss_generator = 10.583396759739628, loss_discriminator=0.19802932587486727, accuracy=95.20894622802734\n",
      "epoch 339, loss_generator = 11.459692474647804, loss_discriminator=0.17823424813924013, accuracy=94.82368469238281\n",
      "epoch 340, loss_generator = 11.535946097197357, loss_discriminator=0.18366338903153384, accuracy=93.76123809814453\n",
      "epoch 341, loss_generator = 11.568578153186374, loss_discriminator=0.192619884621214, accuracy=96.33740997314453\n",
      "epoch 342, loss_generator = 11.657565159267849, loss_discriminator=0.19091891822991547, accuracy=94.94949340820312\n",
      "epoch 343, loss_generator = 13.640100945366754, loss_discriminator=0.1640374695537267, accuracy=95.82413482666016\n",
      "epoch 344, loss_generator = 13.534475559658475, loss_discriminator=0.16517746396086835, accuracy=95.2464599609375\n",
      "epoch 345, loss_generator = 14.058134382742423, loss_discriminator=0.1603344085867758, accuracy=95.26065826416016\n",
      "epoch 346, loss_generator = 11.889129311950118, loss_discriminator=0.1871925903139291, accuracy=93.60587310791016\n",
      "epoch 347, loss_generator = 12.820475490004927, loss_discriminator=0.20354800014584154, accuracy=95.11610412597656\n",
      "epoch 348, loss_generator = 12.7605580718429, loss_discriminator=0.20352556813094352, accuracy=94.9237060546875\n",
      "epoch 349, loss_generator = 16.05148027561329, loss_discriminator=0.1621292480164104, accuracy=94.93125915527344\n",
      "epoch 350, loss_generator = 16.207989795119673, loss_discriminator=0.17541480961221237, accuracy=94.63093566894531\n",
      "epoch 351, loss_generator = 12.582100629806519, loss_discriminator=0.22330227196216584, accuracy=94.28327941894531\n",
      "epoch 352, loss_generator = 1.8165660310674596, loss_discriminator=0.6246876681292498, accuracy=94.97940063476562\n",
      "epoch 353, loss_generator = 5.408481606730708, loss_discriminator=0.30001427316003376, accuracy=95.6462173461914\n",
      "epoch 354, loss_generator = 8.5637675108733, loss_discriminator=0.2330624705111539, accuracy=94.9946517944336\n",
      "epoch 355, loss_generator = 9.149180147382948, loss_discriminator=0.22261269881769463, accuracy=96.18953704833984\n",
      "epoch 356, loss_generator = 10.471652394753916, loss_discriminator=0.20732183042499755, accuracy=94.68801879882812\n",
      "epoch 357, loss_generator = 11.696008756425645, loss_discriminator=0.19885917134858944, accuracy=95.68765258789062\n",
      "epoch 358, loss_generator = 12.648119121127658, loss_discriminator=0.18351898414117318, accuracy=94.68323516845703\n",
      "epoch 359, loss_generator = 13.879350736406113, loss_discriminator=0.17410409301519394, accuracy=95.73825073242188\n",
      "epoch 360, loss_generator = 12.96974355203134, loss_discriminator=0.17490129285940417, accuracy=96.04060363769531\n",
      "epoch 361, loss_generator = 14.445324078312627, loss_discriminator=0.15816407452027004, accuracy=94.9773941040039\n",
      "epoch 362, loss_generator = 13.475506280969691, loss_discriminator=0.16509492640142087, accuracy=95.43997192382812\n",
      "epoch 363, loss_generator = 16.652932880542895, loss_discriminator=0.13695897495856993, accuracy=95.2464370727539\n"
     ]
    },
    {
     "name": "stdout",
     "output_type": "stream",
     "text": [
      "epoch 364, loss_generator = 14.337829317869964, loss_discriminator=0.15891700055864122, accuracy=95.5938491821289\n",
      "epoch 365, loss_generator = 13.96676394144694, loss_discriminator=0.14784689934717285, accuracy=96.13935089111328\n",
      "epoch 366, loss_generator = 13.275328841032806, loss_discriminator=0.16180610484271138, accuracy=96.47013854980469\n",
      "epoch 367, loss_generator = 13.179203019318757, loss_discriminator=0.16066974445625587, accuracy=94.73283386230469\n",
      "epoch 368, loss_generator = 13.409871871383102, loss_discriminator=0.16526424010042792, accuracy=96.20530700683594\n",
      "epoch 369, loss_generator = 14.970725765934697, loss_discriminator=0.1363645130837405, accuracy=96.25362396240234\n",
      "epoch 370, loss_generator = 15.001126557809336, loss_discriminator=0.12872189987036917, accuracy=95.034912109375\n",
      "epoch 371, loss_generator = 14.57660267441361, loss_discriminator=0.11968365623443215, accuracy=95.61672973632812\n",
      "epoch 372, loss_generator = 14.928161818892868, loss_discriminator=0.12093866301907433, accuracy=95.9022216796875\n",
      "epoch 373, loss_generator = 15.507884852091472, loss_discriminator=0.11657164984003261, accuracy=96.19050598144531\n",
      "epoch 374, loss_generator = 13.514784039391412, loss_discriminator=0.11480331053888357, accuracy=95.8851547241211\n",
      "epoch 375, loss_generator = 13.998600468812166, loss_discriminator=0.11254850688079993, accuracy=95.86582946777344\n",
      "epoch 376, loss_generator = 15.338113933139377, loss_discriminator=0.10148640942794306, accuracy=94.87861633300781\n",
      "epoch 377, loss_generator = 13.886759387122261, loss_discriminator=0.11429944937979733, accuracy=95.47062683105469\n",
      "epoch 378, loss_generator = 12.88526059963085, loss_discriminator=0.12597434475190109, accuracy=96.41144561767578\n",
      "epoch 379, loss_generator = 12.624241853643346, loss_discriminator=0.12144165301212557, accuracy=95.95729064941406\n",
      "epoch 380, loss_generator = 11.799795359152334, loss_discriminator=0.13543521919184262, accuracy=95.394775390625\n",
      "epoch 381, loss_generator = 11.796365660208243, loss_discriminator=0.1335292552218393, accuracy=96.2574691772461\n",
      "epoch 382, loss_generator = 12.417365709940592, loss_discriminator=0.13344440451926656, accuracy=96.59515380859375\n",
      "epoch 383, loss_generator = 12.147337277730307, loss_discriminator=0.13954565155285376, accuracy=96.2499771118164\n",
      "epoch 384, loss_generator = 13.995672547375714, loss_discriminator=0.11121707550353474, accuracy=95.75363159179688\n",
      "epoch 385, loss_generator = 11.89939017119231, loss_discriminator=0.1235148326114372, accuracy=97.14945220947266\n",
      "epoch 386, loss_generator = 10.516282551376907, loss_discriminator=0.13602271245585548, accuracy=96.71051788330078\n",
      "epoch 387, loss_generator = 11.441002402482209, loss_discriminator=0.12995890795632645, accuracy=95.64152526855469\n",
      "epoch 388, loss_generator = 11.783314990997315, loss_discriminator=0.13632314787418753, accuracy=96.71350860595703\n",
      "epoch 389, loss_generator = 11.87194757461548, loss_discriminator=0.1276409485273891, accuracy=95.47015380859375\n",
      "epoch 390, loss_generator = 12.254806960070574, loss_discriminator=0.1319037809278126, accuracy=95.54093170166016\n",
      "epoch 391, loss_generator = 12.974512640635172, loss_discriminator=0.12706983628924245, accuracy=97.13276672363281\n",
      "epoch 392, loss_generator = 10.769040715252912, loss_discriminator=0.14312925421529346, accuracy=96.32294464111328\n",
      "epoch 393, loss_generator = 10.918927083192049, loss_discriminator=0.13198796507936936, accuracy=97.1064453125\n",
      "epoch 394, loss_generator = 11.55572293246234, loss_discriminator=0.14846928017558875, accuracy=95.8212890625\n",
      "epoch 395, loss_generator = 11.483688831329346, loss_discriminator=0.15983861160499077, accuracy=95.89826202392578\n",
      "epoch 396, loss_generator = 15.081882473274513, loss_discriminator=0.12524600854074514, accuracy=96.378173828125\n",
      "epoch 397, loss_generator = 11.25788794623481, loss_discriminator=0.15568634662087316, accuracy=95.70056915283203\n",
      "epoch 398, loss_generator = 11.74733304977417, loss_discriminator=0.1491426839320748, accuracy=95.82955932617188\n",
      "epoch 399, loss_generator = 10.72853879928589, loss_discriminator=0.1657194899464095, accuracy=96.12704467773438\n",
      "epoch 400, loss_generator = 13.15821765617088, loss_discriminator=0.14488616701629425, accuracy=96.24512481689453\n",
      "epoch 401, loss_generator = 14.485148507577401, loss_discriminator=0.12428795230333452, accuracy=96.11073303222656\n",
      "epoch 402, loss_generator = 13.495527655990035, loss_discriminator=0.12339550245691229, accuracy=96.810546875\n",
      "epoch 403, loss_generator = 13.36714042381004, loss_discriminator=0.12016325141820643, accuracy=95.7618408203125\n",
      "epoch 404, loss_generator = 11.892434176692257, loss_discriminator=0.13921250187688403, accuracy=97.16583251953125\n",
      "epoch 405, loss_generator = 13.65418169233534, loss_discriminator=0.10934081107929901, accuracy=96.46814727783203\n",
      "epoch 406, loss_generator = 12.450592214089852, loss_discriminator=0.10986142409620461, accuracy=96.62212371826172\n",
      "epoch 407, loss_generator = 12.721339317604347, loss_discriminator=0.1094081639415688, accuracy=96.0920181274414\n",
      "epoch 408, loss_generator = 12.209031772613525, loss_discriminator=0.10849290628124167, accuracy=96.23775482177734\n",
      "epoch 409, loss_generator = 12.50645534020883, loss_discriminator=0.09737178971646009, accuracy=96.23471069335938\n",
      "epoch 410, loss_generator = 12.19499959592466, loss_discriminator=0.1093795258551836, accuracy=97.17610168457031\n",
      "epoch 411, loss_generator = 14.315215577019586, loss_discriminator=0.09757601971979495, accuracy=96.43258666992188\n",
      "epoch 412, loss_generator = 12.259169935297082, loss_discriminator=0.08926279620715866, accuracy=97.25690460205078\n",
      "epoch 413, loss_generator = 12.456725410178855, loss_discriminator=0.09347267719330611, accuracy=96.39059448242188\n",
      "epoch 414, loss_generator = 12.166135349980108, loss_discriminator=0.08476737354088712, accuracy=96.75149536132812\n",
      "epoch 415, loss_generator = 10.345053799947102, loss_discriminator=0.08799597434699535, accuracy=95.91967010498047\n",
      "epoch 416, loss_generator = 10.246588975411875, loss_discriminator=0.09255077438773933, accuracy=97.20438385009766\n",
      "epoch 417, loss_generator = 10.561509086467602, loss_discriminator=0.08939268718715067, accuracy=96.66439819335938\n",
      "epoch 418, loss_generator = 10.805800497973406, loss_discriminator=0.09398343841786738, accuracy=96.75873565673828\n",
      "epoch 419, loss_generator = 9.095091952217949, loss_discriminator=0.10131709048593486, accuracy=95.87114715576172\n",
      "epoch 420, loss_generator = 10.049164206893355, loss_discriminator=0.10610545185153131, accuracy=95.82950592041016\n",
      "epoch 421, loss_generator = 11.332076436501962, loss_discriminator=0.09342819537829469, accuracy=96.0008316040039\n",
      "epoch 422, loss_generator = 11.72525279433639, loss_discriminator=0.07864015901944152, accuracy=95.62948608398438\n",
      "epoch 423, loss_generator = 10.404781853711164, loss_discriminator=0.07393311888531402, accuracy=95.25654602050781\n",
      "epoch 424, loss_generator = 9.713429108372441, loss_discriminator=0.07630198423026337, accuracy=95.5407943725586\n",
      "epoch 425, loss_generator = 9.821238351751257, loss_discriminator=0.08221289543952379, accuracy=95.05409240722656\n",
      "epoch 426, loss_generator = 9.064047212953922, loss_discriminator=0.0810910703200433, accuracy=96.32391357421875\n",
      "epoch 427, loss_generator = 9.231933268794307, loss_discriminator=0.09100220259968882, accuracy=96.47509765625\n",
      "epoch 428, loss_generator = 8.991849048049362, loss_discriminator=0.08433043653904287, accuracy=96.72195434570312\n",
      "epoch 429, loss_generator = 8.329735925462511, loss_discriminator=0.08126918431716385, accuracy=96.56846618652344\n",
      "epoch 430, loss_generator = 8.732350527798689, loss_discriminator=0.11077650403948845, accuracy=96.54327392578125\n",
      "epoch 431, loss_generator = 8.207335502130015, loss_discriminator=0.11611758425003953, accuracy=96.72345733642578\n",
      "epoch 432, loss_generator = 8.470511750821714, loss_discriminator=0.11458271630108356, accuracy=96.59849548339844\n",
      "epoch 433, loss_generator = 9.404518692581743, loss_discriminator=0.10621802311528612, accuracy=96.65312957763672\n",
      "epoch 434, loss_generator = 8.632697886007804, loss_discriminator=0.11494878363554124, accuracy=96.7145767211914\n",
      "epoch 435, loss_generator = 9.05750480581213, loss_discriminator=0.12631638975882972, accuracy=96.65581512451172\n"
     ]
    },
    {
     "name": "stdout",
     "output_type": "stream",
     "text": [
      "epoch 436, loss_generator = 9.234907174993443, loss_discriminator=0.11981539982888434, accuracy=95.6423110961914\n",
      "epoch 437, loss_generator = 9.45547728008694, loss_discriminator=0.1084246199440073, accuracy=96.67656707763672\n",
      "epoch 438, loss_generator = 10.605786644970928, loss_discriminator=0.10255656856353636, accuracy=96.56919860839844\n",
      "epoch 439, loss_generator = 10.430407467594852, loss_discriminator=0.09958719935406138, accuracy=96.66259002685547\n",
      "epoch 440, loss_generator = 8.49193620858369, loss_discriminator=0.10700371011539742, accuracy=97.63046264648438\n",
      "epoch 441, loss_generator = 8.707506003203216, loss_discriminator=0.09962157871988085, accuracy=96.463134765625\n",
      "epoch 442, loss_generator = 8.22848542884544, loss_discriminator=0.09357521358739447, accuracy=96.66783905029297\n",
      "epoch 443, loss_generator = 8.06623924749869, loss_discriminator=0.09965895658565892, accuracy=95.5280990600586\n",
      "epoch 444, loss_generator = 8.720835777565284, loss_discriminator=0.10143446060656397, accuracy=96.80402374267578\n",
      "epoch 445, loss_generator = 9.26607496296918, loss_discriminator=0.09536481177503311, accuracy=95.65274810791016\n",
      "epoch 446, loss_generator = 8.831186072031658, loss_discriminator=0.08059510329255351, accuracy=97.14743041992188\n",
      "epoch 447, loss_generator = 8.302925233487729, loss_discriminator=0.07906765890894113, accuracy=97.15553283691406\n",
      "epoch 448, loss_generator = 7.351055060492621, loss_discriminator=0.0912532354739529, accuracy=96.93804931640625\n",
      "epoch 449, loss_generator = 7.571500262507686, loss_discriminator=0.0733762727153522, accuracy=97.4209976196289\n",
      "epoch 450, loss_generator = 8.232349621808087, loss_discriminator=0.07115782224055793, accuracy=96.664794921875\n",
      "epoch 451, loss_generator = 7.89321002430386, loss_discriminator=0.07739289608542566, accuracy=97.15860748291016\n",
      "epoch 452, loss_generator = 7.676506793057477, loss_discriminator=0.08204296540330958, accuracy=97.41244506835938\n",
      "epoch 453, loss_generator = 7.24060208355939, loss_discriminator=0.08605912666491888, accuracy=96.89875793457031\n",
      "epoch 454, loss_generator = 7.181978578920718, loss_discriminator=0.0832837748237782, accuracy=96.98011016845703\n",
      "epoch 455, loss_generator = 7.378570055078577, loss_discriminator=0.07867942597992994, accuracy=97.68498229980469\n",
      "epoch 456, loss_generator = 7.132302446718569, loss_discriminator=0.0719336797448772, accuracy=97.19715881347656\n",
      "epoch 457, loss_generator = 6.872718079884847, loss_discriminator=0.07589828855340817, accuracy=96.20040893554688\n",
      "epoch 458, loss_generator = 7.2190486166212295, loss_discriminator=0.07028240280363847, accuracy=97.955810546875\n",
      "epoch 459, loss_generator = 7.206185837145205, loss_discriminator=0.07257438414833611, accuracy=96.6709976196289\n",
      "epoch 460, loss_generator = 6.5808637901588725, loss_discriminator=0.07250777750655457, accuracy=97.5972900390625\n",
      "epoch 461, loss_generator = 7.257132754502473, loss_discriminator=0.07622050230080883, accuracy=97.06265258789062\n",
      "epoch 462, loss_generator = 7.371435115955494, loss_discriminator=0.06951218930038588, accuracy=97.70030975341797\n",
      "epoch 463, loss_generator = 7.22562922724971, loss_discriminator=0.0683253218350863, accuracy=97.66573333740234\n",
      "epoch 464, loss_generator = 6.889823698114466, loss_discriminator=0.06356216711509559, accuracy=97.81315612792969\n",
      "epoch 465, loss_generator = 6.860033349637632, loss_discriminator=0.058198691016339045, accuracy=97.22891235351562\n",
      "epoch 466, loss_generator = 6.594887260154442, loss_discriminator=0.056943534202528776, accuracy=97.06239318847656\n",
      "epoch 467, loss_generator = 6.656566434436375, loss_discriminator=0.05548320973498954, accuracy=97.46192932128906\n",
      "epoch 468, loss_generator = 5.94052049142343, loss_discriminator=0.05712720895772455, accuracy=97.1368637084961\n",
      "epoch 469, loss_generator = 5.947152160715174, loss_discriminator=0.0660790933503045, accuracy=98.07032012939453\n"
     ]
    }
   ],
   "source": [
    "number_epoch    = 2000\n",
    "accuracy_epoch  = np.zeros(number_epoch)\n",
    "loss_generator = np.zeros(number_epoch)\n",
    "loss_discriminator = np.zeros(number_epoch)\n",
    "\n",
    "num_latent_test = 100\n",
    "latent_test = torch.randn(num_latent_test, dim_latent, device=device)\n",
    "latent_test = torch.reshape(latent_test, [num_latent_test, dim_latent, 1, 1])\n",
    "\n",
    "for i in range(number_epoch):\n",
    "    loss_generator_epoch, loss_discriminator_epoch = train(generator, discriminator, dataloader_real)\n",
    "    accuracy = test(generator, latent_test)\n",
    "    accuracy_epoch[i] = accuracy\n",
    "    \n",
    "    loss_generator[i] = loss_generator_epoch\n",
    "    loss_discriminator[i] = loss_discriminator_epoch\n",
    "    print(f'epoch {i}, loss_generator = {loss_generator_epoch}, loss_discriminator={loss_discriminator_epoch}, accuracy={accuracy}')\n",
    "    \n",
    "    # if accuracy>98 stop\n",
    "    if i>10 and accuracy>98:\n",
    "        accuracy_epoch = accuracy_epoch[:i+1]\n",
    "        break"
   ]
  },
  {
   "cell_type": "markdown",
   "metadata": {},
   "source": [
    "---"
   ]
  },
  {
   "cell_type": "markdown",
   "metadata": {},
   "source": [
    "# functions for presenting the results"
   ]
  },
  {
   "cell_type": "markdown",
   "metadata": {},
   "source": [
    "---"
   ]
  },
  {
   "cell_type": "code",
   "execution_count": 21,
   "metadata": {},
   "outputs": [],
   "source": [
    "def function_result_01():\n",
    "\n",
    "    num_latent_visualize = 16\n",
    "\n",
    "    latent_visualize = torch.randn(num_latent_visualize, dim_latent, device=device)\n",
    "    latent_visualize = torch.reshape(latent_visualize, [num_latent_visualize, dim_latent, 1, 1]) \n",
    "\n",
    "    prediction = compute_prediction(generator, latent_visualize)\n",
    "    prediction = prediction.squeeze(axis=1)\n",
    "    prediction_binary = (prediction >= 0.5)\n",
    "    bounding_mask = compute_bounding_mask(prediction_binary)\n",
    "        \n",
    "    fake = prediction.detach().cpu()\n",
    "    mask = bounding_mask.detach().cpu()\n",
    "\n",
    "    nRow = 4\n",
    "    nCol = 4 \n",
    "    size = 3 \n",
    "    \n",
    "    title = 'fake image'\n",
    "    fig, axes = plt.subplots(nRow, nCol, figsize=(size * nCol, size * nRow))\n",
    "    fig.suptitle(title, fontsize=16)\n",
    "\n",
    "    for r in range(nRow): \n",
    "        for c in range(nCol):\n",
    "            k = c + r * nCol\n",
    "            axes[r, c].imshow(fake[k], cmap='gray', vmin=0, vmax=1)\n",
    "            axes[r, c].xaxis.set_visible(False)\n",
    "            axes[r, c].yaxis.set_visible(False)\n",
    "\n",
    "    plt.tight_layout()\n",
    "    plt.show()\n",
    "    \n",
    "    title = 'bounding mask'\n",
    "    fig, axes = plt.subplots(nRow, nCol, figsize=(size * nCol, size * nRow))\n",
    "    fig.suptitle(title, fontsize=16)\n",
    "\n",
    "    for r in range(nRow): \n",
    "        for c in range(nCol):\n",
    "            k = c + r * nCol\n",
    "            axes[r, c].imshow(mask[k], cmap='gray', vmin=0, vmax=1)\n",
    "            axes[r, c].xaxis.set_visible(False)\n",
    "            axes[r, c].yaxis.set_visible(False)\n",
    "                        \n",
    "    plt.tight_layout()\n",
    "    plt.show()"
   ]
  },
  {
   "cell_type": "code",
   "execution_count": 22,
   "metadata": {},
   "outputs": [],
   "source": [
    "def function_result_02():\n",
    "\n",
    "    title           = 'accuracy'\n",
    "    label_axis_x    = 'epoch' \n",
    "    label_axis_y    = 'accuracy'\n",
    "    \n",
    "    plt.figure(figsize=(8, 6))\n",
    "    plt.title(title)\n",
    "    \n",
    "    plt.plot(accuracy_epoch)\n",
    "    \n",
    "    plt.xlabel(label_axis_x)\n",
    "    plt.ylabel(label_axis_y)\n",
    "\n",
    "    plt.tight_layout()\n",
    "    plt.show()"
   ]
  },
  {
   "cell_type": "code",
   "execution_count": 23,
   "metadata": {},
   "outputs": [],
   "source": [
    "def function_result_03():\n",
    "\n",
    "    print('final accuracy = %9.8f' % (accuracy_epoch[-1]))"
   ]
  },
  {
   "cell_type": "markdown",
   "metadata": {},
   "source": [
    "---"
   ]
  },
  {
   "cell_type": "markdown",
   "metadata": {},
   "source": [
    "## results"
   ]
  },
  {
   "cell_type": "markdown",
   "metadata": {},
   "source": [
    "---"
   ]
  },
  {
   "cell_type": "code",
   "execution_count": 24,
   "metadata": {},
   "outputs": [
    {
     "name": "stdout",
     "output_type": "stream",
     "text": [
      "\n",
      "################################################################################\n",
      "#\n",
      "# RESULT # 01\n",
      "#\n",
      "################################################################################\n",
      "\n"
     ]
    },
    {
     "data": {
      "image/png": "[encoded data removed]",
      "text/plain": [
       "<Figure size 864x864 with 16 Axes>"
      ]
     },
     "metadata": {
      "needs_background": "light"
     },
     "output_type": "display_data"
    },
    {
     "data": {
      "image/png": "[encoded data removed]",
      "text/plain": [
       "<Figure size 864x864 with 16 Axes>"
      ]
     },
     "metadata": {
      "needs_background": "light"
     },
     "output_type": "display_data"
    },
    {
     "name": "stdout",
     "output_type": "stream",
     "text": [
      "\n",
      "################################################################################\n",
      "#\n",
      "# RESULT # 02\n",
      "#\n",
      "################################################################################\n",
      "\n"
     ]
    },
    {
     "data": {
      "image/png": "[encoded data removed]",
      "text/plain": [
       "<Figure size 576x432 with 1 Axes>"
      ]
     },
     "metadata": {
      "needs_background": "light"
     },
     "output_type": "display_data"
    },
    {
     "name": "stdout",
     "output_type": "stream",
     "text": [
      "\n",
      "################################################################################\n",
      "#\n",
      "# RESULT # 03\n",
      "#\n",
      "################################################################################\n",
      "\n",
      "final accuracy = 98.07032013\n"
     ]
    }
   ],
   "source": [
    "number_result = 3\n",
    "\n",
    "for i in range(number_result):\n",
    "\n",
    "    title           = '# RESULT # {:02d}'.format(i+1) \n",
    "    name_function   = 'function_result_{:02d}()'.format(i+1)\n",
    "\n",
    "    print('') \n",
    "    print('################################################################################')\n",
    "    print('#') \n",
    "    print(title)\n",
    "    print('#') \n",
    "    print('################################################################################')\n",
    "    print('') \n",
    "\n",
    "    eval(name_function)"
   ]
  },
  {
   "cell_type": "code",
   "execution_count": null,
   "metadata": {},
   "outputs": [],
   "source": []
  }
 ],
 "metadata": {
  "colab": {
   "authorship_tag": "ABX9TyM0gXqiryv5831mXd12OejK",
   "collapsed_sections": [],
   "name": "assignment_02.ipynb",
   "provenance": []
  },
  "kernelspec": {
   "display_name": "Python 3 (ipykernel)",
   "language": "python",
   "name": "python3"
  },
  "language_info": {
   "codemirror_mode": {
    "name": "ipython",
    "version": 3
   },
   "file_extension": ".py",
   "mimetype": "text/x-python",
   "name": "python",
   "nbconvert_exporter": "python",
   "pygments_lexer": "ipython3",
   "version": "3.8.10"
  },
  "vscode": {
   "interpreter": {
    "hash": "31f2aee4e71d21fbe5cf8b01ff0e069b9275f58929596ceb00d14d90e3e16cd6"
   }
  }
 },
 "nbformat": 4,
 "nbformat_minor": 2
}
