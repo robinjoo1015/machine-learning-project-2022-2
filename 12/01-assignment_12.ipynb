{
 "cells": [
  {
   "cell_type": "markdown",
   "metadata": {
    "colab": {
     "base_uri": "https://localhost:8080/"
    },
    "executionInfo": {
     "elapsed": 5,
     "status": "ok",
     "timestamp": 1630597918894,
     "user": {
      "displayName": "Byung-Woo Hong",
      "photoUrl": "",
      "userId": "17273657108187629509"
     },
     "user_tz": -540
    },
    "id": "K29I-OwCEYzW",
    "outputId": "db8b297c-a4b8-457a-b43f-7570135306c7"
   },
   "source": [
    "# Image Generation via Generative Adversarial Networks"
   ]
  },
  {
   "cell_type": "markdown",
   "metadata": {},
   "source": [
    "## import libraries"
   ]
  },
  {
   "cell_type": "code",
   "execution_count": 21,
   "metadata": {},
   "outputs": [],
   "source": [
    "import torch\n",
    "import torchvision\n",
    "from torch.utils.data import Dataset\n",
    "from os import listdir\n",
    "from os.path import join\n",
    "from torchvision import datasets, transforms\n",
    "from torch.utils.data import DataLoader\n",
    "from PIL import Image\n",
    "import matplotlib.pyplot as plt\n",
    "import numpy as np\n",
    "import torch.nn as nn\n",
    "import torch.nn.functional as F\n",
    "import torch.optim as optim\n",
    "from math import log10\n",
    "from tqdm import tqdm\n",
    "import os"
   ]
  },
  {
   "cell_type": "markdown",
   "metadata": {},
   "source": [
    "## load data"
   ]
  },
  {
   "cell_type": "code",
   "execution_count": 22,
   "metadata": {},
   "outputs": [],
   "source": [
    "directory_data  = './'\n",
    "filename_data   = 'assignment_12_data.npz'\n",
    "data            = np.load(os.path.join(directory_data, filename_data))\n",
    "real            = data['real_images']"
   ]
  },
  {
   "cell_type": "code",
   "execution_count": 23,
   "metadata": {},
   "outputs": [
    {
     "name": "stdout",
     "output_type": "stream",
     "text": [
      "size of real data: (4324, 32, 32)\n"
     ]
    }
   ],
   "source": [
    "print('size of real data:', real.shape)"
   ]
  },
  {
   "cell_type": "markdown",
   "metadata": {},
   "source": [
    "## plot data"
   ]
  },
  {
   "cell_type": "code",
   "execution_count": 24,
   "metadata": {},
   "outputs": [],
   "source": [
    "def plot_image(title, image):\n",
    "    \n",
    "    nRow = 3\n",
    "    nCol = 4\n",
    "    size = 3\n",
    "    \n",
    "    fig, axes = plt.subplots(nRow, nCol, figsize=(size * nCol, size * nRow))\n",
    "    fig.suptitle(title, fontsize=16)\n",
    "   \n",
    "    for r in range(nRow): \n",
    "        for c in range(nCol):\n",
    "            k = c * 300 + r * nCol * 300\n",
    "            axes[r, c].imshow(image[k], cmap='gray')\n",
    "\n",
    "    plt.tight_layout()\n",
    "    plt.show()"
   ]
  },
  {
   "cell_type": "code",
   "execution_count": 25,
   "metadata": {},
   "outputs": [
    {
     "data": {
      "image/png": "[encoded data removed]",
      "text/plain": [
       "<Figure size 864x648 with 12 Axes>"
      ]
     },
     "metadata": {
      "needs_background": "light"
     },
     "output_type": "display_data"
    }
   ],
   "source": [
    "plot_image('training data', real)"
   ]
  },
  {
   "cell_type": "markdown",
   "metadata": {},
   "source": [
    "## custom data loader for the PyTorch framework"
   ]
  },
  {
   "cell_type": "code",
   "execution_count": 26,
   "metadata": {},
   "outputs": [],
   "source": [
    "class dataset(Dataset):\n",
    "    \n",
    "    def __init__(self, image):\n",
    "        \n",
    "        self.image = image\n",
    "    \n",
    "    def __getitem__(self, index):\n",
    "        \n",
    "        sample  = self.image[index]\n",
    "        sample  = torch.FloatTensor(sample).unsqueeze(dim=0)\n",
    "\n",
    "        return (sample)\n",
    "    \n",
    "    def __len__(self):\n",
    "\n",
    "        number_image = len(self.image)\n",
    "\n",
    "        return (number_image)"
   ]
  },
  {
   "cell_type": "markdown",
   "metadata": {},
   "source": [
    "## setting device"
   ]
  },
  {
   "cell_type": "code",
   "execution_count": 27,
   "metadata": {},
   "outputs": [],
   "source": [
    "device = torch.device('cuda' if torch.cuda.is_available() else 'mps')"
   ]
  },
  {
   "cell_type": "code",
   "execution_count": 28,
   "metadata": {},
   "outputs": [
    {
     "name": "stdout",
     "output_type": "stream",
     "text": [
      "cuda\n"
     ]
    }
   ],
   "source": [
    "print(device)"
   ]
  },
  {
   "cell_type": "code",
   "execution_count": 29,
   "metadata": {},
   "outputs": [],
   "source": [
    "# random seed\n",
    "import random\n",
    "random.seed(20184757)\n",
    "np.random.seed(20184757)\n",
    "torch.manual_seed(20184757)\n",
    "torch.cuda.manual_seed(20184757)\n",
    "torch.cuda.manual_seed_all(20184757)\n",
    "torch.backends.cudnn.deterministic = True\n",
    "torch.backends.cudnn.benchmark = False"
   ]
  },
  {
   "cell_type": "markdown",
   "metadata": {},
   "source": [
    "## construct datasets and dataloaders "
   ]
  },
  {
   "cell_type": "code",
   "execution_count": 30,
   "metadata": {},
   "outputs": [],
   "source": [
    "size_minibatch  = 32\n",
    "dim_latent      = 64 # input latent vector fixed dimension \n",
    "\n",
    "dataset_real    = dataset(real)\n",
    "dataloader_real = torch.utils.data.DataLoader(dataset_real, batch_size=size_minibatch, shuffle=True, drop_last=True)"
   ]
  },
  {
   "cell_type": "markdown",
   "metadata": {},
   "source": [
    "## neural networks "
   ]
  },
  {
   "cell_type": "code",
   "execution_count": 31,
   "metadata": {},
   "outputs": [],
   "source": [
    "class Discriminator(nn.Module): \n",
    "    \n",
    "    def __init__(self):\n",
    "        \n",
    "        super(Discriminator, self).__init__()\n",
    "        \n",
    "        self.conv = nn.Sequential(\n",
    "            nn.Conv2d(in_channels=1, out_channels=32, kernel_size=4, stride=2, padding=1, bias=True),\n",
    "            nn.BatchNorm2d(32),\n",
    "            nn.LeakyReLU(0.2),\n",
    "            \n",
    "            nn.Conv2d(in_channels=32, out_channels=64, kernel_size=4, stride=2, padding=1, bias=True),\n",
    "            nn.BatchNorm2d(64),\n",
    "            nn.LeakyReLU(0.2),\n",
    "            \n",
    "            nn.Conv2d(in_channels=64, out_channels=128, kernel_size=4, stride=2, padding=1, bias=True),\n",
    "            nn.BatchNorm2d(128),\n",
    "            nn.LeakyReLU(0.2),\n",
    "            \n",
    "            nn.Conv2d(in_channels=128, out_channels=256, kernel_size=4, stride=2, padding=1, bias=True),\n",
    "            nn.BatchNorm2d(256),\n",
    "            nn.LeakyReLU(0.2),\n",
    "            \n",
    "            nn.Conv2d(in_channels=256, out_channels=1, kernel_size=4, stride=2, padding=1, bias=True),\n",
    "        )\n",
    "        \n",
    "    def forward(self, x):\n",
    "        out = self.conv(x)\n",
    "        out = torch.flatten(out)\n",
    "        \n",
    "        return out\n"
   ]
  },
  {
   "cell_type": "code",
   "execution_count": 32,
   "metadata": {},
   "outputs": [],
   "source": [
    "class Generator(nn.Module):\n",
    "    \n",
    "    def __init__(self):\n",
    "        \n",
    "        super(Generator, self).__init__()\n",
    "        \n",
    "        self.conv = nn.Sequential(\n",
    "            nn.Upsample(scale_factor=2, mode='bilinear', align_corners=False),\n",
    "            nn.Conv2d(in_channels=dim_latent, out_channels=64, kernel_size=3, stride=1, padding=1, bias=True),\n",
    "            nn.BatchNorm2d(64),\n",
    "            nn.LeakyReLU(0.2),\n",
    "            \n",
    "            nn.Upsample(scale_factor=2, mode='bilinear', align_corners=False),\n",
    "            nn.Conv2d(in_channels=64, out_channels=128, kernel_size=3, stride=1, padding=1, bias=True),\n",
    "            nn.BatchNorm2d(128),\n",
    "            nn.LeakyReLU(0.2),\n",
    "            \n",
    "            nn.Upsample(scale_factor=2, mode='bilinear', align_corners=False),\n",
    "            nn.Conv2d(in_channels=128, out_channels=128, kernel_size=3, stride=1, padding=1, bias=True),\n",
    "            nn.BatchNorm2d(128),\n",
    "            nn.LeakyReLU(0.2),\n",
    "            \n",
    "            nn.Upsample(scale_factor=2, mode='bilinear', align_corners=False),\n",
    "            nn.Conv2d(in_channels=128, out_channels=256, kernel_size=3, stride=1, padding=1, bias=True),\n",
    "            nn.BatchNorm2d(256),\n",
    "            nn.LeakyReLU(0.2),\n",
    "            \n",
    "            nn.Upsample(scale_factor=2, mode='bilinear', align_corners=False),\n",
    "            nn.Conv2d(in_channels=256, out_channels=1, kernel_size=3, stride=1, padding=1, bias=True),\n",
    "            \n",
    "            nn.Sigmoid()\n",
    "        )\n",
    "    \n",
    "    def forward(self, x):\n",
    "\n",
    "        out = self.conv(x)\n",
    "        \n",
    "        return out"
   ]
  },
  {
   "cell_type": "markdown",
   "metadata": {},
   "source": [
    "## build network"
   ]
  },
  {
   "cell_type": "code",
   "execution_count": 33,
   "metadata": {},
   "outputs": [],
   "source": [
    "def weights_init(m):\n",
    "    classname = m.__class__.__name__\n",
    "    if classname.find(\"Conv\") != -1:\n",
    "        nn.init.normal_(m.weight, 0.0, 0.02)\n",
    "    elif classname.find(\"BatchNorm\") != -1:\n",
    "        nn.init.normal_(m.weight, 1.0, 0.02)\n",
    "        nn.init.zeros_(m.bias)"
   ]
  },
  {
   "cell_type": "code",
   "execution_count": 34,
   "metadata": {},
   "outputs": [],
   "source": [
    "generator       = Generator().to(device)\n",
    "discriminator   = Discriminator().to(device)\n",
    "\n",
    "generator = generator.apply(weights_init)\n",
    "discriminator = discriminator.apply(weights_init)\n",
    "\n",
    "optimizer_generator = torch.optim.Adam(generator.parameters(), lr=0.00001, betas=(0.5, 0.999))\n",
    "optimizer_discriminator = torch.optim.Adam(discriminator.parameters(), lr=0.00001, betas=(0.5, 0.999))"
   ]
  },
  {
   "cell_type": "markdown",
   "metadata": {},
   "source": [
    "## compute the prediction"
   ]
  },
  {
   "cell_type": "code",
   "execution_count": 35,
   "metadata": {},
   "outputs": [],
   "source": [
    "def compute_prediction(model, input):\n",
    "\n",
    "    prediction = model(input)\n",
    "\n",
    "    return prediction"
   ]
  },
  {
   "cell_type": "markdown",
   "metadata": {},
   "source": [
    "## compute the accuracy"
   ]
  },
  {
   "cell_type": "code",
   "execution_count": 36,
   "metadata": {},
   "outputs": [],
   "source": [
    "def compute_bounding_mask(prediction_binary):\n",
    "    \n",
    "    bounding_mask = torch.zeros_like(prediction_binary)\n",
    "    \n",
    "    for i in range(prediction_binary.shape[0]):\n",
    "        prediction = prediction_binary[i]\n",
    "        (idx_row, idx_col) = torch.nonzero(prediction, as_tuple=True)\n",
    "        \n",
    "        if len(idx_row) > 0: \n",
    "            idx_row_min = idx_row.min()\n",
    "            idx_row_max = idx_row.max()\n",
    "        \n",
    "            idx_col_min = idx_col.min()\n",
    "            idx_col_max = idx_col.max()\n",
    "    \n",
    "            bounding_mask[i, idx_row_min:idx_row_max+1, idx_col_min:idx_col_max+1] = 1 \n",
    "    \n",
    "    return bounding_mask"
   ]
  },
  {
   "cell_type": "code",
   "execution_count": 37,
   "metadata": {},
   "outputs": [],
   "source": [
    "def compute_accuracy(prediction):\n",
    "\n",
    "    binary      = (prediction >= 0.5)\n",
    "    mask        = compute_bounding_mask(binary)\n",
    "    \n",
    "    intersection = (binary & mask).float().sum((1, 2))\n",
    "    union        = (binary | mask).float().sum((1, 2))\n",
    "\n",
    "    eps         = 1e-8\n",
    "    correct     = (intersection + eps) / (union + eps)\n",
    "    accuracy    = correct.mean() * 100.0\n",
    "    accuracy    = accuracy.cpu() \n",
    "    \n",
    "    return accuracy"
   ]
  },
  {
   "cell_type": "markdown",
   "metadata": {},
   "source": [
    "## train"
   ]
  },
  {
   "cell_type": "code",
   "execution_count": 38,
   "metadata": {},
   "outputs": [],
   "source": [
    "def train(generator, discriminator, dataloader):\n",
    "    \n",
    "    loss_generator_epoch = []\n",
    "    loss_discriminator_epoch = []\n",
    "    \n",
    "    for index_batch, (real) in enumerate(dataloader):\n",
    "        real        = real.to(device)\n",
    "        size_batch  = len(real)\n",
    "        latent      = torch.randn(size_batch, dim_latent, device=device)\n",
    "        latent      = torch.reshape(latent, [size_batch, dim_latent, 1, 1])\n",
    "\n",
    "        # ---------------------------------------------------------------------------\n",
    "        #  \n",
    "        # update the generator\n",
    "        #  \n",
    "        # ---------------------------------------------------------------------------\n",
    "        generator.train()\n",
    "        discriminator.eval()\n",
    "        \n",
    "        optimizer_generator.zero_grad()\n",
    "        fake = compute_prediction(generator, latent)\n",
    "        prediction_fake = compute_prediction(discriminator, fake)\n",
    "\n",
    "        loss_generator = -torch.mean(prediction_fake)\n",
    "        loss_generator.backward()\n",
    "        optimizer_generator.step()\n",
    "\n",
    "        # ---------------------------------------------------------------------------\n",
    "        #  \n",
    "        # update the discriminator\n",
    "        #  \n",
    "        # ---------------------------------------------------------------------------\n",
    "        generator.eval()\n",
    "        discriminator.train()\n",
    "        \n",
    "        optimizer_discriminator.zero_grad()\n",
    "        \n",
    "        prediction_real = compute_prediction(discriminator, real)\n",
    "        loss_real = -torch.mean(prediction_real)\n",
    "        \n",
    "        fake = compute_prediction(generator, latent)\n",
    "        prediction_fake = compute_prediction(discriminator, fake.detach())\n",
    "        loss_fake = torch.mean(prediction_fake)\n",
    "        \n",
    "        alpha = torch.randn((real.size(0), 1, 1, 1), device=device)\n",
    "        interpolates = (alpha * real + ((1 - alpha) * fake)).requires_grad_(True)\n",
    "        discriminator_interpolates = compute_prediction(discriminator, interpolates)\n",
    "        grad_outputs = torch.ones(discriminator_interpolates.size(), device=device, requires_grad=False)\n",
    "        gradients = torch.autograd.grad(\n",
    "            outputs = discriminator_interpolates,\n",
    "            inputs = interpolates,\n",
    "            grad_outputs = grad_outputs,\n",
    "            create_graph = True,\n",
    "            retain_graph = True,\n",
    "            only_inputs = True\n",
    "        )[0]\n",
    "        gradients = gradients.view(gradients.size(0), -1)\n",
    "        gradient_penalty = torch.mean((gradients.norm(2, dim=1) -1) ** 2)\n",
    "\n",
    "        loss_discriminator = loss_real + loss_fake + 10 * gradient_penalty\n",
    "        loss_discriminator.backward()\n",
    "        optimizer_discriminator.step()\n",
    "        \n",
    "        loss_generator_epoch.append(loss_generator.item())\n",
    "        loss_discriminator_epoch.append(loss_discriminator.item())\n",
    "    \n",
    "    return np.mean(loss_generator_epoch), np.mean(loss_discriminator_epoch)"
   ]
  },
  {
   "cell_type": "markdown",
   "metadata": {},
   "source": [
    "## test"
   ]
  },
  {
   "cell_type": "code",
   "execution_count": 39,
   "metadata": {},
   "outputs": [],
   "source": [
    "def test(generator, latent):\n",
    "    \n",
    "    generator.eval()\n",
    "    \n",
    "    prediction  = generator(latent)\n",
    "    prediction  = prediction.squeeze(axis=1)\n",
    "    accuracy    = compute_accuracy(prediction)\n",
    "    \n",
    "    return accuracy"
   ]
  },
  {
   "cell_type": "markdown",
   "metadata": {},
   "source": [
    "## training epoch"
   ]
  },
  {
   "cell_type": "code",
   "execution_count": 40,
   "metadata": {
    "scrolled": false
   },
   "outputs": [
    {
     "name": "stdout",
     "output_type": "stream",
     "text": [
      "epoch 0, loss_generator = 0.5091811204674067, loss_discriminator=-0.3560957767345287, accuracy=70.98095703125\n",
      "epoch 1, loss_generator = 1.120440552190498, loss_discriminator=-2.256729851387165, accuracy=51.52527618408203\n",
      "epoch 2, loss_generator = 1.2984333987589236, loss_discriminator=-2.858848801365605, accuracy=89.85659790039062\n",
      "epoch 3, loss_generator = 0.9798545651965671, loss_discriminator=-2.916751009446603, accuracy=93.77619934082031\n",
      "epoch 4, loss_generator = 1.000516355920721, loss_discriminator=-4.394402500435158, accuracy=91.99835205078125\n",
      "epoch 5, loss_generator = 1.1540003449828535, loss_discriminator=-6.758303758833144, accuracy=90.86964416503906\n",
      "epoch 6, loss_generator = 1.2525945049745064, loss_discriminator=-8.420696099599203, accuracy=88.35202026367188\n",
      "epoch 7, loss_generator = 1.4057260636930113, loss_discriminator=-10.652398416731092, accuracy=87.63888549804688\n",
      "epoch 8, loss_generator = 1.407571510915403, loss_discriminator=-13.181995780379683, accuracy=86.0284652709961\n",
      "epoch 9, loss_generator = 1.4693448640682079, loss_discriminator=-14.710530436480488, accuracy=85.57304382324219\n",
      "epoch 10, loss_generator = 1.4765658656756082, loss_discriminator=-18.035334382233795, accuracy=84.775390625\n",
      "epoch 11, loss_generator = 1.5396859539879693, loss_discriminator=-20.163371029606573, accuracy=86.37466430664062\n",
      "epoch 12, loss_generator = 1.5118404763716238, loss_discriminator=-21.26694325341119, accuracy=86.38739013671875\n",
      "epoch 13, loss_generator = 1.3774334695604113, loss_discriminator=-23.96082852681478, accuracy=86.70938873291016\n",
      "epoch 14, loss_generator = 1.5039164393036455, loss_discriminator=-25.10324199817799, accuracy=86.89106750488281\n",
      "epoch 15, loss_generator = 1.3947347431271164, loss_discriminator=-27.301229265001083, accuracy=87.23137664794922\n",
      "epoch 16, loss_generator = 1.1562616814065863, loss_discriminator=-28.95074123453211, accuracy=87.27711486816406\n",
      "epoch 17, loss_generator = 1.1330722020732031, loss_discriminator=-30.406215321576155, accuracy=87.53587341308594\n",
      "epoch 18, loss_generator = 1.024710347806966, loss_discriminator=-32.3436939380787, accuracy=87.20780944824219\n",
      "epoch 19, loss_generator = 1.0580127627761275, loss_discriminator=-34.19408267692283, accuracy=88.38796997070312\n",
      "epoch 20, loss_generator = 1.0817653165923224, loss_discriminator=-35.96604379724573, accuracy=87.59278869628906\n",
      "epoch 21, loss_generator = 0.9050134206259692, loss_discriminator=-38.5827395968967, accuracy=88.72216033935547\n",
      "epoch 22, loss_generator = 0.9080142415508076, loss_discriminator=-39.927459960513644, accuracy=88.27738952636719\n",
      "epoch 23, loss_generator = 0.7971362796646577, loss_discriminator=-41.9705140431722, accuracy=88.62755584716797\n",
      "epoch 24, loss_generator = 0.6952658058040672, loss_discriminator=-42.69314934059425, accuracy=90.04238891601562\n",
      "epoch 25, loss_generator = 0.44861449839340317, loss_discriminator=-45.81645965576172, accuracy=89.6277847290039\n",
      "epoch 26, loss_generator = 0.564668148673243, loss_discriminator=-48.21304158811216, accuracy=90.18705749511719\n",
      "epoch 27, loss_generator = 0.4937943823083683, loss_discriminator=-48.578630984271015, accuracy=90.3984375\n",
      "epoch 28, loss_generator = 0.5597868516489312, loss_discriminator=-51.55305055688929, accuracy=90.44080352783203\n",
      "epoch 29, loss_generator = 0.56109209538058, loss_discriminator=-52.25569986414026, accuracy=91.70042419433594\n",
      "epoch 30, loss_generator = 0.5196580397172107, loss_discriminator=-54.379040216516564, accuracy=91.28778839111328\n",
      "epoch 31, loss_generator = 0.39213742417869746, loss_discriminator=-56.15357776217991, accuracy=91.5042953491211\n",
      "epoch 32, loss_generator = 0.4051810720728503, loss_discriminator=-59.04444280553747, accuracy=91.8270263671875\n",
      "epoch 33, loss_generator = 0.32529490868802424, loss_discriminator=-59.454214124326356, accuracy=91.90438079833984\n",
      "epoch 34, loss_generator = 0.41720318007800317, loss_discriminator=-60.337045217443396, accuracy=92.62625885009766\n",
      "epoch 35, loss_generator = 0.3184801365076392, loss_discriminator=-63.412664879692926, accuracy=93.1003646850586\n"
     ]
    }
   ],
   "source": [
    "number_epoch    = 36\n",
    "accuracy_epoch  = np.zeros(number_epoch)\n",
    "loss_generator = np.zeros(number_epoch)\n",
    "loss_discriminator = np.zeros(number_epoch)\n",
    "\n",
    "num_latent_test = 100\n",
    "latent_test = torch.randn(num_latent_test, dim_latent, device=device)\n",
    "latent_test = torch.reshape(latent_test, [num_latent_test, dim_latent, 1, 1])\n",
    "\n",
    "for i in range(number_epoch):\n",
    "    loss_generator_epoch, loss_discriminator_epoch = train(generator, discriminator, dataloader_real)\n",
    "    accuracy = test(generator, latent_test)\n",
    "    accuracy_epoch[i] = accuracy\n",
    "    \n",
    "    loss_generator[i] = loss_generator_epoch\n",
    "    loss_discriminator[i] = loss_discriminator_epoch\n",
    "    print(f'epoch {i}, loss_generator = {loss_generator_epoch}, loss_discriminator={loss_discriminator_epoch}, accuracy={accuracy}')"
   ]
  },
  {
   "cell_type": "markdown",
   "metadata": {},
   "source": [
    "---"
   ]
  },
  {
   "cell_type": "markdown",
   "metadata": {},
   "source": [
    "# functions for presenting the results"
   ]
  },
  {
   "cell_type": "markdown",
   "metadata": {},
   "source": [
    "---"
   ]
  },
  {
   "cell_type": "code",
   "execution_count": 42,
   "metadata": {},
   "outputs": [],
   "source": [
    "def function_result_01():\n",
    "\n",
    "    num_latent_visualize = 16\n",
    "\n",
    "    latent_visualize = torch.randn(num_latent_visualize, dim_latent, device=device)\n",
    "    latent_visualize = torch.reshape(latent_visualize, [num_latent_visualize, dim_latent, 1, 1]) \n",
    "\n",
    "    prediction = compute_prediction(generator, latent_visualize)\n",
    "    prediction = prediction.squeeze(axis=1)\n",
    "    prediction_binary = (prediction >= 0.5)\n",
    "    bounding_mask = compute_bounding_mask(prediction_binary)\n",
    "        \n",
    "    fake = prediction.detach().cpu()\n",
    "    mask = bounding_mask.detach().cpu()\n",
    "\n",
    "    nRow = 4\n",
    "    nCol = 4 \n",
    "    size = 3 \n",
    "    \n",
    "    title = 'fake image'\n",
    "    fig, axes = plt.subplots(nRow, nCol, figsize=(size * nCol, size * nRow))\n",
    "    fig.suptitle(title, fontsize=16)\n",
    "\n",
    "    for r in range(nRow): \n",
    "        for c in range(nCol):\n",
    "            k = c + r * nCol\n",
    "            axes[r, c].imshow(fake[k], cmap='gray', vmin=0, vmax=1)\n",
    "            axes[r, c].xaxis.set_visible(False)\n",
    "            axes[r, c].yaxis.set_visible(False)\n",
    "\n",
    "    plt.tight_layout()\n",
    "    plt.show()\n",
    "    \n",
    "    title = 'bounding mask'\n",
    "    fig, axes = plt.subplots(nRow, nCol, figsize=(size * nCol, size * nRow))\n",
    "    fig.suptitle(title, fontsize=16)\n",
    "\n",
    "    for r in range(nRow): \n",
    "        for c in range(nCol):\n",
    "            k = c + r * nCol\n",
    "            axes[r, c].imshow(mask[k], cmap='gray', vmin=0, vmax=1)\n",
    "            axes[r, c].xaxis.set_visible(False)\n",
    "            axes[r, c].yaxis.set_visible(False)\n",
    "                        \n",
    "    plt.tight_layout()\n",
    "    plt.show()"
   ]
  },
  {
   "cell_type": "code",
   "execution_count": 43,
   "metadata": {},
   "outputs": [],
   "source": [
    "def function_result_02():\n",
    "\n",
    "    title           = 'accuracy'\n",
    "    label_axis_x    = 'epoch' \n",
    "    label_axis_y    = 'accuracy'\n",
    "    \n",
    "    plt.figure(figsize=(8, 6))\n",
    "    plt.title(title)\n",
    "    \n",
    "    plt.plot(accuracy_epoch)\n",
    "    \n",
    "    plt.xlabel(label_axis_x)\n",
    "    plt.ylabel(label_axis_y)\n",
    "\n",
    "    plt.tight_layout()\n",
    "    plt.show()"
   ]
  },
  {
   "cell_type": "code",
   "execution_count": 44,
   "metadata": {},
   "outputs": [],
   "source": [
    "def function_result_03():\n",
    "\n",
    "    print('final accuracy = %9.8f' % (accuracy_epoch[-1]))"
   ]
  },
  {
   "cell_type": "markdown",
   "metadata": {},
   "source": [
    "---"
   ]
  },
  {
   "cell_type": "markdown",
   "metadata": {},
   "source": [
    "## results"
   ]
  },
  {
   "cell_type": "markdown",
   "metadata": {},
   "source": [
    "---"
   ]
  },
  {
   "cell_type": "code",
   "execution_count": 45,
   "metadata": {},
   "outputs": [
    {
     "name": "stdout",
     "output_type": "stream",
     "text": [
      "\n",
      "################################################################################\n",
      "#\n",
      "# RESULT # 01\n",
      "#\n",
      "################################################################################\n",
      "\n"
     ]
    },
    {
     "data": {
      "image/png": "[encoded data removed]",
      "text/plain": [
       "<Figure size 864x864 with 16 Axes>"
      ]
     },
     "metadata": {
      "needs_background": "light"
     },
     "output_type": "display_data"
    },
    {
     "data": {
      "image/png": "[encoded data removed]",
      "text/plain": [
       "<Figure size 864x864 with 16 Axes>"
      ]
     },
     "metadata": {
      "needs_background": "light"
     },
     "output_type": "display_data"
    },
    {
     "name": "stdout",
     "output_type": "stream",
     "text": [
      "\n",
      "################################################################################\n",
      "#\n",
      "# RESULT # 02\n",
      "#\n",
      "################################################################################\n",
      "\n"
     ]
    },
    {
     "data": {
      "image/png": "[encoded data removed]",
      "text/plain": [
       "<Figure size 576x432 with 1 Axes>"
      ]
     },
     "metadata": {
      "needs_background": "light"
     },
     "output_type": "display_data"
    },
    {
     "name": "stdout",
     "output_type": "stream",
     "text": [
      "\n",
      "################################################################################\n",
      "#\n",
      "# RESULT # 03\n",
      "#\n",
      "################################################################################\n",
      "\n",
      "final accuracy = 93.10036469\n"
     ]
    }
   ],
   "source": [
    "number_result = 3\n",
    "\n",
    "for i in range(number_result):\n",
    "\n",
    "    title           = '# RESULT # {:02d}'.format(i+1) \n",
    "    name_function   = 'function_result_{:02d}()'.format(i+1)\n",
    "\n",
    "    print('') \n",
    "    print('################################################################################')\n",
    "    print('#') \n",
    "    print(title)\n",
    "    print('#') \n",
    "    print('################################################################################')\n",
    "    print('') \n",
    "\n",
    "    eval(name_function)"
   ]
  },
  {
   "cell_type": "code",
   "execution_count": null,
   "metadata": {},
   "outputs": [],
   "source": []
  }
 ],
 "metadata": {
  "colab": {
   "authorship_tag": "ABX9TyM0gXqiryv5831mXd12OejK",
   "collapsed_sections": [],
   "name": "assignment_02.ipynb",
   "provenance": []
  },
  "kernelspec": {
   "display_name": "Python 3 (ipykernel)",
   "language": "python",
   "name": "python3"
  },
  "language_info": {
   "codemirror_mode": {
    "name": "ipython",
    "version": 3
   },
   "file_extension": ".py",
   "mimetype": "text/x-python",
   "name": "python",
   "nbconvert_exporter": "python",
   "pygments_lexer": "ipython3",
   "version": "3.8.10"
  },
  "vscode": {
   "interpreter": {
    "hash": "31f2aee4e71d21fbe5cf8b01ff0e069b9275f58929596ceb00d14d90e3e16cd6"
   }
  }
 },
 "nbformat": 4,
 "nbformat_minor": 2
}
