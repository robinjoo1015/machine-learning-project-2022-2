{
 "cells": [
  {
   "cell_type": "markdown",
   "metadata": {
    "colab": {
     "base_uri": "https://localhost:8080/"
    },
    "executionInfo": {
     "elapsed": 5,
     "status": "ok",
     "timestamp": 1630597918894,
     "user": {
      "displayName": "Byung-Woo Hong",
      "photoUrl": "",
      "userId": "17273657108187629509"
     },
     "user_tz": -540
    },
    "id": "K29I-OwCEYzW",
    "outputId": "db8b297c-a4b8-457a-b43f-7570135306c7"
   },
   "source": [
    "# Image Generation via Generative Adversarial Networks"
   ]
  },
  {
   "cell_type": "markdown",
   "metadata": {},
   "source": [
    "## import libraries"
   ]
  },
  {
   "cell_type": "code",
   "execution_count": 1,
   "metadata": {},
   "outputs": [],
   "source": [
    "import torch\n",
    "import torchvision\n",
    "from torch.utils.data import Dataset\n",
    "from os import listdir\n",
    "from os.path import join\n",
    "from torchvision import datasets, transforms\n",
    "from torch.utils.data import DataLoader\n",
    "from PIL import Image\n",
    "import matplotlib.pyplot as plt\n",
    "import numpy as np\n",
    "import torch.nn as nn\n",
    "import torch.nn.functional as F\n",
    "import torch.optim as optim\n",
    "from math import log10\n",
    "from tqdm import tqdm\n",
    "import os"
   ]
  },
  {
   "cell_type": "markdown",
   "metadata": {},
   "source": [
    "## load data"
   ]
  },
  {
   "cell_type": "code",
   "execution_count": 2,
   "metadata": {},
   "outputs": [],
   "source": [
    "directory_data  = './'\n",
    "filename_data   = 'assignment_12_data.npz'\n",
    "data            = np.load(os.path.join(directory_data, filename_data))\n",
    "real            = data['real_images']"
   ]
  },
  {
   "cell_type": "code",
   "execution_count": 3,
   "metadata": {},
   "outputs": [
    {
     "name": "stdout",
     "output_type": "stream",
     "text": [
      "size of real data: (4324, 32, 32)\n"
     ]
    }
   ],
   "source": [
    "print('size of real data:', real.shape)"
   ]
  },
  {
   "cell_type": "markdown",
   "metadata": {},
   "source": [
    "## plot data"
   ]
  },
  {
   "cell_type": "code",
   "execution_count": 4,
   "metadata": {},
   "outputs": [],
   "source": [
    "def plot_image(title, image):\n",
    "    \n",
    "    nRow = 3\n",
    "    nCol = 4\n",
    "    size = 3\n",
    "    \n",
    "    fig, axes = plt.subplots(nRow, nCol, figsize=(size * nCol, size * nRow))\n",
    "    fig.suptitle(title, fontsize=16)\n",
    "   \n",
    "    for r in range(nRow): \n",
    "        for c in range(nCol):\n",
    "            k = c * 300 + r * nCol * 300\n",
    "            axes[r, c].imshow(image[k], cmap='gray')\n",
    "\n",
    "    plt.tight_layout()\n",
    "    plt.show()"
   ]
  },
  {
   "cell_type": "code",
   "execution_count": 5,
   "metadata": {},
   "outputs": [
    {
     "data": {
      "image/png": "[encoded data removed]",
      "text/plain": [
       "<Figure size 864x648 with 12 Axes>"
      ]
     },
     "metadata": {
      "needs_background": "light"
     },
     "output_type": "display_data"
    }
   ],
   "source": [
    "plot_image('training data', real)"
   ]
  },
  {
   "cell_type": "markdown",
   "metadata": {},
   "source": [
    "## custom data loader for the PyTorch framework"
   ]
  },
  {
   "cell_type": "code",
   "execution_count": 6,
   "metadata": {},
   "outputs": [],
   "source": [
    "class dataset(Dataset):\n",
    "    \n",
    "    def __init__(self, image):\n",
    "        \n",
    "        self.image = image\n",
    "    \n",
    "    def __getitem__(self, index):\n",
    "        \n",
    "        sample  = self.image[index]\n",
    "        sample  = torch.FloatTensor(sample).unsqueeze(dim=0)\n",
    "\n",
    "        return (sample)\n",
    "    \n",
    "    def __len__(self):\n",
    "\n",
    "        number_image = len(self.image)\n",
    "\n",
    "        return (number_image)"
   ]
  },
  {
   "cell_type": "markdown",
   "metadata": {},
   "source": [
    "## setting device"
   ]
  },
  {
   "cell_type": "code",
   "execution_count": 7,
   "metadata": {},
   "outputs": [],
   "source": [
    "device = torch.device('cuda' if torch.cuda.is_available() else 'mps')"
   ]
  },
  {
   "cell_type": "code",
   "execution_count": 8,
   "metadata": {},
   "outputs": [
    {
     "name": "stdout",
     "output_type": "stream",
     "text": [
      "cuda\n"
     ]
    }
   ],
   "source": [
    "print(device)"
   ]
  },
  {
   "cell_type": "markdown",
   "metadata": {},
   "source": [
    "## construct datasets and dataloaders "
   ]
  },
  {
   "cell_type": "code",
   "execution_count": 9,
   "metadata": {},
   "outputs": [],
   "source": [
    "size_minibatch  = 32\n",
    "dim_latent      = 64 # input latent vector fixed dimension \n",
    "\n",
    "dataset_real    = dataset(real)\n",
    "dataloader_real = torch.utils.data.DataLoader(dataset_real, batch_size=size_minibatch, shuffle=True, drop_last=True)"
   ]
  },
  {
   "cell_type": "markdown",
   "metadata": {},
   "source": [
    "## neural networks "
   ]
  },
  {
   "cell_type": "code",
   "execution_count": 19,
   "metadata": {},
   "outputs": [],
   "source": [
    "class Discriminator(nn.Module): \n",
    "    \n",
    "    def __init__(self):\n",
    "        \n",
    "        super(Discriminator, self).__init__()\n",
    "        \n",
    "        self.feature = nn.Sequential(\n",
    "            nn.Conv2d(in_channels=1, out_channels=8, kernel_size=3, stride=2, padding=1, bias=True),\n",
    "            nn.BatchNorm2d(8),\n",
    "            nn.LeakyReLU(0.2),\n",
    "            \n",
    "            nn.Conv2d(in_channels=8, out_channels=16, kernel_size=3, stride=2, padding=1, bias=True),\n",
    "            nn.BatchNorm2d(16),\n",
    "            nn.LeakyReLU(0.2),\n",
    "            \n",
    "            nn.Conv2d(in_channels=16, out_channels=32, kernel_size=3, stride=2, padding=1, bias=True),\n",
    "            nn.BatchNorm2d(32),\n",
    "            nn.LeakyReLU(0.2),\n",
    "            \n",
    "            nn.Conv2d(in_channels=32, out_channels=64, kernel_size=3, stride=2, padding=1, bias=True),\n",
    "            nn.BatchNorm2d(64),\n",
    "            nn.LeakyReLU(0.2),\n",
    "            \n",
    "            nn.Conv2d(in_channels=64, out_channels=128, kernel_size=3, stride=2, padding=1, bias=True),\n",
    "            nn.BatchNorm2d(128),\n",
    "            nn.LeakyReLU(0.2),\n",
    "        )\n",
    "        \n",
    "        self.classifier = nn.Sequential(\n",
    "            nn.Linear(in_features=128, out_features=64, bias=True),\n",
    "            nn.LeakyReLU(0.2),\n",
    "            \n",
    "            nn.Linear(in_features=64, out_features=32, bias=True),\n",
    "            nn.LeakyReLU(0.2),\n",
    "            \n",
    "            nn.Linear(in_features=32, out_features=16, bias=True),\n",
    "            nn.LeakyReLU(0.2),\n",
    "            \n",
    "            nn.Linear(in_features=16, out_features=8, bias=True),\n",
    "            nn.LeakyReLU(0.2),\n",
    "            \n",
    "            nn.Linear(in_features=8, out_features=1, bias=True),\n",
    "        )\n",
    "        \n",
    "        self.network = nn.Sequential(\n",
    "            self.feature,\n",
    "            nn.Flatten(),\n",
    "            self.classifier,\n",
    "        )\n",
    "        \n",
    "    def forward(self, x):\n",
    "        out = self.network(x)\n",
    "        return out\n"
   ]
  },
  {
   "cell_type": "code",
   "execution_count": 25,
   "metadata": {},
   "outputs": [],
   "source": [
    "class Generator(nn.Module):\n",
    "    \n",
    "    def __init__(self):\n",
    "        \n",
    "        super(Generator, self).__init__()\n",
    "        \n",
    "        self.network = nn.Sequential(\n",
    "            nn.Upsample(scale_factor=2, mode='bilinear', align_corners=False),\n",
    "            nn.Conv2d(in_channels=64, out_channels=128, kernel_size=3, stride=1, padding=1, bias=True),\n",
    "            nn.BatchNorm2d(128),\n",
    "            nn.LeakyReLU(0.2),\n",
    "            \n",
    "            nn.Upsample(scale_factor=2, mode='bilinear', align_corners=False),\n",
    "            nn.Conv2d(in_channels=128, out_channels=64, kernel_size=3, stride=1, padding=1, bias=True),\n",
    "            nn.BatchNorm2d(64),\n",
    "            nn.LeakyReLU(0.2),\n",
    "            \n",
    "            nn.Upsample(scale_factor=2, mode='bilinear', align_corners=False),\n",
    "            nn.Conv2d(in_channels=64, out_channels=32, kernel_size=3, stride=1, padding=1, bias=True),\n",
    "            nn.BatchNorm2d(32),\n",
    "            nn.LeakyReLU(0.2),\n",
    "            \n",
    "            nn.Upsample(scale_factor=2, mode='bilinear', align_corners=False),\n",
    "            nn.Conv2d(in_channels=32, out_channels=16, kernel_size=3, stride=1, padding=1, bias=True),\n",
    "            nn.BatchNorm2d(16),\n",
    "            nn.LeakyReLU(0.2),\n",
    "            \n",
    "            nn.Upsample(scale_factor=2, mode='bilinear', align_corners=False),\n",
    "            nn.Conv2d(in_channels=16, out_channels=1, kernel_size=3, stride=1, padding=1, bias=True),\n",
    "            \n",
    "            nn.Sigmoid()\n",
    "        )\n",
    "    \n",
    "    def forward(self, x):\n",
    "        out = self.network(x)\n",
    "        return out"
   ]
  },
  {
   "cell_type": "markdown",
   "metadata": {},
   "source": [
    "## build network"
   ]
  },
  {
   "cell_type": "code",
   "execution_count": 26,
   "metadata": {},
   "outputs": [],
   "source": [
    "generator       = Generator().to(device)\n",
    "discriminator   = Discriminator().to(device)\n",
    "\n",
    "optimizer_generator = torch.optim.Adam(generator.parameters(), lr=0.001, weight_decay=0.0001)\n",
    "optimizer_discriminator = torch.optim.Adam(discriminator.parameters(), lr=0.001, weight_decay=0.0001)"
   ]
  },
  {
   "cell_type": "markdown",
   "metadata": {},
   "source": [
    "## compute the prediction"
   ]
  },
  {
   "cell_type": "code",
   "execution_count": 13,
   "metadata": {},
   "outputs": [],
   "source": [
    "def compute_prediction(model, input):\n",
    "\n",
    "    prediction = model(input)\n",
    "\n",
    "    return prediction"
   ]
  },
  {
   "cell_type": "markdown",
   "metadata": {},
   "source": [
    "## compute the accuracy"
   ]
  },
  {
   "cell_type": "code",
   "execution_count": 14,
   "metadata": {},
   "outputs": [],
   "source": [
    "def compute_bounding_mask(prediction_binary):\n",
    "    \n",
    "    bounding_mask = torch.zeros_like(prediction_binary)\n",
    "    \n",
    "    for i in range(prediction_binary.shape[0]):\n",
    "        prediction = prediction_binary[i]\n",
    "        (idx_row, idx_col) = torch.nonzero(prediction, as_tuple=True)\n",
    "        \n",
    "        if len(idx_row) > 0: \n",
    "            idx_row_min = idx_row.min()\n",
    "            idx_row_max = idx_row.max()\n",
    "        \n",
    "            idx_col_min = idx_col.min()\n",
    "            idx_col_max = idx_col.max()\n",
    "    \n",
    "            bounding_mask[i, idx_row_min:idx_row_max+1, idx_col_min:idx_col_max+1] = 1 \n",
    "    \n",
    "    return bounding_mask"
   ]
  },
  {
   "cell_type": "code",
   "execution_count": 15,
   "metadata": {},
   "outputs": [],
   "source": [
    "def compute_accuracy(prediction):\n",
    "\n",
    "    binary      = (prediction >= 0.5)\n",
    "    mask        = compute_bounding_mask(binary)\n",
    "    \n",
    "    intersection = (binary & mask).float().sum((1, 2))\n",
    "    union        = (binary | mask).float().sum((1, 2))\n",
    "\n",
    "    eps         = 1e-8\n",
    "    correct     = (intersection + eps) / (union + eps)\n",
    "    accuracy    = correct.mean() * 100.0\n",
    "    accuracy    = accuracy.cpu() \n",
    "    \n",
    "    return accuracy"
   ]
  },
  {
   "cell_type": "markdown",
   "metadata": {},
   "source": [
    "## train"
   ]
  },
  {
   "cell_type": "code",
   "execution_count": 45,
   "metadata": {},
   "outputs": [],
   "source": [
    "def train(generator, discriminator, dataloader):\n",
    "    \n",
    "    for index_batch, (real) in enumerate(dataloader):\n",
    "        real        = real.to(device)\n",
    "        size_batch  = len(real)\n",
    "        latent      = torch.randn(size_batch, dim_latent, device=device)\n",
    "        latent      = torch.reshape(latent, [size_batch, dim_latent, 1, 1])\n",
    "\n",
    "        # ---------------------------------------------------------------------------\n",
    "        #  \n",
    "        # update the generator\n",
    "        #  \n",
    "        # ---------------------------------------------------------------------------\n",
    "        generator.train()\n",
    "        discriminator.eval()\n",
    "        \n",
    "        optimizer_generator.zero_grad()\n",
    "        fake = compute_prediction(generator, latent)\n",
    "#         prediction_fake = compute_prediction(discriminator, fake)\n",
    "        loss_generator = nn.BCELoss()(fake, real)\n",
    "        loss_generator.backward()\n",
    "        optimizer_generator.step()\n",
    "\n",
    "        # ---------------------------------------------------------------------------\n",
    "        #  \n",
    "        # update the discriminator\n",
    "        #  \n",
    "        # ---------------------------------------------------------------------------\n",
    "        generator.eval()\n",
    "        discriminator.train()\n",
    "        \n",
    "        optimizer_discriminator.zero_grad()\n",
    "        fake = compute_prediction(generator, latent)\n",
    "        prediction_real = compute_prediction(discriminator, real)\n",
    "        prediction_fake = compute_prediction(discriminator, fake)\n",
    "        loss_real = nn.BCEWithLogitsLoss()(prediction_real, torch.ones((size_batch, 1), device=device))\n",
    "        loss_fake = nn.BCEWithLogitsLoss()(prediction_fake, torch.zeros((size_batch, 1), device=device))\n",
    "        loss_discriminator = loss_real + loss_fake\n",
    "        loss_discriminator.backward()\n",
    "        optimizer_discriminator.step()\n",
    "        \n",
    "        "
   ]
  },
  {
   "cell_type": "markdown",
   "metadata": {},
   "source": [
    "## test"
   ]
  },
  {
   "cell_type": "code",
   "execution_count": 46,
   "metadata": {},
   "outputs": [],
   "source": [
    "def test(generator, latent):\n",
    "    \n",
    "    generator.eval()\n",
    "    \n",
    "    prediction  = generator(latent)\n",
    "    prediction  = prediction.squeeze(axis=1)\n",
    "    accuracy    = compute_accuracy(prediction)\n",
    "    \n",
    "    return accuracy"
   ]
  },
  {
   "cell_type": "markdown",
   "metadata": {},
   "source": [
    "## training epoch"
   ]
  },
  {
   "cell_type": "code",
   "execution_count": 54,
   "metadata": {},
   "outputs": [
    {
     "name": "stderr",
     "output_type": "stream",
     "text": [
      "100%|███████████████████████████████████████████████████████████████████████████████████| 10/10 [00:30<00:00,  3.02s/it]\n"
     ]
    }
   ],
   "source": [
    "number_epoch    = 10\n",
    "accuracy_epoch  = np.zeros(number_epoch)\n",
    "\n",
    "num_latent_test = 100\n",
    "latent_test = torch.randn(num_latent_test, dim_latent, device=device)\n",
    "latent_test = torch.reshape(latent_test, [num_latent_test, dim_latent, 1, 1])\n",
    "\n",
    "for i in tqdm(range(number_epoch)):\n",
    "    train(generator, discriminator, dataloader_real)\n",
    "    accuracy = test(generator, latent_test)\n",
    "    accuracy_epoch[i] = accuracy"
   ]
  },
  {
   "cell_type": "markdown",
   "metadata": {},
   "source": [
    "---"
   ]
  },
  {
   "cell_type": "markdown",
   "metadata": {},
   "source": [
    "# functions for presenting the results"
   ]
  },
  {
   "cell_type": "markdown",
   "metadata": {},
   "source": [
    "---"
   ]
  },
  {
   "cell_type": "code",
   "execution_count": 50,
   "metadata": {},
   "outputs": [],
   "source": [
    "def function_result_01():\n",
    "\n",
    "    num_latent_visualize = 16\n",
    "\n",
    "    latent_visualize = torch.randn(num_latent_visualize, dim_latent, device=device)\n",
    "    latent_visualize = torch.reshape(latent_visualize, [num_latent_visualize, dim_latent, 1, 1]) \n",
    "\n",
    "    prediction = compute_prediction(generator, latent_visualize)\n",
    "    prediction = prediction.squeeze(axis=1)\n",
    "    prediction_binary = (prediction >= 0.5)\n",
    "    bounding_mask = compute_bounding_mask(prediction_binary)\n",
    "        \n",
    "    fake = prediction.detach().cpu()\n",
    "    mask = bounding_mask.detach().cpu()\n",
    "\n",
    "    nRow = 4\n",
    "    nCol = 4 \n",
    "    size = 3 \n",
    "    \n",
    "    title = 'fake image'\n",
    "    fig, axes = plt.subplots(nRow, nCol, figsize=(size * nCol, size * nRow))\n",
    "    fig.suptitle(title, fontsize=16)\n",
    "\n",
    "    for r in range(nRow): \n",
    "        for c in range(nCol):\n",
    "            k = c + r * nCol\n",
    "            axes[r, c].imshow(fake[k], cmap='gray', vmin=0, vmax=1)\n",
    "            axes[r, c].xaxis.set_visible(False)\n",
    "            axes[r, c].yaxis.set_visible(False)\n",
    "\n",
    "    plt.tight_layout()\n",
    "    plt.show()\n",
    "    \n",
    "    title = 'bounding mask'\n",
    "    fig, axes = plt.subplots(nRow, nCol, figsize=(size * nCol, size * nRow))\n",
    "    fig.suptitle(title, fontsize=16)\n",
    "\n",
    "    for r in range(nRow): \n",
    "        for c in range(nCol):\n",
    "            k = c + r * nCol\n",
    "            axes[r, c].imshow(mask[k], cmap='gray', vmin=0, vmax=1)\n",
    "            axes[r, c].xaxis.set_visible(False)\n",
    "            axes[r, c].yaxis.set_visible(False)\n",
    "                        \n",
    "    plt.tight_layout()\n",
    "    plt.show()"
   ]
  },
  {
   "cell_type": "code",
   "execution_count": 51,
   "metadata": {},
   "outputs": [],
   "source": [
    "def function_result_02():\n",
    "\n",
    "    title           = 'accuracy'\n",
    "    label_axis_x    = 'epoch' \n",
    "    label_axis_y    = 'accuracy'\n",
    "    \n",
    "    plt.figure(figsize=(8, 6))\n",
    "    plt.title(title)\n",
    "    \n",
    "    plt.plot(accuracy_epoch)\n",
    "    \n",
    "    plt.xlabel(label_axis_x)\n",
    "    plt.ylabel(label_axis_y)\n",
    "\n",
    "    plt.tight_layout()\n",
    "    plt.show()"
   ]
  },
  {
   "cell_type": "code",
   "execution_count": 52,
   "metadata": {},
   "outputs": [],
   "source": [
    "def function_result_03():\n",
    "\n",
    "    print('final accuracy = %9.8f' % (accuracy_epoch[-1]))"
   ]
  },
  {
   "cell_type": "markdown",
   "metadata": {},
   "source": [
    "---"
   ]
  },
  {
   "cell_type": "markdown",
   "metadata": {},
   "source": [
    "## results"
   ]
  },
  {
   "cell_type": "markdown",
   "metadata": {},
   "source": [
    "---"
   ]
  },
  {
   "cell_type": "code",
   "execution_count": 55,
   "metadata": {},
   "outputs": [
    {
     "name": "stdout",
     "output_type": "stream",
     "text": [
      "\n",
      "################################################################################\n",
      "#\n",
      "# RESULT # 01\n",
      "#\n",
      "################################################################################\n",
      "\n"
     ]
    },
    {
     "data": {
      "image/png": "[encoded data removed]",
      "text/plain": [
       "<Figure size 864x864 with 16 Axes>"
      ]
     },
     "metadata": {
      "needs_background": "light"
     },
     "output_type": "display_data"
    },
    {
     "data": {
      "image/png": "[encoded data removed]",
      "text/plain": [
       "<Figure size 864x864 with 16 Axes>"
      ]
     },
     "metadata": {
      "needs_background": "light"
     },
     "output_type": "display_data"
    },
    {
     "name": "stdout",
     "output_type": "stream",
     "text": [
      "\n",
      "################################################################################\n",
      "#\n",
      "# RESULT # 02\n",
      "#\n",
      "################################################################################\n",
      "\n"
     ]
    },
    {
     "data": {
      "image/png": "[encoded data removed]",
      "text/plain": [
       "<Figure size 576x432 with 1 Axes>"
      ]
     },
     "metadata": {
      "needs_background": "light"
     },
     "output_type": "display_data"
    },
    {
     "name": "stdout",
     "output_type": "stream",
     "text": [
      "\n",
      "################################################################################\n",
      "#\n",
      "# RESULT # 03\n",
      "#\n",
      "################################################################################\n",
      "\n",
      "final accuracy = 99.83332825\n"
     ]
    }
   ],
   "source": [
    "number_result = 3\n",
    "\n",
    "for i in range(number_result):\n",
    "\n",
    "    title           = '# RESULT # {:02d}'.format(i+1) \n",
    "    name_function   = 'function_result_{:02d}()'.format(i+1)\n",
    "\n",
    "    print('') \n",
    "    print('################################################################################')\n",
    "    print('#') \n",
    "    print(title)\n",
    "    print('#') \n",
    "    print('################################################################################')\n",
    "    print('') \n",
    "\n",
    "    eval(name_function)"
   ]
  }
 ],
 "metadata": {
  "colab": {
   "authorship_tag": "ABX9TyM0gXqiryv5831mXd12OejK",
   "collapsed_sections": [],
   "name": "assignment_02.ipynb",
   "provenance": []
  },
  "kernelspec": {
   "display_name": "Python 3 (ipykernel)",
   "language": "python",
   "name": "python3"
  },
  "language_info": {
   "codemirror_mode": {
    "name": "ipython",
    "version": 3
   },
   "file_extension": ".py",
   "mimetype": "text/x-python",
   "name": "python",
   "nbconvert_exporter": "python",
   "pygments_lexer": "ipython3",
   "version": "3.8.10"
  },
  "vscode": {
   "interpreter": {
    "hash": "31f2aee4e71d21fbe5cf8b01ff0e069b9275f58929596ceb00d14d90e3e16cd6"
   }
  }
 },
 "nbformat": 4,
 "nbformat_minor": 2
}
