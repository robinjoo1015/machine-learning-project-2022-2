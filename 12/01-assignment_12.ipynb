{
 "cells": [
  {
   "cell_type": "markdown",
   "metadata": {
    "colab": {
     "base_uri": "https://localhost:8080/"
    },
    "executionInfo": {
     "elapsed": 5,
     "status": "ok",
     "timestamp": 1630597918894,
     "user": {
      "displayName": "Byung-Woo Hong",
      "photoUrl": "",
      "userId": "17273657108187629509"
     },
     "user_tz": -540
    },
    "id": "K29I-OwCEYzW",
    "outputId": "db8b297c-a4b8-457a-b43f-7570135306c7"
   },
   "source": [
    "# Image Generation via Generative Adversarial Networks"
   ]
  },
  {
   "cell_type": "markdown",
   "metadata": {},
   "source": [
    "## import libraries"
   ]
  },
  {
   "cell_type": "code",
   "execution_count": 1,
   "metadata": {},
   "outputs": [],
   "source": [
    "import torch\n",
    "import torchvision\n",
    "from torch.utils.data import Dataset\n",
    "from os import listdir\n",
    "from os.path import join\n",
    "from torchvision import datasets, transforms\n",
    "from torch.utils.data import DataLoader\n",
    "from PIL import Image\n",
    "import matplotlib.pyplot as plt\n",
    "import numpy as np\n",
    "import torch.nn as nn\n",
    "import torch.nn.functional as F\n",
    "import torch.optim as optim\n",
    "from math import log10\n",
    "from tqdm import tqdm\n",
    "import os"
   ]
  },
  {
   "cell_type": "markdown",
   "metadata": {},
   "source": [
    "## load data"
   ]
  },
  {
   "cell_type": "code",
   "execution_count": 2,
   "metadata": {},
   "outputs": [],
   "source": [
    "directory_data  = './'\n",
    "filename_data   = 'assignment_12_data.npz'\n",
    "data            = np.load(os.path.join(directory_data, filename_data))\n",
    "real            = data['real_images']"
   ]
  },
  {
   "cell_type": "code",
   "execution_count": 3,
   "metadata": {},
   "outputs": [
    {
     "name": "stdout",
     "output_type": "stream",
     "text": [
      "size of real data: (4324, 32, 32)\n"
     ]
    }
   ],
   "source": [
    "print('size of real data:', real.shape)"
   ]
  },
  {
   "cell_type": "markdown",
   "metadata": {},
   "source": [
    "## plot data"
   ]
  },
  {
   "cell_type": "code",
   "execution_count": 4,
   "metadata": {},
   "outputs": [],
   "source": [
    "def plot_image(title, image):\n",
    "    \n",
    "    nRow = 3\n",
    "    nCol = 4\n",
    "    size = 3\n",
    "    \n",
    "    fig, axes = plt.subplots(nRow, nCol, figsize=(size * nCol, size * nRow))\n",
    "    fig.suptitle(title, fontsize=16)\n",
    "   \n",
    "    for r in range(nRow): \n",
    "        for c in range(nCol):\n",
    "            k = c * 300 + r * nCol * 300\n",
    "            axes[r, c].imshow(image[k], cmap='gray')\n",
    "\n",
    "    plt.tight_layout()\n",
    "    plt.show()"
   ]
  },
  {
   "cell_type": "code",
   "execution_count": 5,
   "metadata": {},
   "outputs": [
    {
     "data": {
      "image/png": "[encoded data removed]",
      "text/plain": [
       "<Figure size 864x648 with 12 Axes>"
      ]
     },
     "metadata": {
      "needs_background": "light"
     },
     "output_type": "display_data"
    }
   ],
   "source": [
    "plot_image('training data', real)"
   ]
  },
  {
   "cell_type": "markdown",
   "metadata": {},
   "source": [
    "## custom data loader for the PyTorch framework"
   ]
  },
  {
   "cell_type": "code",
   "execution_count": 6,
   "metadata": {},
   "outputs": [],
   "source": [
    "class dataset(Dataset):\n",
    "    \n",
    "    def __init__(self, image):\n",
    "        \n",
    "        self.image = image\n",
    "    \n",
    "    def __getitem__(self, index):\n",
    "        \n",
    "        sample  = self.image[index]\n",
    "        sample  = torch.FloatTensor(sample).unsqueeze(dim=0)\n",
    "\n",
    "        return (sample)\n",
    "    \n",
    "    def __len__(self):\n",
    "\n",
    "        number_image = len(self.image)\n",
    "\n",
    "        return (number_image)"
   ]
  },
  {
   "cell_type": "markdown",
   "metadata": {},
   "source": [
    "## setting device"
   ]
  },
  {
   "cell_type": "code",
   "execution_count": 7,
   "metadata": {},
   "outputs": [],
   "source": [
    "device = torch.device('cuda' if torch.cuda.is_available() else 'mps')"
   ]
  },
  {
   "cell_type": "code",
   "execution_count": 8,
   "metadata": {},
   "outputs": [
    {
     "name": "stdout",
     "output_type": "stream",
     "text": [
      "cuda\n"
     ]
    }
   ],
   "source": [
    "print(device)"
   ]
  },
  {
   "cell_type": "code",
   "execution_count": 9,
   "metadata": {},
   "outputs": [],
   "source": [
    "# random seed\n",
    "import random\n",
    "random.seed(20184757)\n",
    "np.random.seed(20184757)\n",
    "torch.manual_seed(20184757)\n",
    "torch.cuda.manual_seed(20184757)\n",
    "torch.cuda.manual_seed_all(20184757)\n",
    "torch.backends.cudnn.deterministic = True\n",
    "torch.backends.cudnn.benchmark = False"
   ]
  },
  {
   "cell_type": "markdown",
   "metadata": {},
   "source": [
    "## construct datasets and dataloaders "
   ]
  },
  {
   "cell_type": "code",
   "execution_count": 10,
   "metadata": {},
   "outputs": [],
   "source": [
    "size_minibatch  = 32\n",
    "dim_latent      = 64 # input latent vector fixed dimension \n",
    "\n",
    "dataset_real    = dataset(real)\n",
    "dataloader_real = torch.utils.data.DataLoader(dataset_real, batch_size=size_minibatch, shuffle=True, drop_last=True)"
   ]
  },
  {
   "cell_type": "markdown",
   "metadata": {},
   "source": [
    "## neural networks "
   ]
  },
  {
   "cell_type": "code",
   "execution_count": 11,
   "metadata": {},
   "outputs": [],
   "source": [
    "class Discriminator(nn.Module): \n",
    "    \n",
    "    def __init__(self):\n",
    "        \n",
    "        super(Discriminator, self).__init__()\n",
    "        \n",
    "        self.conv = nn.Sequential(\n",
    "            nn.Conv2d(in_channels=1, out_channels=32, kernel_size=4, stride=2, padding=1, bias=True),\n",
    "            nn.BatchNorm2d(32),\n",
    "            nn.LeakyReLU(0.2),\n",
    "#             nn.MaxPool2d((2,2)),\n",
    "            \n",
    "            nn.Conv2d(in_channels=32, out_channels=64, kernel_size=4, stride=2, padding=1, bias=True),\n",
    "            nn.BatchNorm2d(64),\n",
    "            nn.LeakyReLU(0.2),\n",
    "#             nn.MaxPool2d((2,2)),\n",
    "            \n",
    "            nn.Conv2d(in_channels=64, out_channels=128, kernel_size=4, stride=2, padding=1, bias=True),\n",
    "            nn.BatchNorm2d(128),\n",
    "            nn.LeakyReLU(0.2),\n",
    "#             nn.MaxPool2d((2,2)),\n",
    "            \n",
    "            nn.Conv2d(in_channels=128, out_channels=256, kernel_size=4, stride=2, padding=1, bias=True),\n",
    "            nn.BatchNorm2d(256),\n",
    "            nn.LeakyReLU(0.2),\n",
    "#             nn.MaxPool2d((2,2)),\n",
    "            \n",
    "            nn.Conv2d(in_channels=256, out_channels=1, kernel_size=4, stride=2, padding=1, bias=True),\n",
    "#             nn.BatchNorm2d(256),\n",
    "#             nn.LeakyReLU(0.2),\n",
    "#             nn.MaxPool2d((2,2)),\n",
    "#             nn.Tanh()\n",
    "        )\n",
    "        \n",
    "#         self.fc = nn.Sequential(\n",
    "# #             nn.Linear(in_features=256, out_features=256, bias=True),\n",
    "# #             nn.LeakyReLU(0.2),\n",
    "            \n",
    "# #             nn.Linear(in_features=128, out_features=64, bias=True),\n",
    "# #             nn.LeakyReLU(0.2),\n",
    "            \n",
    "# #             nn.Linear(in_features=64, out_features=32, bias=True),\n",
    "# #             nn.LeakyReLU(0.2),\n",
    "            \n",
    "# #             nn.Linear(in_features=32, out_features=16, bias=True),\n",
    "# #             nn.LeakyReLU(0.2),\n",
    "            \n",
    "#             nn.Linear(in_features=256, out_features=1, bias=True),\n",
    "#         )\n",
    "        \n",
    "#         self.network = nn.Sequential(\n",
    "#             self.conv,\n",
    "#             nn.Flatten(),\n",
    "            \n",
    "#             self.classifier,\n",
    "#         )\n",
    "        \n",
    "    def forward(self, x):\n",
    "        out = self.conv(x)\n",
    "        out = torch.flatten(out)\n",
    "#         out = self.fc(out)\n",
    "        \n",
    "        return out\n"
   ]
  },
  {
   "cell_type": "code",
   "execution_count": 15,
   "metadata": {},
   "outputs": [],
   "source": [
    "class Generator(nn.Module):\n",
    "    \n",
    "    def __init__(self):\n",
    "        \n",
    "        super(Generator, self).__init__()\n",
    "        \n",
    "        self.conv = nn.Sequential(\n",
    "            nn.Upsample(scale_factor=2, mode='bilinear', align_corners=False),\n",
    "#             nn.ConvTranspose2d(in_channels=dim_latent, out_channels=64, kernel_size=4, stride=1, padding=0, bias=True),\n",
    "            nn.Conv2d(in_channels=dim_latent, out_channels=64, kernel_size=3, stride=1, padding=1, bias=True),\n",
    "            nn.BatchNorm2d(64),\n",
    "            nn.LeakyReLU(0.2),\n",
    "            \n",
    "            nn.Upsample(scale_factor=2, mode='bilinear', align_corners=False),\n",
    "#             nn.ConvTranspose2d(in_channels=64, out_channels=32, kernel_size=4, stride=2, padding=1, bias=True),\n",
    "            nn.Conv2d(in_channels=64, out_channels=128, kernel_size=3, stride=1, padding=1, bias=True),\n",
    "            nn.BatchNorm2d(128),\n",
    "            nn.LeakyReLU(0.2),\n",
    "            \n",
    "            nn.Upsample(scale_factor=2, mode='bilinear', align_corners=False),\n",
    "#             nn.ConvTranspose2d(in_channels=32, out_channels=16, kernel_size=4, stride=2, padding=1, bias=True),\n",
    "            nn.Conv2d(in_channels=128, out_channels=128, kernel_size=3, stride=1, padding=1, bias=True),\n",
    "            nn.BatchNorm2d(128),\n",
    "            nn.LeakyReLU(0.2),\n",
    "            \n",
    "            nn.Upsample(scale_factor=2, mode='bilinear', align_corners=False),\n",
    "#             nn.ConvTranspose2d(in_channels=16, out_channels=1, kernel_size=4, stride=2, padding=1, bias=True),\n",
    "            nn.Conv2d(in_channels=128, out_channels=256, kernel_size=3, stride=1, padding=1, bias=True),\n",
    "            nn.BatchNorm2d(256),\n",
    "            nn.LeakyReLU(0.2),\n",
    "            \n",
    "            nn.Upsample(scale_factor=2, mode='bilinear', align_corners=False),\n",
    "#             nn.ConvTranspose2d(in_channels=64, out_channels=1, kernel_size=4, stride=2, padding=1, bias=True),\n",
    "            nn.Conv2d(in_channels=256, out_channels=1, kernel_size=3, stride=1, padding=1, bias=True),\n",
    "#             nn.LeakyReLU(0.2),\n",
    "            \n",
    "            nn.Sigmoid()\n",
    "        )\n",
    "    \n",
    "    def forward(self, x):\n",
    "        \n",
    "#         self.batch_size = x.size(0)\n",
    "\n",
    "#         x = self.fc(x),\n",
    "# #         print(x, len(x))\n",
    "#         x = torch.reshape(x[0], [self.batch_size, 1, 32, 32])\n",
    "        out = self.conv(x)\n",
    "        \n",
    "#         out = self.network(x)\n",
    "        return out"
   ]
  },
  {
   "cell_type": "markdown",
   "metadata": {},
   "source": [
    "## build network"
   ]
  },
  {
   "cell_type": "code",
   "execution_count": 16,
   "metadata": {},
   "outputs": [],
   "source": [
    "def weights_init(m):\n",
    "    classname = m.__class__.__name__\n",
    "    if classname.find(\"Conv\") != -1:\n",
    "        nn.init.normal_(m.weight, 0.0, 0.02)\n",
    "    elif classname.find(\"BatchNorm\") != -1:\n",
    "        nn.init.normal_(m.weight, 1.0, 0.02)\n",
    "        nn.init.zeros_(m.bias)"
   ]
  },
  {
   "cell_type": "code",
   "execution_count": 17,
   "metadata": {},
   "outputs": [],
   "source": [
    "generator       = Generator().to(device)\n",
    "discriminator   = Discriminator().to(device)\n",
    "\n",
    "generator = generator.apply(weights_init)\n",
    "discriminator = discriminator.apply(weights_init)\n",
    "\n",
    "optimizer_generator = torch.optim.Adam(generator.parameters(), lr=0.00001, betas=(0.5, 0.999))\n",
    "optimizer_discriminator = torch.optim.Adam(discriminator.parameters(), lr=0.00001, betas=(0.5, 0.999))"
   ]
  },
  {
   "cell_type": "markdown",
   "metadata": {},
   "source": [
    "## compute the prediction"
   ]
  },
  {
   "cell_type": "code",
   "execution_count": 18,
   "metadata": {},
   "outputs": [],
   "source": [
    "def compute_prediction(model, input):\n",
    "\n",
    "    prediction = model(input)\n",
    "\n",
    "    return prediction"
   ]
  },
  {
   "cell_type": "markdown",
   "metadata": {},
   "source": [
    "## compute the accuracy"
   ]
  },
  {
   "cell_type": "code",
   "execution_count": 19,
   "metadata": {},
   "outputs": [],
   "source": [
    "def compute_bounding_mask(prediction_binary):\n",
    "    \n",
    "    bounding_mask = torch.zeros_like(prediction_binary)\n",
    "    \n",
    "    for i in range(prediction_binary.shape[0]):\n",
    "        prediction = prediction_binary[i]\n",
    "        (idx_row, idx_col) = torch.nonzero(prediction, as_tuple=True)\n",
    "        \n",
    "        if len(idx_row) > 0: \n",
    "            idx_row_min = idx_row.min()\n",
    "            idx_row_max = idx_row.max()\n",
    "        \n",
    "            idx_col_min = idx_col.min()\n",
    "            idx_col_max = idx_col.max()\n",
    "    \n",
    "            bounding_mask[i, idx_row_min:idx_row_max+1, idx_col_min:idx_col_max+1] = 1 \n",
    "    \n",
    "    return bounding_mask"
   ]
  },
  {
   "cell_type": "code",
   "execution_count": 20,
   "metadata": {},
   "outputs": [],
   "source": [
    "def compute_accuracy(prediction):\n",
    "\n",
    "    binary      = (prediction >= 0.5)\n",
    "    mask        = compute_bounding_mask(binary)\n",
    "    \n",
    "    intersection = (binary & mask).float().sum((1, 2))\n",
    "    union        = (binary | mask).float().sum((1, 2))\n",
    "\n",
    "    eps         = 1e-8\n",
    "    correct     = (intersection + eps) / (union + eps)\n",
    "    accuracy    = correct.mean() * 100.0\n",
    "    accuracy    = accuracy.cpu() \n",
    "    \n",
    "    return accuracy"
   ]
  },
  {
   "cell_type": "markdown",
   "metadata": {},
   "source": [
    "## train"
   ]
  },
  {
   "cell_type": "code",
   "execution_count": 21,
   "metadata": {},
   "outputs": [],
   "source": [
    "def train(generator, discriminator, dataloader):\n",
    "    \n",
    "    loss_generator_epoch = []\n",
    "    loss_discriminator_epoch = []\n",
    "    \n",
    "    for index_batch, (real) in enumerate(dataloader):\n",
    "        real        = real.to(device)\n",
    "        size_batch  = len(real)\n",
    "        latent      = torch.randn(size_batch, dim_latent, device=device)\n",
    "        latent      = torch.reshape(latent, [size_batch, dim_latent, 1, 1])\n",
    "\n",
    "        # ---------------------------------------------------------------------------\n",
    "        #  \n",
    "        # update the generator\n",
    "        #  \n",
    "        # ---------------------------------------------------------------------------\n",
    "        generator.train()\n",
    "        discriminator.eval()\n",
    "        \n",
    "        optimizer_generator.zero_grad()\n",
    "        fake = compute_prediction(generator, latent)\n",
    "        prediction_fake = compute_prediction(discriminator, fake)\n",
    "\n",
    "    #         label_fake = torch.ones_like(prediction_fake)\n",
    "    #         loss_label = nn.BCEWithLogitsLoss()(prediction_fake, label_fake)\n",
    "\n",
    "        loss_generator = -torch.mean(prediction_fake)\n",
    "        loss_generator.backward()\n",
    "        optimizer_generator.step()\n",
    "\n",
    "        # ---------------------------------------------------------------------------\n",
    "        #  \n",
    "        # update the discriminator\n",
    "        #  \n",
    "        # ---------------------------------------------------------------------------\n",
    "        generator.eval()\n",
    "        discriminator.train()\n",
    "        \n",
    "        optimizer_discriminator.zero_grad()\n",
    "        \n",
    "        prediction_real = compute_prediction(discriminator, real)\n",
    "        loss_real = -torch.mean(prediction_real)\n",
    "        \n",
    "        fake = compute_prediction(generator, latent)\n",
    "        prediction_fake = compute_prediction(discriminator, fake.detach())\n",
    "        loss_fake = torch.mean(prediction_fake)\n",
    "        \n",
    "        alpha = torch.randn((real.size(0), 1, 1, 1), device=device)\n",
    "        interpolates = (alpha * real + ((1 - alpha) * fake)).requires_grad_(True)\n",
    "        discriminator_interpolates = compute_prediction(discriminator, interpolates)\n",
    "        grad_outputs = torch.ones(discriminator_interpolates.size(), device=device, requires_grad=False)\n",
    "        gradients = torch.autograd.grad(\n",
    "            outputs = discriminator_interpolates,\n",
    "            inputs = interpolates,\n",
    "            grad_outputs = grad_outputs,\n",
    "            create_graph = True,\n",
    "            retain_graph = True,\n",
    "            only_inputs = True\n",
    "        )[0]\n",
    "        gradients = gradients.view(gradients.size(0), -1)\n",
    "        gradient_penalty = torch.mean((gradients.norm(2, dim=1) -1) ** 2)\n",
    "        \n",
    "#         loss_real = nn.BCEWithLogitsLoss()(prediction_real, torch.ones_like(prediction_real, device=device))\n",
    "#         loss_fake = nn.BCEWithLogitsLoss()(prediction_fake, torch.zeros_like(prediction_fake, device=device))\n",
    "#         loss_discriminator = loss_real + loss_fake\n",
    "\n",
    "        loss_discriminator = loss_real + loss_fake + 10 * gradient_penalty\n",
    "        loss_discriminator.backward()\n",
    "        optimizer_discriminator.step()\n",
    "        \n",
    "        loss_generator_epoch.append(loss_generator.item())\n",
    "        loss_discriminator_epoch.append(loss_discriminator.item())\n",
    "    \n",
    "    return np.mean(loss_generator_epoch), np.mean(loss_discriminator_epoch)\n",
    "        \n",
    "    \n",
    "# def calculate_gradient_penalty(model, real_images, fake_images):\n",
    "#     \"\"\"Calculates the gradient penalty loss for WGAN GP\"\"\"\n",
    "#     # Random weight term for interpolation between real and fake data\n",
    "#     alpha = torch.randn((real_images.size(0), 1, 1, 1), device=device)\n",
    "#     # Get random interpolation between real and fake data\n",
    "#     interpolates = (alpha * real_images + ((1 - alpha) * fake_images)).requires_grad_(True)\n",
    "\n",
    "#     model_interpolates = model(interpolates)\n",
    "#     grad_outputs = torch.ones(model_interpolates.size(), device=device, requires_grad=False)\n",
    "\n",
    "#     # Get gradient w.r.t. interpolates\n",
    "#     gradients = torch.autograd.grad(\n",
    "#         outputs=model_interpolates,\n",
    "#         inputs=interpolates,\n",
    "#         grad_outputs=grad_outputs,\n",
    "#         create_graph=True,\n",
    "#         retain_graph=True,\n",
    "#         only_inputs=True,\n",
    "#     )[0]\n",
    "#     gradients = gradients.view(gradients.size(0), -1)\n",
    "#     gradient_penalty = torch.mean((gradients.norm(2, dim=1) - 1) ** 2)\n",
    "#     return gradient_penalty"
   ]
  },
  {
   "cell_type": "markdown",
   "metadata": {},
   "source": [
    "## test"
   ]
  },
  {
   "cell_type": "code",
   "execution_count": 22,
   "metadata": {},
   "outputs": [],
   "source": [
    "def test(generator, latent):\n",
    "    \n",
    "    generator.eval()\n",
    "    \n",
    "    prediction  = generator(latent)\n",
    "    prediction  = prediction.squeeze(axis=1)\n",
    "    accuracy    = compute_accuracy(prediction)\n",
    "    \n",
    "    return accuracy"
   ]
  },
  {
   "cell_type": "markdown",
   "metadata": {},
   "source": [
    "## training epoch"
   ]
  },
  {
   "cell_type": "code",
   "execution_count": 23,
   "metadata": {
    "scrolled": true
   },
   "outputs": [
    {
     "name": "stdout",
     "output_type": "stream",
     "text": [
      "epoch 0, loss_generator = 0.503915617821945, loss_discriminator=-0.33853431984230326, accuracy=71.52915954589844\n",
      "epoch 1, loss_generator = 1.1185224009884729, loss_discriminator=-2.2216473001020924, accuracy=49.53202438354492\n",
      "epoch 2, loss_generator = 1.2760418401824103, loss_discriminator=-2.837009737226698, accuracy=89.29109191894531\n",
      "epoch 3, loss_generator = 0.9717875992810284, loss_discriminator=-2.9018710445474696, accuracy=94.730224609375\n",
      "epoch 4, loss_generator = 0.9930142437970196, loss_discriminator=-4.417212161311397, accuracy=91.43563079833984\n",
      "epoch 5, loss_generator = 1.151142460770077, loss_discriminator=-6.7847011283591945, accuracy=90.77688598632812\n",
      "epoch 6, loss_generator = 1.2406208060405872, loss_discriminator=-8.450734180874294, accuracy=87.71849060058594\n",
      "epoch 7, loss_generator = 1.3864553345574273, loss_discriminator=-10.527148034837511, accuracy=87.34127807617188\n",
      "epoch 8, loss_generator = 1.4008048481411404, loss_discriminator=-12.980034768139875, accuracy=85.64397430419922\n",
      "epoch 9, loss_generator = 1.4826953331629436, loss_discriminator=-14.85821800938359, accuracy=87.05673217773438\n",
      "epoch 10, loss_generator = 1.472011180277224, loss_discriminator=-17.924839697943792, accuracy=85.44099426269531\n",
      "epoch 11, loss_generator = 1.5131950784612584, loss_discriminator=-19.983225949605306, accuracy=87.73259735107422\n",
      "epoch 12, loss_generator = 1.4824042920713072, loss_discriminator=-20.665676936396846, accuracy=87.52335357666016\n",
      "epoch 13, loss_generator = 1.4287743798008672, loss_discriminator=-23.75893871166088, accuracy=87.8910903930664\n",
      "epoch 14, loss_generator = 1.5538144712094908, loss_discriminator=-24.864993893658674, accuracy=87.96945190429688\n",
      "epoch 15, loss_generator = 1.4503817999804463, loss_discriminator=-26.81385048053883, accuracy=87.62033081054688\n",
      "epoch 16, loss_generator = 1.2321027601206744, loss_discriminator=-28.491618234139903, accuracy=87.54611206054688\n",
      "epoch 17, loss_generator = 1.306159285262779, loss_discriminator=-30.34004299022533, accuracy=88.77948760986328\n",
      "epoch 18, loss_generator = 1.161683898501926, loss_discriminator=-32.47677707672119, accuracy=88.64981842041016\n",
      "epoch 19, loss_generator = 1.1966250845679531, loss_discriminator=-33.864060465494795, accuracy=89.69596862792969\n",
      "epoch 20, loss_generator = 1.179703629899908, loss_discriminator=-35.95877202351888, accuracy=88.88458251953125\n",
      "epoch 21, loss_generator = 1.0108339222492995, loss_discriminator=-37.900306108262804, accuracy=89.36962127685547\n",
      "epoch 22, loss_generator = 0.9960703965690401, loss_discriminator=-39.97469954314055, accuracy=89.6775894165039\n",
      "epoch 23, loss_generator = 0.9109918848783881, loss_discriminator=-41.05132908997712, accuracy=89.71392059326172\n",
      "epoch 24, loss_generator = 0.8712498473624388, loss_discriminator=-43.221011578595196, accuracy=91.68890380859375\n",
      "epoch 25, loss_generator = 0.6336124455901208, loss_discriminator=-44.54161181979709, accuracy=90.81693267822266\n",
      "epoch 26, loss_generator = 0.727721710116775, loss_discriminator=-46.95090124342177, accuracy=91.693603515625\n",
      "epoch 27, loss_generator = 0.651809769730877, loss_discriminator=-48.2537663353814, accuracy=91.28257751464844\n",
      "epoch 28, loss_generator = 0.7540424744564074, loss_discriminator=-50.798027264630356, accuracy=90.91825866699219\n",
      "epoch 29, loss_generator = 0.8241150574551688, loss_discriminator=-51.96918588567663, accuracy=91.47077941894531\n",
      "epoch 30, loss_generator = 0.8437443618973096, loss_discriminator=-53.80148195337366, accuracy=91.50469970703125\n",
      "epoch 31, loss_generator = 0.6120024221086944, loss_discriminator=-53.949416930587205, accuracy=92.42108154296875\n",
      "epoch 32, loss_generator = 0.8130738228559494, loss_discriminator=-58.36027990270544, accuracy=91.70464324951172\n",
      "epoch 33, loss_generator = 0.7283002055077641, loss_discriminator=-58.654950827139395, accuracy=91.84928894042969\n",
      "epoch 34, loss_generator = 0.7615898788389233, loss_discriminator=-59.04262277108651, accuracy=92.50406646728516\n",
      "epoch 35, loss_generator = 0.3455073829326365, loss_discriminator=-55.18628791526512, accuracy=92.78617095947266\n",
      "epoch 36, loss_generator = 0.3811867049170865, loss_discriminator=-62.880783264725295, accuracy=92.84616088867188\n",
      "epoch 37, loss_generator = 0.5573228227457514, loss_discriminator=-64.24517717008237, accuracy=91.04035186767578\n",
      "epoch 38, loss_generator = 0.37654115938478044, loss_discriminator=-66.13719401889377, accuracy=91.51759338378906\n",
      "epoch 39, loss_generator = 0.8183876475802174, loss_discriminator=-67.42543429621944, accuracy=92.68464660644531\n",
      "epoch 40, loss_generator = 0.8255640133939407, loss_discriminator=-68.44926061277036, accuracy=91.5256576538086\n",
      "epoch 41, loss_generator = 0.8983061740243876, loss_discriminator=-71.76501334861473, accuracy=90.53462982177734\n",
      "epoch 42, loss_generator = 1.1193842784122185, loss_discriminator=-73.66745746753834, accuracy=89.89727020263672\n",
      "epoch 43, loss_generator = 1.1456435231698885, loss_discriminator=-75.06399222479926, accuracy=90.26058959960938\n",
      "epoch 44, loss_generator = 1.152470079837022, loss_discriminator=-76.71666949236834, accuracy=90.63043212890625\n",
      "epoch 45, loss_generator = 1.06442045957126, loss_discriminator=-77.99441768504956, accuracy=92.20064544677734\n",
      "epoch 46, loss_generator = 1.0123374591271082, loss_discriminator=-78.98614989386664, accuracy=90.40557861328125\n",
      "epoch 47, loss_generator = 0.7510051150564794, loss_discriminator=-80.43328588980215, accuracy=89.5782241821289\n",
      "epoch 48, loss_generator = 0.7083285437137993, loss_discriminator=-83.89508209228515, accuracy=90.72080993652344\n",
      "epoch 49, loss_generator = 0.7708599832046915, loss_discriminator=-84.98435648458975, accuracy=89.85675048828125\n",
      "epoch 50, loss_generator = 0.9616086664575118, loss_discriminator=-87.42875061035156, accuracy=90.54197692871094\n",
      "epoch 51, loss_generator = 0.9330011159457542, loss_discriminator=-89.17838759245696, accuracy=89.97632598876953\n",
      "epoch 52, loss_generator = 0.9271007686025566, loss_discriminator=-91.05353670473453, accuracy=91.158447265625\n",
      "epoch 53, loss_generator = 0.6520044755604532, loss_discriminator=-92.9629985668041, accuracy=89.70347595214844\n",
      "epoch 54, loss_generator = 0.849989789834729, loss_discriminator=-95.00355781272606, accuracy=90.35733032226562\n",
      "epoch 55, loss_generator = 0.6609321771396531, loss_discriminator=-95.4451549106174, accuracy=91.4005126953125\n",
      "epoch 56, loss_generator = 0.8947835458649529, loss_discriminator=-98.62724377667462, accuracy=91.38721466064453\n",
      "epoch 57, loss_generator = 0.9641752264703866, loss_discriminator=-101.11161691171152, accuracy=89.22776794433594\n",
      "epoch 58, loss_generator = 1.0280398493011793, loss_discriminator=-102.50510734275535, accuracy=90.40799713134766\n",
      "epoch 59, loss_generator = 0.9615814129511515, loss_discriminator=-104.13670496057581, accuracy=91.38896179199219\n",
      "epoch 60, loss_generator = 0.8882599638568031, loss_discriminator=-107.12272706208405, accuracy=90.77073669433594\n",
      "epoch 61, loss_generator = 0.7970425276844589, loss_discriminator=-108.96917574847186, accuracy=93.43922424316406\n",
      "epoch 62, loss_generator = 0.880447988708814, loss_discriminator=-111.44166960539641, accuracy=92.3386001586914\n",
      "epoch 63, loss_generator = 0.892995763708044, loss_discriminator=-113.61045328776042, accuracy=89.68418884277344\n",
      "epoch 64, loss_generator = 1.013869016672726, loss_discriminator=-116.54280582004124, accuracy=91.16751098632812\n",
      "epoch 65, loss_generator = 1.028896749957844, loss_discriminator=-117.62681619149667, accuracy=91.12358856201172\n",
      "epoch 66, loss_generator = 0.760909361668207, loss_discriminator=-119.31803944905599, accuracy=91.14472961425781\n",
      "epoch 67, loss_generator = 0.7836612050042108, loss_discriminator=-121.36128749140987, accuracy=90.74212646484375\n",
      "epoch 68, loss_generator = 0.7977598595674391, loss_discriminator=-124.52232389096861, accuracy=90.87692260742188\n",
      "epoch 69, loss_generator = 0.3381265378453665, loss_discriminator=-124.9658252009639, accuracy=92.55377960205078\n",
      "epoch 70, loss_generator = 0.20392753038969305, loss_discriminator=-128.68827356409145, accuracy=92.39111328125\n",
      "epoch 71, loss_generator = 0.3107423097171165, loss_discriminator=-131.1542967054579, accuracy=91.94351959228516\n",
      "epoch 72, loss_generator = 0.21851976798088463, loss_discriminator=-131.77109504982278, accuracy=91.16912841796875\n"
     ]
    },
    {
     "name": "stdout",
     "output_type": "stream",
     "text": [
      "epoch 73, loss_generator = 0.37128205480123005, loss_discriminator=-135.51030183015047, accuracy=89.69218444824219\n",
      "epoch 74, loss_generator = 0.27948425620518347, loss_discriminator=-136.67487954033746, accuracy=87.35245513916016\n",
      "epoch 75, loss_generator = 0.21199236336957525, loss_discriminator=-140.00785788076897, accuracy=88.58209228515625\n",
      "epoch 76, loss_generator = 0.6231651433088161, loss_discriminator=-142.21348317464194, accuracy=86.70240020751953\n",
      "epoch 77, loss_generator = 0.5990358525128276, loss_discriminator=-144.7850835164388, accuracy=86.50718688964844\n",
      "epoch 78, loss_generator = 0.5017055686563253, loss_discriminator=-146.88484655309605, accuracy=87.4228744506836\n",
      "epoch 79, loss_generator = 0.3350849598646164, loss_discriminator=-148.3929338808413, accuracy=86.30726623535156\n",
      "epoch 80, loss_generator = -0.2220048378739092, loss_discriminator=-149.22560249611183, accuracy=86.93464660644531\n",
      "epoch 81, loss_generator = 0.032234638280890605, loss_discriminator=-153.43075911910447, accuracy=85.67346954345703\n",
      "epoch 82, loss_generator = 0.08458023728043945, loss_discriminator=-155.57265444155092, accuracy=86.75233459472656\n",
      "epoch 83, loss_generator = 0.4763583388869409, loss_discriminator=-157.8676676997432, accuracy=84.5008316040039\n",
      "epoch 84, loss_generator = -0.47566515887501065, loss_discriminator=-159.7126335426613, accuracy=85.28409576416016\n",
      "epoch 85, loss_generator = 0.09546245712510966, loss_discriminator=-162.3110970956308, accuracy=85.55191802978516\n",
      "epoch 86, loss_generator = 0.3937771813874995, loss_discriminator=-164.76185506184896, accuracy=84.7285385131836\n",
      "epoch 87, loss_generator = -0.03571014383600818, loss_discriminator=-167.34311907732928, accuracy=84.14689636230469\n",
      "epoch 88, loss_generator = 0.3314332715270144, loss_discriminator=-169.35779797589336, accuracy=85.154052734375\n",
      "epoch 89, loss_generator = -0.914381663363289, loss_discriminator=-169.49754644323278, accuracy=84.42996978759766\n",
      "epoch 90, loss_generator = -0.9224464693555126, loss_discriminator=-174.02419151023582, accuracy=84.55650329589844\n",
      "epoch 91, loss_generator = -0.6771890912342955, loss_discriminator=-175.95069139268662, accuracy=84.638427734375\n",
      "epoch 92, loss_generator = -0.36542371522497247, loss_discriminator=-178.96101029007522, accuracy=84.45661926269531\n",
      "epoch 93, loss_generator = 0.04357609767121849, loss_discriminator=-179.99589391637733, accuracy=83.3475112915039\n",
      "epoch 94, loss_generator = -0.6032830810381307, loss_discriminator=-182.9463673909505, accuracy=83.61351776123047\n",
      "epoch 95, loss_generator = -0.3949317910053112, loss_discriminator=-185.26580426251448, accuracy=81.58613586425781\n",
      "epoch 96, loss_generator = -0.5327068293260203, loss_discriminator=-187.96055456090858, accuracy=81.70246124267578\n",
      "epoch 97, loss_generator = -0.8349518011013667, loss_discriminator=-190.1328603108724, accuracy=80.86246490478516\n",
      "epoch 98, loss_generator = -0.6050920360859622, loss_discriminator=-192.32936785662616, accuracy=81.45368957519531\n",
      "epoch 99, loss_generator = -0.06836751261726022, loss_discriminator=-194.83249975133825, accuracy=78.97813415527344\n"
     ]
    }
   ],
   "source": [
    "number_epoch    = 100\n",
    "accuracy_epoch  = np.zeros(number_epoch)\n",
    "loss_generator = np.zeros(number_epoch)\n",
    "loss_discriminator = np.zeros(number_epoch)\n",
    "\n",
    "num_latent_test = 100\n",
    "latent_test = torch.randn(num_latent_test, dim_latent, device=device)\n",
    "latent_test = torch.reshape(latent_test, [num_latent_test, dim_latent, 1, 1])\n",
    "\n",
    "for i in range(number_epoch):\n",
    "    loss_generator_epoch, loss_discriminator_epoch = train(generator, discriminator, dataloader_real)\n",
    "    accuracy = test(generator, latent_test)\n",
    "    accuracy_epoch[i] = accuracy\n",
    "    \n",
    "    loss_generator[i] = loss_generator_epoch\n",
    "    loss_discriminator[i] = loss_discriminator_epoch\n",
    "    print(f'epoch {i}, loss_generator = {loss_generator_epoch}, loss_discriminator={loss_discriminator_epoch}, accuracy={accuracy}')"
   ]
  },
  {
   "cell_type": "code",
   "execution_count": 25,
   "metadata": {},
   "outputs": [
    {
     "data": {
      "image/png": "[encoded data removed]",
      "text/plain": [
       "<Figure size 576x432 with 1 Axes>"
      ]
     },
     "metadata": {
      "needs_background": "light"
     },
     "output_type": "display_data"
    }
   ],
   "source": [
    "plt.figure(figsize=(8, 6))\n",
    "plt.plot(loss_generator, label='loss_generator')\n",
    "plt.plot(loss_discriminator, label='loss_discriminator')\n",
    "# plt.ylim(0,1)\n",
    "plt.legend()\n",
    "plt.title('loss')\n",
    "plt.show()"
   ]
  },
  {
   "cell_type": "markdown",
   "metadata": {},
   "source": [
    "---"
   ]
  },
  {
   "cell_type": "markdown",
   "metadata": {},
   "source": [
    "# functions for presenting the results"
   ]
  },
  {
   "cell_type": "markdown",
   "metadata": {},
   "source": [
    "---"
   ]
  },
  {
   "cell_type": "code",
   "execution_count": 22,
   "metadata": {},
   "outputs": [
    {
     "data": {
      "text/plain": [
       "(tensor(0.8369), tensor(1.5496e-17), torch.Size([16, 32, 32]))"
      ]
     },
     "execution_count": 22,
     "metadata": {},
     "output_type": "execute_result"
    }
   ],
   "source": [
    "num_latent_visualize = 16\n",
    "\n",
    "latent_visualize = torch.randn(num_latent_visualize, dim_latent, device=device)\n",
    "latent_visualize = torch.reshape(latent_visualize, [num_latent_visualize, dim_latent, 1, 1]) \n",
    "\n",
    "prediction = compute_prediction(generator, latent_visualize)\n",
    "prediction = prediction.squeeze(axis=1)\n",
    "\n",
    "fake = prediction.detach().cpu()\n",
    "\n",
    "nRow = 4\n",
    "nCol = 4 \n",
    "size = 3 \n",
    "\n",
    "fake.max(), fake.min(), fake.size()\n",
    "\n",
    "# title = 'fake image'\n",
    "# fig, axes = plt.subplots(nRow, nCol, figsize=(size * nCol, size * nRow))\n",
    "# fig.suptitle(title, fontsize=16)\n",
    "\n",
    "# for r in range(nRow): \n",
    "#     for c in range(nCol):\n",
    "#         k = c + r * nCol\n",
    "#         axes[r, c].imshow(fake[k], cmap='gray', vmin=0, vmax=1)\n",
    "#         axes[r, c].xaxis.set_visible(False)\n",
    "#         axes[r, c].yaxis.set_visible(False)\n",
    "\n",
    "# plt.tight_layout()\n",
    "# plt.show()"
   ]
  },
  {
   "cell_type": "code",
   "execution_count": 26,
   "metadata": {},
   "outputs": [],
   "source": [
    "def function_result_01():\n",
    "\n",
    "    num_latent_visualize = 16\n",
    "\n",
    "    latent_visualize = torch.randn(num_latent_visualize, dim_latent, device=device)\n",
    "    latent_visualize = torch.reshape(latent_visualize, [num_latent_visualize, dim_latent, 1, 1]) \n",
    "\n",
    "    prediction = compute_prediction(generator, latent_visualize)\n",
    "    prediction = prediction.squeeze(axis=1)\n",
    "    prediction_binary = (prediction >= 0.5)\n",
    "    bounding_mask = compute_bounding_mask(prediction_binary)\n",
    "        \n",
    "    fake = prediction.detach().cpu()\n",
    "    mask = bounding_mask.detach().cpu()\n",
    "\n",
    "    nRow = 4\n",
    "    nCol = 4 \n",
    "    size = 3 \n",
    "    \n",
    "    title = 'fake image'\n",
    "    fig, axes = plt.subplots(nRow, nCol, figsize=(size * nCol, size * nRow))\n",
    "    fig.suptitle(title, fontsize=16)\n",
    "\n",
    "    for r in range(nRow): \n",
    "        for c in range(nCol):\n",
    "            k = c + r * nCol\n",
    "            axes[r, c].imshow(fake[k], cmap='gray', vmin=0, vmax=1)\n",
    "            axes[r, c].xaxis.set_visible(False)\n",
    "            axes[r, c].yaxis.set_visible(False)\n",
    "\n",
    "    plt.tight_layout()\n",
    "    plt.show()\n",
    "    \n",
    "    title = 'bounding mask'\n",
    "    fig, axes = plt.subplots(nRow, nCol, figsize=(size * nCol, size * nRow))\n",
    "    fig.suptitle(title, fontsize=16)\n",
    "\n",
    "    for r in range(nRow): \n",
    "        for c in range(nCol):\n",
    "            k = c + r * nCol\n",
    "            axes[r, c].imshow(mask[k], cmap='gray', vmin=0, vmax=1)\n",
    "            axes[r, c].xaxis.set_visible(False)\n",
    "            axes[r, c].yaxis.set_visible(False)\n",
    "                        \n",
    "    plt.tight_layout()\n",
    "    plt.show()"
   ]
  },
  {
   "cell_type": "code",
   "execution_count": 27,
   "metadata": {},
   "outputs": [],
   "source": [
    "def function_result_02():\n",
    "\n",
    "    title           = 'accuracy'\n",
    "    label_axis_x    = 'epoch' \n",
    "    label_axis_y    = 'accuracy'\n",
    "    \n",
    "    plt.figure(figsize=(8, 6))\n",
    "    plt.title(title)\n",
    "    \n",
    "    plt.plot(accuracy_epoch)\n",
    "    \n",
    "    plt.xlabel(label_axis_x)\n",
    "    plt.ylabel(label_axis_y)\n",
    "\n",
    "    plt.tight_layout()\n",
    "    plt.show()"
   ]
  },
  {
   "cell_type": "code",
   "execution_count": 28,
   "metadata": {},
   "outputs": [],
   "source": [
    "def function_result_03():\n",
    "\n",
    "    print('final accuracy = %9.8f' % (accuracy_epoch[-1]))"
   ]
  },
  {
   "cell_type": "markdown",
   "metadata": {},
   "source": [
    "---"
   ]
  },
  {
   "cell_type": "markdown",
   "metadata": {},
   "source": [
    "## results"
   ]
  },
  {
   "cell_type": "markdown",
   "metadata": {},
   "source": [
    "---"
   ]
  },
  {
   "cell_type": "code",
   "execution_count": 29,
   "metadata": {},
   "outputs": [
    {
     "name": "stdout",
     "output_type": "stream",
     "text": [
      "\n",
      "################################################################################\n",
      "#\n",
      "# RESULT # 01\n",
      "#\n",
      "################################################################################\n",
      "\n"
     ]
    },
    {
     "data": {
      "image/png": "[encoded data removed]",
      "text/plain": [
       "<Figure size 864x864 with 16 Axes>"
      ]
     },
     "metadata": {
      "needs_background": "light"
     },
     "output_type": "display_data"
    },
    {
     "data": {
      "image/png": "[encoded data removed]",
      "text/plain": [
       "<Figure size 864x864 with 16 Axes>"
      ]
     },
     "metadata": {
      "needs_background": "light"
     },
     "output_type": "display_data"
    },
    {
     "name": "stdout",
     "output_type": "stream",
     "text": [
      "\n",
      "################################################################################\n",
      "#\n",
      "# RESULT # 02\n",
      "#\n",
      "################################################################################\n",
      "\n"
     ]
    },
    {
     "data": {
      "image/png": "[encoded data removed]",
      "text/plain": [
       "<Figure size 576x432 with 1 Axes>"
      ]
     },
     "metadata": {
      "needs_background": "light"
     },
     "output_type": "display_data"
    },
    {
     "name": "stdout",
     "output_type": "stream",
     "text": [
      "\n",
      "################################################################################\n",
      "#\n",
      "# RESULT # 03\n",
      "#\n",
      "################################################################################\n",
      "\n",
      "final accuracy = 78.97813416\n"
     ]
    }
   ],
   "source": [
    "number_result = 3\n",
    "\n",
    "for i in range(number_result):\n",
    "\n",
    "    title           = '# RESULT # {:02d}'.format(i+1) \n",
    "    name_function   = 'function_result_{:02d}()'.format(i+1)\n",
    "\n",
    "    print('') \n",
    "    print('################################################################################')\n",
    "    print('#') \n",
    "    print(title)\n",
    "    print('#') \n",
    "    print('################################################################################')\n",
    "    print('') \n",
    "\n",
    "    eval(name_function)"
   ]
  },
  {
   "cell_type": "code",
   "execution_count": 24,
   "metadata": {},
   "outputs": [],
   "source": [
    "# https://github.com/Lornatang/WassersteinGAN_GP-PyTorch/tree/master"
   ]
  }
 ],
 "metadata": {
  "colab": {
   "authorship_tag": "ABX9TyM0gXqiryv5831mXd12OejK",
   "collapsed_sections": [],
   "name": "assignment_02.ipynb",
   "provenance": []
  },
  "kernelspec": {
   "display_name": "Python 3",
   "language": "python",
   "name": "python3"
  },
  "language_info": {
   "codemirror_mode": {
    "name": "ipython",
    "version": 3
   },
   "file_extension": ".py",
   "mimetype": "text/x-python",
   "name": "python",
   "nbconvert_exporter": "python",
   "pygments_lexer": "ipython3",
   "version": "3.7.10"
  },
  "vscode": {
   "interpreter": {
    "hash": "31f2aee4e71d21fbe5cf8b01ff0e069b9275f58929596ceb00d14d90e3e16cd6"
   }
  }
 },
 "nbformat": 4,
 "nbformat_minor": 2
}
