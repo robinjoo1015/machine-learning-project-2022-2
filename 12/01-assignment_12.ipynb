{
 "cells": [
  {
   "cell_type": "markdown",
   "metadata": {
    "colab": {
     "base_uri": "https://localhost:8080/"
    },
    "executionInfo": {
     "elapsed": 5,
     "status": "ok",
     "timestamp": 1630597918894,
     "user": {
      "displayName": "Byung-Woo Hong",
      "photoUrl": "",
      "userId": "17273657108187629509"
     },
     "user_tz": -540
    },
    "id": "K29I-OwCEYzW",
    "outputId": "db8b297c-a4b8-457a-b43f-7570135306c7"
   },
   "source": [
    "# Image Generation via Generative Adversarial Networks"
   ]
  },
  {
   "cell_type": "markdown",
   "metadata": {},
   "source": [
    "## import libraries"
   ]
  },
  {
   "cell_type": "code",
   "execution_count": 1,
   "metadata": {},
   "outputs": [],
   "source": [
    "import torch\n",
    "import torchvision\n",
    "from torch.utils.data import Dataset\n",
    "from os import listdir\n",
    "from os.path import join\n",
    "from torchvision import datasets, transforms\n",
    "from torch.utils.data import DataLoader\n",
    "from PIL import Image\n",
    "import matplotlib.pyplot as plt\n",
    "import numpy as np\n",
    "import torch.nn as nn\n",
    "import torch.nn.functional as F\n",
    "import torch.optim as optim\n",
    "from math import log10\n",
    "from tqdm import tqdm\n",
    "import os"
   ]
  },
  {
   "cell_type": "markdown",
   "metadata": {},
   "source": [
    "## load data"
   ]
  },
  {
   "cell_type": "code",
   "execution_count": 2,
   "metadata": {},
   "outputs": [],
   "source": [
    "directory_data  = './'\n",
    "filename_data   = 'assignment_12_data.npz'\n",
    "data            = np.load(os.path.join(directory_data, filename_data))\n",
    "real            = data['real_images']"
   ]
  },
  {
   "cell_type": "code",
   "execution_count": 3,
   "metadata": {},
   "outputs": [
    {
     "name": "stdout",
     "output_type": "stream",
     "text": [
      "size of real data: (4324, 32, 32)\n"
     ]
    }
   ],
   "source": [
    "print('size of real data:', real.shape)"
   ]
  },
  {
   "cell_type": "markdown",
   "metadata": {},
   "source": [
    "## plot data"
   ]
  },
  {
   "cell_type": "code",
   "execution_count": 4,
   "metadata": {},
   "outputs": [],
   "source": [
    "def plot_image(title, image):\n",
    "    \n",
    "    nRow = 3\n",
    "    nCol = 4\n",
    "    size = 3\n",
    "    \n",
    "    fig, axes = plt.subplots(nRow, nCol, figsize=(size * nCol, size * nRow))\n",
    "    fig.suptitle(title, fontsize=16)\n",
    "   \n",
    "    for r in range(nRow): \n",
    "        for c in range(nCol):\n",
    "            k = c * 300 + r * nCol * 300\n",
    "            axes[r, c].imshow(image[k], cmap='gray')\n",
    "\n",
    "    plt.tight_layout()\n",
    "    plt.show()"
   ]
  },
  {
   "cell_type": "code",
   "execution_count": 5,
   "metadata": {},
   "outputs": [
    {
     "data": {
      "image/png": "[encoded data removed]",
      "text/plain": [
       "<Figure size 864x648 with 12 Axes>"
      ]
     },
     "metadata": {
      "needs_background": "light"
     },
     "output_type": "display_data"
    }
   ],
   "source": [
    "plot_image('training data', real)"
   ]
  },
  {
   "cell_type": "markdown",
   "metadata": {},
   "source": [
    "## custom data loader for the PyTorch framework"
   ]
  },
  {
   "cell_type": "code",
   "execution_count": 6,
   "metadata": {},
   "outputs": [],
   "source": [
    "class dataset(Dataset):\n",
    "    \n",
    "    def __init__(self, image):\n",
    "        \n",
    "        self.image = image\n",
    "    \n",
    "    def __getitem__(self, index):\n",
    "        \n",
    "        sample  = self.image[index]\n",
    "        sample  = torch.FloatTensor(sample).unsqueeze(dim=0)\n",
    "\n",
    "        return (sample)\n",
    "    \n",
    "    def __len__(self):\n",
    "\n",
    "        number_image = len(self.image)\n",
    "\n",
    "        return (number_image)"
   ]
  },
  {
   "cell_type": "markdown",
   "metadata": {},
   "source": [
    "## setting device"
   ]
  },
  {
   "cell_type": "code",
   "execution_count": 7,
   "metadata": {},
   "outputs": [],
   "source": [
    "device = torch.device('cuda' if torch.cuda.is_available() else 'mps')"
   ]
  },
  {
   "cell_type": "code",
   "execution_count": 8,
   "metadata": {},
   "outputs": [
    {
     "name": "stdout",
     "output_type": "stream",
     "text": [
      "cuda\n"
     ]
    }
   ],
   "source": [
    "print(device)"
   ]
  },
  {
   "cell_type": "code",
   "execution_count": 9,
   "metadata": {},
   "outputs": [],
   "source": [
    "# random seed\n",
    "import random\n",
    "random.seed(20184757)\n",
    "np.random.seed(20184757)\n",
    "torch.manual_seed(20184757)\n",
    "torch.cuda.manual_seed(20184757)\n",
    "torch.cuda.manual_seed_all(20184757)\n",
    "torch.backends.cudnn.deterministic = True\n",
    "torch.backends.cudnn.benchmark = False"
   ]
  },
  {
   "cell_type": "markdown",
   "metadata": {},
   "source": [
    "## construct datasets and dataloaders "
   ]
  },
  {
   "cell_type": "code",
   "execution_count": 10,
   "metadata": {},
   "outputs": [],
   "source": [
    "size_minibatch  = 32\n",
    "dim_latent      = 64 # input latent vector fixed dimension \n",
    "\n",
    "dataset_real    = dataset(real)\n",
    "dataloader_real = torch.utils.data.DataLoader(dataset_real, batch_size=size_minibatch, shuffle=True, drop_last=True)"
   ]
  },
  {
   "cell_type": "markdown",
   "metadata": {},
   "source": [
    "## neural networks "
   ]
  },
  {
   "cell_type": "code",
   "execution_count": 11,
   "metadata": {},
   "outputs": [],
   "source": [
    "class Discriminator(nn.Module): \n",
    "    \n",
    "    def __init__(self):\n",
    "        \n",
    "        super(Discriminator, self).__init__()\n",
    "        \n",
    "        self.conv = nn.Sequential(\n",
    "            nn.Conv2d(in_channels=1, out_channels=64, kernel_size=4, stride=2, padding=1, bias=True),\n",
    "            nn.BatchNorm2d(64),\n",
    "            nn.LeakyReLU(0.2),\n",
    "            \n",
    "            nn.Conv2d(in_channels=64, out_channels=128, kernel_size=4, stride=2, padding=1, bias=True),\n",
    "            nn.BatchNorm2d(128),\n",
    "            nn.LeakyReLU(0.2),\n",
    "            \n",
    "            nn.Conv2d(in_channels=128, out_channels=256, kernel_size=4, stride=2, padding=1, bias=True),\n",
    "            nn.BatchNorm2d(256),\n",
    "            nn.LeakyReLU(0.2),\n",
    "            \n",
    "            nn.Conv2d(in_channels=256, out_channels=512, kernel_size=4, stride=2, padding=1, bias=True),\n",
    "            nn.BatchNorm2d(512),\n",
    "            nn.LeakyReLU(0.2),\n",
    "            \n",
    "            nn.Conv2d(in_channels=512, out_channels=1, kernel_size=4, stride=2, padding=1, bias=True),\n",
    "#             nn.BatchNorm2d(1024),\n",
    "#             nn.LeakyReLU(0.2),\n",
    "        )\n",
    "        \n",
    "#         self.classifier = nn.Sequential(\n",
    "#             nn.Linear(in_features=1024, out_features=256, bias=True),\n",
    "#             nn.LeakyReLU(0.2),\n",
    "            \n",
    "# #             nn.Linear(in_features=128, out_features=64, bias=True),\n",
    "# #             nn.LeakyReLU(0.2),\n",
    "            \n",
    "# #             nn.Linear(in_features=64, out_features=32, bias=True),\n",
    "# #             nn.LeakyReLU(0.2),\n",
    "            \n",
    "# #             nn.Linear(in_features=32, out_features=16, bias=True),\n",
    "# #             nn.LeakyReLU(0.2),\n",
    "            \n",
    "#             nn.Linear(in_features=256, out_features=1, bias=True),\n",
    "#         )\n",
    "        \n",
    "#         self.network = nn.Sequential(\n",
    "#             self.conv,\n",
    "#             nn.Flatten(),\n",
    "            \n",
    "#             self.classifier,\n",
    "#         )\n",
    "        \n",
    "    def forward(self, x):\n",
    "        out = self.conv(x)\n",
    "        out = torch.flatten(out)\n",
    "        \n",
    "        return out\n"
   ]
  },
  {
   "cell_type": "code",
   "execution_count": 12,
   "metadata": {},
   "outputs": [],
   "source": [
    "class Generator(nn.Module):\n",
    "    \n",
    "    def __init__(self):\n",
    "        \n",
    "        super(Generator, self).__init__()\n",
    "        \n",
    "        self.conv = nn.Sequential(\n",
    "#             nn.Upsample(scale_factor=2, mode='bilinear', align_corners=False),\n",
    "            nn.ConvTranspose2d(in_channels=dim_latent, out_channels=512, kernel_size=4, stride=1, padding=0, bias=True),\n",
    "#             nn.Conv2d(in_channels=1, out_channels=16, kernel_size=3, stride=1, padding=1, bias=True),\n",
    "            nn.BatchNorm2d(512),\n",
    "            nn.LeakyReLU(0.2),\n",
    "            \n",
    "#             nn.Upsample(scale_factor=2, mode='bilinear', align_corners=False),\n",
    "            nn.ConvTranspose2d(in_channels=512, out_channels=256, kernel_size=4, stride=2, padding=1, bias=True),\n",
    "#             nn.Conv2d(in_channels=16, out_channels=64, kernel_size=3, stride=1, padding=1, bias=True),\n",
    "            nn.BatchNorm2d(256),\n",
    "            nn.LeakyReLU(0.2),\n",
    "            \n",
    "#             nn.Upsample(scale_factor=2, mode='bilinear', align_corners=False),\n",
    "            nn.ConvTranspose2d(in_channels=256, out_channels=128, kernel_size=4, stride=2, padding=1, bias=True),\n",
    "#             nn.Conv2d(in_channels=64, out_channels=256, kernel_size=3, stride=1, padding=1, bias=True),\n",
    "            nn.BatchNorm2d(128),\n",
    "            nn.LeakyReLU(0.2),\n",
    "            \n",
    "#             nn.Upsample(scale_factor=2, mode='bilinear', align_corners=False),\n",
    "            nn.ConvTranspose2d(in_channels=128, out_channels=1, kernel_size=4, stride=2, padding=1, bias=True),\n",
    "#             nn.Conv2d(in_channels=256, out_channels=64, kernel_size=3, stride=1, padding=1, bias=True),\n",
    "#             nn.BatchNorm2d(64),\n",
    "#             nn.LeakyReLU(0.2),\n",
    "            \n",
    "#             nn.ConvTranspose2d(in_channels=64, out_channels=1, kernel_size=4, stride=2, padding=1, bias=True),\n",
    "#             nn.BatchNorm2d(16),\n",
    "#             nn.LeakyReLU(0.2),\n",
    "            \n",
    "#             nn.Upsample(scale_factor=2, mode='bilinear', align_corners=False),\n",
    "#             nn.ConvTranspose2d(in_channels=4, out_channels=8, kernel_size=2, stride=2, padding=0, bias=True),\n",
    "#             nn.Conv2d(in_channels=16, out_channels=1, kernel_size=3, stride=1, padding=1, bias=True),\n",
    "            \n",
    "            nn.Sigmoid()\n",
    "        )\n",
    "    \n",
    "    def forward(self, x):\n",
    "        \n",
    "#         self.batch_size = x.size(0)\n",
    "\n",
    "#         x = self.fc(x),\n",
    "# #         print(x, len(x))\n",
    "#         x = torch.reshape(x[0], [self.batch_size, 1, 32, 32])\n",
    "        out = self.conv(x)\n",
    "        \n",
    "#         out = self.network(x)\n",
    "        return out"
   ]
  },
  {
   "cell_type": "markdown",
   "metadata": {},
   "source": [
    "## build network"
   ]
  },
  {
   "cell_type": "code",
   "execution_count": 13,
   "metadata": {},
   "outputs": [],
   "source": [
    "generator       = Generator().to(device)\n",
    "discriminator   = Discriminator().to(device)\n",
    "\n",
    "optimizer_generator = torch.optim.AdamW(generator.parameters(), lr=0.001, betas=(0.5, 0.999))\n",
    "optimizer_discriminator = torch.optim.AdamW(discriminator.parameters(), lr=0.001, betas=(0.5, 0.999))"
   ]
  },
  {
   "cell_type": "markdown",
   "metadata": {},
   "source": [
    "## compute the prediction"
   ]
  },
  {
   "cell_type": "code",
   "execution_count": 14,
   "metadata": {},
   "outputs": [],
   "source": [
    "def compute_prediction(model, input):\n",
    "\n",
    "    prediction = model(input)\n",
    "\n",
    "    return prediction"
   ]
  },
  {
   "cell_type": "markdown",
   "metadata": {},
   "source": [
    "## compute the accuracy"
   ]
  },
  {
   "cell_type": "code",
   "execution_count": 15,
   "metadata": {},
   "outputs": [],
   "source": [
    "def compute_bounding_mask(prediction_binary):\n",
    "    \n",
    "    bounding_mask = torch.zeros_like(prediction_binary)\n",
    "    \n",
    "    for i in range(prediction_binary.shape[0]):\n",
    "        prediction = prediction_binary[i]\n",
    "        (idx_row, idx_col) = torch.nonzero(prediction, as_tuple=True)\n",
    "        \n",
    "        if len(idx_row) > 0: \n",
    "            idx_row_min = idx_row.min()\n",
    "            idx_row_max = idx_row.max()\n",
    "        \n",
    "            idx_col_min = idx_col.min()\n",
    "            idx_col_max = idx_col.max()\n",
    "    \n",
    "            bounding_mask[i, idx_row_min:idx_row_max+1, idx_col_min:idx_col_max+1] = 1 \n",
    "    \n",
    "    return bounding_mask"
   ]
  },
  {
   "cell_type": "code",
   "execution_count": 16,
   "metadata": {},
   "outputs": [],
   "source": [
    "def compute_accuracy(prediction):\n",
    "\n",
    "    binary      = (prediction >= 0.5)\n",
    "    mask        = compute_bounding_mask(binary)\n",
    "    \n",
    "    intersection = (binary & mask).float().sum((1, 2))\n",
    "    union        = (binary | mask).float().sum((1, 2))\n",
    "\n",
    "    eps         = 1e-8\n",
    "    correct     = (intersection + eps) / (union + eps)\n",
    "    accuracy    = correct.mean() * 100.0\n",
    "    accuracy    = accuracy.cpu() \n",
    "    \n",
    "    return accuracy"
   ]
  },
  {
   "cell_type": "markdown",
   "metadata": {},
   "source": [
    "## train"
   ]
  },
  {
   "cell_type": "code",
   "execution_count": 17,
   "metadata": {},
   "outputs": [],
   "source": [
    "def train(generator, discriminator, dataloader):\n",
    "    \n",
    "    loss_generator_epoch = []\n",
    "    loss_discriminator_epoch = []\n",
    "    \n",
    "    for index_batch, (real) in enumerate(dataloader):\n",
    "        real        = real.to(device)\n",
    "        size_batch  = len(real)\n",
    "        latent      = torch.randn(size_batch, dim_latent, device=device)\n",
    "        latent      = torch.reshape(latent, [size_batch, dim_latent, 1, 1])\n",
    "\n",
    "        # ---------------------------------------------------------------------------\n",
    "        #  \n",
    "        # update the generator\n",
    "        #  \n",
    "        # ---------------------------------------------------------------------------\n",
    "        generator.train()\n",
    "        discriminator.eval()\n",
    "        \n",
    "        optimizer_generator.zero_grad()\n",
    "        fake = compute_prediction(generator, latent)\n",
    "#         loss_image = nn.BCELoss()(fake, real)\n",
    "        prediction_fake = compute_prediction(discriminator, fake)\n",
    "        label_fake = torch.ones_like(prediction_fake)\n",
    "        loss_label = nn.BCEWithLogitsLoss()(prediction_fake, label_fake)\n",
    "#         loss_generator = 0.1 * loss_image + loss_label\n",
    "        loss_generator = loss_label\n",
    "        loss_generator.backward()\n",
    "        optimizer_generator.step()\n",
    "\n",
    "        # ---------------------------------------------------------------------------\n",
    "        #  \n",
    "        # update the discriminator\n",
    "        #  \n",
    "        # ---------------------------------------------------------------------------\n",
    "        generator.eval()\n",
    "        discriminator.train()\n",
    "        \n",
    "        optimizer_discriminator.zero_grad()\n",
    "        fake = compute_prediction(generator, latent)\n",
    "        prediction_real = compute_prediction(discriminator, real)\n",
    "        prediction_fake = compute_prediction(discriminator, fake)\n",
    "        loss_real = nn.BCEWithLogitsLoss()(prediction_real, torch.ones_like(prediction_real, device=device))\n",
    "        loss_fake = nn.BCEWithLogitsLoss()(prediction_fake, torch.zeros_like(prediction_fake, device=device))\n",
    "        loss_discriminator = loss_real + loss_fake\n",
    "        loss_discriminator.backward()\n",
    "        optimizer_discriminator.step()\n",
    "        \n",
    "        loss_generator_epoch.append(loss_generator.item())\n",
    "        loss_discriminator_epoch.append(loss_discriminator.item())\n",
    "    \n",
    "    return np.mean(loss_generator_epoch), np.mean(loss_discriminator_epoch)\n",
    "        "
   ]
  },
  {
   "cell_type": "markdown",
   "metadata": {},
   "source": [
    "## test"
   ]
  },
  {
   "cell_type": "code",
   "execution_count": 18,
   "metadata": {},
   "outputs": [],
   "source": [
    "def test(generator, latent):\n",
    "    \n",
    "    generator.eval()\n",
    "    \n",
    "    prediction  = generator(latent)\n",
    "    prediction  = prediction.squeeze(axis=1)\n",
    "    accuracy    = compute_accuracy(prediction)\n",
    "    \n",
    "    return accuracy"
   ]
  },
  {
   "cell_type": "markdown",
   "metadata": {},
   "source": [
    "## training epoch"
   ]
  },
  {
   "cell_type": "code",
   "execution_count": 19,
   "metadata": {
    "scrolled": true
   },
   "outputs": [
    {
     "name": "stderr",
     "output_type": "stream",
     "text": [
      "  1%|          | 1/100 [00:09<16:27,  9.97s/it]"
     ]
    },
    {
     "name": "stdout",
     "output_type": "stream",
     "text": [
      "epoch 0, loss_generator = 0.27908837854586266, loss_discriminator=0.05069771707855614, accuracy=38.28647994995117\n"
     ]
    },
    {
     "name": "stderr",
     "output_type": "stream",
     "text": [
      "  2%|▏         | 2/100 [00:17<13:39,  8.36s/it]"
     ]
    },
    {
     "name": "stdout",
     "output_type": "stream",
     "text": [
      "epoch 1, loss_generator = 0.0058854622645648546, loss_discriminator=0.00036986127276948, accuracy=41.763702392578125\n"
     ]
    },
    {
     "name": "stderr",
     "output_type": "stream",
     "text": [
      "  3%|▎         | 3/100 [00:24<12:30,  7.74s/it]"
     ]
    },
    {
     "name": "stdout",
     "output_type": "stream",
     "text": [
      "epoch 2, loss_generator = 0.007916470230729491, loss_discriminator=0.00020659465980888518, accuracy=44.936363220214844\n"
     ]
    },
    {
     "name": "stderr",
     "output_type": "stream",
     "text": [
      "  4%|▍         | 4/100 [00:30<11:14,  7.02s/it]"
     ]
    },
    {
     "name": "stdout",
     "output_type": "stream",
     "text": [
      "epoch 3, loss_generator = 0.0008480538747756293, loss_discriminator=6.495420594647941e-05, accuracy=45.282257080078125\n"
     ]
    },
    {
     "name": "stderr",
     "output_type": "stream",
     "text": [
      "  5%|▌         | 5/100 [00:35<10:27,  6.61s/it]"
     ]
    },
    {
     "name": "stdout",
     "output_type": "stream",
     "text": [
      "epoch 4, loss_generator = 0.0006145375569488991, loss_discriminator=4.8657934584534144e-05, accuracy=45.90927505493164\n"
     ]
    },
    {
     "name": "stderr",
     "output_type": "stream",
     "text": [
      "  6%|▌         | 6/100 [00:41<09:55,  6.34s/it]"
     ]
    },
    {
     "name": "stdout",
     "output_type": "stream",
     "text": [
      "epoch 5, loss_generator = 0.0004422952272256629, loss_discriminator=4.9844173082857636e-05, accuracy=45.569549560546875\n"
     ]
    },
    {
     "name": "stderr",
     "output_type": "stream",
     "text": [
      "  7%|▋         | 7/100 [00:47<09:33,  6.17s/it]"
     ]
    },
    {
     "name": "stdout",
     "output_type": "stream",
     "text": [
      "epoch 6, loss_generator = 0.0002326325468149864, loss_discriminator=2.796529874171096e-05, accuracy=48.23588562011719\n"
     ]
    },
    {
     "name": "stderr",
     "output_type": "stream",
     "text": [
      "  8%|▊         | 8/100 [00:53<09:18,  6.07s/it]"
     ]
    },
    {
     "name": "stdout",
     "output_type": "stream",
     "text": [
      "epoch 7, loss_generator = 0.00019069835177139827, loss_discriminator=2.0476873908558412e-05, accuracy=48.66431427001953\n"
     ]
    },
    {
     "name": "stderr",
     "output_type": "stream",
     "text": [
      "  9%|▉         | 9/100 [00:59<09:05,  6.00s/it]"
     ]
    },
    {
     "name": "stdout",
     "output_type": "stream",
     "text": [
      "epoch 8, loss_generator = 0.0001738041544471074, loss_discriminator=1.8040825468940764e-05, accuracy=46.92439270019531\n"
     ]
    },
    {
     "name": "stderr",
     "output_type": "stream",
     "text": [
      " 10%|█         | 10/100 [01:05<08:56,  5.96s/it]"
     ]
    },
    {
     "name": "stdout",
     "output_type": "stream",
     "text": [
      "epoch 9, loss_generator = 0.00015706141227080176, loss_discriminator=1.412254348704462e-05, accuracy=45.73443603515625\n"
     ]
    },
    {
     "name": "stderr",
     "output_type": "stream",
     "text": [
      " 11%|█         | 11/100 [01:11<08:48,  5.93s/it]"
     ]
    },
    {
     "name": "stdout",
     "output_type": "stream",
     "text": [
      "epoch 10, loss_generator = 0.0001640927050849078, loss_discriminator=1.331436456153083e-05, accuracy=44.7384033203125\n"
     ]
    },
    {
     "name": "stderr",
     "output_type": "stream",
     "text": [
      " 12%|█▏        | 12/100 [01:16<08:35,  5.86s/it]"
     ]
    },
    {
     "name": "stdout",
     "output_type": "stream",
     "text": [
      "epoch 11, loss_generator = 0.0002008186227478156, loss_discriminator=1.1524725010127036e-05, accuracy=43.773494720458984\n"
     ]
    },
    {
     "name": "stderr",
     "output_type": "stream",
     "text": [
      " 13%|█▎        | 13/100 [01:22<08:27,  5.83s/it]"
     ]
    },
    {
     "name": "stdout",
     "output_type": "stream",
     "text": [
      "epoch 12, loss_generator = 0.0002862241124535945, loss_discriminator=8.871568041757671e-06, accuracy=44.041015625\n"
     ]
    },
    {
     "name": "stderr",
     "output_type": "stream",
     "text": [
      " 14%|█▍        | 14/100 [01:28<08:21,  5.83s/it]"
     ]
    },
    {
     "name": "stdout",
     "output_type": "stream",
     "text": [
      "epoch 13, loss_generator = 0.00025562833406082874, loss_discriminator=7.750348433748715e-06, accuracy=43.359375\n"
     ]
    },
    {
     "name": "stderr",
     "output_type": "stream",
     "text": [
      " 15%|█▌        | 15/100 [01:34<08:15,  5.83s/it]"
     ]
    },
    {
     "name": "stdout",
     "output_type": "stream",
     "text": [
      "epoch 14, loss_generator = 0.00011348065063766963, loss_discriminator=6.96125281575843e-06, accuracy=44.4931640625\n"
     ]
    },
    {
     "name": "stderr",
     "output_type": "stream",
     "text": [
      " 16%|█▌        | 16/100 [01:40<08:09,  5.83s/it]"
     ]
    },
    {
     "name": "stdout",
     "output_type": "stream",
     "text": [
      "epoch 15, loss_generator = 3.510463732338933e-05, loss_discriminator=6.6692432213770826e-06, accuracy=45.2744140625\n"
     ]
    },
    {
     "name": "stderr",
     "output_type": "stream",
     "text": [
      " 17%|█▋        | 17/100 [01:45<08:03,  5.83s/it]"
     ]
    },
    {
     "name": "stdout",
     "output_type": "stream",
     "text": [
      "epoch 16, loss_generator = 2.212899102973838e-05, loss_discriminator=5.151432264096069e-06, accuracy=45.643836975097656\n"
     ]
    },
    {
     "name": "stderr",
     "output_type": "stream",
     "text": [
      " 18%|█▊        | 18/100 [01:51<07:57,  5.83s/it]"
     ]
    },
    {
     "name": "stdout",
     "output_type": "stream",
     "text": [
      "epoch 17, loss_generator = 2.248067817331671e-05, loss_discriminator=4.460959046439341e-06, accuracy=46.12592315673828\n"
     ]
    },
    {
     "name": "stderr",
     "output_type": "stream",
     "text": [
      " 19%|█▉        | 19/100 [01:57<07:51,  5.83s/it]"
     ]
    },
    {
     "name": "stdout",
     "output_type": "stream",
     "text": [
      "epoch 18, loss_generator = 1.6081610414807477e-05, loss_discriminator=3.9953820271842195e-06, accuracy=46.46600341796875\n"
     ]
    },
    {
     "name": "stderr",
     "output_type": "stream",
     "text": [
      " 20%|██        | 20/100 [02:03<07:47,  5.85s/it]"
     ]
    },
    {
     "name": "stdout",
     "output_type": "stream",
     "text": [
      "epoch 19, loss_generator = 1.2404032066923619e-05, loss_discriminator=3.5829799933843014e-06, accuracy=46.77989959716797\n"
     ]
    },
    {
     "name": "stderr",
     "output_type": "stream",
     "text": [
      " 21%|██        | 21/100 [02:09<07:42,  5.86s/it]"
     ]
    },
    {
     "name": "stdout",
     "output_type": "stream",
     "text": [
      "epoch 20, loss_generator = 1.1569385161338787e-05, loss_discriminator=3.2846538201906864e-06, accuracy=46.7526741027832\n"
     ]
    },
    {
     "name": "stderr",
     "output_type": "stream",
     "text": [
      " 22%|██▏       | 22/100 [02:15<07:36,  5.86s/it]"
     ]
    },
    {
     "name": "stdout",
     "output_type": "stream",
     "text": [
      "epoch 21, loss_generator = 1.1045450332016184e-05, loss_discriminator=2.969743339538885e-06, accuracy=46.367984771728516\n"
     ]
    },
    {
     "name": "stderr",
     "output_type": "stream",
     "text": [
      " 23%|██▎       | 23/100 [02:20<07:30,  5.86s/it]"
     ]
    },
    {
     "name": "stdout",
     "output_type": "stream",
     "text": [
      "epoch 22, loss_generator = 8.08671527044714e-06, loss_discriminator=2.775283605337285e-06, accuracy=45.83388137817383\n"
     ]
    },
    {
     "name": "stderr",
     "output_type": "stream",
     "text": [
      " 24%|██▍       | 24/100 [02:26<07:25,  5.86s/it]"
     ]
    },
    {
     "name": "stdout",
     "output_type": "stream",
     "text": [
      "epoch 23, loss_generator = 6.7186065684331375e-06, loss_discriminator=2.548455175336265e-06, accuracy=45.81318664550781\n"
     ]
    },
    {
     "name": "stderr",
     "output_type": "stream",
     "text": [
      " 25%|██▌       | 25/100 [02:32<07:19,  5.87s/it]"
     ]
    },
    {
     "name": "stdout",
     "output_type": "stream",
     "text": [
      "epoch 24, loss_generator = 6.911133793134165e-06, loss_discriminator=2.3589347687515396e-06, accuracy=45.939300537109375\n"
     ]
    },
    {
     "name": "stderr",
     "output_type": "stream",
     "text": [
      " 26%|██▌       | 26/100 [02:38<07:14,  5.87s/it]"
     ]
    },
    {
     "name": "stdout",
     "output_type": "stream",
     "text": [
      "epoch 25, loss_generator = 5.605468152646575e-06, loss_discriminator=2.284456645106224e-06, accuracy=45.22318649291992\n"
     ]
    },
    {
     "name": "stderr",
     "output_type": "stream",
     "text": [
      " 27%|██▋       | 27/100 [02:44<07:06,  5.85s/it]"
     ]
    },
    {
     "name": "stdout",
     "output_type": "stream",
     "text": [
      "epoch 26, loss_generator = 2.0656298475943106e-06, loss_discriminator=2.130754154239656e-06, accuracy=45.154449462890625\n"
     ]
    },
    {
     "name": "stderr",
     "output_type": "stream",
     "text": [
      " 28%|██▊       | 28/100 [02:50<07:00,  5.84s/it]"
     ]
    },
    {
     "name": "stdout",
     "output_type": "stream",
     "text": [
      "epoch 27, loss_generator = 2.613135851519204e-06, loss_discriminator=1.9000624762257858e-06, accuracy=45.13164520263672\n"
     ]
    },
    {
     "name": "stderr",
     "output_type": "stream",
     "text": [
      " 29%|██▉       | 29/100 [02:56<06:53,  5.82s/it]"
     ]
    },
    {
     "name": "stdout",
     "output_type": "stream",
     "text": [
      "epoch 28, loss_generator = 2.721638089429622e-06, loss_discriminator=1.7787285110494445e-06, accuracy=45.13555145263672\n"
     ]
    },
    {
     "name": "stderr",
     "output_type": "stream",
     "text": [
      " 30%|███       | 30/100 [03:01<06:47,  5.82s/it]"
     ]
    },
    {
     "name": "stdout",
     "output_type": "stream",
     "text": [
      "epoch 29, loss_generator = 1.9328441870432773e-06, loss_discriminator=1.6902598451485608e-06, accuracy=44.89081954956055\n"
     ]
    },
    {
     "name": "stderr",
     "output_type": "stream",
     "text": [
      " 31%|███       | 31/100 [03:07<06:40,  5.81s/it]"
     ]
    },
    {
     "name": "stdout",
     "output_type": "stream",
     "text": [
      "epoch 30, loss_generator = 1.5379641632130693e-06, loss_discriminator=1.6068962050094678e-06, accuracy=44.7032470703125\n"
     ]
    },
    {
     "name": "stderr",
     "output_type": "stream",
     "text": [
      " 32%|███▏      | 32/100 [03:13<06:35,  5.82s/it]"
     ]
    },
    {
     "name": "stdout",
     "output_type": "stream",
     "text": [
      "epoch 31, loss_generator = 1.9240967461613494e-06, loss_discriminator=1.4578571903324767e-06, accuracy=44.8547248840332\n"
     ]
    },
    {
     "name": "stderr",
     "output_type": "stream",
     "text": [
      " 33%|███▎      | 33/100 [03:19<06:31,  5.84s/it]"
     ]
    },
    {
     "name": "stdout",
     "output_type": "stream",
     "text": [
      "epoch 32, loss_generator = 2.0511978551372455e-06, loss_discriminator=1.3417938294811325e-06, accuracy=44.93077850341797\n"
     ]
    },
    {
     "name": "stderr",
     "output_type": "stream",
     "text": [
      " 34%|███▍      | 34/100 [03:25<06:23,  5.81s/it]"
     ]
    },
    {
     "name": "stdout",
     "output_type": "stream",
     "text": [
      "epoch 33, loss_generator = 1.7529544695409842e-06, loss_discriminator=1.2504276995699642e-06, accuracy=45.11378860473633\n"
     ]
    },
    {
     "name": "stderr",
     "output_type": "stream",
     "text": [
      " 35%|███▌      | 35/100 [03:30<06:19,  5.83s/it]"
     ]
    },
    {
     "name": "stdout",
     "output_type": "stream",
     "text": [
      "epoch 34, loss_generator = 1.6735645245986503e-06, loss_discriminator=1.1687197288497205e-06, accuracy=45.09895706176758\n"
     ]
    },
    {
     "name": "stderr",
     "output_type": "stream",
     "text": [
      " 36%|███▌      | 36/100 [03:36<06:12,  5.82s/it]"
     ]
    },
    {
     "name": "stdout",
     "output_type": "stream",
     "text": [
      "epoch 35, loss_generator = 1.7039738791195474e-06, loss_discriminator=1.0925583145156755e-06, accuracy=45.24375915527344\n"
     ]
    },
    {
     "name": "stderr",
     "output_type": "stream",
     "text": [
      " 37%|███▋      | 37/100 [03:42<06:05,  5.80s/it]"
     ]
    },
    {
     "name": "stdout",
     "output_type": "stream",
     "text": [
      "epoch 36, loss_generator = 1.6509920602335047e-06, loss_discriminator=1.0301114305851419e-06, accuracy=45.38917541503906\n"
     ]
    },
    {
     "name": "stderr",
     "output_type": "stream",
     "text": [
      " 38%|███▊      | 38/100 [03:48<05:58,  5.79s/it]"
     ]
    },
    {
     "name": "stdout",
     "output_type": "stream",
     "text": [
      "epoch 37, loss_generator = 1.4201348002879294e-06, loss_discriminator=9.671678446499788e-07, accuracy=45.45265197753906\n"
     ]
    },
    {
     "name": "stderr",
     "output_type": "stream",
     "text": [
      " 39%|███▉      | 39/100 [03:54<05:53,  5.79s/it]"
     ]
    },
    {
     "name": "stdout",
     "output_type": "stream",
     "text": [
      "epoch 38, loss_generator = 1.0903504108615313e-06, loss_discriminator=9.997295419621136e-07, accuracy=45.50127410888672\n"
     ]
    },
    {
     "name": "stderr",
     "output_type": "stream",
     "text": [
      " 40%|████      | 40/100 [03:59<05:48,  5.81s/it]"
     ]
    },
    {
     "name": "stdout",
     "output_type": "stream",
     "text": [
      "epoch 39, loss_generator = 2.986578422265935e-07, loss_discriminator=9.141031665859811e-07, accuracy=45.7194938659668\n"
     ]
    },
    {
     "name": "stderr",
     "output_type": "stream",
     "text": [
      " 41%|████      | 41/100 [04:05<05:43,  5.82s/it]"
     ]
    },
    {
     "name": "stdout",
     "output_type": "stream",
     "text": [
      "epoch 40, loss_generator = 2.1385922261069262e-07, loss_discriminator=8.10374629728122e-07, accuracy=45.88007354736328\n"
     ]
    },
    {
     "name": "stderr",
     "output_type": "stream",
     "text": [
      " 42%|████▏     | 42/100 [04:11<05:36,  5.80s/it]"
     ]
    },
    {
     "name": "stdout",
     "output_type": "stream",
     "text": [
      "epoch 41, loss_generator = 2.641092359462399e-07, loss_discriminator=7.493350738985571e-07, accuracy=46.12796401977539\n"
     ]
    },
    {
     "name": "stderr",
     "output_type": "stream",
     "text": [
      " 43%|████▎     | 43/100 [04:17<05:31,  5.82s/it]"
     ]
    },
    {
     "name": "stdout",
     "output_type": "stream",
     "text": [
      "epoch 42, loss_generator = 3.0845397839550935e-07, loss_discriminator=6.996645563756626e-07, accuracy=46.29951858520508\n"
     ]
    },
    {
     "name": "stderr",
     "output_type": "stream",
     "text": [
      " 44%|████▍     | 44/100 [04:23<05:24,  5.80s/it]"
     ]
    },
    {
     "name": "stdout",
     "output_type": "stream",
     "text": [
      "epoch 43, loss_generator = 3.307229353258326e-07, loss_discriminator=6.562028577011208e-07, accuracy=46.561466217041016\n"
     ]
    },
    {
     "name": "stderr",
     "output_type": "stream",
     "text": [
      " 45%|████▌     | 45/100 [04:28<05:19,  5.81s/it]"
     ]
    },
    {
     "name": "stdout",
     "output_type": "stream",
     "text": [
      "epoch 44, loss_generator = 3.8469823969670097e-07, loss_discriminator=6.110578712852859e-07, accuracy=46.72675323486328\n"
     ]
    },
    {
     "name": "stderr",
     "output_type": "stream",
     "text": [
      " 46%|████▌     | 46/100 [04:34<05:13,  5.81s/it]"
     ]
    },
    {
     "name": "stdout",
     "output_type": "stream",
     "text": [
      "epoch 45, loss_generator = 3.919004701334348e-07, loss_discriminator=5.694725970257692e-07, accuracy=46.924156188964844\n"
     ]
    },
    {
     "name": "stderr",
     "output_type": "stream",
     "text": [
      " 47%|████▋     | 47/100 [04:40<05:08,  5.81s/it]"
     ]
    },
    {
     "name": "stdout",
     "output_type": "stream",
     "text": [
      "epoch 46, loss_generator = 3.817456055693819e-07, loss_discriminator=5.372971301127379e-07, accuracy=47.05772399902344\n"
     ]
    },
    {
     "name": "stderr",
     "output_type": "stream",
     "text": [
      " 48%|████▊     | 48/100 [04:46<05:00,  5.79s/it]"
     ]
    },
    {
     "name": "stdout",
     "output_type": "stream",
     "text": [
      "epoch 47, loss_generator = 3.5666199033180926e-07, loss_discriminator=5.040178804291726e-07, accuracy=47.16351318359375\n"
     ]
    },
    {
     "name": "stderr",
     "output_type": "stream",
     "text": [
      " 49%|████▉     | 49/100 [04:52<04:54,  5.77s/it]"
     ]
    },
    {
     "name": "stdout",
     "output_type": "stream",
     "text": [
      "epoch 48, loss_generator = 3.423403202136628e-07, loss_discriminator=4.748226569130633e-07, accuracy=47.19019317626953\n"
     ]
    },
    {
     "name": "stderr",
     "output_type": "stream",
     "text": [
      " 50%|█████     | 50/100 [04:57<04:48,  5.78s/it]"
     ]
    },
    {
     "name": "stdout",
     "output_type": "stream",
     "text": [
      "epoch 49, loss_generator = 3.148559600234606e-07, loss_discriminator=4.3831482588319447e-07, accuracy=47.060020446777344\n"
     ]
    },
    {
     "name": "stderr",
     "output_type": "stream",
     "text": [
      " 51%|█████     | 51/100 [05:03<04:43,  5.78s/it]"
     ]
    },
    {
     "name": "stdout",
     "output_type": "stream",
     "text": [
      "epoch 50, loss_generator = 3.222513513450125e-07, loss_discriminator=4.111340093391778e-07, accuracy=47.020530700683594\n"
     ]
    },
    {
     "name": "stderr",
     "output_type": "stream",
     "text": [
      " 52%|█████▏    | 52/100 [05:09<04:36,  5.76s/it]"
     ]
    },
    {
     "name": "stdout",
     "output_type": "stream",
     "text": [
      "epoch 51, loss_generator = 3.2956395696399136e-07, loss_discriminator=3.848638178388447e-07, accuracy=46.993316650390625\n"
     ]
    },
    {
     "name": "stderr",
     "output_type": "stream",
     "text": [
      " 53%|█████▎    | 53/100 [05:15<04:31,  5.78s/it]"
     ]
    },
    {
     "name": "stdout",
     "output_type": "stream",
     "text": [
      "epoch 52, loss_generator = 3.132830592541588e-07, loss_discriminator=3.595318486515208e-07, accuracy=46.88557815551758\n"
     ]
    },
    {
     "name": "stderr",
     "output_type": "stream",
     "text": [
      " 54%|█████▍    | 54/100 [05:21<04:26,  5.80s/it]"
     ]
    },
    {
     "name": "stdout",
     "output_type": "stream",
     "text": [
      "epoch 53, loss_generator = 3.250660147050102e-07, loss_discriminator=3.3624188917942606e-07, accuracy=46.84761428833008\n"
     ]
    },
    {
     "name": "stderr",
     "output_type": "stream",
     "text": [
      " 55%|█████▌    | 55/100 [05:26<04:20,  5.78s/it]"
     ]
    },
    {
     "name": "stdout",
     "output_type": "stream",
     "text": [
      "epoch 54, loss_generator = 3.0517020545799085e-07, loss_discriminator=3.13448634448866e-07, accuracy=46.83259582519531\n"
     ]
    },
    {
     "name": "stderr",
     "output_type": "stream",
     "text": [
      " 56%|█████▌    | 56/100 [05:32<04:14,  5.78s/it]"
     ]
    },
    {
     "name": "stdout",
     "output_type": "stream",
     "text": [
      "epoch 55, loss_generator = 2.8196302663572066e-07, loss_discriminator=2.918971482038749e-07, accuracy=46.928462982177734\n"
     ]
    },
    {
     "name": "stderr",
     "output_type": "stream",
     "text": [
      " 57%|█████▋    | 57/100 [05:38<04:10,  5.82s/it]"
     ]
    },
    {
     "name": "stdout",
     "output_type": "stream",
     "text": [
      "epoch 56, loss_generator = 2.77658246945807e-07, loss_discriminator=2.755058742591414e-07, accuracy=47.09720993041992\n"
     ]
    },
    {
     "name": "stderr",
     "output_type": "stream",
     "text": [
      " 58%|█████▊    | 58/100 [05:44<04:04,  5.83s/it]"
     ]
    },
    {
     "name": "stdout",
     "output_type": "stream",
     "text": [
      "epoch 57, loss_generator = 2.757266160971186e-07, loss_discriminator=2.550029851936078e-07, accuracy=47.025238037109375\n"
     ]
    },
    {
     "name": "stderr",
     "output_type": "stream",
     "text": [
      " 59%|█████▉    | 59/100 [05:50<03:58,  5.83s/it]"
     ]
    },
    {
     "name": "stdout",
     "output_type": "stream",
     "text": [
      "epoch 58, loss_generator = 2.592801522454196e-07, loss_discriminator=2.3612818480429538e-07, accuracy=46.898826599121094\n"
     ]
    },
    {
     "name": "stderr",
     "output_type": "stream",
     "text": [
      " 60%|██████    | 60/100 [05:55<03:53,  5.83s/it]"
     ]
    },
    {
     "name": "stdout",
     "output_type": "stream",
     "text": [
      "epoch 59, loss_generator = 2.5287817219645215e-07, loss_discriminator=2.185227411170369e-07, accuracy=46.71949005126953\n"
     ]
    },
    {
     "name": "stderr",
     "output_type": "stream",
     "text": [
      " 61%|██████    | 61/100 [06:01<03:47,  5.84s/it]"
     ]
    },
    {
     "name": "stdout",
     "output_type": "stream",
     "text": [
      "epoch 60, loss_generator = 2.2597330918735545e-07, loss_discriminator=2.0646384118410626e-07, accuracy=46.430580139160156\n"
     ]
    },
    {
     "name": "stderr",
     "output_type": "stream",
     "text": [
      " 62%|██████▏   | 62/100 [06:07<03:41,  5.84s/it]"
     ]
    },
    {
     "name": "stdout",
     "output_type": "stream",
     "text": [
      "epoch 61, loss_generator = 1.7304660915400476e-07, loss_discriminator=1.9316317750255823e-07, accuracy=46.11088180541992\n"
     ]
    },
    {
     "name": "stderr",
     "output_type": "stream",
     "text": [
      " 63%|██████▎   | 63/100 [06:13<03:36,  5.85s/it]"
     ]
    },
    {
     "name": "stdout",
     "output_type": "stream",
     "text": [
      "epoch 62, loss_generator = 1.8463639898308664e-07, loss_discriminator=1.835326144230378e-07, accuracy=45.823089599609375\n"
     ]
    },
    {
     "name": "stderr",
     "output_type": "stream",
     "text": [
      " 64%|██████▍   | 64/100 [06:19<03:30,  5.86s/it]"
     ]
    },
    {
     "name": "stdout",
     "output_type": "stream",
     "text": [
      "epoch 63, loss_generator = 1.9407379833561815e-07, loss_discriminator=1.7304661483834665e-07, accuracy=45.55329513549805\n"
     ]
    },
    {
     "name": "stderr",
     "output_type": "stream",
     "text": [
      " 65%|██████▌   | 65/100 [06:25<03:25,  5.86s/it]"
     ]
    },
    {
     "name": "stdout",
     "output_type": "stream",
     "text": [
      "epoch 64, loss_generator = 1.6416110455523906e-07, loss_discriminator=1.656788199439958e-07, accuracy=45.398956298828125\n"
     ]
    },
    {
     "name": "stderr",
     "output_type": "stream",
     "text": [
      " 66%|██████▌   | 66/100 [06:31<03:19,  5.87s/it]"
     ]
    },
    {
     "name": "stdout",
     "output_type": "stream",
     "text": [
      "epoch 65, loss_generator = 1.7787568706521765e-07, loss_discriminator=1.557999035463177e-07, accuracy=45.238704681396484\n"
     ]
    },
    {
     "name": "stderr",
     "output_type": "stream",
     "text": [
      " 67%|██████▋   | 67/100 [06:37<03:13,  5.87s/it]"
     ]
    },
    {
     "name": "stdout",
     "output_type": "stream",
     "text": [
      "epoch 66, loss_generator = 1.757508928579699e-07, loss_discriminator=1.4967387140056114e-07, accuracy=45.147979736328125\n"
     ]
    },
    {
     "name": "stderr",
     "output_type": "stream",
     "text": [
      " 68%|██████▊   | 68/100 [06:42<03:07,  5.86s/it]"
     ]
    },
    {
     "name": "stdout",
     "output_type": "stream",
     "text": [
      "epoch 67, loss_generator = 1.6882461464033608e-07, loss_discriminator=1.4194734395308237e-07, accuracy=45.13182067871094\n"
     ]
    },
    {
     "name": "stderr",
     "output_type": "stream",
     "text": [
      " 69%|██████▉   | 69/100 [06:48<03:00,  5.84s/it]"
     ]
    },
    {
     "name": "stdout",
     "output_type": "stream",
     "text": [
      "epoch 68, loss_generator = 1.6242263617035254e-07, loss_discriminator=1.347451165690506e-07, accuracy=45.07661437988281\n"
     ]
    },
    {
     "name": "stderr",
     "output_type": "stream",
     "text": [
      " 70%|███████   | 70/100 [06:54<02:55,  5.86s/it]"
     ]
    },
    {
     "name": "stdout",
     "output_type": "stream",
     "text": [
      "epoch 69, loss_generator = 1.4768704701324437e-07, loss_discriminator=1.2787402741625758e-07, accuracy=45.075599670410156\n"
     ]
    },
    {
     "name": "stderr",
     "output_type": "stream",
     "text": [
      " 71%|███████   | 71/100 [07:00<02:49,  5.84s/it]"
     ]
    },
    {
     "name": "stdout",
     "output_type": "stream",
     "text": [
      "epoch 70, loss_generator = 1.3664915251688904e-07, loss_discriminator=1.1948522687480026e-07, accuracy=45.15523910522461\n"
     ]
    },
    {
     "name": "stderr",
     "output_type": "stream",
     "text": [
      " 72%|███████▏  | 72/100 [07:06<02:43,  5.85s/it]"
     ]
    },
    {
     "name": "stdout",
     "output_type": "stream",
     "text": [
      "epoch 71, loss_generator = 1.276532686305203e-07, loss_discriminator=1.0690202572050111e-07, accuracy=45.229835510253906\n"
     ]
    },
    {
     "name": "stderr",
     "output_type": "stream",
     "text": [
      " 73%|███████▎  | 73/100 [07:12<02:37,  5.83s/it]"
     ]
    },
    {
     "name": "stdout",
     "output_type": "stream",
     "text": [
      "epoch 72, loss_generator = 1.303023628485823e-07, loss_discriminator=9.793373441913933e-08, accuracy=45.23387145996094\n"
     ]
    },
    {
     "name": "stderr",
     "output_type": "stream",
     "text": [
      " 74%|███████▍  | 74/100 [07:17<02:31,  5.83s/it]"
     ]
    },
    {
     "name": "stdout",
     "output_type": "stream",
     "text": [
      "epoch 73, loss_generator = 1.2610796307786518e-07, loss_discriminator=8.47158528611342e-08, accuracy=45.157257080078125\n"
     ]
    },
    {
     "name": "stderr",
     "output_type": "stream",
     "text": [
      " 75%|███████▌  | 75/100 [07:23<02:25,  5.83s/it]"
     ]
    },
    {
     "name": "stdout",
     "output_type": "stream",
     "text": [
      "epoch 74, loss_generator = 1.357661208477044e-07, loss_discriminator=7.119442984120454e-08, accuracy=45.09273910522461\n"
     ]
    },
    {
     "name": "stderr",
     "output_type": "stream",
     "text": [
      " 76%|███████▌  | 76/100 [07:29<02:19,  5.82s/it]"
     ]
    },
    {
     "name": "stdout",
     "output_type": "stream",
     "text": [
      "epoch 75, loss_generator = 1.337793003025817e-07, loss_discriminator=5.927350249142667e-08, accuracy=44.933467864990234\n"
     ]
    },
    {
     "name": "stderr",
     "output_type": "stream",
     "text": [
      " 77%|███████▋  | 77/100 [07:35<02:13,  5.83s/it]"
     ]
    },
    {
     "name": "stdout",
     "output_type": "stream",
     "text": [
      "epoch 76, loss_generator = 1.3441397833781188e-07, loss_discriminator=4.961534331366019e-08, accuracy=44.79838562011719\n"
     ]
    },
    {
     "name": "stderr",
     "output_type": "stream",
     "text": [
      " 78%|███████▊  | 78/100 [07:41<02:08,  5.83s/it]"
     ]
    },
    {
     "name": "stdout",
     "output_type": "stream",
     "text": [
      "epoch 77, loss_generator = 1.3709066756198942e-07, loss_discriminator=3.711492599346979e-08, accuracy=44.776206970214844\n"
     ]
    },
    {
     "name": "stderr",
     "output_type": "stream",
     "text": [
      " 79%|███████▉  | 79/100 [07:46<02:02,  5.82s/it]"
     ]
    },
    {
     "name": "stdout",
     "output_type": "stream",
     "text": [
      "epoch 78, loss_generator = 1.5204701487324132e-07, loss_discriminator=2.8753719701531583e-08, accuracy=44.95161056518555\n"
     ]
    },
    {
     "name": "stderr",
     "output_type": "stream",
     "text": [
      " 80%|████████  | 80/100 [07:52<01:56,  5.82s/it]"
     ]
    },
    {
     "name": "stdout",
     "output_type": "stream",
     "text": [
      "epoch 79, loss_generator = 1.6520970441896914e-07, loss_discriminator=2.011656594553741e-08, accuracy=44.96471405029297\n"
     ]
    },
    {
     "name": "stderr",
     "output_type": "stream",
     "text": [
      " 81%|████████  | 81/100 [07:58<01:50,  5.84s/it]"
     ]
    },
    {
     "name": "stdout",
     "output_type": "stream",
     "text": [
      "epoch 80, loss_generator = 1.8046959358689156e-07, loss_discriminator=1.5177107437480687e-08, accuracy=45.0625\n"
     ]
    },
    {
     "name": "stderr",
     "output_type": "stream",
     "text": [
      " 82%|████████▏ | 82/100 [08:04<01:44,  5.80s/it]"
     ]
    },
    {
     "name": "stdout",
     "output_type": "stream",
     "text": [
      "epoch 81, loss_generator = 1.608221410791615e-07, loss_discriminator=1.208649651638525e-08, accuracy=45.212703704833984\n"
     ]
    },
    {
     "name": "stderr",
     "output_type": "stream",
     "text": [
      " 83%|████████▎ | 83/100 [08:10<01:38,  5.79s/it]"
     ]
    },
    {
     "name": "stdout",
     "output_type": "stream",
     "text": [
      "epoch 82, loss_generator = 1.6371958861538116e-07, loss_discriminator=9.768538312405474e-09, accuracy=45.36592483520508\n"
     ]
    },
    {
     "name": "stderr",
     "output_type": "stream",
     "text": [
      " 84%|████████▍ | 84/100 [08:15<01:32,  5.78s/it]"
     ]
    },
    {
     "name": "stdout",
     "output_type": "stream",
     "text": [
      "epoch 83, loss_generator = 1.7718582038620903e-07, loss_discriminator=5.988058786270072e-09, accuracy=45.51512145996094\n"
     ]
    },
    {
     "name": "stderr",
     "output_type": "stream",
     "text": [
      " 85%|████████▌ | 85/100 [08:21<01:26,  5.79s/it]"
     ]
    },
    {
     "name": "stdout",
     "output_type": "stream",
     "text": [
      "epoch 84, loss_generator = 1.4972905672847345e-07, loss_discriminator=5.850085089604746e-09, accuracy=45.61289978027344\n"
     ]
    },
    {
     "name": "stderr",
     "output_type": "stream",
     "text": [
      " 86%|████████▌ | 86/100 [08:27<01:20,  5.78s/it]"
     ]
    },
    {
     "name": "stdout",
     "output_type": "stream",
     "text": [
      "epoch 85, loss_generator = 1.3005401026728375e-07, loss_discriminator=5.98805874844025e-09, accuracy=45.58871078491211\n"
     ]
    },
    {
     "name": "stderr",
     "output_type": "stream",
     "text": [
      " 87%|████████▋ | 87/100 [08:33<01:15,  5.79s/it]"
     ]
    },
    {
     "name": "stdout",
     "output_type": "stream",
     "text": [
      "epoch 86, loss_generator = 1.2939173754173477e-07, loss_discriminator=3.6149110684259835e-09, accuracy=45.757057189941406\n"
     ]
    },
    {
     "name": "stderr",
     "output_type": "stream",
     "text": [
      " 88%|████████▊ | 88/100 [08:39<01:09,  5.81s/it]"
     ]
    },
    {
     "name": "stdout",
     "output_type": "stream",
     "text": [
      "epoch 87, loss_generator = 1.2108572259758484e-07, loss_discriminator=4.6359164671714464e-09, accuracy=45.688507080078125\n"
     ]
    },
    {
     "name": "stderr",
     "output_type": "stream",
     "text": [
      " 89%|████████▉ | 89/100 [08:44<01:03,  5.79s/it]"
     ]
    },
    {
     "name": "stdout",
     "output_type": "stream",
     "text": [
      "epoch 88, loss_generator = 1.2089255923902548e-07, loss_discriminator=3.863263727028939e-09, accuracy=45.74092483520508\n"
     ]
    },
    {
     "name": "stderr",
     "output_type": "stream",
     "text": [
      " 90%|█████████ | 90/100 [08:50<00:58,  5.81s/it]"
     ]
    },
    {
     "name": "stdout",
     "output_type": "stream",
     "text": [
      "epoch 89, loss_generator = 1.2006471837156386e-07, loss_discriminator=3.780479512977203e-09, accuracy=45.818546295166016\n"
     ]
    },
    {
     "name": "stderr",
     "output_type": "stream",
     "text": [
      " 91%|█████████ | 91/100 [08:56<00:52,  5.82s/it]"
     ]
    },
    {
     "name": "stdout",
     "output_type": "stream",
     "text": [
      "epoch 90, loss_generator = 1.2025788130906086e-07, loss_discriminator=2.53871619035648e-09, accuracy=45.7049560546875\n"
     ]
    },
    {
     "name": "stderr",
     "output_type": "stream",
     "text": [
      " 92%|█████████▏| 92/100 [09:02<00:46,  5.84s/it]"
     ]
    },
    {
     "name": "stdout",
     "output_type": "stream",
     "text": [
      "epoch 91, loss_generator = 1.2108572291338162e-07, loss_discriminator=3.311368923919889e-09, accuracy=45.06589889526367\n"
     ]
    },
    {
     "name": "stderr",
     "output_type": "stream",
     "text": [
      " 93%|█████████▎| 93/100 [09:08<00:40,  5.84s/it]"
     ]
    },
    {
     "name": "stdout",
     "output_type": "stream",
     "text": [
      "epoch 92, loss_generator = 1.222722959129088e-07, loss_discriminator=2.92504255220386e-09, accuracy=45.053897857666016\n"
     ]
    },
    {
     "name": "stderr",
     "output_type": "stream",
     "text": [
      " 94%|█████████▍| 94/100 [09:14<00:35,  5.86s/it]"
     ]
    },
    {
     "name": "stdout",
     "output_type": "stream",
     "text": [
      "epoch 93, loss_generator = 1.2508695806235226e-07, loss_discriminator=3.504532103198804e-09, accuracy=45.435543060302734\n"
     ]
    },
    {
     "name": "stderr",
     "output_type": "stream",
     "text": [
      " 95%|█████████▌| 95/100 [09:20<00:29,  5.84s/it]"
     ]
    },
    {
     "name": "stdout",
     "output_type": "stream",
     "text": [
      "epoch 94, loss_generator = 1.260251799016664e-07, loss_discriminator=2.207579278227193e-09, accuracy=45.79174041748047\n"
     ]
    },
    {
     "name": "stderr",
     "output_type": "stream",
     "text": [
      " 96%|█████████▌| 96/100 [09:25<00:23,  5.85s/it]"
     ]
    },
    {
     "name": "stdout",
     "output_type": "stream",
     "text": [
      "epoch 95, loss_generator = 1.2089255944955666e-07, loss_discriminator=2.0696055733379932e-09, accuracy=45.95976638793945\n"
     ]
    },
    {
     "name": "stderr",
     "output_type": "stream",
     "text": [
      " 97%|█████████▋| 97/100 [09:31<00:17,  5.84s/it]"
     ]
    },
    {
     "name": "stdout",
     "output_type": "stream",
     "text": [
      "epoch 96, loss_generator = 1.2307254319534035e-07, loss_discriminator=1.7660634288318987e-09, accuracy=46.06334686279297\n"
     ]
    },
    {
     "name": "stderr",
     "output_type": "stream",
     "text": [
      " 98%|█████████▊| 98/100 [09:37<00:11,  5.81s/it]"
     ]
    },
    {
     "name": "stdout",
     "output_type": "stream",
     "text": [
      "epoch 97, loss_generator = 1.2329330055999216e-07, loss_discriminator=2.152389808771802e-09, accuracy=46.1318359375\n"
     ]
    },
    {
     "name": "stderr",
     "output_type": "stream",
     "text": [
      " 99%|█████████▉| 99/100 [09:43<00:05,  5.80s/it]"
     ]
    },
    {
     "name": "stdout",
     "output_type": "stream",
     "text": [
      "epoch 98, loss_generator = 1.2558366290915256e-07, loss_discriminator=1.6004949694777055e-09, accuracy=45.9365234375\n"
     ]
    },
    {
     "name": "stderr",
     "output_type": "stream",
     "text": [
      "100%|██████████| 100/100 [09:49<00:00,  5.89s/it]"
     ]
    },
    {
     "name": "stdout",
     "output_type": "stream",
     "text": [
      "epoch 99, loss_generator = 1.3157172070855772e-07, loss_discriminator=1.9316318635144695e-09, accuracy=46.06640625\n"
     ]
    },
    {
     "name": "stderr",
     "output_type": "stream",
     "text": [
      "\n"
     ]
    }
   ],
   "source": [
    "number_epoch    = 100\n",
    "accuracy_epoch  = np.zeros(number_epoch)\n",
    "loss_generator = np.zeros(number_epoch)\n",
    "loss_discriminator = np.zeros(number_epoch)\n",
    "\n",
    "num_latent_test = 100\n",
    "latent_test = torch.randn(num_latent_test, dim_latent, device=device)\n",
    "latent_test = torch.reshape(latent_test, [num_latent_test, dim_latent, 1, 1])\n",
    "\n",
    "for i in tqdm(range(number_epoch)):\n",
    "    loss_generator_epoch, loss_discriminator_epoch = train(generator, discriminator, dataloader_real)\n",
    "    accuracy = test(generator, latent_test)\n",
    "    accuracy_epoch[i] = accuracy\n",
    "    \n",
    "    loss_generator[i] = loss_generator_epoch\n",
    "    loss_discriminator[i] = loss_discriminator_epoch\n",
    "    tqdm.write(f'epoch {i}, loss_generator = {loss_generator_epoch}, loss_discriminator={loss_discriminator_epoch}, accuracy={accuracy}')"
   ]
  },
  {
   "cell_type": "code",
   "execution_count": 24,
   "metadata": {},
   "outputs": [
    {
     "data": {
      "image/png": "[encoded data removed]",
      "text/plain": [
       "<Figure size 576x432 with 1 Axes>"
      ]
     },
     "metadata": {
      "needs_background": "light"
     },
     "output_type": "display_data"
    }
   ],
   "source": [
    "plt.figure(figsize=(8, 6))\n",
    "plt.plot(loss_generator, label='loss_generator')\n",
    "plt.plot(loss_discriminator, label='loss_discriminator')\n",
    "plt.ylim(0,0.0001)\n",
    "plt.legend()\n",
    "plt.title('loss')\n",
    "plt.show()"
   ]
  },
  {
   "cell_type": "markdown",
   "metadata": {},
   "source": [
    "---"
   ]
  },
  {
   "cell_type": "markdown",
   "metadata": {},
   "source": [
    "# functions for presenting the results"
   ]
  },
  {
   "cell_type": "markdown",
   "metadata": {},
   "source": [
    "---"
   ]
  },
  {
   "cell_type": "code",
   "execution_count": 25,
   "metadata": {},
   "outputs": [],
   "source": [
    "def function_result_01():\n",
    "\n",
    "    num_latent_visualize = 16\n",
    "\n",
    "    latent_visualize = torch.randn(num_latent_visualize, dim_latent, device=device)\n",
    "    latent_visualize = torch.reshape(latent_visualize, [num_latent_visualize, dim_latent, 1, 1]) \n",
    "\n",
    "    prediction = compute_prediction(generator, latent_visualize)\n",
    "    prediction = prediction.squeeze(axis=1)\n",
    "    prediction_binary = (prediction >= 0.5)\n",
    "    bounding_mask = compute_bounding_mask(prediction_binary)\n",
    "        \n",
    "    fake = prediction.detach().cpu()\n",
    "    mask = bounding_mask.detach().cpu()\n",
    "\n",
    "    nRow = 4\n",
    "    nCol = 4 \n",
    "    size = 3 \n",
    "    \n",
    "    title = 'fake image'\n",
    "    fig, axes = plt.subplots(nRow, nCol, figsize=(size * nCol, size * nRow))\n",
    "    fig.suptitle(title, fontsize=16)\n",
    "\n",
    "    for r in range(nRow): \n",
    "        for c in range(nCol):\n",
    "            k = c + r * nCol\n",
    "            axes[r, c].imshow(fake[k], cmap='gray', vmin=0, vmax=1)\n",
    "            axes[r, c].xaxis.set_visible(False)\n",
    "            axes[r, c].yaxis.set_visible(False)\n",
    "\n",
    "    plt.tight_layout()\n",
    "    plt.show()\n",
    "    \n",
    "    title = 'bounding mask'\n",
    "    fig, axes = plt.subplots(nRow, nCol, figsize=(size * nCol, size * nRow))\n",
    "    fig.suptitle(title, fontsize=16)\n",
    "\n",
    "    for r in range(nRow): \n",
    "        for c in range(nCol):\n",
    "            k = c + r * nCol\n",
    "            axes[r, c].imshow(mask[k], cmap='gray', vmin=0, vmax=1)\n",
    "            axes[r, c].xaxis.set_visible(False)\n",
    "            axes[r, c].yaxis.set_visible(False)\n",
    "                        \n",
    "    plt.tight_layout()\n",
    "    plt.show()"
   ]
  },
  {
   "cell_type": "code",
   "execution_count": 26,
   "metadata": {},
   "outputs": [],
   "source": [
    "def function_result_02():\n",
    "\n",
    "    title           = 'accuracy'\n",
    "    label_axis_x    = 'epoch' \n",
    "    label_axis_y    = 'accuracy'\n",
    "    \n",
    "    plt.figure(figsize=(8, 6))\n",
    "    plt.title(title)\n",
    "    \n",
    "    plt.plot(accuracy_epoch)\n",
    "    \n",
    "    plt.xlabel(label_axis_x)\n",
    "    plt.ylabel(label_axis_y)\n",
    "\n",
    "    plt.tight_layout()\n",
    "    plt.show()"
   ]
  },
  {
   "cell_type": "code",
   "execution_count": 27,
   "metadata": {},
   "outputs": [],
   "source": [
    "def function_result_03():\n",
    "\n",
    "    print('final accuracy = %9.8f' % (accuracy_epoch[-1]))"
   ]
  },
  {
   "cell_type": "markdown",
   "metadata": {},
   "source": [
    "---"
   ]
  },
  {
   "cell_type": "markdown",
   "metadata": {},
   "source": [
    "## results"
   ]
  },
  {
   "cell_type": "markdown",
   "metadata": {},
   "source": [
    "---"
   ]
  },
  {
   "cell_type": "code",
   "execution_count": 28,
   "metadata": {},
   "outputs": [
    {
     "name": "stdout",
     "output_type": "stream",
     "text": [
      "\n",
      "################################################################################\n",
      "#\n",
      "# RESULT # 01\n",
      "#\n",
      "################################################################################\n",
      "\n"
     ]
    },
    {
     "data": {
      "image/png": "[encoded data removed]",
      "text/plain": [
       "<Figure size 864x864 with 16 Axes>"
      ]
     },
     "metadata": {
      "needs_background": "light"
     },
     "output_type": "display_data"
    },
    {
     "data": {
      "image/png": "[encoded data removed]",
      "text/plain": [
       "<Figure size 864x864 with 16 Axes>"
      ]
     },
     "metadata": {
      "needs_background": "light"
     },
     "output_type": "display_data"
    },
    {
     "name": "stdout",
     "output_type": "stream",
     "text": [
      "\n",
      "################################################################################\n",
      "#\n",
      "# RESULT # 02\n",
      "#\n",
      "################################################################################\n",
      "\n"
     ]
    },
    {
     "data": {
      "image/png": "[encoded data removed]",
      "text/plain": [
       "<Figure size 576x432 with 1 Axes>"
      ]
     },
     "metadata": {
      "needs_background": "light"
     },
     "output_type": "display_data"
    },
    {
     "name": "stdout",
     "output_type": "stream",
     "text": [
      "\n",
      "################################################################################\n",
      "#\n",
      "# RESULT # 03\n",
      "#\n",
      "################################################################################\n",
      "\n",
      "final accuracy = 46.06640625\n"
     ]
    }
   ],
   "source": [
    "number_result = 3\n",
    "\n",
    "for i in range(number_result):\n",
    "\n",
    "    title           = '# RESULT # {:02d}'.format(i+1) \n",
    "    name_function   = 'function_result_{:02d}()'.format(i+1)\n",
    "\n",
    "    print('') \n",
    "    print('################################################################################')\n",
    "    print('#') \n",
    "    print(title)\n",
    "    print('#') \n",
    "    print('################################################################################')\n",
    "    print('') \n",
    "\n",
    "    eval(name_function)"
   ]
  },
  {
   "cell_type": "code",
   "execution_count": null,
   "metadata": {},
   "outputs": [],
   "source": []
  }
 ],
 "metadata": {
  "colab": {
   "authorship_tag": "ABX9TyM0gXqiryv5831mXd12OejK",
   "collapsed_sections": [],
   "name": "assignment_02.ipynb",
   "provenance": []
  },
  "kernelspec": {
   "display_name": "Python 3",
   "language": "python",
   "name": "python3"
  },
  "language_info": {
   "codemirror_mode": {
    "name": "ipython",
    "version": 3
   },
   "file_extension": ".py",
   "mimetype": "text/x-python",
   "name": "python",
   "nbconvert_exporter": "python",
   "pygments_lexer": "ipython3",
   "version": "3.7.10"
  },
  "vscode": {
   "interpreter": {
    "hash": "31f2aee4e71d21fbe5cf8b01ff0e069b9275f58929596ceb00d14d90e3e16cd6"
   }
  }
 },
 "nbformat": 4,
 "nbformat_minor": 2
}
