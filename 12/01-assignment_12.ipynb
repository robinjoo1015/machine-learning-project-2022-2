{
 "cells": [
  {
   "cell_type": "markdown",
   "metadata": {
    "colab": {
     "base_uri": "https://localhost:8080/"
    },
    "executionInfo": {
     "elapsed": 5,
     "status": "ok",
     "timestamp": 1630597918894,
     "user": {
      "displayName": "Byung-Woo Hong",
      "photoUrl": "",
      "userId": "17273657108187629509"
     },
     "user_tz": -540
    },
    "id": "K29I-OwCEYzW",
    "outputId": "db8b297c-a4b8-457a-b43f-7570135306c7"
   },
   "source": [
    "# Image Generation via Generative Adversarial Networks"
   ]
  },
  {
   "cell_type": "markdown",
   "metadata": {},
   "source": [
    "## import libraries"
   ]
  },
  {
   "cell_type": "code",
   "execution_count": 1,
   "metadata": {},
   "outputs": [],
   "source": [
    "import torch\n",
    "import torchvision\n",
    "from torch.utils.data import Dataset\n",
    "from os import listdir\n",
    "from os.path import join\n",
    "from torchvision import datasets, transforms\n",
    "from torch.utils.data import DataLoader\n",
    "from PIL import Image\n",
    "import matplotlib.pyplot as plt\n",
    "import numpy as np\n",
    "import torch.nn as nn\n",
    "import torch.nn.functional as F\n",
    "import torch.optim as optim\n",
    "from math import log10\n",
    "from tqdm import tqdm\n",
    "import os"
   ]
  },
  {
   "cell_type": "markdown",
   "metadata": {},
   "source": [
    "## load data"
   ]
  },
  {
   "cell_type": "code",
   "execution_count": 2,
   "metadata": {},
   "outputs": [],
   "source": [
    "directory_data  = './'\n",
    "filename_data   = 'assignment_12_data.npz'\n",
    "data            = np.load(os.path.join(directory_data, filename_data))\n",
    "real            = data['real_images']"
   ]
  },
  {
   "cell_type": "code",
   "execution_count": 3,
   "metadata": {},
   "outputs": [
    {
     "name": "stdout",
     "output_type": "stream",
     "text": [
      "size of real data: (4324, 32, 32)\n"
     ]
    }
   ],
   "source": [
    "print('size of real data:', real.shape)"
   ]
  },
  {
   "cell_type": "markdown",
   "metadata": {},
   "source": [
    "## plot data"
   ]
  },
  {
   "cell_type": "code",
   "execution_count": 4,
   "metadata": {},
   "outputs": [],
   "source": [
    "def plot_image(title, image):\n",
    "    \n",
    "    nRow = 3\n",
    "    nCol = 4\n",
    "    size = 3\n",
    "    \n",
    "    fig, axes = plt.subplots(nRow, nCol, figsize=(size * nCol, size * nRow))\n",
    "    fig.suptitle(title, fontsize=16)\n",
    "   \n",
    "    for r in range(nRow): \n",
    "        for c in range(nCol):\n",
    "            k = c * 300 + r * nCol * 300\n",
    "            axes[r, c].imshow(image[k], cmap='gray')\n",
    "\n",
    "    plt.tight_layout()\n",
    "    plt.show()"
   ]
  },
  {
   "cell_type": "code",
   "execution_count": 5,
   "metadata": {},
   "outputs": [
    {
     "data": {
      "image/png": "[encoded data removed]",
      "text/plain": [
       "<Figure size 864x648 with 12 Axes>"
      ]
     },
     "metadata": {
      "needs_background": "light"
     },
     "output_type": "display_data"
    }
   ],
   "source": [
    "plot_image('training data', real)"
   ]
  },
  {
   "cell_type": "markdown",
   "metadata": {},
   "source": [
    "## custom data loader for the PyTorch framework"
   ]
  },
  {
   "cell_type": "code",
   "execution_count": 6,
   "metadata": {},
   "outputs": [],
   "source": [
    "class dataset(Dataset):\n",
    "    \n",
    "    def __init__(self, image):\n",
    "        \n",
    "        self.image = image\n",
    "    \n",
    "    def __getitem__(self, index):\n",
    "        \n",
    "        sample  = self.image[index]\n",
    "        sample  = torch.FloatTensor(sample).unsqueeze(dim=0)\n",
    "\n",
    "        return (sample)\n",
    "    \n",
    "    def __len__(self):\n",
    "\n",
    "        number_image = len(self.image)\n",
    "\n",
    "        return (number_image)"
   ]
  },
  {
   "cell_type": "markdown",
   "metadata": {},
   "source": [
    "## setting device"
   ]
  },
  {
   "cell_type": "code",
   "execution_count": 7,
   "metadata": {},
   "outputs": [],
   "source": [
    "device = torch.device('cuda' if torch.cuda.is_available() else 'mps')"
   ]
  },
  {
   "cell_type": "code",
   "execution_count": 8,
   "metadata": {},
   "outputs": [
    {
     "name": "stdout",
     "output_type": "stream",
     "text": [
      "cuda\n"
     ]
    }
   ],
   "source": [
    "print(device)"
   ]
  },
  {
   "cell_type": "code",
   "execution_count": 9,
   "metadata": {},
   "outputs": [],
   "source": [
    "# random seed\n",
    "import random\n",
    "random.seed(20184757)\n",
    "np.random.seed(20184757)\n",
    "torch.manual_seed(20184757)\n",
    "torch.cuda.manual_seed(20184757)\n",
    "torch.cuda.manual_seed_all(20184757)\n",
    "torch.backends.cudnn.deterministic = True\n",
    "torch.backends.cudnn.benchmark = False"
   ]
  },
  {
   "cell_type": "markdown",
   "metadata": {},
   "source": [
    "## construct datasets and dataloaders "
   ]
  },
  {
   "cell_type": "code",
   "execution_count": 10,
   "metadata": {},
   "outputs": [],
   "source": [
    "size_minibatch  = 32\n",
    "dim_latent      = 64 # input latent vector fixed dimension \n",
    "\n",
    "dataset_real    = dataset(real)\n",
    "dataloader_real = torch.utils.data.DataLoader(dataset_real, batch_size=size_minibatch, shuffle=True, drop_last=True)"
   ]
  },
  {
   "cell_type": "markdown",
   "metadata": {},
   "source": [
    "## neural networks "
   ]
  },
  {
   "cell_type": "code",
   "execution_count": 11,
   "metadata": {},
   "outputs": [],
   "source": [
    "class Discriminator(nn.Module): \n",
    "    \n",
    "    def __init__(self):\n",
    "        \n",
    "        super(Discriminator, self).__init__()\n",
    "        \n",
    "        self.conv = nn.Sequential(\n",
    "            nn.Conv2d(in_channels=1, out_channels=8, kernel_size=3, stride=2, padding=1, bias=True),\n",
    "#             nn.BatchNorm2d(8),\n",
    "            nn.LeakyReLU(0.2),\n",
    "            \n",
    "            nn.Conv2d(in_channels=8, out_channels=16, kernel_size=3, stride=2, padding=1, bias=True),\n",
    "#             nn.BatchNorm2d(16),\n",
    "            nn.LeakyReLU(0.2),\n",
    "            \n",
    "            nn.Conv2d(in_channels=16, out_channels=32, kernel_size=3, stride=2, padding=1, bias=True),\n",
    "#             nn.BatchNorm2d(32),\n",
    "            nn.LeakyReLU(0.2),\n",
    "            \n",
    "            nn.Conv2d(in_channels=32, out_channels=64, kernel_size=3, stride=2, padding=1, bias=True),\n",
    "#             nn.BatchNorm2d(64),\n",
    "            nn.LeakyReLU(0.2),\n",
    "            \n",
    "            nn.Conv2d(in_channels=64, out_channels=128, kernel_size=3, stride=2, padding=1, bias=True),\n",
    "            nn.LeakyReLU(0.2),\n",
    "        )\n",
    "        \n",
    "        self.fc = nn.Sequential(\n",
    "            nn.Linear(128, 64),\n",
    "            nn.LeakyReLU(0.2),\n",
    "            nn.Linear(64, 32),\n",
    "            nn.LeakyReLU(0.2),\n",
    "            nn.Linear(32, 16),\n",
    "            nn.LeakyReLU(0.2),\n",
    "            nn.Linear(16, 8),\n",
    "            nn.LeakyReLU(0.2),\n",
    "            nn.Linear(8, 1)\n",
    "        )\n",
    "        \n",
    "    def forward(self, x):\n",
    "        out = self.conv(x)\n",
    "        out = nn.Flatten()(out)\n",
    "        out = self.fc(out)\n",
    "        \n",
    "        return out\n"
   ]
  },
  {
   "cell_type": "code",
   "execution_count": 12,
   "metadata": {},
   "outputs": [],
   "source": [
    "class Generator(nn.Module):\n",
    "    \n",
    "    def __init__(self):\n",
    "        \n",
    "        super(Generator, self).__init__()\n",
    "        \n",
    "        self.conv = nn.Sequential(\n",
    "            nn.Upsample(scale_factor=2, mode='bilinear', align_corners=False),\n",
    "            nn.Conv2d(in_channels=dim_latent, out_channels=64, kernel_size=3, stride=1, padding=1, bias=True),\n",
    "            nn.BatchNorm2d(64),\n",
    "            nn.LeakyReLU(0.2),\n",
    "            \n",
    "            nn.Upsample(scale_factor=2, mode='bilinear', align_corners=False),\n",
    "            nn.Conv2d(in_channels=64, out_channels=32, kernel_size=3, stride=1, padding=1, bias=True),\n",
    "            nn.BatchNorm2d(32),\n",
    "            nn.LeakyReLU(0.2),\n",
    "            \n",
    "            nn.Upsample(scale_factor=2, mode='bilinear', align_corners=False),\n",
    "            nn.Conv2d(in_channels=32, out_channels=16, kernel_size=3, stride=1, padding=1, bias=True),\n",
    "            nn.BatchNorm2d(16),\n",
    "            nn.LeakyReLU(0.2),\n",
    "            \n",
    "            nn.Upsample(scale_factor=2, mode='bilinear', align_corners=False),\n",
    "            nn.Conv2d(in_channels=16, out_channels=8, kernel_size=3, stride=1, padding=1, bias=True),\n",
    "            nn.BatchNorm2d(8),\n",
    "            nn.LeakyReLU(0.2),\n",
    "            \n",
    "            nn.Upsample(scale_factor=2, mode='bilinear', align_corners=False),\n",
    "            nn.Conv2d(in_channels=8, out_channels=1, kernel_size=3, stride=1, padding=1, bias=True),\n",
    "            \n",
    "            nn.Sigmoid()\n",
    "        )\n",
    "    \n",
    "    def forward(self, x):\n",
    "\n",
    "        out = self.conv(x)\n",
    "        \n",
    "        return out"
   ]
  },
  {
   "cell_type": "markdown",
   "metadata": {},
   "source": [
    "## build network"
   ]
  },
  {
   "cell_type": "code",
   "execution_count": 13,
   "metadata": {},
   "outputs": [],
   "source": [
    "def weights_init(m):\n",
    "    classname = m.__class__.__name__\n",
    "    if classname.find(\"Conv\") != -1:\n",
    "        nn.init.xavier_uniform_(m.weight)\n",
    "        nn.init.constant_(m.bias, 1.)\n",
    "    elif classname.find(\"BatchNorm\") != -1:\n",
    "        nn.init.constant_(m.weight, 1.)\n",
    "        nn.init.constant_(m.bias, 1.)\n",
    "    elif classname.find(\"Linear\") != -1:\n",
    "        nn.init.xavier_uniform_(m.weight)\n",
    "        nn.init.constant_(m.bias, 1.)"
   ]
  },
  {
   "cell_type": "code",
   "execution_count": 14,
   "metadata": {},
   "outputs": [],
   "source": [
    "generator       = Generator().to(device)\n",
    "discriminator   = Discriminator().to(device)\n",
    "\n",
    "generator = generator.apply(weights_init)\n",
    "discriminator = discriminator.apply(weights_init)\n",
    "\n",
    "optimizer_generator = torch.optim.Adam(generator.parameters(), lr=0.0011, betas=(0.5, 0.999))\n",
    "optimizer_discriminator = torch.optim.Adam(discriminator.parameters(), lr=0.0011, betas=(0.5, 0.999))"
   ]
  },
  {
   "cell_type": "markdown",
   "metadata": {},
   "source": [
    "## compute the prediction"
   ]
  },
  {
   "cell_type": "code",
   "execution_count": 15,
   "metadata": {},
   "outputs": [],
   "source": [
    "def compute_prediction(model, input):\n",
    "\n",
    "    prediction = model(input)\n",
    "\n",
    "    return prediction"
   ]
  },
  {
   "cell_type": "markdown",
   "metadata": {},
   "source": [
    "## compute the accuracy"
   ]
  },
  {
   "cell_type": "code",
   "execution_count": 16,
   "metadata": {},
   "outputs": [],
   "source": [
    "def compute_bounding_mask(prediction_binary):\n",
    "    \n",
    "    bounding_mask = torch.zeros_like(prediction_binary)\n",
    "    \n",
    "    for i in range(prediction_binary.shape[0]):\n",
    "        prediction = prediction_binary[i]\n",
    "        (idx_row, idx_col) = torch.nonzero(prediction, as_tuple=True)\n",
    "        \n",
    "        if len(idx_row) > 0: \n",
    "            idx_row_min = idx_row.min()\n",
    "            idx_row_max = idx_row.max()\n",
    "        \n",
    "            idx_col_min = idx_col.min()\n",
    "            idx_col_max = idx_col.max()\n",
    "    \n",
    "            bounding_mask[i, idx_row_min:idx_row_max+1, idx_col_min:idx_col_max+1] = 1 \n",
    "    \n",
    "    return bounding_mask"
   ]
  },
  {
   "cell_type": "code",
   "execution_count": 17,
   "metadata": {},
   "outputs": [],
   "source": [
    "def compute_accuracy(prediction):\n",
    "\n",
    "    binary      = (prediction >= 0.5)\n",
    "    mask        = compute_bounding_mask(binary)\n",
    "    \n",
    "    intersection = (binary & mask).float().sum((1, 2))\n",
    "    union        = (binary | mask).float().sum((1, 2))\n",
    "\n",
    "    eps         = 1e-8\n",
    "    correct     = (intersection + eps) / (union + eps)\n",
    "    accuracy    = correct.mean() * 100.0\n",
    "    accuracy    = accuracy.cpu() \n",
    "    \n",
    "    return accuracy"
   ]
  },
  {
   "cell_type": "markdown",
   "metadata": {},
   "source": [
    "## train"
   ]
  },
  {
   "cell_type": "code",
   "execution_count": 18,
   "metadata": {},
   "outputs": [],
   "source": [
    "# def train(generator, discriminator, dataloader):\n",
    "    \n",
    "#     loss_generator_epoch = []\n",
    "#     loss_discriminator_epoch = []\n",
    "    \n",
    "#     for index_batch, (real) in enumerate(dataloader):\n",
    "#         real        = real.to(device)\n",
    "#         size_batch  = len(real)\n",
    "#         latent      = torch.randn(size_batch, dim_latent, device=device)\n",
    "#         latent      = torch.reshape(latent, [size_batch, dim_latent, 1, 1])\n",
    "\n",
    "#         # ---------------------------------------------------------------------------\n",
    "#         #  \n",
    "#         # update the generator\n",
    "#         #  \n",
    "#         # ---------------------------------------------------------------------------\n",
    "#         generator.train()\n",
    "#         discriminator.eval()\n",
    "        \n",
    "#         optimizer_generator.zero_grad()\n",
    "#         fake = compute_prediction(generator, latent)\n",
    "#         prediction_fake = compute_prediction(discriminator, fake)\n",
    "\n",
    "#         loss_generator = -torch.mean(prediction_fake)\n",
    "#         loss_generator.backward()\n",
    "#         optimizer_generator.step()\n",
    "\n",
    "#         # ---------------------------------------------------------------------------\n",
    "#         #  \n",
    "#         # update the discriminator\n",
    "#         #  \n",
    "#         # ---------------------------------------------------------------------------\n",
    "#         generator.eval()\n",
    "#         discriminator.train()\n",
    "        \n",
    "#         optimizer_discriminator.zero_grad()\n",
    "        \n",
    "#         prediction_real = compute_prediction(discriminator, real)\n",
    "#         loss_real = -torch.mean(prediction_real)\n",
    "        \n",
    "#         fake = compute_prediction(generator, latent)\n",
    "#         prediction_fake = compute_prediction(discriminator, fake.detach())\n",
    "#         loss_fake = torch.mean(prediction_fake)\n",
    "        \n",
    "#         alpha = torch.randn((real.size(0), 1, 1, 1), device=device)\n",
    "#         interpolates = (alpha * real + ((1 - alpha) * fake)).requires_grad_(True)\n",
    "#         discriminator_interpolates = compute_prediction(discriminator, interpolates)\n",
    "#         grad_outputs = torch.ones(discriminator_interpolates.size(), device=device, requires_grad=False)\n",
    "#         gradients = torch.autograd.grad(\n",
    "#             outputs = discriminator_interpolates,\n",
    "#             inputs = interpolates,\n",
    "#             grad_outputs = grad_outputs,\n",
    "#             create_graph = True,\n",
    "#             retain_graph = True,\n",
    "#             only_inputs = True\n",
    "#         )[0]\n",
    "#         gradients = gradients.view(gradients.size(0), -1)\n",
    "#         gradient_penalty = torch.mean((gradients.norm(2, dim=1) -1) ** 2)\n",
    "\n",
    "#         loss_discriminator = loss_real + loss_fake + 10 * gradient_penalty\n",
    "#         loss_discriminator.backward()\n",
    "#         optimizer_discriminator.step()\n",
    "        \n",
    "#         loss_generator_epoch.append(loss_generator.item())\n",
    "#         loss_discriminator_epoch.append(loss_discriminator.item())\n",
    "    \n",
    "#     return np.mean(loss_generator_epoch), np.mean(loss_discriminator_epoch)\n",
    "\n",
    "\n",
    "def train(generator, discriminator, dataloader):\n",
    "    \n",
    "    loss_generator_epoch = []\n",
    "    loss_discriminator_epoch = []\n",
    "    \n",
    "    for index_batch, (real) in enumerate(dataloader):\n",
    "        real        = real.to(device)\n",
    "        size_batch  = len(real)\n",
    "        latent      = torch.randn(size_batch, dim_latent, device=device)\n",
    "        latent      = torch.reshape(latent, [size_batch, dim_latent, 1, 1])\n",
    "\n",
    "        # ---------------------------------------------------------------------------\n",
    "        #  \n",
    "        # update the generator\n",
    "        #  \n",
    "        # ---------------------------------------------------------------------------\n",
    "        generator.train()\n",
    "        discriminator.eval()\n",
    "        \n",
    "        optimizer_generator.zero_grad()\n",
    "        fake = compute_prediction(generator, latent)\n",
    "        prediction_fake = compute_prediction(discriminator, fake)\n",
    "        label_fake = torch.ones_like(prediction_fake)\n",
    "        loss_label = nn.BCEWithLogitsLoss()(prediction_fake, label_fake)\n",
    "        loss_generator = loss_label\n",
    "        loss_generator.backward()\n",
    "        optimizer_generator.step()\n",
    "\n",
    "        # ---------------------------------------------------------------------------\n",
    "        #  \n",
    "        # update the discriminator\n",
    "        #  \n",
    "        # ---------------------------------------------------------------------------\n",
    "        generator.eval()\n",
    "        discriminator.train()\n",
    "        \n",
    "        optimizer_discriminator.zero_grad()\n",
    "        fake = compute_prediction(generator, latent)\n",
    "        prediction_real = compute_prediction(discriminator, real)\n",
    "        prediction_fake = compute_prediction(discriminator, fake)\n",
    "        loss_real = nn.BCEWithLogitsLoss()(prediction_real, torch.ones_like(prediction_real, device=device))\n",
    "        loss_fake = nn.BCEWithLogitsLoss()(prediction_fake, torch.zeros_like(prediction_fake, device=device))\n",
    "        loss_discriminator = (loss_real + loss_fake) / 2.\n",
    "        loss_discriminator.backward()\n",
    "        optimizer_discriminator.step()\n",
    "        \n",
    "        loss_generator_epoch.append(loss_generator.item())\n",
    "        loss_discriminator_epoch.append(loss_discriminator.item())\n",
    "    \n",
    "    return np.mean(loss_generator_epoch), np.mean(loss_discriminator_epoch)"
   ]
  },
  {
   "cell_type": "markdown",
   "metadata": {},
   "source": [
    "## test"
   ]
  },
  {
   "cell_type": "code",
   "execution_count": 19,
   "metadata": {},
   "outputs": [],
   "source": [
    "def test(generator, latent):\n",
    "    \n",
    "    generator.eval()\n",
    "    \n",
    "    prediction  = generator(latent)\n",
    "    prediction  = prediction.squeeze(axis=1)\n",
    "    accuracy    = compute_accuracy(prediction)\n",
    "    \n",
    "    return accuracy"
   ]
  },
  {
   "cell_type": "markdown",
   "metadata": {},
   "source": [
    "## training epoch"
   ]
  },
  {
   "cell_type": "code",
   "execution_count": 20,
   "metadata": {
    "scrolled": true
   },
   "outputs": [
    {
     "name": "stdout",
     "output_type": "stream",
     "text": [
      "epoch 0, loss_generator = 0.7830118815104167, loss_discriminator=0.7010087543063693, accuracy=85.39830780029297\n",
      "epoch 1, loss_generator = 0.7675823167242386, loss_discriminator=0.7030457474567272, accuracy=82.90269470214844\n",
      "epoch 2, loss_generator = 0.8758105505395819, loss_discriminator=0.6385555141501956, accuracy=81.8272705078125\n",
      "epoch 3, loss_generator = 0.9985896419595789, loss_discriminator=0.6048567204563706, accuracy=80.04447937011719\n",
      "epoch 4, loss_generator = 1.1059355289847763, loss_discriminator=0.583775747484631, accuracy=79.77926635742188\n",
      "epoch 5, loss_generator = 0.9635988994880959, loss_discriminator=0.6233917479161863, accuracy=80.331298828125\n",
      "epoch 6, loss_generator = 0.9024248213679702, loss_discriminator=0.6313283092445797, accuracy=79.93148803710938\n",
      "epoch 7, loss_generator = 0.9251472808696606, loss_discriminator=0.6178684930006663, accuracy=79.88243865966797\n",
      "epoch 8, loss_generator = 0.9281626017005356, loss_discriminator=0.6236695271951181, accuracy=79.06584167480469\n",
      "epoch 9, loss_generator = 0.989872505929735, loss_discriminator=0.6065760106952102, accuracy=81.00733947753906\n",
      "epoch 10, loss_generator = 0.9896878873860394, loss_discriminator=0.6073758339440382, accuracy=79.89352416992188\n",
      "epoch 11, loss_generator = 0.9674861607728181, loss_discriminator=0.6230222558533703, accuracy=82.97750854492188\n",
      "epoch 12, loss_generator = 0.9570595167301319, loss_discriminator=0.6187570496841713, accuracy=83.46125030517578\n",
      "epoch 13, loss_generator = 0.9604870442990904, loss_discriminator=0.6182882803457754, accuracy=83.43415832519531\n",
      "epoch 14, loss_generator = 0.9374355720149146, loss_discriminator=0.6248998489644793, accuracy=83.8643798828125\n",
      "epoch 15, loss_generator = 0.9903224856765181, loss_discriminator=0.6003881867285128, accuracy=85.75791931152344\n",
      "epoch 16, loss_generator = 1.0977333978370385, loss_discriminator=0.5782981753349304, accuracy=87.28958129882812\n",
      "epoch 17, loss_generator = 1.1209014219266398, loss_discriminator=0.5694691084049366, accuracy=87.14762878417969\n",
      "epoch 18, loss_generator = 1.1769556963885273, loss_discriminator=0.5540817951714551, accuracy=85.48162841796875\n",
      "epoch 19, loss_generator = 1.2077670088520756, loss_discriminator=0.5410225247895276, accuracy=87.48764038085938\n",
      "epoch 20, loss_generator = 1.3056021103152522, loss_discriminator=0.5255158461906292, accuracy=88.60362243652344\n",
      "epoch 21, loss_generator = 1.329683616867772, loss_discriminator=0.5226536015669505, accuracy=88.09930419921875\n",
      "epoch 22, loss_generator = 1.4971592020105433, loss_discriminator=0.49399937634114865, accuracy=87.74273681640625\n",
      "epoch 23, loss_generator = 1.5467008626019514, loss_discriminator=0.4856680382181097, accuracy=88.5826416015625\n",
      "epoch 24, loss_generator = 1.687554872477496, loss_discriminator=0.4512713529445507, accuracy=87.42733764648438\n",
      "epoch 25, loss_generator = 1.837967054049174, loss_discriminator=0.42874362777780606, accuracy=87.83517456054688\n",
      "epoch 26, loss_generator = 1.77097107635604, loss_discriminator=0.48327174694449815, accuracy=89.99966430664062\n",
      "epoch 27, loss_generator = 2.1142444167976024, loss_discriminator=0.42246861358483634, accuracy=90.38493347167969\n",
      "epoch 28, loss_generator = 2.2435123377376134, loss_discriminator=0.3727896511554718, accuracy=89.77018737792969\n",
      "epoch 29, loss_generator = 2.2493589961970293, loss_discriminator=0.40111837398122857, accuracy=90.73519897460938\n",
      "epoch 30, loss_generator = 2.0618289755450356, loss_discriminator=0.40901870087341025, accuracy=91.13816833496094\n",
      "epoch 31, loss_generator = 2.4356617864635255, loss_discriminator=0.3853806878681536, accuracy=90.5649185180664\n",
      "epoch 32, loss_generator = 2.3936344588244403, loss_discriminator=0.3904025121971413, accuracy=90.41565704345703\n",
      "epoch 33, loss_generator = 2.3037306401464672, loss_discriminator=0.39610363642374674, accuracy=88.70724487304688\n",
      "epoch 34, loss_generator = 2.157430868678623, loss_discriminator=0.4246608284888444, accuracy=91.09950256347656\n",
      "epoch 35, loss_generator = 2.404509715239207, loss_discriminator=0.39909110290032845, accuracy=88.69650268554688\n",
      "epoch 36, loss_generator = 2.3878935392256135, loss_discriminator=0.40716480127087346, accuracy=87.21712493896484\n",
      "epoch 37, loss_generator = 2.4954027144997206, loss_discriminator=0.423369249480742, accuracy=90.94216918945312\n",
      "epoch 38, loss_generator = 2.6850966133453227, loss_discriminator=0.3855387411735676, accuracy=90.927001953125\n",
      "epoch 39, loss_generator = 2.1685834814001015, loss_discriminator=0.4071923436941924, accuracy=89.83871459960938\n",
      "epoch 40, loss_generator = 2.65923564919719, loss_discriminator=0.37795585471170917, accuracy=91.87032318115234\n",
      "epoch 41, loss_generator = 2.623148703575134, loss_discriminator=0.38252339252719175, accuracy=90.64859771728516\n",
      "epoch 42, loss_generator = 2.424918137877076, loss_discriminator=0.39909874818943164, accuracy=91.58866119384766\n",
      "epoch 43, loss_generator = 2.550184577041202, loss_discriminator=0.42658706605434416, accuracy=89.69109344482422\n",
      "epoch 44, loss_generator = 2.749560671603238, loss_discriminator=0.374227073347127, accuracy=89.05258178710938\n",
      "epoch 45, loss_generator = 2.8445511257206952, loss_discriminator=0.36048369771904415, accuracy=89.26541137695312\n",
      "epoch 46, loss_generator = 2.674377696160917, loss_discriminator=0.367363163056197, accuracy=91.57853698730469\n",
      "epoch 47, loss_generator = 2.2757195159241004, loss_discriminator=0.44952401485708027, accuracy=91.18209838867188\n",
      "epoch 48, loss_generator = 2.267624118482625, loss_discriminator=0.4465162339033904, accuracy=91.59205627441406\n",
      "epoch 49, loss_generator = 2.571480056533107, loss_discriminator=0.4154686269936738, accuracy=90.17501831054688\n",
      "epoch 50, loss_generator = 2.784633919265535, loss_discriminator=0.43605274547029427, accuracy=91.00955963134766\n",
      "epoch 51, loss_generator = 2.8140897234280904, loss_discriminator=0.40301510967590193, accuracy=91.15634155273438\n",
      "epoch 52, loss_generator = 3.1279619232372, loss_discriminator=0.38718453182114493, accuracy=90.92184448242188\n",
      "epoch 53, loss_generator = 3.244578213603408, loss_discriminator=0.3416304900690361, accuracy=92.69857788085938\n",
      "epoch 54, loss_generator = 3.123492119047377, loss_discriminator=0.34225260858182555, accuracy=91.58563232421875\n",
      "epoch 55, loss_generator = 3.394704995331941, loss_discriminator=0.33915469072483206, accuracy=91.70445251464844\n",
      "epoch 56, loss_generator = 3.3133622897995845, loss_discriminator=0.3450215366151598, accuracy=92.33840942382812\n",
      "epoch 57, loss_generator = 2.7948790417777167, loss_discriminator=0.40803370873133343, accuracy=92.45411682128906\n",
      "epoch 58, loss_generator = 2.006686379953667, loss_discriminator=0.5052789973991888, accuracy=91.6007308959961\n",
      "epoch 59, loss_generator = 2.3181947973039416, loss_discriminator=0.42441529399818845, accuracy=93.81668090820312\n",
      "epoch 60, loss_generator = 3.03622303892065, loss_discriminator=0.3672993270335374, accuracy=93.63009643554688\n",
      "epoch 61, loss_generator = 3.0243176131336775, loss_discriminator=0.3899632611760387, accuracy=91.59320831298828\n",
      "epoch 62, loss_generator = 3.502226397726271, loss_discriminator=0.33535716533660886, accuracy=92.07567596435547\n",
      "epoch 63, loss_generator = 3.5493917791931717, loss_discriminator=0.2799422956175274, accuracy=91.22775268554688\n",
      "epoch 64, loss_generator = 3.2781986192420676, loss_discriminator=0.3120449584943277, accuracy=92.14688110351562\n",
      "epoch 65, loss_generator = 3.718189344582734, loss_discriminator=0.27916360166337756, accuracy=91.19927978515625\n",
      "epoch 66, loss_generator = 3.530998941262563, loss_discriminator=0.29343509718223854, accuracy=90.8420181274414\n",
      "epoch 67, loss_generator = 3.6886640010056673, loss_discriminator=0.2446995688809289, accuracy=92.21957397460938\n",
      "epoch 68, loss_generator = 3.092202217049069, loss_discriminator=0.29307245292045453, accuracy=93.99603271484375\n",
      "epoch 69, loss_generator = 2.971952629972387, loss_discriminator=0.3822883516550064, accuracy=91.59464263916016\n",
      "epoch 70, loss_generator = 3.583697533607483, loss_discriminator=0.3510847183289351, accuracy=85.40316772460938\n",
      "epoch 71, loss_generator = 3.864000761067426, loss_discriminator=0.31722764405939313, accuracy=92.28387451171875\n",
      "epoch 72, loss_generator = 3.7523514014703254, loss_discriminator=0.27577537226456184, accuracy=92.07518768310547\n"
     ]
    },
    {
     "name": "stdout",
     "output_type": "stream",
     "text": [
      "epoch 73, loss_generator = 4.005058206452263, loss_discriminator=0.2762829983675921, accuracy=91.21717834472656\n",
      "epoch 74, loss_generator = 3.717232682969835, loss_discriminator=0.3242301362532157, accuracy=89.72064971923828\n",
      "epoch 75, loss_generator = 3.612649650706185, loss_discriminator=0.3563372995014544, accuracy=92.54811096191406\n",
      "epoch 76, loss_generator = 3.9108242436691567, loss_discriminator=0.30737810714377295, accuracy=92.69203186035156\n",
      "epoch 77, loss_generator = 4.0770993634506505, loss_discriminator=0.3043306292207153, accuracy=91.58243560791016\n",
      "epoch 78, loss_generator = 4.0187237876432915, loss_discriminator=0.3326357045659312, accuracy=92.25660705566406\n",
      "epoch 79, loss_generator = 4.093690143249653, loss_discriminator=0.34856491927747374, accuracy=93.20059204101562\n",
      "epoch 80, loss_generator = 3.775698737744932, loss_discriminator=0.3486027950489963, accuracy=93.79265594482422\n",
      "epoch 81, loss_generator = 4.332031806310018, loss_discriminator=0.30921758203594774, accuracy=93.37049865722656\n",
      "epoch 82, loss_generator = 4.288414688463564, loss_discriminator=0.3113389429118898, accuracy=90.48454284667969\n",
      "epoch 83, loss_generator = 4.192271138562097, loss_discriminator=0.2953708568104991, accuracy=93.85479736328125\n",
      "epoch 84, loss_generator = 4.0577526966730755, loss_discriminator=0.23839170905175033, accuracy=94.4499282836914\n",
      "epoch 85, loss_generator = 3.9901079372123434, loss_discriminator=0.2436812028288841, accuracy=93.11526489257812\n",
      "epoch 86, loss_generator = 3.857213349695559, loss_discriminator=0.25958985642150595, accuracy=92.29161071777344\n",
      "epoch 87, loss_generator = 3.6268123538405805, loss_discriminator=0.3201187303772679, accuracy=94.27164459228516\n",
      "epoch 88, loss_generator = 4.734938174706918, loss_discriminator=0.26857817702823217, accuracy=93.33111572265625\n",
      "epoch 89, loss_generator = 3.609558673037423, loss_discriminator=0.33514750908922264, accuracy=92.98532104492188\n",
      "epoch 90, loss_generator = 2.8947231579709936, loss_discriminator=0.34487872178907747, accuracy=94.31053924560547\n",
      "epoch 91, loss_generator = 4.539834178818596, loss_discriminator=0.2933816472137416, accuracy=91.85010528564453\n",
      "epoch 92, loss_generator = 7.494548739327325, loss_discriminator=0.18853421150534241, accuracy=91.255859375\n",
      "epoch 93, loss_generator = 5.524436655750981, loss_discriminator=0.20062787312048452, accuracy=91.86039733886719\n",
      "epoch 94, loss_generator = 4.382932731840346, loss_discriminator=0.22978126688135994, accuracy=87.68482971191406\n",
      "epoch 95, loss_generator = 4.2429828926369, loss_discriminator=0.24299142255827233, accuracy=90.07070922851562\n",
      "epoch 96, loss_generator = 4.592764246905292, loss_discriminator=0.21088070781142623, accuracy=91.81050109863281\n",
      "epoch 97, loss_generator = 4.554939728313022, loss_discriminator=0.2146043488824809, accuracy=94.5001220703125\n",
      "epoch 98, loss_generator = 4.395498211295516, loss_discriminator=0.22809583688223803, accuracy=89.84981536865234\n",
      "epoch 99, loss_generator = 5.267077784185056, loss_discriminator=0.22158688842146484, accuracy=91.27171325683594\n",
      "epoch 100, loss_generator = 4.534370508017363, loss_discriminator=0.255522528677075, accuracy=93.35952758789062\n",
      "epoch 101, loss_generator = 4.717279798896224, loss_discriminator=0.24210104837461754, accuracy=90.65068054199219\n",
      "epoch 102, loss_generator = 5.178879253069559, loss_discriminator=0.23928183399968678, accuracy=89.2232437133789\n",
      "epoch 103, loss_generator = 5.571613808914467, loss_discriminator=0.2328377260102166, accuracy=89.87942504882812\n",
      "epoch 104, loss_generator = 4.351309893749378, loss_discriminator=0.2729440508617295, accuracy=94.10833740234375\n",
      "epoch 105, loss_generator = 4.080646710925632, loss_discriminator=0.26491286594558644, accuracy=94.47494506835938\n",
      "epoch 106, loss_generator = 4.126009330484602, loss_discriminator=0.29014473215297415, accuracy=94.29137420654297\n",
      "epoch 107, loss_generator = 4.861763314406077, loss_discriminator=0.23897315926022, accuracy=93.30203247070312\n",
      "epoch 108, loss_generator = 4.899772676715145, loss_discriminator=0.23830225572541908, accuracy=93.00717163085938\n",
      "epoch 109, loss_generator = 4.847398948669434, loss_discriminator=0.25008759139864534, accuracy=94.163818359375\n",
      "epoch 110, loss_generator = 4.62154493773425, loss_discriminator=0.23424486346818782, accuracy=94.510986328125\n",
      "epoch 111, loss_generator = 4.584798178849397, loss_discriminator=0.23177100248910762, accuracy=92.3207778930664\n",
      "epoch 112, loss_generator = 4.526119057778959, loss_discriminator=0.23909368597798877, accuracy=91.69136047363281\n",
      "epoch 113, loss_generator = 4.31345900606226, loss_discriminator=0.2285116421955603, accuracy=93.81610870361328\n",
      "epoch 114, loss_generator = 4.970941718419393, loss_discriminator=0.22250927719804975, accuracy=80.02540588378906\n",
      "epoch 115, loss_generator = 5.155521126146669, loss_discriminator=0.23311344103680717, accuracy=91.4258804321289\n",
      "epoch 116, loss_generator = 5.026869878062495, loss_discriminator=0.24422166220567845, accuracy=89.55232238769531\n",
      "epoch 117, loss_generator = 5.02749846511417, loss_discriminator=0.25691708403605, accuracy=93.76959228515625\n",
      "epoch 118, loss_generator = 5.234842292467753, loss_discriminator=0.22576472604716266, accuracy=92.31010437011719\n",
      "epoch 119, loss_generator = 5.032000394220705, loss_discriminator=0.2037089453527221, accuracy=74.4053955078125\n",
      "epoch 120, loss_generator = 4.468440897155691, loss_discriminator=0.2629776268645569, accuracy=91.50835418701172\n",
      "epoch 121, loss_generator = 4.2976436800426905, loss_discriminator=0.2750061736062721, accuracy=95.06466674804688\n",
      "epoch 122, loss_generator = 4.942485729411796, loss_discriminator=0.2498384951993271, accuracy=90.91749572753906\n",
      "epoch 123, loss_generator = 5.339613773204662, loss_discriminator=0.2307398330282282, accuracy=92.02015686035156\n",
      "epoch 124, loss_generator = 4.946636849862558, loss_discriminator=0.24974440810856996, accuracy=92.86819458007812\n",
      "epoch 125, loss_generator = 4.85271704726749, loss_discriminator=0.27635140639764294, accuracy=94.47055053710938\n",
      "epoch 126, loss_generator = 5.4877987278832325, loss_discriminator=0.22756622085968653, accuracy=92.60591888427734\n",
      "epoch 127, loss_generator = 5.165247498618232, loss_discriminator=0.21430599054804556, accuracy=91.42088317871094\n",
      "epoch 128, loss_generator = 5.930615130177251, loss_discriminator=0.2269741247649546, accuracy=90.73744201660156\n",
      "epoch 129, loss_generator = 6.207551244453148, loss_discriminator=0.22058775673309963, accuracy=89.14850616455078\n",
      "epoch 130, loss_generator = 6.077610484759012, loss_discriminator=0.2545522156688902, accuracy=90.44891357421875\n",
      "epoch 131, loss_generator = 5.582929673901311, loss_discriminator=0.23706724174596644, accuracy=53.00279235839844\n",
      "epoch 132, loss_generator = 6.487268371935244, loss_discriminator=0.1917595831884278, accuracy=63.85325241088867\n",
      "epoch 133, loss_generator = 5.188247098746123, loss_discriminator=0.23423387584862887, accuracy=82.19270324707031\n",
      "epoch 134, loss_generator = 3.872290430245576, loss_discriminator=0.2812972241529712, accuracy=92.98393249511719\n",
      "epoch 135, loss_generator = 5.375526494450039, loss_discriminator=0.23307979421483146, accuracy=65.03987884521484\n",
      "epoch 136, loss_generator = 5.8902385376117845, loss_discriminator=0.22961161451207268, accuracy=63.34369659423828\n",
      "epoch 137, loss_generator = 5.271122484736972, loss_discriminator=0.29538260295435237, accuracy=70.15469360351562\n",
      "epoch 138, loss_generator = 6.857543713958175, loss_discriminator=0.19927501661909952, accuracy=92.59246826171875\n",
      "epoch 139, loss_generator = 6.057856215371026, loss_discriminator=0.21724787475886168, accuracy=94.84158325195312\n",
      "epoch 140, loss_generator = 5.3004622168011135, loss_discriminator=0.2589777593259458, accuracy=92.11761474609375\n",
      "epoch 141, loss_generator = 6.134084422500045, loss_discriminator=0.1985210263342769, accuracy=87.82268524169922\n",
      "epoch 142, loss_generator = 5.726705233256022, loss_discriminator=0.19940605991416507, accuracy=93.25251770019531\n",
      "epoch 143, loss_generator = 5.927697856337936, loss_discriminator=0.1771878695598355, accuracy=71.04563903808594\n",
      "epoch 144, loss_generator = 6.0760494867960615, loss_discriminator=0.17877759916914834, accuracy=92.64396667480469\n",
      "epoch 145, loss_generator = 5.69461907280816, loss_discriminator=0.1780964107701072, accuracy=92.30718994140625\n"
     ]
    },
    {
     "name": "stdout",
     "output_type": "stream",
     "text": [
      "epoch 146, loss_generator = 5.9451680483641445, loss_discriminator=0.19763633338389575, accuracy=93.99901580810547\n",
      "epoch 147, loss_generator = 5.91983642578125, loss_discriminator=0.16886602998883635, accuracy=92.2822265625\n",
      "epoch 148, loss_generator = 5.275719130480731, loss_discriminator=0.186285795878481, accuracy=93.51472473144531\n",
      "epoch 149, loss_generator = 5.608909387941714, loss_discriminator=0.17317214036981265, accuracy=91.46451568603516\n",
      "epoch 150, loss_generator = 5.731089816270051, loss_discriminator=0.15387877874352313, accuracy=93.3097915649414\n",
      "epoch 151, loss_generator = 6.1813570163868095, loss_discriminator=0.13445109299349564, accuracy=93.24607849121094\n",
      "epoch 152, loss_generator = 6.2107965292754, loss_discriminator=0.13824011279201065, accuracy=79.26958465576172\n",
      "epoch 153, loss_generator = 6.325542919724076, loss_discriminator=0.13083853539493348, accuracy=93.23147583007812\n",
      "epoch 154, loss_generator = 7.3475077240555375, loss_discriminator=0.10508296885700137, accuracy=92.1696548461914\n",
      "epoch 155, loss_generator = 5.441100635351958, loss_discriminator=0.15182111838625537, accuracy=92.74290466308594\n",
      "epoch 156, loss_generator = 5.051144968138801, loss_discriminator=0.17072696390527267, accuracy=95.50868225097656\n",
      "epoch 157, loss_generator = 5.441615901169953, loss_discriminator=0.15210814227660496, accuracy=74.00325012207031\n",
      "epoch 158, loss_generator = 5.646810460973669, loss_discriminator=0.173967079790654, accuracy=91.17435455322266\n",
      "epoch 159, loss_generator = 5.0401953538258875, loss_discriminator=0.1968752611014578, accuracy=92.63642120361328\n",
      "epoch 160, loss_generator = 5.260715142885844, loss_discriminator=0.19369292115723646, accuracy=76.69822692871094\n",
      "epoch 161, loss_generator = 5.7981125390088115, loss_discriminator=0.17050151397232657, accuracy=90.09449005126953\n",
      "epoch 162, loss_generator = 6.095742614180954, loss_discriminator=0.2066441719730695, accuracy=93.2400131225586\n",
      "epoch 163, loss_generator = 5.204105090211939, loss_discriminator=0.20997000717454486, accuracy=88.64692687988281\n",
      "epoch 164, loss_generator = 5.045015268855625, loss_discriminator=0.19594284571983195, accuracy=93.1165771484375\n",
      "epoch 165, loss_generator = 4.671669226664084, loss_discriminator=0.2215958843904513, accuracy=92.88938903808594\n",
      "epoch 166, loss_generator = 5.415536186430189, loss_discriminator=0.21296621489304082, accuracy=91.32748413085938\n",
      "epoch 167, loss_generator = 5.358146052007322, loss_discriminator=0.22703911761442822, accuracy=92.01426696777344\n",
      "epoch 168, loss_generator = 5.332061204203853, loss_discriminator=0.22895827111270692, accuracy=95.02098083496094\n",
      "epoch 169, loss_generator = 5.227397360183574, loss_discriminator=0.23344966029679334, accuracy=93.78976440429688\n",
      "epoch 170, loss_generator = 6.128152979744805, loss_discriminator=0.2124440567360984, accuracy=94.8139877319336\n",
      "epoch 171, loss_generator = 5.161562540354552, loss_discriminator=0.24556893877409122, accuracy=93.95223236083984\n",
      "epoch 172, loss_generator = 5.555468672293204, loss_discriminator=0.208547221896825, accuracy=90.91813659667969\n",
      "epoch 173, loss_generator = 5.706130603507713, loss_discriminator=0.22082327471839058, accuracy=91.67782592773438\n",
      "epoch 174, loss_generator = 6.288429651436982, loss_discriminator=0.22754026276093942, accuracy=94.14376831054688\n",
      "epoch 175, loss_generator = 5.562392059078923, loss_discriminator=0.2218238621674202, accuracy=89.50875091552734\n",
      "epoch 176, loss_generator = 6.283926027792472, loss_discriminator=0.18421584732002683, accuracy=60.85124588012695\n",
      "epoch 177, loss_generator = 6.79047966003418, loss_discriminator=0.17509510158388703, accuracy=90.03715515136719\n",
      "epoch 178, loss_generator = 6.407600570608069, loss_discriminator=0.17060469435872855, accuracy=93.20932006835938\n",
      "epoch 179, loss_generator = 6.418429823274965, loss_discriminator=0.14676657412891034, accuracy=91.9501953125\n",
      "epoch 180, loss_generator = 6.534990557917842, loss_discriminator=0.15651192416747411, accuracy=91.35575866699219\n",
      "epoch 181, loss_generator = 5.368666682419954, loss_discriminator=0.1643420382782265, accuracy=73.78448486328125\n",
      "epoch 182, loss_generator = 6.233829895655314, loss_discriminator=0.15725716178615887, accuracy=92.96701049804688\n",
      "epoch 183, loss_generator = 6.5031515880867286, loss_discriminator=0.15126056643547836, accuracy=86.37825012207031\n",
      "epoch 184, loss_generator = 6.258242202688146, loss_discriminator=0.1282300740480423, accuracy=75.09750366210938\n",
      "epoch 185, loss_generator = 6.41217257005197, loss_discriminator=0.14447563861807186, accuracy=76.46928405761719\n",
      "epoch 186, loss_generator = 6.534526853208189, loss_discriminator=0.1324383492547053, accuracy=73.81132507324219\n",
      "epoch 187, loss_generator = 6.649945716504697, loss_discriminator=0.12896893868843715, accuracy=54.36090087890625\n",
      "epoch 188, loss_generator = 6.797254458180181, loss_discriminator=0.11314835631185108, accuracy=82.21270751953125\n",
      "epoch 189, loss_generator = 6.27595936457316, loss_discriminator=0.14127919313808282, accuracy=71.27330780029297\n",
      "epoch 190, loss_generator = 6.536817831463284, loss_discriminator=0.1479169711470604, accuracy=82.20804595947266\n",
      "epoch 191, loss_generator = 5.920939406642208, loss_discriminator=0.18060171284057475, accuracy=88.27926635742188\n",
      "epoch 192, loss_generator = 6.479398421887998, loss_discriminator=0.17455371924572521, accuracy=80.41398620605469\n",
      "epoch 193, loss_generator = 5.564566485087076, loss_discriminator=0.20463942692235665, accuracy=93.2255859375\n",
      "epoch 194, loss_generator = 5.828660525215996, loss_discriminator=0.19402414008423133, accuracy=94.1966323852539\n",
      "epoch 195, loss_generator = 6.419139936235216, loss_discriminator=0.17259367439481949, accuracy=86.65470123291016\n",
      "epoch 196, loss_generator = 6.69801612076936, loss_discriminator=0.1740913401875231, accuracy=93.89112091064453\n",
      "epoch 197, loss_generator = 6.236417134602864, loss_discriminator=0.1946235614242377, accuracy=88.11954498291016\n",
      "epoch 198, loss_generator = 6.159240730603536, loss_discriminator=0.1996145757260146, accuracy=55.13851547241211\n",
      "epoch 199, loss_generator = 6.619256570604112, loss_discriminator=0.1820880260180544, accuracy=88.25792694091797\n",
      "epoch 200, loss_generator = 7.147645240359836, loss_discriminator=0.1529072004335898, accuracy=89.62887573242188\n",
      "epoch 201, loss_generator = 6.697609760143139, loss_discriminator=0.17135637341826052, accuracy=93.0101089477539\n",
      "epoch 202, loss_generator = 6.435417268894337, loss_discriminator=0.1619340854662436, accuracy=53.82792282104492\n",
      "epoch 203, loss_generator = 7.2763023703186605, loss_discriminator=0.17388360307172493, accuracy=88.84095001220703\n",
      "epoch 204, loss_generator = 5.604311521848043, loss_discriminator=0.19648226262242705, accuracy=91.83614349365234\n",
      "epoch 205, loss_generator = 6.149410666359795, loss_discriminator=0.1465292739647406, accuracy=93.56851196289062\n",
      "epoch 206, loss_generator = 6.185343254937066, loss_discriminator=0.14871626653605038, accuracy=92.10481262207031\n",
      "epoch 207, loss_generator = 6.648226614351626, loss_discriminator=0.15455071909560097, accuracy=87.93217468261719\n",
      "epoch 208, loss_generator = 6.4993548817104765, loss_discriminator=0.15498202346541262, accuracy=91.08511352539062\n",
      "epoch 209, loss_generator = 6.506267187330458, loss_discriminator=0.14739576889960854, accuracy=94.66262817382812\n",
      "epoch 210, loss_generator = 5.8432540911215325, loss_discriminator=0.14836197787964786, accuracy=93.41999816894531\n",
      "epoch 211, loss_generator = 5.8122672911043525, loss_discriminator=0.14027588817256467, accuracy=95.2405776977539\n",
      "epoch 212, loss_generator = 5.405026607160215, loss_discriminator=0.1503914575058001, accuracy=87.40694427490234\n",
      "epoch 213, loss_generator = 6.270429282718235, loss_discriminator=0.14160655303685754, accuracy=89.69336700439453\n",
      "epoch 214, loss_generator = 6.148072435237744, loss_discriminator=0.13852860613001716, accuracy=93.98348999023438\n",
      "epoch 215, loss_generator = 7.057507725115175, loss_discriminator=0.12639618383858492, accuracy=92.83372497558594\n",
      "epoch 216, loss_generator = 5.5546414251680725, loss_discriminator=0.15178454968112487, accuracy=93.41450500488281\n",
      "epoch 217, loss_generator = 6.00838606622484, loss_discriminator=0.16708482829508958, accuracy=93.0108871459961\n",
      "epoch 218, loss_generator = 6.508165765691687, loss_discriminator=0.1422475093216808, accuracy=90.81258392333984\n"
     ]
    },
    {
     "name": "stdout",
     "output_type": "stream",
     "text": [
      "epoch 219, loss_generator = 6.149990989543774, loss_discriminator=0.1845245574635488, accuracy=88.94285583496094\n",
      "epoch 220, loss_generator = 5.945349906992029, loss_discriminator=0.18249984775428418, accuracy=91.88652038574219\n",
      "epoch 221, loss_generator = 6.255417456450286, loss_discriminator=0.17492274669585406, accuracy=91.45623779296875\n",
      "epoch 222, loss_generator = 7.181421852111816, loss_discriminator=0.145783343800792, accuracy=91.31886291503906\n",
      "epoch 223, loss_generator = 6.643771314620972, loss_discriminator=0.13766744125772407, accuracy=82.34669494628906\n",
      "epoch 224, loss_generator = 7.630583582984077, loss_discriminator=0.14281993080620412, accuracy=87.76361083984375\n",
      "epoch 225, loss_generator = 6.730831488856563, loss_discriminator=0.15365114610780167, accuracy=92.25772094726562\n",
      "epoch 226, loss_generator = 6.905494160122341, loss_discriminator=0.14861624621682698, accuracy=92.60713195800781\n",
      "epoch 227, loss_generator = 6.8154614466208, loss_discriminator=0.13955017090947539, accuracy=93.18080139160156\n",
      "epoch 228, loss_generator = 7.029586431715224, loss_discriminator=0.1382222889888066, accuracy=94.04761505126953\n",
      "epoch 229, loss_generator = 6.409807014465332, loss_discriminator=0.16018936689253208, accuracy=92.32687377929688\n",
      "epoch 230, loss_generator = 6.887499666213989, loss_discriminator=0.17417992215465616, accuracy=89.86370849609375\n",
      "epoch 231, loss_generator = 6.337055315794768, loss_discriminator=0.187339462671015, accuracy=93.9346694946289\n",
      "epoch 232, loss_generator = 6.864789169806021, loss_discriminator=0.18406949639320375, accuracy=90.11431884765625\n",
      "epoch 233, loss_generator = 7.10227534506056, loss_discriminator=0.19102787541018593, accuracy=89.73688507080078\n",
      "epoch 234, loss_generator = 7.250488978845102, loss_discriminator=0.1988921438102369, accuracy=94.31787109375\n",
      "epoch 235, loss_generator = 7.190769296222263, loss_discriminator=0.17633601432597196, accuracy=94.13101959228516\n",
      "epoch 236, loss_generator = 7.546676842371623, loss_discriminator=0.16459707766771317, accuracy=91.616455078125\n",
      "epoch 237, loss_generator = 9.024799912064164, loss_discriminator=0.13295905930852447, accuracy=91.16231536865234\n",
      "epoch 238, loss_generator = 7.747113990783691, loss_discriminator=0.13379730115886088, accuracy=92.45387268066406\n",
      "epoch 239, loss_generator = 8.3345539799443, loss_discriminator=0.1235485017299652, accuracy=92.06402587890625\n",
      "epoch 240, loss_generator = 7.953478806107133, loss_discriminator=0.12983812125468697, accuracy=91.515869140625\n",
      "epoch 241, loss_generator = 7.592256047990587, loss_discriminator=0.12581846882347708, accuracy=92.79261779785156\n",
      "epoch 242, loss_generator = 7.247629644252636, loss_discriminator=0.147808665699429, accuracy=91.39171600341797\n",
      "epoch 243, loss_generator = 7.325946359281187, loss_discriminator=0.1275188166924097, accuracy=92.6526870727539\n",
      "epoch 244, loss_generator = 7.805569035918625, loss_discriminator=0.13272808038250164, accuracy=89.82029724121094\n",
      "epoch 245, loss_generator = 7.618218520835594, loss_discriminator=0.1396245658673622, accuracy=39.333377838134766\n",
      "epoch 246, loss_generator = 7.785716316435072, loss_discriminator=0.15544752285436347, accuracy=51.74728012084961\n",
      "epoch 247, loss_generator = 7.318787890893442, loss_discriminator=0.17301341993389308, accuracy=91.49237823486328\n",
      "epoch 248, loss_generator = 7.391793026747527, loss_discriminator=0.15462101082558985, accuracy=88.00494384765625\n",
      "epoch 249, loss_generator = 7.520626562613028, loss_discriminator=0.14283913304960286, accuracy=88.00567626953125\n",
      "epoch 250, loss_generator = 7.577712484642311, loss_discriminator=0.11516156236606616, accuracy=85.2896957397461\n",
      "epoch 251, loss_generator = 7.0999311994623255, loss_discriminator=0.11475383798695273, accuracy=92.40396881103516\n",
      "epoch 252, loss_generator = 6.890649966840391, loss_discriminator=0.1169156881256236, accuracy=91.38683319091797\n",
      "epoch 253, loss_generator = 7.847724829779731, loss_discriminator=0.11720418262260932, accuracy=91.79865264892578\n",
      "epoch 254, loss_generator = 6.868885003195869, loss_discriminator=0.11098919320437643, accuracy=89.10305786132812\n",
      "epoch 255, loss_generator = 6.8272702128798874, loss_discriminator=0.12315499396235854, accuracy=91.47876739501953\n",
      "epoch 256, loss_generator = 7.5620267232259115, loss_discriminator=0.10615672248381156, accuracy=89.96279907226562\n",
      "epoch 257, loss_generator = 6.824517393112183, loss_discriminator=0.11156062374788302, accuracy=92.27740478515625\n",
      "epoch 258, loss_generator = 7.586326853434245, loss_discriminator=0.10694062633922806, accuracy=92.64985656738281\n",
      "epoch 259, loss_generator = 6.410328560405308, loss_discriminator=0.1453548011197536, accuracy=95.18563842773438\n",
      "epoch 260, loss_generator = 5.979937108357747, loss_discriminator=0.14638021099898552, accuracy=92.81210327148438\n",
      "epoch 261, loss_generator = 6.21631304246408, loss_discriminator=0.14494490689701503, accuracy=88.33755493164062\n",
      "epoch 262, loss_generator = 6.397409237755669, loss_discriminator=0.14488271673520406, accuracy=93.15142822265625\n",
      "epoch 263, loss_generator = 6.8078470636297155, loss_discriminator=0.14607895138087096, accuracy=93.72434997558594\n",
      "epoch 264, loss_generator = 6.2691077815161815, loss_discriminator=0.16657156784225394, accuracy=93.97698211669922\n",
      "epoch 265, loss_generator = 6.032808293236626, loss_discriminator=0.18397982869711188, accuracy=92.7688217163086\n",
      "epoch 266, loss_generator = 4.793808579444885, loss_discriminator=0.19966548289413805, accuracy=93.35408782958984\n",
      "epoch 267, loss_generator = 6.716807035163597, loss_discriminator=0.1798033320793399, accuracy=94.36600494384766\n",
      "epoch 268, loss_generator = 6.337299827293114, loss_discriminator=0.15535501274797653, accuracy=91.9884033203125\n",
      "epoch 269, loss_generator = 6.5855297424175125, loss_discriminator=0.16881402005200033, accuracy=92.78630065917969\n",
      "epoch 270, loss_generator = 6.530697273325037, loss_discriminator=0.16250735656530768, accuracy=93.87054443359375\n",
      "epoch 271, loss_generator = 6.647492959764269, loss_discriminator=0.14525677939807927, accuracy=94.16461944580078\n",
      "epoch 272, loss_generator = 6.67892383646082, loss_discriminator=0.14670709893107414, accuracy=94.77943420410156\n",
      "epoch 273, loss_generator = 7.206745988351328, loss_discriminator=0.16955310627818107, accuracy=93.8461685180664\n",
      "epoch 274, loss_generator = 7.441204268844039, loss_discriminator=0.17250006209920954, accuracy=93.44172668457031\n",
      "epoch 275, loss_generator = 7.316726055851689, loss_discriminator=0.1580739829827238, accuracy=92.88099670410156\n",
      "epoch 276, loss_generator = 7.1724855405313, loss_discriminator=0.13918689751514682, accuracy=73.50662994384766\n",
      "epoch 277, loss_generator = 7.631344318389893, loss_discriminator=0.1239654109571819, accuracy=92.1177749633789\n",
      "epoch 278, loss_generator = 7.175568995652376, loss_discriminator=0.13294013992503836, accuracy=93.67900085449219\n",
      "epoch 279, loss_generator = 6.874155185840748, loss_discriminator=0.1379895149557679, accuracy=89.5604019165039\n",
      "epoch 280, loss_generator = 6.624713950686985, loss_discriminator=0.14095198288559913, accuracy=93.54335021972656\n",
      "epoch 281, loss_generator = 6.818996904514454, loss_discriminator=0.12961124380429587, accuracy=93.28185272216797\n",
      "epoch 282, loss_generator = 7.867085785335965, loss_discriminator=0.10379716809149142, accuracy=93.71736145019531\n",
      "epoch 283, loss_generator = 7.684879324171278, loss_discriminator=0.09936194571631926, accuracy=89.61076354980469\n",
      "epoch 284, loss_generator = 8.507822739636456, loss_discriminator=0.09459091354230488, accuracy=92.56880950927734\n",
      "epoch 285, loss_generator = 8.058860718762434, loss_discriminator=0.08787171255659174, accuracy=95.5667495727539\n",
      "epoch 286, loss_generator = 7.556008635626899, loss_discriminator=0.09324723377961804, accuracy=95.13477325439453\n",
      "epoch 287, loss_generator = 6.996650900664153, loss_discriminator=0.09473281379927087, accuracy=93.58123779296875\n",
      "epoch 288, loss_generator = 7.014533014650698, loss_discriminator=0.08749328324640239, accuracy=93.39615631103516\n",
      "epoch 289, loss_generator = 6.796469047334459, loss_discriminator=0.09182576188058765, accuracy=73.93815612792969\n",
      "epoch 290, loss_generator = 6.337180976514463, loss_discriminator=0.09338219628013947, accuracy=92.1143798828125\n",
      "epoch 291, loss_generator = 6.9228023776301635, loss_discriminator=0.08202349020306159, accuracy=93.14456176757812\n"
     ]
    },
    {
     "name": "stdout",
     "output_type": "stream",
     "text": [
      "epoch 292, loss_generator = 6.569004101223416, loss_discriminator=0.08092231255852514, accuracy=93.68537902832031\n",
      "epoch 293, loss_generator = 5.970119146064476, loss_discriminator=0.09410089900096258, accuracy=95.17188262939453\n",
      "epoch 294, loss_generator = 6.086759962858977, loss_discriminator=0.08615126375246931, accuracy=91.5030746459961\n",
      "epoch 295, loss_generator = 6.387437232335409, loss_discriminator=0.09630629908017538, accuracy=94.33460998535156\n",
      "epoch 296, loss_generator = 6.401308149761624, loss_discriminator=0.09010546778639157, accuracy=89.21217346191406\n",
      "epoch 297, loss_generator = 5.887254193977073, loss_discriminator=0.10619859160786425, accuracy=90.56757354736328\n",
      "epoch 298, loss_generator = 6.153802749845717, loss_discriminator=0.10565848251183828, accuracy=95.09236907958984\n",
      "epoch 299, loss_generator = 6.486135096020169, loss_discriminator=0.09882200533455168, accuracy=89.9478988647461\n",
      "epoch 300, loss_generator = 6.366056198543973, loss_discriminator=0.10704058422534554, accuracy=93.06510925292969\n",
      "epoch 301, loss_generator = 6.575782410303751, loss_discriminator=0.09752478213221938, accuracy=93.44189453125\n",
      "epoch 302, loss_generator = 6.395827909752175, loss_discriminator=0.11759144595513742, accuracy=93.70664978027344\n",
      "epoch 303, loss_generator = 5.985239371546992, loss_discriminator=0.12691270818037015, accuracy=91.5430679321289\n",
      "epoch 304, loss_generator = 6.336339177025689, loss_discriminator=0.11811405300266213, accuracy=72.09356689453125\n",
      "epoch 305, loss_generator = 5.986701922946506, loss_discriminator=0.12163931330045065, accuracy=92.81938171386719\n",
      "epoch 306, loss_generator = 5.796120283338759, loss_discriminator=0.130107611031444, accuracy=89.96051788330078\n",
      "epoch 307, loss_generator = 6.244214070284808, loss_discriminator=0.1252633475733024, accuracy=94.4771499633789\n",
      "epoch 308, loss_generator = 6.8716229191532845, loss_discriminator=0.10317344247466988, accuracy=92.215087890625\n",
      "epoch 309, loss_generator = 7.386115367324264, loss_discriminator=0.10545643890897433, accuracy=13.163863182067871\n",
      "epoch 310, loss_generator = 6.989263937208388, loss_discriminator=0.1118713240104693, accuracy=93.99856567382812\n",
      "epoch 311, loss_generator = 7.325614537133111, loss_discriminator=0.0995878093496517, accuracy=73.13860321044922\n",
      "epoch 312, loss_generator = 6.643444621121442, loss_discriminator=0.1100912271136487, accuracy=92.32271575927734\n",
      "epoch 313, loss_generator = 7.219615010861998, loss_discriminator=0.1120503122607867, accuracy=92.87513732910156\n",
      "epoch 314, loss_generator = 6.744257730907864, loss_discriminator=0.12183710275976746, accuracy=92.54320526123047\n",
      "epoch 315, loss_generator = 6.995907647521408, loss_discriminator=0.10584960786832703, accuracy=91.845703125\n",
      "epoch 316, loss_generator = 6.263984567147714, loss_discriminator=0.09956100864542855, accuracy=90.8880844116211\n",
      "epoch 317, loss_generator = 6.384697396666915, loss_discriminator=0.11026619075349084, accuracy=90.066650390625\n",
      "epoch 318, loss_generator = 6.942497664910776, loss_discriminator=0.12567405392312342, accuracy=92.88123321533203\n",
      "epoch 319, loss_generator = 6.548994341603032, loss_discriminator=0.12401141046925827, accuracy=91.67008972167969\n",
      "epoch 320, loss_generator = 6.5449704099584505, loss_discriminator=0.11605700295832422, accuracy=92.98827362060547\n",
      "epoch 321, loss_generator = 6.952202909964102, loss_discriminator=0.11476736714442572, accuracy=94.10780334472656\n",
      "epoch 322, loss_generator = 6.944273447107386, loss_discriminator=0.10907620666203675, accuracy=86.48452758789062\n",
      "epoch 323, loss_generator = 6.957577306252939, loss_discriminator=0.11108941346820858, accuracy=59.99506759643555\n",
      "epoch 324, loss_generator = 6.7527595908553515, loss_discriminator=0.11334287565615442, accuracy=83.50926208496094\n",
      "epoch 325, loss_generator = 6.045905540607594, loss_discriminator=0.1283945062922107, accuracy=95.19292449951172\n",
      "epoch 326, loss_generator = 5.9227323214213055, loss_discriminator=0.13384615505735079, accuracy=93.82649230957031\n",
      "epoch 327, loss_generator = 6.251942578068486, loss_discriminator=0.12335168363319503, accuracy=94.30055236816406\n",
      "epoch 328, loss_generator = 6.561138956635086, loss_discriminator=0.1402838884404412, accuracy=93.17320251464844\n",
      "epoch 329, loss_generator = 6.618571438612761, loss_discriminator=0.13758269393885578, accuracy=92.61961364746094\n",
      "epoch 330, loss_generator = 6.581244410408868, loss_discriminator=0.12648240487884593, accuracy=95.1305160522461\n",
      "epoch 331, loss_generator = 7.093805260128445, loss_discriminator=0.11710253128850902, accuracy=92.14531707763672\n",
      "epoch 332, loss_generator = 6.537832177126849, loss_discriminator=0.13330226006607215, accuracy=93.47150421142578\n",
      "epoch 333, loss_generator = 6.858860524495443, loss_discriminator=0.11638595579123055, accuracy=89.88180541992188\n",
      "epoch 334, loss_generator = 7.281715333020245, loss_discriminator=0.1248892270580486, accuracy=89.20950317382812\n",
      "epoch 335, loss_generator = 7.178495417700874, loss_discriminator=0.1325463803002128, accuracy=92.46711730957031\n",
      "epoch 336, loss_generator = 7.49131015671624, loss_discriminator=0.1411817257327062, accuracy=92.1448974609375\n",
      "epoch 337, loss_generator = 8.889276229010688, loss_discriminator=0.12260942717117292, accuracy=86.57977294921875\n",
      "epoch 338, loss_generator = 8.35911985679909, loss_discriminator=0.11857204744937243, accuracy=93.14231872558594\n",
      "epoch 339, loss_generator = 7.971932248716001, loss_discriminator=0.12012178293532795, accuracy=87.28050231933594\n",
      "epoch 340, loss_generator = 7.27498427497016, loss_discriminator=0.11950529253593198, accuracy=93.01701354980469\n",
      "epoch 341, loss_generator = 7.501922904120551, loss_discriminator=0.11721537575401642, accuracy=93.79916381835938\n",
      "epoch 342, loss_generator = 7.455451668633355, loss_discriminator=0.10614278426876775, accuracy=91.8648452758789\n",
      "epoch 343, loss_generator = 9.526928495477748, loss_discriminator=0.08425452085556807, accuracy=88.16654205322266\n",
      "epoch 344, loss_generator = 7.945455074310303, loss_discriminator=0.11528973968492615, accuracy=89.71090698242188\n",
      "epoch 345, loss_generator = 7.386304468578762, loss_discriminator=0.1134082460017116, accuracy=95.4398422241211\n",
      "epoch 346, loss_generator = 8.44996727484244, loss_discriminator=0.09833010762102073, accuracy=84.45964050292969\n",
      "epoch 347, loss_generator = 7.358579667409261, loss_discriminator=0.11082025537336314, accuracy=94.20989227294922\n",
      "epoch 348, loss_generator = 7.745551010414406, loss_discriminator=0.10821221491528882, accuracy=93.07469177246094\n",
      "epoch 349, loss_generator = 7.45830258263482, loss_discriminator=0.11186899702858041, accuracy=93.86804962158203\n",
      "epoch 350, loss_generator = 7.6335054397583, loss_discriminator=0.11058546010818747, accuracy=93.82051849365234\n",
      "epoch 351, loss_generator = 7.684293875870881, loss_discriminator=0.10662412793823967, accuracy=95.33747100830078\n",
      "epoch 352, loss_generator = 7.641335282502351, loss_discriminator=0.10347814277780276, accuracy=71.83277893066406\n",
      "epoch 353, loss_generator = 7.928388803976554, loss_discriminator=0.10652212444002981, accuracy=94.52521514892578\n",
      "epoch 354, loss_generator = 8.205137726112648, loss_discriminator=0.11273022294044495, accuracy=93.53485107421875\n",
      "epoch 355, loss_generator = 8.528199916415744, loss_discriminator=0.11089334704533771, accuracy=91.68692016601562\n",
      "epoch 356, loss_generator = 8.683604717254639, loss_discriminator=0.10725013942078308, accuracy=91.93619537353516\n",
      "epoch 357, loss_generator = 7.934285601863155, loss_discriminator=0.10619091515739759, accuracy=90.30045318603516\n",
      "epoch 358, loss_generator = 7.8965662073206015, loss_discriminator=0.12944451705725105, accuracy=93.27098846435547\n",
      "epoch 359, loss_generator = 7.419541747481735, loss_discriminator=0.12847688849325534, accuracy=94.76760864257812\n",
      "epoch 360, loss_generator = 7.104023340013292, loss_discriminator=0.1407441935605473, accuracy=90.9178466796875\n",
      "epoch 361, loss_generator = 6.551142911557798, loss_discriminator=0.17156382892970687, accuracy=93.94302368164062\n",
      "epoch 362, loss_generator = 7.347206857469347, loss_discriminator=0.1750585235103413, accuracy=93.00743103027344\n",
      "epoch 363, loss_generator = 7.473676054565995, loss_discriminator=0.1730864922757502, accuracy=93.01324462890625\n",
      "epoch 364, loss_generator = 7.227285139649003, loss_discriminator=0.16760050414337052, accuracy=95.13433837890625\n"
     ]
    },
    {
     "name": "stdout",
     "output_type": "stream",
     "text": [
      "epoch 365, loss_generator = 7.963600639060692, loss_discriminator=0.15119367606110043, accuracy=93.90022277832031\n",
      "epoch 366, loss_generator = 7.675801639203672, loss_discriminator=0.1665182853186572, accuracy=92.57530212402344\n",
      "epoch 367, loss_generator = 7.723172957808883, loss_discriminator=0.16686879026669044, accuracy=95.18753814697266\n",
      "epoch 368, loss_generator = 8.449515378033674, loss_discriminator=0.14718371958092408, accuracy=94.62101745605469\n",
      "epoch 369, loss_generator = 8.546486702671757, loss_discriminator=0.13607652173550042, accuracy=92.51377868652344\n",
      "epoch 370, loss_generator = 6.387501065819352, loss_discriminator=0.18556063539452022, accuracy=95.54945373535156\n",
      "epoch 371, loss_generator = 7.781277833161531, loss_discriminator=0.1390655122421406, accuracy=90.30764770507812\n",
      "epoch 372, loss_generator = 8.154698278285839, loss_discriminator=0.13843336764861036, accuracy=93.21041870117188\n",
      "epoch 373, loss_generator = 8.084221144075746, loss_discriminator=0.14335262739547977, accuracy=93.17096710205078\n",
      "epoch 374, loss_generator = 8.718440804658112, loss_discriminator=0.13975488099235076, accuracy=94.27180480957031\n",
      "epoch 375, loss_generator = 9.31411278689349, loss_discriminator=0.1147977545167561, accuracy=94.06306457519531\n",
      "epoch 376, loss_generator = 9.793350484636095, loss_discriminator=0.1279031599285426, accuracy=92.33976745605469\n",
      "epoch 377, loss_generator = 9.788654938450566, loss_discriminator=0.10233706539427792, accuracy=93.42330932617188\n",
      "epoch 378, loss_generator = 9.568975024753147, loss_discriminator=0.12721996779243153, accuracy=93.84608459472656\n",
      "epoch 379, loss_generator = 8.693263264055606, loss_discriminator=0.1289145981548009, accuracy=92.32746887207031\n",
      "epoch 380, loss_generator = 7.883198321307147, loss_discriminator=0.11746407885242391, accuracy=91.39772033691406\n",
      "epoch 381, loss_generator = 9.009208951173004, loss_discriminator=0.10131572064150263, accuracy=95.00173950195312\n",
      "epoch 382, loss_generator = 9.200437496326588, loss_discriminator=0.09867049675710775, accuracy=74.39598083496094\n",
      "epoch 383, loss_generator = 9.522281939895064, loss_discriminator=0.09000090613133377, accuracy=93.37560272216797\n",
      "epoch 384, loss_generator = 8.351838680549903, loss_discriminator=0.09264305152550892, accuracy=92.00746154785156\n",
      "epoch 385, loss_generator = 8.396797180175781, loss_discriminator=0.10610235894995707, accuracy=92.42314147949219\n",
      "epoch 386, loss_generator = 8.670287255887631, loss_discriminator=0.10153842215184812, accuracy=91.51925659179688\n",
      "epoch 387, loss_generator = 8.780282818829571, loss_discriminator=0.09888588728176223, accuracy=94.3387451171875\n",
      "epoch 388, loss_generator = 7.98569057252672, loss_discriminator=0.09769698121343498, accuracy=93.7551040649414\n",
      "epoch 389, loss_generator = 8.882450619450323, loss_discriminator=0.0915171874963023, accuracy=94.97505950927734\n",
      "epoch 390, loss_generator = 8.095971504847208, loss_discriminator=0.10096059040752826, accuracy=92.52767181396484\n",
      "epoch 391, loss_generator = 7.826673320487694, loss_discriminator=0.10877510105018262, accuracy=93.6167984008789\n",
      "epoch 392, loss_generator = 7.426762962341309, loss_discriminator=0.12002430898999726, accuracy=94.18446350097656\n",
      "epoch 393, loss_generator = 7.250181537204319, loss_discriminator=0.11674903545666623, accuracy=89.41905212402344\n",
      "epoch 394, loss_generator = 8.370132898401332, loss_discriminator=0.1035709271552386, accuracy=92.28125\n",
      "epoch 395, loss_generator = 7.568815729353163, loss_discriminator=0.12502194129758412, accuracy=92.47541046142578\n",
      "epoch 396, loss_generator = 7.6933079790186, loss_discriminator=0.10475274009837045, accuracy=94.4857177734375\n",
      "epoch 397, loss_generator = 8.609029413152625, loss_discriminator=0.08258017405039735, accuracy=94.2691650390625\n",
      "epoch 398, loss_generator = 8.08443188490691, loss_discriminator=0.0919060837270485, accuracy=93.30722045898438\n",
      "epoch 399, loss_generator = 8.020304203033447, loss_discriminator=0.09118444864396695, accuracy=92.875\n",
      "epoch 400, loss_generator = 8.616609223683675, loss_discriminator=0.09213886225113162, accuracy=93.060791015625\n",
      "epoch 401, loss_generator = 7.856774884683115, loss_discriminator=0.10054781986055551, accuracy=93.17581939697266\n",
      "epoch 402, loss_generator = 7.31977582860876, loss_discriminator=0.10843371470217351, accuracy=92.889404296875\n",
      "epoch 403, loss_generator = 7.3622543070051405, loss_discriminator=0.09654041721864982, accuracy=93.1148910522461\n",
      "epoch 404, loss_generator = 6.822250809492888, loss_discriminator=0.10704585825679479, accuracy=92.28514099121094\n",
      "epoch 405, loss_generator = 7.6990822509483055, loss_discriminator=0.09891607424727193, accuracy=75.90911102294922\n",
      "epoch 406, loss_generator = 7.343303071127997, loss_discriminator=0.11409407027617649, accuracy=94.5079345703125\n",
      "epoch 407, loss_generator = 6.8365188916524255, loss_discriminator=0.11484937756149857, accuracy=88.04441833496094\n",
      "epoch 408, loss_generator = 7.488884533776178, loss_discriminator=0.09918399963665891, accuracy=95.38552856445312\n",
      "epoch 409, loss_generator = 8.612284932313141, loss_discriminator=0.08848663902393093, accuracy=94.69515991210938\n",
      "epoch 410, loss_generator = 8.012327536830195, loss_discriminator=0.09037139759295516, accuracy=93.93919372558594\n",
      "epoch 411, loss_generator = 7.700514418990524, loss_discriminator=0.09846688288229483, accuracy=91.70390319824219\n",
      "epoch 412, loss_generator = 7.519431530987775, loss_discriminator=0.10120468835725828, accuracy=93.79081726074219\n",
      "epoch 413, loss_generator = 8.132316073664912, loss_discriminator=0.09548112908033309, accuracy=94.05215454101562\n",
      "epoch 414, loss_generator = 7.266780772032561, loss_discriminator=0.10243901453084416, accuracy=94.92548370361328\n",
      "epoch 415, loss_generator = 8.206774958857784, loss_discriminator=0.1077263916808146, accuracy=92.65082550048828\n",
      "epoch 416, loss_generator = 8.384885625486021, loss_discriminator=0.10284469876852301, accuracy=93.734375\n",
      "epoch 417, loss_generator = 8.682489808400472, loss_discriminator=0.10137939770464544, accuracy=92.67378234863281\n",
      "epoch 418, loss_generator = 8.290618626276652, loss_discriminator=0.10290796639466727, accuracy=93.00946044921875\n",
      "epoch 419, loss_generator = 8.727797660121212, loss_discriminator=0.095631408719001, accuracy=94.52812957763672\n",
      "epoch 420, loss_generator = 7.786660558206064, loss_discriminator=0.10802927445620299, accuracy=91.4312515258789\n",
      "epoch 421, loss_generator = 8.08184284457454, loss_discriminator=0.11290665026064273, accuracy=92.91861724853516\n",
      "epoch 422, loss_generator = 7.749808982566551, loss_discriminator=0.12922108808049448, accuracy=93.5411605834961\n",
      "epoch 423, loss_generator = 7.325086583031548, loss_discriminator=0.1294010399668305, accuracy=93.5323257446289\n",
      "epoch 424, loss_generator = 6.587996413972642, loss_discriminator=0.1474589024428968, accuracy=91.01337432861328\n",
      "epoch 425, loss_generator = 8.058503889154505, loss_discriminator=0.12904009153997456, accuracy=93.5489501953125\n",
      "epoch 426, loss_generator = 6.526113844800879, loss_discriminator=0.16784025734221494, accuracy=93.13047790527344\n",
      "epoch 427, loss_generator = 7.625146120565909, loss_discriminator=0.14493576197160615, accuracy=92.25459289550781\n",
      "epoch 428, loss_generator = 8.005068517614294, loss_discriminator=0.13821759955198676, accuracy=94.3426284790039\n",
      "epoch 429, loss_generator = 8.560700367115162, loss_discriminator=0.146342040543203, accuracy=92.09449005126953\n",
      "epoch 430, loss_generator = 8.492205838803892, loss_discriminator=0.16587312006288105, accuracy=93.20276641845703\n",
      "epoch 431, loss_generator = 8.502231449551052, loss_discriminator=0.14763356894254684, accuracy=93.21123504638672\n",
      "epoch 432, loss_generator = 9.542953145062482, loss_discriminator=0.14474806432370788, accuracy=92.5240249633789\n",
      "epoch 433, loss_generator = 8.010580857594809, loss_discriminator=0.17544808365680553, accuracy=95.09717559814453\n",
      "epoch 434, loss_generator = 9.450450409783258, loss_discriminator=0.1324489764869213, accuracy=95.10749816894531\n",
      "epoch 435, loss_generator = 10.069154062977544, loss_discriminator=0.1224882999504054, accuracy=93.11173248291016\n",
      "epoch 436, loss_generator = 10.102718109554715, loss_discriminator=0.1100459861120692, accuracy=94.05567169189453\n",
      "epoch 437, loss_generator = 10.179301862363461, loss_discriminator=0.10654940692087014, accuracy=94.3133773803711\n"
     ]
    },
    {
     "name": "stdout",
     "output_type": "stream",
     "text": [
      "epoch 438, loss_generator = 8.921746751997206, loss_discriminator=0.1071218536959754, accuracy=89.45752716064453\n",
      "epoch 439, loss_generator = 9.558159089971472, loss_discriminator=0.0984190139643572, accuracy=94.74906921386719\n",
      "epoch 440, loss_generator = 8.646566154338695, loss_discriminator=0.09621778802463302, accuracy=93.96100616455078\n",
      "epoch 441, loss_generator = 8.098430047211824, loss_discriminator=0.10599082242007608, accuracy=90.98944091796875\n",
      "epoch 442, loss_generator = 9.346959640361645, loss_discriminator=0.10513751212231538, accuracy=94.21095275878906\n",
      "epoch 443, loss_generator = 8.474998573020653, loss_discriminator=0.11067898414201206, accuracy=91.85950469970703\n",
      "epoch 444, loss_generator = 8.652270963456896, loss_discriminator=0.10292276746282975, accuracy=87.70401763916016\n",
      "epoch 445, loss_generator = 8.64774364542078, loss_discriminator=0.10379554703831673, accuracy=89.11283874511719\n",
      "epoch 446, loss_generator = 8.522558470125551, loss_discriminator=0.10549916431859688, accuracy=92.34064483642578\n",
      "epoch 447, loss_generator = 8.624412423593027, loss_discriminator=0.10873505929829898, accuracy=92.67958068847656\n",
      "epoch 448, loss_generator = 9.591427418037696, loss_discriminator=0.09952810304584327, accuracy=91.86865234375\n",
      "epoch 449, loss_generator = 8.949951369674118, loss_discriminator=0.10511405941236902, accuracy=91.59742736816406\n",
      "epoch 450, loss_generator = 9.09086529413859, loss_discriminator=0.09766082941657966, accuracy=91.35738372802734\n",
      "epoch 451, loss_generator = 9.472100134249088, loss_discriminator=0.1034198290357987, accuracy=92.40223693847656\n",
      "epoch 452, loss_generator = 9.614283755973533, loss_discriminator=0.110340555453742, accuracy=93.09445190429688\n",
      "epoch 453, loss_generator = 8.629060868863705, loss_discriminator=0.11860091035012846, accuracy=93.7056655883789\n",
      "epoch 454, loss_generator = 8.611633291950932, loss_discriminator=0.12323693754496398, accuracy=94.69309997558594\n",
      "epoch 455, loss_generator = 7.6090401331583655, loss_discriminator=0.11798723912625401, accuracy=93.06358337402344\n",
      "epoch 456, loss_generator = 8.58891014876189, loss_discriminator=0.11625767319842621, accuracy=91.63540649414062\n",
      "epoch 457, loss_generator = 7.873878154048214, loss_discriminator=0.11570728651627346, accuracy=96.15763092041016\n",
      "epoch 458, loss_generator = 7.7522729838335955, loss_discriminator=0.1192835777308102, accuracy=91.064453125\n",
      "epoch 459, loss_generator = 8.18012897879989, loss_discriminator=0.11832135537708247, accuracy=93.44755554199219\n",
      "epoch 460, loss_generator = 8.596479391168666, loss_discriminator=0.10878653894695971, accuracy=92.96138000488281\n",
      "epoch 461, loss_generator = 8.705115692703812, loss_discriminator=0.10250708242809331, accuracy=93.05681610107422\n",
      "epoch 462, loss_generator = 9.068030456260399, loss_discriminator=0.11408068521155251, accuracy=93.49822998046875\n",
      "epoch 463, loss_generator = 8.328100698965567, loss_discriminator=0.11621614544203988, accuracy=90.72520446777344\n",
      "epoch 464, loss_generator = 9.608413738674587, loss_discriminator=0.11213828839913563, accuracy=89.69024658203125\n",
      "epoch 465, loss_generator = 9.866278030254223, loss_discriminator=0.1182019397340439, accuracy=93.11709594726562\n",
      "epoch 466, loss_generator = 9.907501224235252, loss_discriminator=0.12386128372616238, accuracy=92.8471450805664\n",
      "epoch 467, loss_generator = 10.476540378287986, loss_discriminator=0.11160205879973041, accuracy=92.20162963867188\n",
      "epoch 468, loss_generator = 9.37335999806722, loss_discriminator=0.11687684742112954, accuracy=91.02843475341797\n",
      "epoch 469, loss_generator = 9.686903342494258, loss_discriminator=0.13871490878087503, accuracy=94.03266906738281\n",
      "epoch 470, loss_generator = 8.917912739294547, loss_discriminator=0.14864740995345294, accuracy=92.026123046875\n",
      "epoch 471, loss_generator = 9.13170570090965, loss_discriminator=0.13597944246398078, accuracy=93.48741149902344\n",
      "epoch 472, loss_generator = 9.955193565509937, loss_discriminator=0.12217093762700204, accuracy=93.26261901855469\n",
      "epoch 473, loss_generator = 9.323615988978633, loss_discriminator=0.10529184665668893, accuracy=93.70032501220703\n",
      "epoch 474, loss_generator = 9.548996353149414, loss_discriminator=0.10773613357709513, accuracy=93.74832153320312\n",
      "epoch 475, loss_generator = 9.925514051649305, loss_discriminator=0.10388995639427945, accuracy=90.41754913330078\n",
      "epoch 476, loss_generator = 10.934644324691208, loss_discriminator=0.09788313038923123, accuracy=91.1338119506836\n",
      "epoch 477, loss_generator = 10.911382675170898, loss_discriminator=0.10869534890408869, accuracy=91.82992553710938\n",
      "epoch 478, loss_generator = 9.504747231801352, loss_discriminator=0.11843071343998114, accuracy=90.61969757080078\n",
      "epoch 479, loss_generator = 8.885848748242413, loss_discriminator=0.12373847762743632, accuracy=90.96078491210938\n",
      "epoch 480, loss_generator = 9.523883674762867, loss_discriminator=0.12409970478879082, accuracy=92.85154724121094\n",
      "epoch 481, loss_generator = 10.333368340245, loss_discriminator=0.11415039869370285, accuracy=93.26473999023438\n",
      "epoch 482, loss_generator = 10.867827320098877, loss_discriminator=0.11389358631438679, accuracy=91.26254272460938\n",
      "epoch 483, loss_generator = 10.21406501840662, loss_discriminator=0.10699304050455491, accuracy=93.14087677001953\n",
      "epoch 484, loss_generator = 11.67170839662905, loss_discriminator=0.083436286194181, accuracy=93.35873413085938\n",
      "epoch 485, loss_generator = 8.71724487234045, loss_discriminator=0.1079375991942706, accuracy=93.70946502685547\n",
      "epoch 486, loss_generator = 8.559726065176505, loss_discriminator=0.10786441879140006, accuracy=94.05008697509766\n",
      "epoch 487, loss_generator = 9.90214338655825, loss_discriminator=0.09329365660194998, accuracy=91.72203826904297\n",
      "epoch 488, loss_generator = 9.572750646096688, loss_discriminator=0.09082786323571647, accuracy=91.58680725097656\n",
      "epoch 489, loss_generator = 10.075575122126827, loss_discriminator=0.08421790861973057, accuracy=93.34410095214844\n",
      "epoch 490, loss_generator = 9.672052895581281, loss_discriminator=0.08721430111262533, accuracy=93.21129608154297\n",
      "epoch 491, loss_generator = 9.147079997592503, loss_discriminator=0.08759164680485372, accuracy=92.39775085449219\n",
      "epoch 492, loss_generator = 9.210108467384622, loss_discriminator=0.09204794014631598, accuracy=91.54151916503906\n",
      "epoch 493, loss_generator = 9.359925930588334, loss_discriminator=0.0893790520934595, accuracy=95.20801544189453\n",
      "epoch 494, loss_generator = 9.30472155323735, loss_discriminator=0.0881202231126803, accuracy=91.03284454345703\n",
      "epoch 495, loss_generator = 9.698865198206018, loss_discriminator=0.08548515570108538, accuracy=95.22108459472656\n",
      "epoch 496, loss_generator = 10.17193585148564, loss_discriminator=0.08852028341067059, accuracy=92.51402282714844\n",
      "epoch 497, loss_generator = 10.869716541855423, loss_discriminator=0.08655166283111881, accuracy=91.85990905761719\n",
      "epoch 498, loss_generator = 10.621513359634964, loss_discriminator=0.07562801811016268, accuracy=92.95812225341797\n",
      "epoch 499, loss_generator = 8.884057772601093, loss_discriminator=0.07110028865367726, accuracy=94.09832000732422\n"
     ]
    }
   ],
   "source": [
    "number_epoch    = 500\n",
    "accuracy_epoch  = np.zeros(number_epoch)\n",
    "loss_generator = np.zeros(number_epoch)\n",
    "loss_discriminator = np.zeros(number_epoch)\n",
    "\n",
    "num_latent_test = 100\n",
    "latent_test = torch.randn(num_latent_test, dim_latent, device=device)\n",
    "latent_test = torch.reshape(latent_test, [num_latent_test, dim_latent, 1, 1])\n",
    "\n",
    "for i in range(number_epoch):\n",
    "    loss_generator_epoch, loss_discriminator_epoch = train(generator, discriminator, dataloader_real)\n",
    "    accuracy = test(generator, latent_test)\n",
    "    accuracy_epoch[i] = accuracy\n",
    "    \n",
    "    loss_generator[i] = loss_generator_epoch\n",
    "    loss_discriminator[i] = loss_discriminator_epoch\n",
    "    print(f'epoch {i}, loss_generator = {loss_generator_epoch}, loss_discriminator={loss_discriminator_epoch}, accuracy={accuracy}')"
   ]
  },
  {
   "cell_type": "markdown",
   "metadata": {},
   "source": [
    "---"
   ]
  },
  {
   "cell_type": "markdown",
   "metadata": {},
   "source": [
    "# functions for presenting the results"
   ]
  },
  {
   "cell_type": "markdown",
   "metadata": {},
   "source": [
    "---"
   ]
  },
  {
   "cell_type": "code",
   "execution_count": 21,
   "metadata": {},
   "outputs": [],
   "source": [
    "def function_result_01():\n",
    "\n",
    "    num_latent_visualize = 16\n",
    "\n",
    "    latent_visualize = torch.randn(num_latent_visualize, dim_latent, device=device)\n",
    "    latent_visualize = torch.reshape(latent_visualize, [num_latent_visualize, dim_latent, 1, 1]) \n",
    "\n",
    "    prediction = compute_prediction(generator, latent_visualize)\n",
    "    prediction = prediction.squeeze(axis=1)\n",
    "    prediction_binary = (prediction >= 0.5)\n",
    "    bounding_mask = compute_bounding_mask(prediction_binary)\n",
    "        \n",
    "    fake = prediction.detach().cpu()\n",
    "    mask = bounding_mask.detach().cpu()\n",
    "\n",
    "    nRow = 4\n",
    "    nCol = 4 \n",
    "    size = 3 \n",
    "    \n",
    "    title = 'fake image'\n",
    "    fig, axes = plt.subplots(nRow, nCol, figsize=(size * nCol, size * nRow))\n",
    "    fig.suptitle(title, fontsize=16)\n",
    "\n",
    "    for r in range(nRow): \n",
    "        for c in range(nCol):\n",
    "            k = c + r * nCol\n",
    "            axes[r, c].imshow(fake[k], cmap='gray', vmin=0, vmax=1)\n",
    "            axes[r, c].xaxis.set_visible(False)\n",
    "            axes[r, c].yaxis.set_visible(False)\n",
    "\n",
    "    plt.tight_layout()\n",
    "    plt.show()\n",
    "    \n",
    "    title = 'bounding mask'\n",
    "    fig, axes = plt.subplots(nRow, nCol, figsize=(size * nCol, size * nRow))\n",
    "    fig.suptitle(title, fontsize=16)\n",
    "\n",
    "    for r in range(nRow): \n",
    "        for c in range(nCol):\n",
    "            k = c + r * nCol\n",
    "            axes[r, c].imshow(mask[k], cmap='gray', vmin=0, vmax=1)\n",
    "            axes[r, c].xaxis.set_visible(False)\n",
    "            axes[r, c].yaxis.set_visible(False)\n",
    "                        \n",
    "    plt.tight_layout()\n",
    "    plt.show()"
   ]
  },
  {
   "cell_type": "code",
   "execution_count": 22,
   "metadata": {},
   "outputs": [],
   "source": [
    "def function_result_02():\n",
    "\n",
    "    title           = 'accuracy'\n",
    "    label_axis_x    = 'epoch' \n",
    "    label_axis_y    = 'accuracy'\n",
    "    \n",
    "    plt.figure(figsize=(8, 6))\n",
    "    plt.title(title)\n",
    "    \n",
    "    plt.plot(accuracy_epoch)\n",
    "    \n",
    "    plt.xlabel(label_axis_x)\n",
    "    plt.ylabel(label_axis_y)\n",
    "\n",
    "    plt.tight_layout()\n",
    "    plt.show()"
   ]
  },
  {
   "cell_type": "code",
   "execution_count": 23,
   "metadata": {},
   "outputs": [],
   "source": [
    "def function_result_03():\n",
    "\n",
    "    print('final accuracy = %9.8f' % (accuracy_epoch[-1]))"
   ]
  },
  {
   "cell_type": "markdown",
   "metadata": {},
   "source": [
    "---"
   ]
  },
  {
   "cell_type": "markdown",
   "metadata": {},
   "source": [
    "## results"
   ]
  },
  {
   "cell_type": "markdown",
   "metadata": {},
   "source": [
    "---"
   ]
  },
  {
   "cell_type": "code",
   "execution_count": 24,
   "metadata": {},
   "outputs": [
    {
     "name": "stdout",
     "output_type": "stream",
     "text": [
      "\n",
      "################################################################################\n",
      "#\n",
      "# RESULT # 01\n",
      "#\n",
      "################################################################################\n",
      "\n"
     ]
    },
    {
     "data": {
      "image/png": "[encoded data removed]",
      "text/plain": [
       "<Figure size 864x864 with 16 Axes>"
      ]
     },
     "metadata": {
      "needs_background": "light"
     },
     "output_type": "display_data"
    },
    {
     "data": {
      "image/png": "[encoded data removed]",
      "text/plain": [
       "<Figure size 864x864 with 16 Axes>"
      ]
     },
     "metadata": {
      "needs_background": "light"
     },
     "output_type": "display_data"
    },
    {
     "name": "stdout",
     "output_type": "stream",
     "text": [
      "\n",
      "################################################################################\n",
      "#\n",
      "# RESULT # 02\n",
      "#\n",
      "################################################################################\n",
      "\n"
     ]
    },
    {
     "data": {
      "image/png": "[encoded data removed]",
      "text/plain": [
       "<Figure size 576x432 with 1 Axes>"
      ]
     },
     "metadata": {
      "needs_background": "light"
     },
     "output_type": "display_data"
    },
    {
     "name": "stdout",
     "output_type": "stream",
     "text": [
      "\n",
      "################################################################################\n",
      "#\n",
      "# RESULT # 03\n",
      "#\n",
      "################################################################################\n",
      "\n",
      "final accuracy = 94.09832001\n"
     ]
    }
   ],
   "source": [
    "number_result = 3\n",
    "\n",
    "for i in range(number_result):\n",
    "\n",
    "    title           = '# RESULT # {:02d}'.format(i+1) \n",
    "    name_function   = 'function_result_{:02d}()'.format(i+1)\n",
    "\n",
    "    print('') \n",
    "    print('################################################################################')\n",
    "    print('#') \n",
    "    print(title)\n",
    "    print('#') \n",
    "    print('################################################################################')\n",
    "    print('') \n",
    "\n",
    "    eval(name_function)"
   ]
  },
  {
   "cell_type": "code",
   "execution_count": null,
   "metadata": {},
   "outputs": [],
   "source": []
  }
 ],
 "metadata": {
  "colab": {
   "authorship_tag": "ABX9TyM0gXqiryv5831mXd12OejK",
   "collapsed_sections": [],
   "name": "assignment_02.ipynb",
   "provenance": []
  },
  "kernelspec": {
   "display_name": "Python 3 (ipykernel)",
   "language": "python",
   "name": "python3"
  },
  "language_info": {
   "codemirror_mode": {
    "name": "ipython",
    "version": 3
   },
   "file_extension": ".py",
   "mimetype": "text/x-python",
   "name": "python",
   "nbconvert_exporter": "python",
   "pygments_lexer": "ipython3",
   "version": "3.8.10"
  },
  "vscode": {
   "interpreter": {
    "hash": "31f2aee4e71d21fbe5cf8b01ff0e069b9275f58929596ceb00d14d90e3e16cd6"
   }
  }
 },
 "nbformat": 4,
 "nbformat_minor": 2
}
