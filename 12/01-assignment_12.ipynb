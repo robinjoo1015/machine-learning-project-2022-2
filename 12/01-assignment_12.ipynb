{
 "cells": [
  {
   "cell_type": "markdown",
   "metadata": {
    "colab": {
     "base_uri": "https://localhost:8080/"
    },
    "executionInfo": {
     "elapsed": 5,
     "status": "ok",
     "timestamp": 1630597918894,
     "user": {
      "displayName": "Byung-Woo Hong",
      "photoUrl": "",
      "userId": "17273657108187629509"
     },
     "user_tz": -540
    },
    "id": "K29I-OwCEYzW",
    "outputId": "db8b297c-a4b8-457a-b43f-7570135306c7"
   },
   "source": [
    "# Image Generation via Generative Adversarial Networks"
   ]
  },
  {
   "cell_type": "markdown",
   "metadata": {},
   "source": [
    "## import libraries"
   ]
  },
  {
   "cell_type": "code",
   "execution_count": 1,
   "metadata": {},
   "outputs": [],
   "source": [
    "import torch\n",
    "import torchvision\n",
    "from torch.utils.data import Dataset\n",
    "from os import listdir\n",
    "from os.path import join\n",
    "from torchvision import datasets, transforms\n",
    "from torch.utils.data import DataLoader\n",
    "from PIL import Image\n",
    "import matplotlib.pyplot as plt\n",
    "import numpy as np\n",
    "import torch.nn as nn\n",
    "import torch.nn.functional as F\n",
    "import torch.optim as optim\n",
    "from math import log10\n",
    "from tqdm import tqdm\n",
    "import os"
   ]
  },
  {
   "cell_type": "markdown",
   "metadata": {},
   "source": [
    "## load data"
   ]
  },
  {
   "cell_type": "code",
   "execution_count": 2,
   "metadata": {},
   "outputs": [],
   "source": [
    "directory_data  = './'\n",
    "filename_data   = 'assignment_12_data.npz'\n",
    "data            = np.load(os.path.join(directory_data, filename_data))\n",
    "real            = data['real_images']"
   ]
  },
  {
   "cell_type": "code",
   "execution_count": 3,
   "metadata": {},
   "outputs": [
    {
     "name": "stdout",
     "output_type": "stream",
     "text": [
      "size of real data: (4324, 32, 32)\n"
     ]
    }
   ],
   "source": [
    "print('size of real data:', real.shape)"
   ]
  },
  {
   "cell_type": "markdown",
   "metadata": {},
   "source": [
    "## plot data"
   ]
  },
  {
   "cell_type": "code",
   "execution_count": 4,
   "metadata": {},
   "outputs": [],
   "source": [
    "def plot_image(title, image):\n",
    "    \n",
    "    nRow = 3\n",
    "    nCol = 4\n",
    "    size = 3\n",
    "    \n",
    "    fig, axes = plt.subplots(nRow, nCol, figsize=(size * nCol, size * nRow))\n",
    "    fig.suptitle(title, fontsize=16)\n",
    "   \n",
    "    for r in range(nRow): \n",
    "        for c in range(nCol):\n",
    "            k = c * 300 + r * nCol * 300\n",
    "            axes[r, c].imshow(image[k], cmap='gray')\n",
    "\n",
    "    plt.tight_layout()\n",
    "    plt.show()"
   ]
  },
  {
   "cell_type": "code",
   "execution_count": 5,
   "metadata": {},
   "outputs": [
    {
     "data": {
      "image/png": "[encoded data removed]",
      "text/plain": [
       "<Figure size 864x648 with 12 Axes>"
      ]
     },
     "metadata": {
      "needs_background": "light"
     },
     "output_type": "display_data"
    }
   ],
   "source": [
    "plot_image('training data', real)"
   ]
  },
  {
   "cell_type": "markdown",
   "metadata": {},
   "source": [
    "## custom data loader for the PyTorch framework"
   ]
  },
  {
   "cell_type": "code",
   "execution_count": 6,
   "metadata": {},
   "outputs": [],
   "source": [
    "class dataset(Dataset):\n",
    "    \n",
    "    def __init__(self, image):\n",
    "        \n",
    "        self.image = image\n",
    "    \n",
    "    def __getitem__(self, index):\n",
    "        \n",
    "        sample  = self.image[index]\n",
    "        sample  = torch.FloatTensor(sample).unsqueeze(dim=0)\n",
    "\n",
    "        return (sample)\n",
    "    \n",
    "    def __len__(self):\n",
    "\n",
    "        number_image = len(self.image)\n",
    "\n",
    "        return (number_image)"
   ]
  },
  {
   "cell_type": "markdown",
   "metadata": {},
   "source": [
    "## setting device"
   ]
  },
  {
   "cell_type": "code",
   "execution_count": 7,
   "metadata": {},
   "outputs": [],
   "source": [
    "device = torch.device('cuda' if torch.cuda.is_available() else 'mps')"
   ]
  },
  {
   "cell_type": "code",
   "execution_count": 8,
   "metadata": {},
   "outputs": [
    {
     "name": "stdout",
     "output_type": "stream",
     "text": [
      "cuda\n"
     ]
    }
   ],
   "source": [
    "print(device)"
   ]
  },
  {
   "cell_type": "code",
   "execution_count": 9,
   "metadata": {},
   "outputs": [],
   "source": [
    "# random seed\n",
    "import random\n",
    "random.seed(20184757)\n",
    "np.random.seed(20184757)\n",
    "torch.manual_seed(20184757)\n",
    "torch.cuda.manual_seed(20184757)\n",
    "torch.cuda.manual_seed_all(20184757)\n",
    "torch.backends.cudnn.deterministic = True\n",
    "torch.backends.cudnn.benchmark = False"
   ]
  },
  {
   "cell_type": "markdown",
   "metadata": {},
   "source": [
    "## construct datasets and dataloaders "
   ]
  },
  {
   "cell_type": "code",
   "execution_count": 10,
   "metadata": {},
   "outputs": [],
   "source": [
    "size_minibatch  = 32\n",
    "dim_latent      = 64 # input latent vector fixed dimension \n",
    "\n",
    "dataset_real    = dataset(real)\n",
    "dataloader_real = torch.utils.data.DataLoader(dataset_real, batch_size=size_minibatch, shuffle=True, drop_last=True)"
   ]
  },
  {
   "cell_type": "markdown",
   "metadata": {},
   "source": [
    "## neural networks "
   ]
  },
  {
   "cell_type": "code",
   "execution_count": 11,
   "metadata": {},
   "outputs": [],
   "source": [
    "class Discriminator(nn.Module): \n",
    "    \n",
    "    def __init__(self):\n",
    "        \n",
    "        super(Discriminator, self).__init__()\n",
    "        \n",
    "        self.conv = nn.Sequential(\n",
    "            nn.Conv2d(in_channels=1, out_channels=16, kernel_size=3, stride=2, padding=1, bias=True),\n",
    "            nn.LeakyReLU(0.2),\n",
    "            \n",
    "            nn.Conv2d(in_channels=16, out_channels=32, kernel_size=3, stride=2, padding=1, bias=True),\n",
    "            nn.LeakyReLU(0.2),\n",
    "            \n",
    "            nn.Conv2d(in_channels=32, out_channels=64, kernel_size=3, stride=2, padding=1, bias=True),\n",
    "            nn.LeakyReLU(0.2),\n",
    "            \n",
    "            nn.Conv2d(in_channels=64, out_channels=128, kernel_size=3, stride=2, padding=1, bias=True),\n",
    "            nn.LeakyReLU(0.2),\n",
    "            \n",
    "            nn.Conv2d(in_channels=128, out_channels=256, kernel_size=3, stride=2, padding=1, bias=True),\n",
    "            nn.LeakyReLU(0.2),\n",
    "        )\n",
    "        \n",
    "        self.fc = nn.Sequential(\n",
    "            nn.Linear(256, 32),\n",
    "            nn.LeakyReLU(0.2),\n",
    "#             nn.Linear(64, 32),\n",
    "#             nn.LeakyReLU(0.2),\n",
    "#             nn.Linear(32, 16),\n",
    "#             nn.LeakyReLU(0.2),\n",
    "#             nn.Linear(16, 8),\n",
    "#             nn.LeakyReLU(0.2),\n",
    "            nn.Linear(32, 1)\n",
    "        )\n",
    "        \n",
    "    def forward(self, x):\n",
    "        out = self.conv(x)\n",
    "        out = nn.Flatten()(out)\n",
    "        out = self.fc(out)\n",
    "        \n",
    "        return out\n"
   ]
  },
  {
   "cell_type": "code",
   "execution_count": 12,
   "metadata": {},
   "outputs": [],
   "source": [
    "class Generator(nn.Module):\n",
    "    \n",
    "    def __init__(self):\n",
    "        \n",
    "        super(Generator, self).__init__()\n",
    "        \n",
    "        self.conv = nn.Sequential(\n",
    "            nn.Upsample(scale_factor=2, mode='bilinear', align_corners=False),\n",
    "            nn.Conv2d(in_channels=dim_latent, out_channels=128, kernel_size=3, stride=1, padding=1, bias=True),\n",
    "            nn.BatchNorm2d(128),\n",
    "            nn.LeakyReLU(0.2),\n",
    "            \n",
    "            nn.Upsample(scale_factor=2, mode='bilinear', align_corners=False),\n",
    "            nn.Conv2d(in_channels=128, out_channels=64, kernel_size=3, stride=1, padding=1, bias=True),\n",
    "            nn.BatchNorm2d(64),\n",
    "            nn.LeakyReLU(0.2),\n",
    "            \n",
    "            nn.Upsample(scale_factor=2, mode='bilinear', align_corners=False),\n",
    "            nn.Conv2d(in_channels=64, out_channels=32, kernel_size=3, stride=1, padding=1, bias=True),\n",
    "            nn.BatchNorm2d(32),\n",
    "            nn.LeakyReLU(0.2),\n",
    "            \n",
    "            nn.Upsample(scale_factor=2, mode='bilinear', align_corners=False),\n",
    "            nn.Conv2d(in_channels=32, out_channels=16, kernel_size=3, stride=1, padding=1, bias=True),\n",
    "            nn.BatchNorm2d(16),\n",
    "            nn.LeakyReLU(0.2),\n",
    "            \n",
    "            nn.Upsample(scale_factor=2, mode='bilinear', align_corners=False),\n",
    "            nn.Conv2d(in_channels=16, out_channels=1, kernel_size=3, stride=1, padding=1, bias=True),\n",
    "            \n",
    "            nn.Sigmoid()\n",
    "        )\n",
    "    \n",
    "    def forward(self, x):\n",
    "\n",
    "        out = self.conv(x)\n",
    "        \n",
    "        return out"
   ]
  },
  {
   "cell_type": "markdown",
   "metadata": {},
   "source": [
    "## build network"
   ]
  },
  {
   "cell_type": "code",
   "execution_count": 13,
   "metadata": {},
   "outputs": [],
   "source": [
    "def weights_init(m):\n",
    "    classname = m.__class__.__name__\n",
    "    if classname.find(\"Conv\") != -1:\n",
    "        nn.init.xavier_uniform_(m.weight)\n",
    "        nn.init.constant_(m.bias, 1.)\n",
    "    elif classname.find(\"BatchNorm\") != -1:\n",
    "        nn.init.constant_(m.weight, 1.)\n",
    "        nn.init.constant_(m.bias, 1.)\n",
    "    elif classname.find(\"Linear\") != -1:\n",
    "        nn.init.xavier_uniform_(m.weight)\n",
    "        nn.init.constant_(m.bias, 1.)"
   ]
  },
  {
   "cell_type": "code",
   "execution_count": 14,
   "metadata": {},
   "outputs": [],
   "source": [
    "generator       = Generator().to(device)\n",
    "discriminator   = Discriminator().to(device)\n",
    "\n",
    "generator = generator.apply(weights_init)\n",
    "discriminator = discriminator.apply(weights_init)\n",
    "\n",
    "optimizer_generator = torch.optim.Adam(generator.parameters(), lr=0.001, betas=(0.5, 0.999))\n",
    "optimizer_discriminator = torch.optim.Adam(discriminator.parameters(), lr=0.001, betas=(0.5, 0.999))"
   ]
  },
  {
   "cell_type": "markdown",
   "metadata": {},
   "source": [
    "## compute the prediction"
   ]
  },
  {
   "cell_type": "code",
   "execution_count": 15,
   "metadata": {},
   "outputs": [],
   "source": [
    "def compute_prediction(model, input):\n",
    "\n",
    "    prediction = model(input)\n",
    "\n",
    "    return prediction"
   ]
  },
  {
   "cell_type": "markdown",
   "metadata": {},
   "source": [
    "## compute the accuracy"
   ]
  },
  {
   "cell_type": "code",
   "execution_count": 16,
   "metadata": {},
   "outputs": [],
   "source": [
    "def compute_bounding_mask(prediction_binary):\n",
    "    \n",
    "    bounding_mask = torch.zeros_like(prediction_binary)\n",
    "    \n",
    "    for i in range(prediction_binary.shape[0]):\n",
    "        prediction = prediction_binary[i]\n",
    "        (idx_row, idx_col) = torch.nonzero(prediction, as_tuple=True)\n",
    "        \n",
    "        if len(idx_row) > 0: \n",
    "            idx_row_min = idx_row.min()\n",
    "            idx_row_max = idx_row.max()\n",
    "        \n",
    "            idx_col_min = idx_col.min()\n",
    "            idx_col_max = idx_col.max()\n",
    "    \n",
    "            bounding_mask[i, idx_row_min:idx_row_max+1, idx_col_min:idx_col_max+1] = 1 \n",
    "    \n",
    "    return bounding_mask"
   ]
  },
  {
   "cell_type": "code",
   "execution_count": 17,
   "metadata": {},
   "outputs": [],
   "source": [
    "def compute_accuracy(prediction):\n",
    "\n",
    "    binary      = (prediction >= 0.5)\n",
    "    mask        = compute_bounding_mask(binary)\n",
    "    \n",
    "    intersection = (binary & mask).float().sum((1, 2))\n",
    "    union        = (binary | mask).float().sum((1, 2))\n",
    "\n",
    "    eps         = 1e-8\n",
    "    correct     = (intersection + eps) / (union + eps)\n",
    "    accuracy    = correct.mean() * 100.0\n",
    "    accuracy    = accuracy.cpu() \n",
    "    \n",
    "    return accuracy"
   ]
  },
  {
   "cell_type": "markdown",
   "metadata": {},
   "source": [
    "## train"
   ]
  },
  {
   "cell_type": "code",
   "execution_count": 18,
   "metadata": {},
   "outputs": [],
   "source": [
    "def train(generator, discriminator, dataloader):\n",
    "    \n",
    "    loss_generator_epoch = []\n",
    "    loss_discriminator_epoch = []\n",
    "    \n",
    "    for index_batch, (real) in enumerate(dataloader):\n",
    "        real        = real.to(device)\n",
    "        size_batch  = len(real)\n",
    "        latent      = torch.randn(size_batch, dim_latent, device=device)\n",
    "        latent      = torch.reshape(latent, [size_batch, dim_latent, 1, 1])\n",
    "\n",
    "        # ---------------------------------------------------------------------------\n",
    "        #  \n",
    "        # update the generator\n",
    "        #  \n",
    "        # ---------------------------------------------------------------------------\n",
    "        generator.train()\n",
    "        discriminator.eval()\n",
    "        \n",
    "        optimizer_generator.zero_grad()\n",
    "        fake = compute_prediction(generator, latent)\n",
    "        prediction_fake = compute_prediction(discriminator, fake)\n",
    "        label_fake = torch.ones_like(prediction_fake)\n",
    "        loss_label = nn.BCEWithLogitsLoss()(prediction_fake, label_fake)\n",
    "        loss_generator = loss_label\n",
    "        loss_generator.backward()\n",
    "        optimizer_generator.step()\n",
    "\n",
    "        # ---------------------------------------------------------------------------\n",
    "        #  \n",
    "        # update the discriminator\n",
    "        #  \n",
    "        # ---------------------------------------------------------------------------\n",
    "        generator.eval()\n",
    "        discriminator.train()\n",
    "        \n",
    "        optimizer_discriminator.zero_grad()\n",
    "        fake = compute_prediction(generator, latent)\n",
    "        prediction_real = compute_prediction(discriminator, real)\n",
    "        prediction_fake = compute_prediction(discriminator, fake)\n",
    "        loss_real = nn.BCEWithLogitsLoss()(prediction_real, torch.ones_like(prediction_real, device=device))\n",
    "        loss_fake = nn.BCEWithLogitsLoss()(prediction_fake, torch.zeros_like(prediction_fake, device=device))\n",
    "        loss_discriminator = (loss_real + loss_fake) / 2.\n",
    "        loss_discriminator.backward()\n",
    "        optimizer_discriminator.step()\n",
    "        \n",
    "        loss_generator_epoch.append(loss_generator.item())\n",
    "        loss_discriminator_epoch.append(loss_discriminator.item())\n",
    "    \n",
    "    return np.mean(loss_generator_epoch), np.mean(loss_discriminator_epoch)"
   ]
  },
  {
   "cell_type": "markdown",
   "metadata": {},
   "source": [
    "## test"
   ]
  },
  {
   "cell_type": "code",
   "execution_count": 19,
   "metadata": {},
   "outputs": [],
   "source": [
    "def test(generator, latent):\n",
    "    \n",
    "    generator.eval()\n",
    "    \n",
    "    prediction  = generator(latent)\n",
    "    prediction  = prediction.squeeze(axis=1)\n",
    "    accuracy    = compute_accuracy(prediction)\n",
    "    \n",
    "    return accuracy"
   ]
  },
  {
   "cell_type": "markdown",
   "metadata": {},
   "source": [
    "## training epoch"
   ]
  },
  {
   "cell_type": "code",
   "execution_count": 20,
   "metadata": {
    "scrolled": true
   },
   "outputs": [
    {
     "name": "stdout",
     "output_type": "stream",
     "text": [
      "epoch 0, loss_generator = 0.8064694944907118, loss_discriminator=0.762470645374722, accuracy=87.16132354736328\n",
      "epoch 1, loss_generator = 0.7240826297689367, loss_discriminator=0.7134549136515017, accuracy=87.25798034667969\n",
      "epoch 2, loss_generator = 0.7013897357163605, loss_discriminator=0.693971946504381, accuracy=88.74956512451172\n",
      "epoch 3, loss_generator = 0.7642508170119038, loss_discriminator=0.709933050915047, accuracy=87.28173065185547\n",
      "epoch 4, loss_generator = 1.073828931539147, loss_discriminator=0.6056931822388261, accuracy=84.53015899658203\n",
      "epoch 5, loss_generator = 1.1350756027080395, loss_discriminator=0.5148923048266658, accuracy=78.73341369628906\n",
      "epoch 6, loss_generator = 1.2040950971621054, loss_discriminator=0.5199877109792498, accuracy=81.24190521240234\n",
      "epoch 7, loss_generator = 1.332910199518557, loss_discriminator=0.5075996185894366, accuracy=75.07197570800781\n",
      "epoch 8, loss_generator = 1.1389925276791608, loss_discriminator=0.5611700501706866, accuracy=77.32616424560547\n",
      "epoch 9, loss_generator = 1.191545021975482, loss_discriminator=0.5292731995935793, accuracy=77.44332885742188\n",
      "epoch 10, loss_generator = 1.2403975422735567, loss_discriminator=0.5189653950708883, accuracy=80.17571258544922\n",
      "epoch 11, loss_generator = 1.4052099978482282, loss_discriminator=0.4795536175922111, accuracy=79.6930923461914\n",
      "epoch 12, loss_generator = 1.4580083345925365, loss_discriminator=0.47178440116069936, accuracy=82.3377456665039\n",
      "epoch 13, loss_generator = 1.596838704082701, loss_discriminator=0.44841832286781735, accuracy=84.23555755615234\n",
      "epoch 14, loss_generator = 1.708308082598227, loss_discriminator=0.4332840274881434, accuracy=85.13788604736328\n",
      "epoch 15, loss_generator = 1.7589667986940454, loss_discriminator=0.4410178166848642, accuracy=84.929931640625\n",
      "epoch 16, loss_generator = 1.69554336865743, loss_discriminator=0.45876135804035045, accuracy=87.00953674316406\n",
      "epoch 17, loss_generator = 1.6327128073683492, loss_discriminator=0.47061434785525, accuracy=88.65755462646484\n",
      "epoch 18, loss_generator = 1.6444959622842295, loss_discriminator=0.4719990778852392, accuracy=89.79788208007812\n",
      "epoch 19, loss_generator = 1.6479439201178374, loss_discriminator=0.47136608671258995, accuracy=88.52970886230469\n",
      "epoch 20, loss_generator = 1.6775145535115843, loss_discriminator=0.45511982595479045, accuracy=87.9036865234375\n",
      "epoch 21, loss_generator = 1.794733135347013, loss_discriminator=0.44898479139363323, accuracy=86.4837875366211\n",
      "epoch 22, loss_generator = 1.7412040337368293, loss_discriminator=0.4642835109322159, accuracy=89.02641296386719\n",
      "epoch 23, loss_generator = 1.7801473056828534, loss_discriminator=0.44254700000639313, accuracy=89.40068054199219\n",
      "epoch 24, loss_generator = 2.0384930866735953, loss_discriminator=0.42193261671949317, accuracy=90.13623046875\n",
      "epoch 25, loss_generator = 2.0723662420555398, loss_discriminator=0.38909981416331396, accuracy=89.10375213623047\n",
      "epoch 26, loss_generator = 2.0652399202187857, loss_discriminator=0.4363752022937492, accuracy=89.28388977050781\n",
      "epoch 27, loss_generator = 2.153741428145656, loss_discriminator=0.41443166379575375, accuracy=88.84011840820312\n",
      "epoch 28, loss_generator = 2.328951926143081, loss_discriminator=0.36524298444942194, accuracy=85.48384094238281\n",
      "epoch 29, loss_generator = 2.3245086678752194, loss_discriminator=0.40672520531548395, accuracy=92.1045150756836\n",
      "epoch 30, loss_generator = 2.2521474206889116, loss_discriminator=0.4017738745168403, accuracy=89.47188568115234\n",
      "epoch 31, loss_generator = 2.255977439438855, loss_discriminator=0.41686317501244724, accuracy=89.95207214355469\n",
      "epoch 32, loss_generator = 2.4968209399117365, loss_discriminator=0.36111709398251995, accuracy=91.4310302734375\n",
      "epoch 33, loss_generator = 2.517939433786604, loss_discriminator=0.3423463376583876, accuracy=90.54930114746094\n",
      "epoch 34, loss_generator = 2.772672932236283, loss_discriminator=0.29514928769182275, accuracy=91.33287048339844\n",
      "epoch 35, loss_generator = 2.579736942715115, loss_discriminator=0.35053012393139027, accuracy=90.85356140136719\n",
      "epoch 36, loss_generator = 2.4158529184482718, loss_discriminator=0.36662035209161264, accuracy=93.03230285644531\n",
      "epoch 37, loss_generator = 2.3727456984696564, loss_discriminator=0.3689216112648999, accuracy=92.81651306152344\n",
      "epoch 38, loss_generator = 2.2950871366041676, loss_discriminator=0.37134210224504827, accuracy=92.13018798828125\n",
      "epoch 39, loss_generator = 2.4825788197694, loss_discriminator=0.36347968291353294, accuracy=92.07453918457031\n",
      "epoch 40, loss_generator = 2.6694528924094305, loss_discriminator=0.319952396551768, accuracy=91.24821472167969\n",
      "epoch 41, loss_generator = 2.763206926981608, loss_discriminator=0.32568203100451715, accuracy=91.63945007324219\n",
      "epoch 42, loss_generator = 2.4214953272430986, loss_discriminator=0.38852662388925197, accuracy=91.86495208740234\n",
      "epoch 43, loss_generator = 2.5762628166763872, loss_discriminator=0.39153347037456654, accuracy=92.85755920410156\n",
      "epoch 44, loss_generator = 2.8255176694304853, loss_discriminator=0.31228863376158256, accuracy=92.31917572021484\n",
      "epoch 45, loss_generator = 2.75007749221943, loss_discriminator=0.3053884387016296, accuracy=92.815673828125\n",
      "epoch 46, loss_generator = 2.655314554108514, loss_discriminator=0.34171472324265373, accuracy=93.03843688964844\n",
      "epoch 47, loss_generator = 2.6385416993388424, loss_discriminator=0.3309894920499237, accuracy=91.43217468261719\n",
      "epoch 48, loss_generator = 2.7378628218615497, loss_discriminator=0.34331958923074934, accuracy=93.34687042236328\n",
      "epoch 49, loss_generator = 2.851730962152834, loss_discriminator=0.342562829013224, accuracy=91.80524444580078\n",
      "epoch 50, loss_generator = 3.1026075274856004, loss_discriminator=0.3074800605023349, accuracy=93.30668640136719\n",
      "epoch 51, loss_generator = 2.9287932395935057, loss_discriminator=0.3165472164198204, accuracy=93.4402847290039\n",
      "epoch 52, loss_generator = 2.903222416948389, loss_discriminator=0.2957772438172941, accuracy=91.81166076660156\n",
      "epoch 53, loss_generator = 3.0398271322250365, loss_discriminator=0.2912037985192405, accuracy=91.17947387695312\n",
      "epoch 54, loss_generator = 2.997522204452091, loss_discriminator=0.3024011071081515, accuracy=92.9317626953125\n",
      "epoch 55, loss_generator = 3.0764983230166965, loss_discriminator=0.27958463353139384, accuracy=92.85346221923828\n",
      "epoch 56, loss_generator = 2.9270666387346056, loss_discriminator=0.33698843971446707, accuracy=93.09416198730469\n",
      "epoch 57, loss_generator = 3.090279967696578, loss_discriminator=0.3016043108922464, accuracy=93.56226348876953\n",
      "epoch 58, loss_generator = 3.0424706317760326, loss_discriminator=0.3280285914738973, accuracy=93.67082214355469\n",
      "epoch 59, loss_generator = 2.9414915111329822, loss_discriminator=0.3365587411103425, accuracy=93.41720581054688\n",
      "epoch 60, loss_generator = 3.033411652953536, loss_discriminator=0.3336470458794523, accuracy=92.27124786376953\n",
      "epoch 61, loss_generator = 3.201620555807043, loss_discriminator=0.3123517836685534, accuracy=93.65636444091797\n",
      "epoch 62, loss_generator = 2.873179539044698, loss_discriminator=0.35531363354788886, accuracy=93.52542114257812\n",
      "epoch 63, loss_generator = 3.3575866204720954, loss_discriminator=0.3033616969982783, accuracy=92.09567260742188\n",
      "epoch 64, loss_generator = 3.2470800602877583, loss_discriminator=0.29709546113455737, accuracy=93.44461822509766\n",
      "epoch 65, loss_generator = 3.4912926461961535, loss_discriminator=0.28907836499037565, accuracy=92.2176513671875\n",
      "epoch 66, loss_generator = 3.5325910029587924, loss_discriminator=0.257240228023794, accuracy=93.35323333740234\n",
      "epoch 67, loss_generator = 3.135473637227659, loss_discriminator=0.2771897116193065, accuracy=94.57054138183594\n",
      "epoch 68, loss_generator = 3.179912285451536, loss_discriminator=0.279226165899524, accuracy=92.10523986816406\n",
      "epoch 69, loss_generator = 3.298194275961982, loss_discriminator=0.2767051421933704, accuracy=94.46178436279297\n",
      "epoch 70, loss_generator = 2.923235073796025, loss_discriminator=0.3308994091219372, accuracy=92.22407531738281\n",
      "epoch 71, loss_generator = 2.970215810669793, loss_discriminator=0.337934026784367, accuracy=93.59361267089844\n",
      "epoch 72, loss_generator = 3.375752360732467, loss_discriminator=0.2744832616161417, accuracy=94.10041046142578\n"
     ]
    },
    {
     "name": "stdout",
     "output_type": "stream",
     "text": [
      "epoch 73, loss_generator = 3.2494885797853823, loss_discriminator=0.2963585271327584, accuracy=93.50627899169922\n",
      "epoch 74, loss_generator = 3.571587062765051, loss_discriminator=0.2939761996269226, accuracy=92.13711547851562\n",
      "epoch 75, loss_generator = 2.8973708428718425, loss_discriminator=0.3607872085438834, accuracy=94.23472595214844\n",
      "epoch 76, loss_generator = 3.363242135666035, loss_discriminator=0.31905061061735507, accuracy=93.62159729003906\n",
      "epoch 77, loss_generator = 3.3274325238333806, loss_discriminator=0.328831680615743, accuracy=93.44793701171875\n",
      "epoch 78, loss_generator = 3.5293770525190564, loss_discriminator=0.2925755559294312, accuracy=92.8416519165039\n",
      "epoch 79, loss_generator = 3.297481996041757, loss_discriminator=0.29184029433462355, accuracy=92.44221496582031\n",
      "epoch 80, loss_generator = 3.553124127564607, loss_discriminator=0.28292547972113996, accuracy=92.90473175048828\n",
      "epoch 81, loss_generator = 3.2667083077960544, loss_discriminator=0.29053316011472985, accuracy=93.63829040527344\n",
      "epoch 82, loss_generator = 3.4164477577915897, loss_discriminator=0.2830262568261888, accuracy=90.63005065917969\n",
      "epoch 83, loss_generator = 3.537738576641789, loss_discriminator=0.2781225409772661, accuracy=93.55914306640625\n",
      "epoch 84, loss_generator = 3.3892499376226355, loss_discriminator=0.3015099921712169, accuracy=91.68740844726562\n",
      "epoch 85, loss_generator = 3.47765520590323, loss_discriminator=0.3330611535796413, accuracy=91.14690399169922\n",
      "epoch 86, loss_generator = 3.3859945910948293, loss_discriminator=0.35058416260613334, accuracy=94.67425537109375\n",
      "epoch 87, loss_generator = 3.441179099347856, loss_discriminator=0.3531400798647492, accuracy=92.96739959716797\n",
      "epoch 88, loss_generator = 3.498963122014646, loss_discriminator=0.3186157646002593, accuracy=93.7791976928711\n",
      "epoch 89, loss_generator = 3.8204777311395715, loss_discriminator=0.274486462937461, accuracy=93.34375\n",
      "epoch 90, loss_generator = 4.0564827565793635, loss_discriminator=0.2799391396067761, accuracy=92.35758209228516\n",
      "epoch 91, loss_generator = 4.241379953313757, loss_discriminator=0.3169135364117446, accuracy=91.72764587402344\n",
      "epoch 92, loss_generator = 4.159962560512401, loss_discriminator=0.29543750562049725, accuracy=94.09695434570312\n",
      "epoch 93, loss_generator = 4.25113347724632, loss_discriminator=0.2656261697963432, accuracy=93.1734619140625\n",
      "epoch 94, loss_generator = 3.90558555037887, loss_discriminator=0.29257903728220197, accuracy=94.25126647949219\n",
      "epoch 95, loss_generator = 4.115503373852483, loss_discriminator=0.323337052376182, accuracy=94.36063385009766\n",
      "epoch 96, loss_generator = 4.0886554550241545, loss_discriminator=0.31849476165241664, accuracy=93.59967803955078\n",
      "epoch 97, loss_generator = 4.216900294798392, loss_discriminator=0.3066627194484075, accuracy=93.43431091308594\n",
      "epoch 98, loss_generator = 4.588353720859245, loss_discriminator=0.30532562213915365, accuracy=93.02753448486328\n",
      "epoch 99, loss_generator = 4.875030203218813, loss_discriminator=0.278127255042394, accuracy=90.13629150390625\n",
      "epoch 100, loss_generator = 4.183502769911731, loss_discriminator=0.31673366703369, accuracy=93.71611785888672\n",
      "epoch 101, loss_generator = 4.946586029617874, loss_discriminator=0.27509947822049813, accuracy=93.7374267578125\n",
      "epoch 102, loss_generator = 4.956805638913755, loss_discriminator=0.29968946388474216, accuracy=92.23013305664062\n",
      "epoch 103, loss_generator = 4.3320367133175885, loss_discriminator=0.3305149562380932, accuracy=91.17822265625\n",
      "epoch 104, loss_generator = 4.931339849366082, loss_discriminator=0.33189535251370184, accuracy=93.4295654296875\n",
      "epoch 105, loss_generator = 4.573007069693672, loss_discriminator=0.3013628958551972, accuracy=92.35041809082031\n",
      "epoch 106, loss_generator = 5.89941767056783, loss_discriminator=0.23754695377967977, accuracy=93.42948913574219\n",
      "epoch 107, loss_generator = 5.590966650291725, loss_discriminator=0.22292256283539313, accuracy=92.99175262451172\n",
      "epoch 108, loss_generator = 4.936827295797842, loss_discriminator=0.263175243028888, accuracy=93.86836242675781\n",
      "epoch 109, loss_generator = 5.057525076689544, loss_discriminator=0.24539915521939595, accuracy=93.89412689208984\n",
      "epoch 110, loss_generator = 4.943493643513432, loss_discriminator=0.23521217245746542, accuracy=92.2623291015625\n",
      "epoch 111, loss_generator = 4.468772241804335, loss_discriminator=0.246942917726658, accuracy=92.13320922851562\n",
      "epoch 112, loss_generator = 4.463185345685041, loss_discriminator=0.22532978074418175, accuracy=91.79995727539062\n",
      "epoch 113, loss_generator = 4.606708812713623, loss_discriminator=0.2166846063401964, accuracy=92.17642211914062\n",
      "epoch 114, loss_generator = 4.444959419744986, loss_discriminator=0.2317454836986683, accuracy=93.14160919189453\n",
      "epoch 115, loss_generator = 4.480567010243734, loss_discriminator=0.21986381858587264, accuracy=94.4571762084961\n",
      "epoch 116, loss_generator = 4.803447196218703, loss_discriminator=0.22144854013566617, accuracy=94.68983459472656\n",
      "epoch 117, loss_generator = 4.574244411786397, loss_discriminator=0.20793218783758305, accuracy=90.97850036621094\n",
      "epoch 118, loss_generator = 4.632203476517288, loss_discriminator=0.2101125713299822, accuracy=94.2274398803711\n",
      "epoch 119, loss_generator = 4.594472072742604, loss_discriminator=0.2354163897258264, accuracy=94.74291229248047\n",
      "epoch 120, loss_generator = 4.484894971494321, loss_discriminator=0.20557564855725677, accuracy=94.9742431640625\n",
      "epoch 121, loss_generator = 4.3413604771649394, loss_discriminator=0.22044264905982547, accuracy=95.20669555664062\n"
     ]
    }
   ],
   "source": [
    "number_epoch    = 500\n",
    "accuracy_epoch  = np.zeros(number_epoch)\n",
    "loss_generator = np.zeros(number_epoch)\n",
    "loss_discriminator = np.zeros(number_epoch)\n",
    "\n",
    "num_latent_test = 100\n",
    "latent_test = torch.randn(num_latent_test, dim_latent, device=device)\n",
    "latent_test = torch.reshape(latent_test, [num_latent_test, dim_latent, 1, 1])\n",
    "\n",
    "for i in range(number_epoch):\n",
    "    loss_generator_epoch, loss_discriminator_epoch = train(generator, discriminator, dataloader_real)\n",
    "    accuracy = test(generator, latent_test)\n",
    "    accuracy_epoch[i] = accuracy\n",
    "    \n",
    "    loss_generator[i] = loss_generator_epoch\n",
    "    loss_discriminator[i] = loss_discriminator_epoch\n",
    "    print(f'epoch {i}, loss_generator = {loss_generator_epoch}, loss_discriminator={loss_discriminator_epoch}, accuracy={accuracy}')\n",
    "    \n",
    "    # if accuracy>95 stop\n",
    "    if accuracy>95:\n",
    "        accuracy_epoch = accuracy_epoch[:i+1]\n",
    "        break"
   ]
  },
  {
   "cell_type": "markdown",
   "metadata": {},
   "source": [
    "---"
   ]
  },
  {
   "cell_type": "markdown",
   "metadata": {},
   "source": [
    "# functions for presenting the results"
   ]
  },
  {
   "cell_type": "markdown",
   "metadata": {},
   "source": [
    "---"
   ]
  },
  {
   "cell_type": "code",
   "execution_count": 21,
   "metadata": {},
   "outputs": [],
   "source": [
    "def function_result_01():\n",
    "\n",
    "    num_latent_visualize = 16\n",
    "\n",
    "    latent_visualize = torch.randn(num_latent_visualize, dim_latent, device=device)\n",
    "    latent_visualize = torch.reshape(latent_visualize, [num_latent_visualize, dim_latent, 1, 1]) \n",
    "\n",
    "    prediction = compute_prediction(generator, latent_visualize)\n",
    "    prediction = prediction.squeeze(axis=1)\n",
    "    prediction_binary = (prediction >= 0.5)\n",
    "    bounding_mask = compute_bounding_mask(prediction_binary)\n",
    "        \n",
    "    fake = prediction.detach().cpu()\n",
    "    mask = bounding_mask.detach().cpu()\n",
    "\n",
    "    nRow = 4\n",
    "    nCol = 4 \n",
    "    size = 3 \n",
    "    \n",
    "    title = 'fake image'\n",
    "    fig, axes = plt.subplots(nRow, nCol, figsize=(size * nCol, size * nRow))\n",
    "    fig.suptitle(title, fontsize=16)\n",
    "\n",
    "    for r in range(nRow): \n",
    "        for c in range(nCol):\n",
    "            k = c + r * nCol\n",
    "            axes[r, c].imshow(fake[k], cmap='gray', vmin=0, vmax=1)\n",
    "            axes[r, c].xaxis.set_visible(False)\n",
    "            axes[r, c].yaxis.set_visible(False)\n",
    "\n",
    "    plt.tight_layout()\n",
    "    plt.show()\n",
    "    \n",
    "    title = 'bounding mask'\n",
    "    fig, axes = plt.subplots(nRow, nCol, figsize=(size * nCol, size * nRow))\n",
    "    fig.suptitle(title, fontsize=16)\n",
    "\n",
    "    for r in range(nRow): \n",
    "        for c in range(nCol):\n",
    "            k = c + r * nCol\n",
    "            axes[r, c].imshow(mask[k], cmap='gray', vmin=0, vmax=1)\n",
    "            axes[r, c].xaxis.set_visible(False)\n",
    "            axes[r, c].yaxis.set_visible(False)\n",
    "                        \n",
    "    plt.tight_layout()\n",
    "    plt.show()"
   ]
  },
  {
   "cell_type": "code",
   "execution_count": 22,
   "metadata": {},
   "outputs": [],
   "source": [
    "def function_result_02():\n",
    "\n",
    "    title           = 'accuracy'\n",
    "    label_axis_x    = 'epoch' \n",
    "    label_axis_y    = 'accuracy'\n",
    "    \n",
    "    plt.figure(figsize=(8, 6))\n",
    "    plt.title(title)\n",
    "    \n",
    "    plt.plot(accuracy_epoch)\n",
    "    \n",
    "    plt.xlabel(label_axis_x)\n",
    "    plt.ylabel(label_axis_y)\n",
    "\n",
    "    plt.tight_layout()\n",
    "    plt.show()"
   ]
  },
  {
   "cell_type": "code",
   "execution_count": 23,
   "metadata": {},
   "outputs": [],
   "source": [
    "def function_result_03():\n",
    "\n",
    "    print('final accuracy = %9.8f' % (accuracy_epoch[-1]))"
   ]
  },
  {
   "cell_type": "markdown",
   "metadata": {},
   "source": [
    "---"
   ]
  },
  {
   "cell_type": "markdown",
   "metadata": {},
   "source": [
    "## results"
   ]
  },
  {
   "cell_type": "markdown",
   "metadata": {},
   "source": [
    "---"
   ]
  },
  {
   "cell_type": "code",
   "execution_count": 24,
   "metadata": {},
   "outputs": [
    {
     "name": "stdout",
     "output_type": "stream",
     "text": [
      "\n",
      "################################################################################\n",
      "#\n",
      "# RESULT # 01\n",
      "#\n",
      "################################################################################\n",
      "\n"
     ]
    },
    {
     "data": {
      "image/png": "[encoded data removed]",
      "text/plain": [
       "<Figure size 864x864 with 16 Axes>"
      ]
     },
     "metadata": {
      "needs_background": "light"
     },
     "output_type": "display_data"
    },
    {
     "data": {
      "image/png": "[encoded data removed]",
      "text/plain": [
       "<Figure size 864x864 with 16 Axes>"
      ]
     },
     "metadata": {
      "needs_background": "light"
     },
     "output_type": "display_data"
    },
    {
     "name": "stdout",
     "output_type": "stream",
     "text": [
      "\n",
      "################################################################################\n",
      "#\n",
      "# RESULT # 02\n",
      "#\n",
      "################################################################################\n",
      "\n"
     ]
    },
    {
     "data": {
      "image/png": "[encoded data removed]",
      "text/plain": [
       "<Figure size 576x432 with 1 Axes>"
      ]
     },
     "metadata": {
      "needs_background": "light"
     },
     "output_type": "display_data"
    },
    {
     "name": "stdout",
     "output_type": "stream",
     "text": [
      "\n",
      "################################################################################\n",
      "#\n",
      "# RESULT # 03\n",
      "#\n",
      "################################################################################\n",
      "\n",
      "final accuracy = 95.20669556\n"
     ]
    }
   ],
   "source": [
    "number_result = 3\n",
    "\n",
    "for i in range(number_result):\n",
    "\n",
    "    title           = '# RESULT # {:02d}'.format(i+1) \n",
    "    name_function   = 'function_result_{:02d}()'.format(i+1)\n",
    "\n",
    "    print('') \n",
    "    print('################################################################################')\n",
    "    print('#') \n",
    "    print(title)\n",
    "    print('#') \n",
    "    print('################################################################################')\n",
    "    print('') \n",
    "\n",
    "    eval(name_function)"
   ]
  },
  {
   "cell_type": "code",
   "execution_count": null,
   "metadata": {},
   "outputs": [],
   "source": []
  }
 ],
 "metadata": {
  "colab": {
   "authorship_tag": "ABX9TyM0gXqiryv5831mXd12OejK",
   "collapsed_sections": [],
   "name": "assignment_02.ipynb",
   "provenance": []
  },
  "kernelspec": {
   "display_name": "Python 3 (ipykernel)",
   "language": "python",
   "name": "python3"
  },
  "language_info": {
   "codemirror_mode": {
    "name": "ipython",
    "version": 3
   },
   "file_extension": ".py",
   "mimetype": "text/x-python",
   "name": "python",
   "nbconvert_exporter": "python",
   "pygments_lexer": "ipython3",
   "version": "3.8.10"
  },
  "vscode": {
   "interpreter": {
    "hash": "31f2aee4e71d21fbe5cf8b01ff0e069b9275f58929596ceb00d14d90e3e16cd6"
   }
  }
 },
 "nbformat": 4,
 "nbformat_minor": 2
}
